{
 "cells": [
  {
   "cell_type": "markdown",
   "metadata": {},
   "source": [
    "### 1. State Reducer\n",
    "- Reducer는 LangGraph에서 상태 업데이트를 관리하는 중요한 개념\n",
    "- 그래프의 각 노드의 출력을 그래프의 상태에 통합하는 방법을 정의\n",
    "- Reducer의 필요성\n",
    "    - 상태 덮어쓰기 문제: 기본적으로 각 노드의 반환값은 해당 상태 키의 이전 값을 덮어쓰는 방식으로 동작 (override)\n",
    "    - 누적 업데이트 필요: 특히 메시지 리스트와 같은 경우, 이전 상태에 새로운 값을 추가하고 싶을 때가 있음 "
   ]
  },
  {
   "cell_type": "markdown",
   "metadata": {},
   "source": [
    "`(1) Reducer를 별도로 지정하지 않은 경우 `\n",
    "- reducer를 별도로 지정하지 않은 경우 기존 값을 덮어쓰는 방식으로 동작\n",
    "- 기본 reducer는 상태에 대해 별도의 설정 없이 사용될 때 자동으로 적용"
   ]
  },
  {
   "cell_type": "code",
   "execution_count": 2,
   "metadata": {},
   "outputs": [],
   "source": [
    "from typing import TypedDict, List\n",
    "from langgraph.graph import StateGraph, START, END\n",
    "\n",
    "# 상태 정의 \n",
    "class DocumentState(TypedDict):\n",
    "    query: str\n",
    "    documents: List[str]\n",
    "\n",
    "# Node 1: query 업데이트\n",
    "def node_1(state: DocumentState) -> DocumentState:\n",
    "    print(\"---Node 1 (query update)---\")\n",
    "    query = state[\"query\"]\n",
    "    return {\"query\": query}\n",
    "\n",
    "# Node 2: 검색된 문서 추가 \n",
    "def node_2(state: DocumentState) -> DocumentState:\n",
    "    print(\"---Node 2 (add documents)---\")\n",
    "    return {\"documents\": [\"doc1.pdf\", \"doc2.pdf\", \"doc3.pdf\"]}\n",
    "\n",
    "# Node 3: 추가적인 문서 검색 결과 추가\n",
    "def node_3(state: DocumentState) -> DocumentState:\n",
    "    print(\"---Node 3 (add more documents)---\")\n",
    "    return {\"documents\": [\"doc2.pdf\", \"doc4.pdf\", \"doc5.pdf\"]}\n",
    "\n",
    "\n",
    "# 그래프 빌드\n",
    "builder = StateGraph(DocumentState)\n",
    "builder.add_node(\"node_1\", node_1)\n",
    "builder.add_node(\"node_2\", node_2)\n",
    "builder.add_node(\"node_3\", node_3)\n",
    "\n",
    "# 논리 구성\n",
    "builder.add_edge(START, \"node_1\")\n",
    "builder.add_edge(\"node_1\", \"node_2\")\n",
    "builder.add_edge(\"node_2\", \"node_3\")\n",
    "builder.add_edge(\"node_3\", END)\n",
    "\n",
    "# 그래프 실행\n",
    "graph = builder.compile()\n"
   ]
  },
  {
   "cell_type": "code",
   "execution_count": 3,
   "metadata": {},
   "outputs": [
    {
     "name": "stdout",
     "output_type": "stream",
     "text": [
      "Mermaid Code:\n",
      "---\n",
      "config:\n",
      "  flowchart:\n",
      "    curve: linear\n",
      "---\n",
      "graph TD;\n",
      "\t__start__([<p>__start__</p>]):::first\n",
      "\tnode_1(node_1)\n",
      "\tnode_2(node_2)\n",
      "\tnode_3(node_3)\n",
      "\t__end__([<p>__end__</p>]):::last\n",
      "\t__start__ --> node_1;\n",
      "\tnode_1 --> node_2;\n",
      "\tnode_2 --> node_3;\n",
      "\tnode_3 --> __end__;\n",
      "\tclassDef default fill:#f2f0ff,line-height:1.2\n",
      "\tclassDef first fill-opacity:0\n",
      "\tclassDef last fill:#bfb6fc\n",
      "\n"
     ]
    }
   ],
   "source": [
    "#from IPython.display import Image, display\n",
    "# 그래프 시각화\n",
    "#display(Image(graph.get_graph().draw_mermaid_png()))\n",
    "\n",
    "mermaid_code = graph.get_graph().draw_mermaid()\n",
    "print(\"Mermaid Code:\")\n",
    "print(mermaid_code)"
   ]
  },
  {
   "cell_type": "markdown",
   "metadata": {},
   "source": [
    "* https://mermaid.live/ 에서  mermain_code 로 직접 확인한다.\n",
    "\n",
    "* [Graph이미지](https://www.mermaidchart.com/play?utm_source=mermaid_live_editor&utm_medium=share#pako:eNp9j0EKgzAQRa8S7EahtppAF1FceYTuapGoGQ0EFU0XpfTujYkkuOlqZt78-T_5BO3U8YAG_cLmAd3LrBorVderYosu4SOfCzfl17l4RpRSEMuqNuGoj-s0tCVyBFuCPSGWkMja87Fz5qZ31pJZZxeK4rhANiDzkZ5iT7GnxFNi6J5jcKtD1pID6jiwl1QIhJT0BBgSgLMUI48HLvpB0fSCDwfm40YeTzNrhXrT5CDYnr_bNdDcoNXbv_vg-wPTVIcO)"
   ]
  },
  {
   "cell_type": "code",
   "execution_count": 4,
   "metadata": {},
   "outputs": [
    {
     "name": "stdout",
     "output_type": "stream",
     "text": [
      "---Node 1 (query update)---\n",
      "---Node 2 (add documents)---\n",
      "---Node 3 (add more documents)---\n",
      "최종 상태: {'query': 'Reducer를 사용하지 않은 경우', 'documents': ['doc2.pdf', 'doc4.pdf', 'doc5.pdf']}\n"
     ]
    }
   ],
   "source": [
    "# 질문\n",
    "initial_state = {\"query\": \"Reducer를 사용하지 않은 경우\"}\n",
    "\n",
    "# 그래프 실행 \n",
    "final_state = graph.invoke(initial_state)\n",
    "\n",
    "# 최종 상태 출력\n",
    "print(\"최종 상태:\", final_state)"
   ]
  },
  {
   "cell_type": "markdown",
   "metadata": {},
   "source": [
    "`(2) Reducer를 별도로 지정하는 경우 `\n",
    "- `Annotated` 사용하여 지정한 reducer 작동 방식에 따라 기존 상태 정보를 업데이트 \n",
    "- 리스트를 병합하는 `operator.add`를 사용하면, activity_log를 누적하는 방식으로 노드를 구현\n",
    "- add 함수는 자체로 리스트를 병합하는 동작을 수행하지만, 이 동작이 LangGraph의 상태 병합 규칙으로 통합되려면 Annotated를 통해 해당 타입에 연결되어야 합니다. "
   ]
  },
  {
   "cell_type": "code",
   "execution_count": 5,
   "metadata": {},
   "outputs": [],
   "source": [
    "from operator import add # 항목들을 더하는 연산자(함수). 여기서는 리스트에 항목을 추가하는 용도로 사용됩니다.\n",
    "from typing import Annotated, TypedDict # 타입 힌트에 메타데이터를 추가하는 Annotated와 딕셔너리 타입을 정의하는 TypedDict를 가져옵니다.\n",
    "from langgraph.graph import StateGraph, START, END # LangGraph의 핵심 클래스들을 가져옵니다.\n",
    "\n",
    "# ReducerState는 LangGraph의 에이전트 상태를 정의합니다.\n",
    "# TypedDict를 사용하여 딕셔너리가 어떤 키와 값 타입을 가져야 하는지 명확하게 지정합니다.\n",
    "class ReducerState(TypedDict):\n",
    "    # 'query' 키는 단순 문자열 타입입니다.\n",
    "    query: str\n",
    "    # 'documents' 키는 문자열 리스트입니다.\n",
    "    # 여기서 Annotated가 핵심 역할을 합니다. add를 메타데이터로 사용하여,\n",
    "    # 'documents'에 새로운 리스트가 반환될 때마다 기존 리스트에 그 내용을\n",
    "    # **추가(extend)**하도록 LangGraph에 지시합니다. 즉, 덮어쓰지 않습니다.\n",
    "    documents: Annotated[List[str], add]\n",
    "\n",
    "# Node 1: query 업데이트\n",
    "# 이 함수는 에이전트의 첫 번째 노드 역할을 합니다.\n",
    "def node_1(state: ReducerState) -> ReducerState:\n",
    "    print(\"---Node 1 (query update)---\")\n",
    "    # 현재 상태에서 'query'를 가져와 반환합니다. 이 단계에서는 'documents'는 비어 있습니다.\n",
    "    query = state[\"query\"]\n",
    "    return {\"query\": query}\n",
    "\n",
    "# Node 2: 검색된 문서 추가\n",
    "# 이 함수는 첫 번째 문서 세트를 반환합니다.\n",
    "def node_2(state: ReducerState) -> ReducerState:\n",
    "    print(\"---Node 2 (add documents)---\")\n",
    "    # 'documents' key에 리스트를 반환합니다.\n",
    "    # Annotated[..., add] 지시 덕분에 이 리스트가 기존 'documents'에 추가됩니다.\n",
    "    return {\"documents\": [\"doc1.pdf\", \"doc2.pdf\", \"doc3.pdf\"]}\n",
    "\n",
    "# Node 3: 추가적인 문서 검색 결과 추가\n",
    "# 이 함수는 두 번째 문서 세트를 반환합니다.\n",
    "def node_3(state: ReducerState) -> ReducerState:\n",
    "    print(\"---Node 3 (add more documents)---\")\n",
    "    # 'documents' 키에 또 다른 리스트를 반환합니다.\n",
    "    # 이 리스트도 기존 'documents'에 추가됩니다.\n",
    "    # 최종적으로 'documents'에는 두 노드에서 반환된 모든 문서가 포함됩니다.\n",
    "    return {\"documents\": [\"doc2.pdf\", \"doc4.pdf\", \"doc5.pdf\"]}\n",
    "\n",
    "# 그래프 빌드\n",
    "builder = StateGraph(ReducerState)\n",
    "# 세 개의 노드를 그래프에 추가합니다.\n",
    "builder.add_node(\"node_1\", node_1)\n",
    "builder.add_node(\"node_2\", node_2)\n",
    "builder.add_node(\"node_3\", node_3)\n",
    "\n",
    "# 논리 구성 (그래프의 흐름을 정의)\n",
    "# START에서 'node_1'로 시작합니다.\n",
    "builder.add_edge(START, \"node_1\")\n",
    "# 'node_1'에서 'node_2'로 진행합니다.\n",
    "builder.add_edge(\"node_1\", \"node_2\")\n",
    "# 'node_2'에서 'node_3'으로 진행합니다.\n",
    "builder.add_edge(\"node_2\", \"node_3\")\n",
    "# 'node_3'에서 END로 종료합니다.\n",
    "builder.add_edge(\"node_3\", END)\n",
    "\n",
    "# 그래프 실행을 위해 컴파일합니다.\n",
    "graph = builder.compile()\n",
    "\n",
    "# 만약 이 그래프를 실행하면,\n",
    "# 'documents'의 최종 상태는 [\"doc1.pdf\", \"doc2.pdf\", \"doc3.pdf\", \"doc2.pdf\", \"doc4.pdf\", \"doc5.pdf\"]가 됩니다."
   ]
  },
  {
   "cell_type": "code",
   "execution_count": 6,
   "metadata": {},
   "outputs": [
    {
     "name": "stdout",
     "output_type": "stream",
     "text": [
      "---Node 1 (query update)---\n",
      "---Node 2 (add documents)---\n",
      "---Node 3 (add more documents)---\n",
      "최종 상태: {'query': 'Reducer를 사용한 경우', 'documents': ['doc1.pdf', 'doc2.pdf', 'doc3.pdf', 'doc2.pdf', 'doc4.pdf', 'doc5.pdf']}\n"
     ]
    }
   ],
   "source": [
    "# 초기 상태\n",
    "initial_state = {\"query\": \"Reducer를 사용한 경우\"}\n",
    "\n",
    "# 그래프 실행 \n",
    "final_state = graph.invoke(initial_state)\n",
    "\n",
    "# 최종 상태 출력\n",
    "print(\"최종 상태:\", final_state)"
   ]
  },
  {
   "cell_type": "markdown",
   "metadata": {},
   "source": [
    "`(3) Custom Reducer 사용 `\n",
    "- 상태 업데이트가 기본적인 덮어쓰기나 병합만으로 해결되지 않을 때 유용한 방법\n",
    "- 중복 제거, 최대/최소 값 유지, 조건부 병합 등의 특정 비즈니스 로직이 필요한 경우에 적용\n",
    "- **커스텀 병합 함수(custom reducer)**를 사용하여 노드 간에 상태를 효율적으로 전달하는 방법을 보여줍니다. \n",
    "- Annotated를 사용해 특정 필드(documents)의 병합 방식을 기본 덮어쓰기 방식 대신 직접 정의한 함수로 지정합니다."
   ]
  },
  {
   "cell_type": "code",
   "execution_count": 8,
   "metadata": {},
   "outputs": [],
   "source": [
    "from typing import TypedDict, List, Annotated\n",
    "\n",
    "# operator.add 대신 사용할 커스텀 병합 함수를 정의합니다.\n",
    "# 이 함수는 두 리스트를 합치고 중복된 항목을 제거합니다.\n",
    "def reduce_unique_documents(left: list | None, right: list | None) -> list:\n",
    "    \"\"\"두 문서 리스트를 합치고 중복을 제거합니다.\"\"\"\n",
    "    # left 또는 right가 None이면 빈 리스트로 초기화합니다.\n",
    "    if not left:\n",
    "        left = []\n",
    "    if not right:\n",
    "        right = []\n",
    "    # 두 리스트를 합친 후, set으로 변환하여 중복을 제거하고 다시 리스트로 반환합니다.\n",
    "    return list(set(left + right))\n",
    "\n",
    "# LangGraph의 상태를 정의합니다.\n",
    "class CustomReducerState(TypedDict):\n",
    "    query: str\n",
    "    # 'documents' 필드는 문자열 리스트입니다.\n",
    "    # Annotated를 사용하여 이 필드에 새로운 값이 들어올 때,\n",
    "    # 위에서 정의한 'reduce_unique_documents' 함수를 사용해\n",
    "    # 기존 값과 새로운 값을 병합하도록 지시합니다.\n",
    "    documents: Annotated[List[str], reduce_unique_documents]\n",
    "\n",
    "# --- LangGraph 노드 정의 ---\n",
    "# 이 노드들은 에이전트의 각 단계를 나타냅니다.\n",
    "# Node 1: 쿼리를 업데이트합니다.\n",
    "def node_1(state: CustomReducerState) -> CustomReducerState:\n",
    "    print(\"---Node 1 (query update)---\")\n",
    "    query = state[\"query\"]\n",
    "    return {\"query\": query}\n",
    "\n",
    "# Node 2: 첫 번째 문서 세트를 상태에 추가합니다.\n",
    "def node_2(state: CustomReducerState) -> CustomReducerState:\n",
    "    print(\"---Node 2 (add documents)---\")\n",
    "    return {\"documents\": [\"doc1.pdf\", \"doc2.pdf\", \"doc3.pdf\"]}\n",
    "\n",
    "# Node 3: 두 번째 문서 세트를 상태에 추가합니다.\n",
    "# 이 노드에서 반환된 \"doc2.pdf\"는 이미 존재하므로,\n",
    "# reduce_unique_documents 함수에 의해 자동으로 제거됩니다.\n",
    "def node_3(state: CustomReducerState) -> CustomReducerState:\n",
    "    print(\"---Node 3 (add more documents)---\")\n",
    "    return {\"documents\": [\"doc2.pdf\", \"doc4.pdf\", \"doc5.pdf\"]}\n",
    "\n",
    "# 그래프를 구성합니다.\n",
    "builder = StateGraph(CustomReducerState)\n",
    "builder.add_node(\"node_1\", node_1)\n",
    "builder.add_node(\"node_2\", node_2)\n",
    "builder.add_node(\"node_3\", node_3)\n",
    "\n",
    "# 그래프의 실행 흐름을 정의합니다.\n",
    "builder.add_edge(START, \"node_1\")\n",
    "builder.add_edge(\"node_1\", \"node_2\")\n",
    "builder.add_edge(\"node_2\", \"node_3\")\n",
    "builder.add_edge(\"node_3\", END)\n",
    "\n",
    "# 최종 그래프를 컴파일합니다.\n",
    "# 이 그래프를 실행하면, documents 필드는 노드 2와 3에서 반환된 모든 문서를 포함하되,\n",
    "# 중복된 \"doc2.pdf\"는 제거됩니다.\n",
    "graph = builder.compile()\n"
   ]
  },
  {
   "cell_type": "code",
   "execution_count": 9,
   "metadata": {},
   "outputs": [
    {
     "name": "stdout",
     "output_type": "stream",
     "text": [
      "Mermaid Code:\n",
      "---\n",
      "config:\n",
      "  flowchart:\n",
      "    curve: linear\n",
      "---\n",
      "graph TD;\n",
      "\t__start__([<p>__start__</p>]):::first\n",
      "\tnode_1(node_1)\n",
      "\tnode_2(node_2)\n",
      "\tnode_3(node_3)\n",
      "\t__end__([<p>__end__</p>]):::last\n",
      "\t__start__ --> node_1;\n",
      "\tnode_1 --> node_2;\n",
      "\tnode_2 --> node_3;\n",
      "\tnode_3 --> __end__;\n",
      "\tclassDef default fill:#f2f0ff,line-height:1.2\n",
      "\tclassDef first fill-opacity:0\n",
      "\tclassDef last fill:#bfb6fc\n",
      "\n"
     ]
    }
   ],
   "source": [
    "# 그래프 시각화\n",
    "#display(Image(graph.get_graph().draw_mermaid_png()))\n",
    "\n",
    "mermaid_code = graph.get_graph().draw_mermaid()\n",
    "print(\"Mermaid Code:\")\n",
    "print(mermaid_code)"
   ]
  },
  {
   "cell_type": "markdown",
   "metadata": {},
   "source": [
    "* https://mermaid.live/ 에서  mermain_code 로 직접 확인한다.\n",
    "\n",
    "* [Graph이미지](https://mermaidchart.com/play?utm_source=mermaid_live_editor&utm_medium=share#pako:eNpVkcFugzAMhl8FeZdWghacQmha9bI-wk4bU5VCUpAgoBCkdVXffWnoQD3Z_mT_v53cIG8LAQwumnel93HcZSozp1NvuLZh8bXvDlO1X3eH7yVjTFa6N49GZYdP0WIMy4ngSHAmZCRkOcoLVUziLp-kaz4qT6ZeEBy80WA3W84UZ4ozJTMljj59HM6tSX8U0iuE5ENtPFnVNXuTKEMp_bpSIihFdSkNi1b4MuAOd-1B2_G8MlcWvjQ81n_KneU5kTn49mmrApjkdS98aIRu-KOGW6Y8LwNTikZkwGz6XCeDTN3tXMfVZ9s2wIwe7KRuh0v5XwxdwY04Vtz-WzOJa3uj0O_toAwwjKnTAHaDH2DU3kJJiDHZJhHZbGMfrsCiTbpKE0y3GKdkQzG9-_DrTMMVpQQpYpQQDENC0_sffQK3NA)"
   ]
  },
  {
   "cell_type": "code",
   "execution_count": 10,
   "metadata": {},
   "outputs": [
    {
     "name": "stdout",
     "output_type": "stream",
     "text": [
      "---Node 1 (query update)---\n",
      "---Node 2 (add documents)---\n",
      "---Node 3 (add more documents)---\n",
      "최종 상태: {'query': '채식주의자를 위한 비건 음식을 추천해주세요.', 'documents': ['doc3.pdf', 'doc5.pdf', 'doc2.pdf', 'doc1.pdf', 'doc4.pdf']}\n"
     ]
    }
   ],
   "source": [
    "# 초기 상태\n",
    "initial_state = {\"query\": \"채식주의자를 위한 비건 음식을 추천해주세요.\", \"documents\": []}\n",
    "\n",
    "# 그래프 실행 \n",
    "final_state = graph.invoke(initial_state)\n",
    "\n",
    "# 최종 상태 출력\n",
    "print(\"최종 상태:\", final_state)"
   ]
  },
  {
   "cell_type": "markdown",
   "metadata": {},
   "source": [
    "#### 2. MessageGraph 역할\n",
    "* MessageGraph는 **채팅 및 대화형 애플리케이션**을 구축하는 데 특화된 그래프 클래스입니다. \n",
    "    * 일반적인 StateGraph가 딕셔너리 기반의 상태를 관리하는 반면, MessageGraph는 대화의 흐름을 나타내는 **메시지 목록(list[messages])**을 핵심 상태로 사용합니다. \n",
    "    * 이를 통해 사용자와 AI 간의 상호작용을 자연스럽게 모델링하고 관리할 수 있습니다.\n",
    "\n",
    "* MessageGraph는 다음과 같은 주요 기능을 제공합니다.\n",
    "    * 메시지 기반 상태 관리: 상태를 messages라는 키를 가진 리스트로 자동 설정하여, 사용자와 AI의 대화 기록을 손쉽게 추적할 수 있습니다.\n",
    "    * MessageGraph는 대화 상태를 자동으로 messages 리스트로 관리하므로, 각 노드 함수는 새로운 메시지를 반환하기만 하면 됩니다.\n",
    "    * 자동 병합: 각 노드에서 새로운 메시지 목록을 반환하면, MessageGraph는 이를 기존 메시지 목록에 자동으로 추가(append)합니다. \n",
    "        * 이는 StateGraph에서 Annotated와 add를 사용해 수동으로 구현해야 했던 기능을 기본적으로 제공합니다.\n",
    "    * 대화 중심 흐름: 대화형 에이전트의 작동 방식을 직관적으로 표현합니다. 한 노드에서 사용자 메시지를 처리하고, 다른 노드에서 AI 응답을 생성하는 등 대화의 각 단계를 명확하게 구분할 수 있습니다."
   ]
  },
  {
   "cell_type": "markdown",
   "metadata": {},
   "source": [
    "`(1) Messages State 정의`\n",
    "- 이전 대화 기록을 그래프 상태에 메시지 목록으로 저장하는 것이 유용\n",
    "- 그래프 상태에 Message 객체 목록을 저장하는 키(채널)를 추가하고, 이 키에 리듀서 함수를 추가 \n",
    "- 리듀서 함수 선택:\n",
    "    - operator.add를 사용하면: 새 메시지를 기존 목록에 단순히 추가\n",
    "    - add_messages 함수를 사용하면:\n",
    "        - 새 메시지는 기존 목록에 추가\n",
    "        - 기존 메시지 업데이트도 올바르게 처리 (메시지 ID를 추적)\n",
    "```python\n",
    "    class MessageState(TypedDict):\n",
    "        messages: Annotated[list[AnyMessage], add_messages]        \n",
    "```    "
   ]
  },
  {
   "cell_type": "markdown",
   "metadata": {},
   "source": [
    "##### 1) 기본 State 초기화 방법을 사용"
   ]
  },
  {
   "cell_type": "code",
   "execution_count": 31,
   "metadata": {},
   "outputs": [],
   "source": [
    "from typing import Annotated,TypedDict\n",
    "from langchain_core.messages import AnyMessage\n",
    "from langgraph.graph.message import add_messages\n",
    "\n",
    "# 기본 State 초기화 방법을 사용\n",
    "class GraphState(TypedDict):\n",
    "    messages: Annotated[list[AnyMessage], add_messages]"
   ]
  },
  {
   "cell_type": "markdown",
   "metadata": {},
   "source": [
    "##### 2) MessagesState 상태 객체를 사용"
   ]
  },
  {
   "cell_type": "code",
   "execution_count": 11,
   "metadata": {},
   "outputs": [],
   "source": [
    "# LangGraph MessagesState라는 미리 만들어진 상태를 사용\n",
    "from langgraph.graph import MessagesState\n",
    "from typing import List\n",
    "from langchain_core.documents import Document\n",
    "\n",
    "class GraphState(MessagesState): # class GraphState extends MessagesState\n",
    "    # messages key는 기본적으로 제공 - 다른 키를 추가하고 싶을 경우 아래 주석과 같이 적용 가능 \n",
    "    # messages: list[Annotated[AnyMessage, add_messages]]  \n",
    "    documents: List[Document]\n",
    "    grade: float\n",
    "    num_generation: int"
   ]
  },
  {
   "cell_type": "code",
   "execution_count": 12,
   "metadata": {},
   "outputs": [
    {
     "name": "stdout",
     "output_type": "stream",
     "text": [
      "WA\n"
     ]
    }
   ],
   "source": [
    "from dotenv import load_dotenv\n",
    "import os\n",
    "\n",
    "# .env 파일을 불러와서 환경 변수로 설정\n",
    "load_dotenv()\n",
    "\n",
    "UPSTAGE_API_KEY = os.getenv(\"UPSTAGE_API_KEY\")\n",
    "print(UPSTAGE_API_KEY[30:])"
   ]
  },
  {
   "cell_type": "code",
   "execution_count": 13,
   "metadata": {},
   "outputs": [
    {
     "name": "stderr",
     "output_type": "stream",
     "text": [
      "c:\\Users\\user\\AppData\\Local\\pypoetry\\Cache\\virtualenvs\\mylangchain-app-SBe-Yh6W-py3.12\\Lib\\site-packages\\tqdm\\auto.py:21: TqdmWarning: IProgress not found. Please update jupyter and ipywidgets. See https://ipywidgets.readthedocs.io/en/stable/user_install.html\n",
      "  from .autonotebook import tqdm as notebook_tqdm\n"
     ]
    },
    {
     "name": "stdout",
     "output_type": "stream",
     "text": [
      "solar-pro\n"
     ]
    }
   ],
   "source": [
    "from langchain_upstage import ChatUpstage\n",
    "\n",
    "llm = ChatUpstage(\n",
    "        model=\"solar-pro\",\n",
    "        base_url=\"https://api.upstage.ai/v1\",\n",
    "        temperature=0.5\n",
    "    )\n",
    "print(llm.model_name)"
   ]
  },
  {
   "cell_type": "markdown",
   "metadata": {
    "vscode": {
     "languageId": "bat"
    }
   },
   "source": [
    "##### 기본적인 MessagesState 사용\n",
    "\n",
    "* state[\"messages\"]는 메시지 객체들의 리스트입니다:\n",
    "    ```python\n",
    "        state[\"messages\"] = [\n",
    "            HumanMessage(content=\"첫 번째 질문\"),\n",
    "            AIMessage(content=\"첫 번째 답변\"), \n",
    "            HumanMessage(content=\"두 번째 질문\")\n",
    "        ]\n",
    "    ```\n",
    "* 별표(*) 없이 사용하면 발생하는 문제    \n",
    "    ```python\n",
    "        # 잘못된 사용법 - 리스트를 그대로 전달\n",
    "        prompt = ChatPromptTemplate.from_messages([\n",
    "            (\"system\", \"시스템 메시지\"),\n",
    "            state[\"messages\"]  # 리스트 전체를 하나의 요소로 전달\n",
    "        ])\n",
    "\n",
    "        # 이렇게 되면 실제 구조는:\n",
    "        [\n",
    "            (\"system\", \"시스템 메시지\"),\n",
    "            [  # 중첩된 리스트가 생성됨\n",
    "                HumanMessage(content=\"첫 번째 질문\"),\n",
    "                AIMessage(content=\"첫 번째 답변\"),\n",
    "                HumanMessage(content=\"두 번째 질문\")\n",
    "            ]\n",
    "        ]\n",
    "    ```\n",
    " * 별표(*) 를 사용한 올바른 방법\n",
    "    * 별표(*)는 ECMAScript의 펼침연산자와 동일한 역할로 생각하면 됩니다.\n",
    "    ```python\n",
    "        # 잘못된 사용법 - 리스트를 그대로 전달\n",
    "        prompt = ChatPromptTemplate.from_messages([\n",
    "            (\"system\", \"시스템 메시지\"),\n",
    "            *state[\"messages\"]  # 리스트 전체를 하나의 요소로 전달\n",
    "        ])\n",
    "\n",
    "        # 이렇게 되면 실제 구조는:\n",
    "        [\n",
    "            (\"system\", \"시스템 메시지\"),\n",
    "            HumanMessage(content=\"첫 번째 질문\"),\n",
    "            AIMessage(content=\"첫 번째 답변\"),\n",
    "            HumanMessage(content=\"두 번째 질문\")\n",
    "        ]\n",
    "    ```\n",
    "  * 대안\n",
    "    ```python\n",
    "        prompt = ChatPromptTemplate.from_messages([\n",
    "            (\"system\", \"시스템 메시지\") + state[\"messages\"]\n",
    "        ])\n",
    "    ```\n",
    "\n"
   ]
  },
  {
   "cell_type": "code",
   "execution_count": 14,
   "metadata": {},
   "outputs": [
    {
     "data": {
      "image/png": "[encoded data removed]",
      "text/plain": [
       "<langgraph.graph.state.CompiledStateGraph object at 0x0000024274E1E630>"
      ]
     },
     "execution_count": 14,
     "metadata": {},
     "output_type": "execute_result"
    }
   ],
   "source": [
    "from typing import Dict, Any\n",
    "from langgraph.graph import MessagesState, StateGraph, START, END\n",
    "from langchain_core.messages import HumanMessage, AIMessage\n",
    "from langchain_core.prompts import ChatPromptTemplate\n",
    "\n",
    "# AI 응답 생성 노드 - MessagesState를 반환 타입으로 사용\n",
    "def generate_response(state: MessagesState) -> MessagesState:\n",
    "    # 시스템 프롬프트와 메시지 기록을 결합\n",
    "    # MessagesState는 messages 필드를 자동으로 가지고 있습니다\n",
    "    prompt = ChatPromptTemplate.from_messages([\n",
    "        (\"system\", \"당신은 친절한 AI 어시스턴트입니다. 사용자의 질문에 친절하게 답변해주세요.\"),\n",
    "        *state[\"messages\"]  # MessagesState는 이미 메시지 객체를 포함하고 있음\n",
    "    ])\n",
    "    \n",
    "    # 체인 생성\n",
    "    chain = prompt | llm\n",
    "    \n",
    "    # 응답 생성\n",
    "    response = chain.invoke({})\n",
    "    \n",
    "    # 새로운 메시지를 상태에 추가 (MessagesState 타입으로 반환)\n",
    "    return {\"messages\": [response]}\n",
    "\n",
    "# 그래프 빌더 생성 - MessagesState 사용\n",
    "graph_builder = StateGraph(MessagesState)\n",
    "\n",
    "# 노드 추가\n",
    "graph_builder.add_node(\"generate\", generate_response)\n",
    "\n",
    "# 엣지 설정\n",
    "graph_builder.add_edge(START, \"generate\")\n",
    "graph_builder.add_edge(\"generate\", END)\n",
    "\n",
    "# 그래프 컴파일\n",
    "app = graph_builder.compile()\n",
    "\n",
    "app"
   ]
  },
  {
   "cell_type": "code",
   "execution_count": 17,
   "metadata": {},
   "outputs": [
    {
     "name": "stdout",
     "output_type": "stream",
     "text": [
      "{'messages': [HumanMessage(content='안녕하세요! 오늘 날씨가 어때요?', additional_kwargs={}, response_metadata={}, id='73239dc0-dc21-4e5b-ba6a-8c17d4c5e607'), AIMessage(content='안녕하세요! 😊  \\n현재 날씨에 대한 실시간 정보는 제공할 수 없지만, 날씨 앱이나 기상청 사이트에서 정확한 날씨 정보를 확인하실 수 있습니다.  \\n\\n예를 들어, **\"네이버 날씨\"**, **\"기상청 날씨누리\"**, 또는 **\"AccuWeather\"** 같은 앱을 참고하시면 실시간 강수 확률, 온도, 습도 등을 확인할 수 있어요.  \\n\\n혹시 특정 지역이 궁금하시면 알려주세요! 일반적인 날씨 팁이나 계절별 추천 활동도 안내해 드릴 수 있습니다. ☀️🌧️  \\n\\n좋은 하루 보내세요! 🌼', additional_kwargs={'refusal': None}, response_metadata={'token_usage': {'completion_tokens': 103, 'prompt_tokens': 41, 'total_tokens': 144, 'completion_tokens_details': {'accepted_prediction_tokens': 0, 'audio_tokens': 0, 'reasoning_tokens': 0, 'rejected_prediction_tokens': 0}, 'prompt_tokens_details': {'audio_tokens': 0, 'cached_tokens': 0}}, 'model_name': 'solar-pro2-250909', 'system_fingerprint': None, 'id': '4998da4b-9079-47d3-a118-2c5daa722a89', 'service_tier': None, 'finish_reason': 'stop', 'logprobs': None}, id='run--a5a7aed4-c103-4092-a694-80d436d6f804-0', usage_metadata={'input_tokens': 41, 'output_tokens': 103, 'total_tokens': 144, 'input_token_details': {'audio': 0, 'cache_read': 0}, 'output_token_details': {'audio': 0, 'reasoning': 0}})]}\n",
      "AI 응답: 안녕하세요! 😊  \n",
      "현재 날씨에 대한 실시간 정보는 제공할 수 없지만, 날씨 앱이나 기상청 사이트에서 정확한 날씨 정보를 확인하실 수 있습니다.  \n",
      "\n",
      "예를 들어, **\"네이버 날씨\"**, **\"기상청 날씨누리\"**, 또는 **\"AccuWeather\"** 같은 앱을 참고하시면 실시간 강수 확률, 온도, 습도 등을 확인할 수 있어요.  \n",
      "\n",
      "혹시 특정 지역이 궁금하시면 알려주세요! 일반적인 날씨 팁이나 계절별 추천 활동도 안내해 드릴 수 있습니다. ☀️🌧️  \n",
      "\n",
      "좋은 하루 보내세요! 🌼\n",
      "두 번째 AI 응답: 서울의 현재 날씨는 실시간으로 변동되기 때문에 정확한 정보를 드리기 어렵지만, 일반적으로 다음과 같은 방법으로 확인하실 수 있습니다:  \n",
      "\n",
      "1. **네이버/다음 날씨 검색**: \"서울 날씨\" 또는 \"서울 실시간 날씨\"로 검색하면 강수 확률, 온도, 미세먼지 정보 등을 확인할 수 있습니다.  \n",
      "2. **기상청 날씨누리**: [www.weather.go.kr](https://www.weather.go.kr)에서 공식 예보를 제공합니다.  \n",
      "3. **날씨 앱 활용**: \"AccuWeather\", \"The Weather Channel\" 등 글로벌 앱도 서울 날씨를 세분화해 알려줍니다.  \n",
      "\n",
      "현재 계절(봄/여름/가을/겨울)에 따라 대략적인 특징을 안내해 드릴 수도 있습니다. 예를 들어:  \n",
      "- **봄(3~5월)**: 평균 10~20°C, 황사 또는 꽃샘추위 가능성  \n",
      "- **여름(6~8월)**: 평균 25~30°C, 장마와 폭염 주의  \n",
      "- **가을(9~11월)**: 선선하며 평균 10~20°C  \n",
      "- **겨울(12~2월)**: 영하 5~5°C, 건조한 날씨  \n",
      "\n",
      "도움이 더 필요하시면 언제든지 물어보세요! ☀️🌨️\n"
     ]
    }
   ],
   "source": [
    "\n",
    "# 실행 예제\n",
    "if __name__ == \"__main__\":\n",
    "    # 초기 메시지로 그래프 실행\n",
    "    # MessagesState는 딕셔너리처럼 초기화합니다\n",
    "    initial_state = {\"messages\": [HumanMessage(content=\"안녕하세요! 오늘 날씨가 어때요?\")]}\n",
    "    result = app.invoke(initial_state)\n",
    "    print(result)\n",
    "\n",
    "    print(\"AI 응답:\", result[\"messages\"][-1].content)\n",
    "\n",
    "    # 대화 계속 이어가기\n",
    "    next_state = {\n",
    "        \"messages\": [\n",
    "            HumanMessage(content=\"안녕하세요! 오늘 날씨가 어때요?\"), # Human\n",
    "            result[\"messages\"][-1], # AI\n",
    "            HumanMessage(content=\"서울 날씨는 어떻게 될까요?\")\n",
    "        ]\n",
    "    }\n",
    "    \n",
    "    next_result = app.invoke(next_state)\n",
    "    print(\"두 번째 AI 응답:\", next_result[\"messages\"][-1].content)"
   ]
  },
  {
   "cell_type": "markdown",
   "metadata": {},
   "source": [
    "#### 여러 상태 필드를 사용하는 경우"
   ]
  },
  {
   "cell_type": "code",
   "execution_count": 18,
   "metadata": {},
   "outputs": [],
   "source": [
    "from typing import Annotated\n",
    "from langgraph.graph import MessagesState, StateGraph, START, END\n",
    "from langchain_core.messages import HumanMessage, AIMessage\n",
    "from langchain_core.prompts import ChatPromptTemplate\n",
    "from operator import add\n",
    "\n",
    "# 확장된 상태 정의 (MessagesState에 추가 필드)\n",
    "class ExtendedState(MessagesState):\n",
    "    conversation_count: Annotated[int, add] = 0  # 대화 횟수 추적\n",
    "    last_topic: str = \"\"  # 마지막 주제"
   ]
  },
  {
   "cell_type": "code",
   "execution_count": 19,
   "metadata": {},
   "outputs": [
    {
     "data": {
      "image/png": "[encoded data removed]",
      "text/plain": [
       "<langgraph.graph.state.CompiledStateGraph object at 0x0000024274F172F0>"
      ]
     },
     "execution_count": 19,
     "metadata": {},
     "output_type": "execute_result"
    }
   ],
   "source": [
    "\n",
    "# AI 응답 생성 노드 - 확장된 상태 사용\n",
    "def generate_response(state: ExtendedState) -> ExtendedState:\n",
    "    # 대화 횟수 증가\n",
    "    conversation_count = state.get(\"conversation_count\", 0) + 1\n",
    "    \n",
    "    # 주제 추출 (간단한 예제)\n",
    "    last_message = state[\"messages\"][-1].content.lower()\n",
    "    topic = \"날씨\" if \"날씨\" in last_message else \"일반\"\n",
    "    print(f'Topic = {topic}')\n",
    "\n",
    "    # 시스템 프롬프트 구성\n",
    "    prompt = ChatPromptTemplate.from_messages([\n",
    "        (\"system\", f\"당신은 친절한 AI 어시스턴트입니다. (대화 #{conversation_count}, 주제: {topic})\"),\n",
    "        *state[\"messages\"]\n",
    "    ])\n",
    "    \n",
    "    # 응답 생성\n",
    "    response = (prompt | llm).invoke({})\n",
    "    \n",
    "    # 상태 업데이트\n",
    "    return {\n",
    "        \"messages\": [response],\n",
    "        \"conversation_count\": conversation_count,\n",
    "        \"last_topic\": topic\n",
    "    }\n",
    "\n",
    "# 그래프 구성\n",
    "graph_builder = StateGraph(ExtendedState)\n",
    "graph_builder.add_node(\"generate\", generate_response)\n",
    "\n",
    "graph_builder.add_edge(START, \"generate\")\n",
    "graph_builder.add_edge(\"generate\", END)\n",
    "\n",
    "app = graph_builder.compile()\n",
    "app"
   ]
  },
  {
   "cell_type": "code",
   "execution_count": 22,
   "metadata": {},
   "outputs": [
    {
     "name": "stdout",
     "output_type": "stream",
     "text": [
      "Topic = 일반\n",
      "대화 횟수: 1\n",
      "주제: 일반\n",
      "AI 응답: Vue.js를 만든 사람은 **에반 유(Evan You, 尤雨双)**입니다.  \n",
      "\n",
      "### 주요 정보:\n",
      "- **에반 유**는 2014년에 Vue.js를 처음 공개했으며, 이후 커뮤니티 주도 프로젝트로 발전시켰습니다.  \n",
      "- 그는 Google에서 Angular.js 팀에 근무한 경험이 있으며, 더 가볍고 유연한 프레임워크를 만들고자 Vue를 시작했습니다.  \n",
      "- 현재는 Vue의 핵심 팀을 이끌며 개발을 주도하고 있습니다.  \n",
      "\n",
      "Vue.js는 오픈소스 프로젝트로, 전 세계 개발자들의 기여로 지속적으로 발전하고 있습니다.  \n",
      "\n",
      "궁금한 점이 있다면 추가로 질문해 주세요! 😊\n"
     ]
    }
   ],
   "source": [
    "# 실행\n",
    "if __name__ == \"__main__\":\n",
    "    #query = \"안녕하세요! 오늘 서울 날씨가 어때요?\"\n",
    "    query = \"VueJS를 만든 사람이 누구인가요?\"\n",
    "    initial_state = {\n",
    "        \"messages\": [HumanMessage(content=query)],\n",
    "        \"conversation_count\": 0,\n",
    "        \"last_topic\": \"\"\n",
    "    }\n",
    "    \n",
    "    result = app.invoke(initial_state)\n",
    "    print(\"대화 횟수:\", result[\"conversation_count\"])\n",
    "    print(\"주제:\", result[\"last_topic\"])\n",
    "    print(\"AI 응답:\", result[\"messages\"][-1].content)"
   ]
  }
 ],
 "metadata": {
  "kernelspec": {
   "display_name": "mylangchain-app-SBe-Yh6W-py3.12",
   "language": "python",
   "name": "python3"
  },
  "language_info": {
   "codemirror_mode": {
    "name": "ipython",
    "version": 3
   },
   "file_extension": ".py",
   "mimetype": "text/x-python",
   "name": "python",
   "nbconvert_exporter": "python",
   "pygments_lexer": "ipython3",
   "version": "3.12.7"
  }
 },
 "nbformat": 4,
 "nbformat_minor": 2
}
