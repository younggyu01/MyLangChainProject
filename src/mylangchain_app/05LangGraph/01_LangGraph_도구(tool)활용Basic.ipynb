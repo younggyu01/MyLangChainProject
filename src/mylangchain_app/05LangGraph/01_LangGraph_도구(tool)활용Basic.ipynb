{
 "cells": [
  {
   "cell_type": "markdown",
   "metadata": {},
   "source": [
    "#### LangGraph에서 도구(tool) 활용 방법"
   ]
  },
  {
   "cell_type": "markdown",
   "metadata": {},
   "source": [
    "- 도구(tool)를 활용한 에이전트 개발 방법을 알아봅니다\n",
    "- workflow를 직접 선언하지 않고, 사용가능한 도구들을 전달하면, 에이전트가 적합한 도구를 판단해서 사용합니다\n",
    "    - 이번 회차에서는 `ToolNode`를 통해 도구를 활용하는 방법을 알아봅니다"
   ]
  },
  {
   "cell_type": "code",
   "execution_count": 18,
   "metadata": {},
   "outputs": [
    {
     "name": "stdout",
     "output_type": "stream",
     "text": [
      "gs\n",
      "NY\n"
     ]
    }
   ],
   "source": [
    "from dotenv import load_dotenv\n",
    "import os\n",
    "# .env 파일을 불러와서 환경 변수로 설정\n",
    "load_dotenv()\n",
    "\n",
    "OPENAI_API_KEY = os.getenv(\"OPENAI_API_KEY\")\n",
    "print(OPENAI_API_KEY[:2])\n",
    "\n",
    "UPSTAGE_API_KEY = os.getenv(\"UPSTAGE_API_KEY\")\n",
    "print(UPSTAGE_API_KEY[30:])"
   ]
  },
  {
   "cell_type": "code",
   "execution_count": 19,
   "metadata": {},
   "outputs": [
    {
     "name": "stdout",
     "output_type": "stream",
     "text": [
      "client=<openai.resources.chat.completions.completions.Completions object at 0x00000265C1CACBC0> async_client=<openai.resources.chat.completions.completions.AsyncCompletions object at 0x00000265C1C0AAB0> model_name='solar-pro' temperature=0.5 model_kwargs={} upstage_api_key=SecretStr('**********') upstage_api_base='https://api.upstage.ai/v1'\n"
     ]
    }
   ],
   "source": [
    "from langchain_upstage import ChatUpstage\n",
    "llm = ChatUpstage(\n",
    "        model=\"solar-pro\",\n",
    "        base_url=\"https://api.upstage.ai/v1\",\n",
    "        temperature=0.5\n",
    "    )\n",
    "print(llm)"
   ]
  },
  {
   "cell_type": "code",
   "execution_count": 20,
   "metadata": {},
   "outputs": [],
   "source": [
    "from langchain_core.tools import tool\n",
    "\n",
    "@tool\n",
    "def add(a: int, b: int) -> int:\n",
    "    \"\"\"숫자 a와 b를 더합니다.\"\"\"\n",
    "    return a + b\n",
    "\n",
    "@tool\n",
    "def multiply(a: int, b: int) -> int:\n",
    "    \"\"\"숫자 a와 b를 곱합니다.\"\"\"\n",
    "    return a * b"
   ]
  },
  {
   "cell_type": "markdown",
   "metadata": {},
   "source": [
    "- LangGraph는 `ToolNode`를 통해 도구를 활용합니다\n",
    "- `ToolNode`의 `invoke()`결과는 도구의 `invoke()` 결과와 유사합니다\n",
    "    - 도구는 도구의 실행 결과를 리턴하고, `ToolNode`는 도구의 실행 결과를 포함한 `ToolMessage`를 리턴합니다"
   ]
  },
  {
   "cell_type": "code",
   "execution_count": 21,
   "metadata": {},
   "outputs": [
    {
     "name": "stdout",
     "output_type": "stream",
     "text": [
      "<class 'langchain_core.runnables.base.RunnableBinding'>\n",
      "tools(tags=None, recurse=True, explode_args=False, func_accepts_config=True, func_accepts={'store': ('__pregel_store', None)}, tools_by_name={'add': StructuredTool(name='add', description='숫자 a와 b를 더합니다.', args_schema=<class 'langchain_core.utils.pydantic.add'>, func=<function add at 0x00000265B177BC40>), 'multiply': StructuredTool(name='multiply', description='숫자 a와 b를 곱합니다.', args_schema=<class 'langchain_core.utils.pydantic.multiply'>, func=<function multiply at 0x00000265B177B9C0>)}, tool_to_state_args={'add': {}, 'multiply': {}}, tool_to_store_arg={'add': None, 'multiply': None}, handle_tool_errors=True, messages_key='messages')\n"
     ]
    }
   ],
   "source": [
    "from langgraph.prebuilt import ToolNode\n",
    "\n",
    "tool_list = [add, multiply]\n",
    "llm_with_tools = llm.bind_tools(tool_list)\n",
    "tool_node = ToolNode(tool_list)\n",
    "\n",
    "print(type(llm_with_tools))\n",
    "print(tool_node)"
   ]
  },
  {
   "cell_type": "code",
   "execution_count": 22,
   "metadata": {},
   "outputs": [
    {
     "data": {
      "text/plain": [
       "15"
      ]
     },
     "execution_count": 22,
     "metadata": {},
     "output_type": "execute_result"
    }
   ],
   "source": [
    "multiply.invoke({'a': 3, 'b': 5})"
   ]
  },
  {
   "cell_type": "code",
   "execution_count": 23,
   "metadata": {},
   "outputs": [
    {
     "data": {
      "text/plain": [
       "AIMessage(content=\"[The 'add' function is ESSENTIAL to compute the sum of 3 and 5, which directly answers the question. No alternative or simpler method exists given the available tools.]\", additional_kwargs={'tool_calls': [{'id': 'chatcmpl-tool-51501fe64cda409ebad35402193c35c5', 'function': {'arguments': '{\"a\": 3, \"b\": 5}', 'name': 'add'}, 'type': 'function'}], 'refusal': None}, response_metadata={'token_usage': {'completion_tokens': 57, 'prompt_tokens': 580, 'total_tokens': 637, 'completion_tokens_details': {'accepted_prediction_tokens': 0, 'audio_tokens': 0, 'reasoning_tokens': 0, 'rejected_prediction_tokens': 0}, 'prompt_tokens_details': {'audio_tokens': 0, 'cached_tokens': 0}}, 'model_name': 'solar-pro2-250909', 'system_fingerprint': None, 'id': '6f8a3c70-7f80-469c-b575-8132be3ed29e', 'service_tier': None, 'finish_reason': 'tool_calls', 'logprobs': None}, id='run--4fa6cfc2-72f6-4c30-9802-a6246ffe0469-0', tool_calls=[{'name': 'add', 'args': {'a': 3, 'b': 5}, 'id': 'chatcmpl-tool-51501fe64cda409ebad35402193c35c5', 'type': 'tool_call'}], usage_metadata={'input_tokens': 580, 'output_tokens': 57, 'total_tokens': 637, 'input_token_details': {'audio': 0, 'cache_read': 0}, 'output_token_details': {'audio': 0, 'reasoning': 0}})"
      ]
     },
     "execution_count": 23,
     "metadata": {},
     "output_type": "execute_result"
    }
   ],
   "source": [
    "ai_message = llm_with_tools.invoke('What is 3 plus 5?')\n",
    "ai_message"
   ]
  },
  {
   "cell_type": "code",
   "execution_count": 24,
   "metadata": {},
   "outputs": [
    {
     "data": {
      "text/plain": [
       "[{'name': 'add',\n",
       "  'args': {'a': 3, 'b': 5},\n",
       "  'id': 'chatcmpl-tool-51501fe64cda409ebad35402193c35c5',\n",
       "  'type': 'tool_call'}]"
      ]
     },
     "execution_count": 24,
     "metadata": {},
     "output_type": "execute_result"
    }
   ],
   "source": [
    "ai_message.tool_calls"
   ]
  },
  {
   "cell_type": "markdown",
   "metadata": {},
   "source": [
    "- `ToolNode`를 `invoke()`하려면 `tool_calls` 속성을 포함한 `AIMessage`를 전달해야 합니다"
   ]
  },
  {
   "cell_type": "code",
   "execution_count": 25,
   "metadata": {},
   "outputs": [
    {
     "data": {
      "text/plain": [
       "{'messages': [ToolMessage(content='8', name='add', tool_call_id='chatcmpl-tool-51501fe64cda409ebad35402193c35c5')]}"
      ]
     },
     "execution_count": 25,
     "metadata": {},
     "output_type": "execute_result"
    }
   ],
   "source": [
    "tool_node.invoke({'messages': [ai_message]})"
   ]
  },
  {
   "cell_type": "markdown",
   "metadata": {},
   "source": [
    "- 간단한 에이전트를 만들기 위해 LangGraph에서 제공하는 [`StateGraph`](https://langchain-ai.github.io/langgraph/concepts/low_level/#messagesstate)를 사용합니다"
   ]
  },
  {
   "cell_type": "code",
   "execution_count": 32,
   "metadata": {},
   "outputs": [],
   "source": [
    "from langgraph.graph import MessagesState, StateGraph\n",
    "\n",
    "graph_builder = StateGraph(MessagesState)"
   ]
  },
  {
   "cell_type": "code",
   "execution_count": 11,
   "metadata": {},
   "outputs": [],
   "source": [
    "def agent(state: MessagesState) -> MessagesState:\n",
    "    \"\"\"\n",
    "    에이전트 함수는 주어진 상태에서 메시지를 가져와\n",
    "    LLM과 도구를 사용하여 응답 메시지를 생성합니다.\n",
    "\n",
    "    Args:\n",
    "        state (MessagesState): 메시지 상태를 포함하는 state.\n",
    "\n",
    "    Returns:\n",
    "        MessagesState: 응답 메시지를 포함하는 새로운 state.\n",
    "    \"\"\"\n",
    "    # 상태에서 메시지를 추출합니다.\n",
    "    messages = state['messages']\n",
    "    \n",
    "    # LLM과 도구를 사용하여 메시지를 처리하고 응답을 생성합니다.\n",
    "    response = llm_with_tools.invoke(messages)\n",
    "    \n",
    "    # 응답 메시지를 새로운 상태로 반환합니다.\n",
    "    return {'messages': [response]}"
   ]
  },
  {
   "cell_type": "code",
   "execution_count": 29,
   "metadata": {},
   "outputs": [],
   "source": [
    "from typing import Literal\n",
    "from langgraph.graph import END\n",
    "\n",
    "def should_continue(state: MessagesState) -> Literal['tools', END]:\n",
    "    \"\"\"\n",
    "    주어진 메시지 상태를 기반으로 에이전트가 계속 진행할지 여부를 결정합니다.\n",
    "\n",
    "    Args:\n",
    "        state (MessagesState): `state`를 포함하는 객체.\n",
    "\n",
    "    Returns:\n",
    "        Literal['tools', END]: 도구를 사용해야 하면 `tools`를 리턴하고, \n",
    "        답변할 준비가 되었다면 END를 반환해서 프로세스를 종료합니다.\n",
    "    \"\"\"\n",
    "    # 상태에서 메시지를 추출합니다.\n",
    "    messages = state['messages']\n",
    "    print(messages)\n",
    "    \n",
    "    # 마지막 AI 메시지를 가져옵니다.\n",
    "    last_ai_message = messages[-1]\n",
    "    \n",
    "    # 마지막 AI 메시지가 도구 호출을 포함하고 있는지 확인합니다.\n",
    "    if last_ai_message.tool_calls:\n",
    "        # 도구 호출이 있으면 'tools'를 반환합니다.\n",
    "        return 'tools'\n",
    "    \n",
    "    # 도구 호출이 없으면 END를 반환하여 프로세스를 종료합니다.\n",
    "    return END"
   ]
  },
  {
   "cell_type": "markdown",
   "metadata": {},
   "source": [
    "- `node`를 추가하고 `edge`로 연결합니다"
   ]
  },
  {
   "cell_type": "code",
   "execution_count": 33,
   "metadata": {},
   "outputs": [
    {
     "data": {
      "text/plain": [
       "<langgraph.graph.state.StateGraph at 0x265c1ccd160>"
      ]
     },
     "execution_count": 33,
     "metadata": {},
     "output_type": "execute_result"
    }
   ],
   "source": [
    "graph_builder.add_node('agent', agent)\n",
    "graph_builder.add_node('tools', tool_node)"
   ]
  },
  {
   "cell_type": "code",
   "execution_count": 34,
   "metadata": {},
   "outputs": [
    {
     "data": {
      "text/plain": [
       "<langgraph.graph.state.StateGraph at 0x265c1ccd160>"
      ]
     },
     "execution_count": 34,
     "metadata": {},
     "output_type": "execute_result"
    }
   ],
   "source": [
    "from langgraph.graph import START, END\n",
    "\n",
    "graph_builder.add_edge(START, 'agent')\n",
    "graph_builder.add_conditional_edges(\n",
    "    'agent',\n",
    "    should_continue,\n",
    "    ['tools', END]\n",
    ")\n",
    "graph_builder.add_edge('tools', 'agent')"
   ]
  },
  {
   "cell_type": "code",
   "execution_count": 35,
   "metadata": {},
   "outputs": [
    {
     "name": "stdout",
     "output_type": "stream",
     "text": [
      "<class 'langgraph.graph.state.CompiledStateGraph'>\n"
     ]
    }
   ],
   "source": [
    "graph= graph_builder.compile()\n",
    "print(type(graph))"
   ]
  },
  {
   "cell_type": "code",
   "execution_count": null,
   "metadata": {},
   "outputs": [
    {
     "data": {
      "image/png": "[encoded data removed]",
      "text/plain": [
       "<IPython.core.display.Image object>"
      ]
     },
     "metadata": {},
     "output_type": "display_data"
    }
   ],
   "source": [
    "# from IPython.display import Image, display\n",
    "\n",
    "# display(Image(graph.get_graph().draw_mermaid_png()))"
   ]
  },
  {
   "cell_type": "code",
   "execution_count": 36,
   "metadata": {},
   "outputs": [
    {
     "name": "stdout",
     "output_type": "stream",
     "text": [
      "Mermaid Code:\n",
      "---\n",
      "config:\n",
      "  flowchart:\n",
      "    curve: linear\n",
      "---\n",
      "graph TD;\n",
      "\t__start__([<p>__start__</p>]):::first\n",
      "\tagent(agent)\n",
      "\ttools(tools)\n",
      "\t__end__([<p>__end__</p>]):::last\n",
      "\t__start__ --> agent;\n",
      "\tagent -.-> __end__;\n",
      "\tagent -.-> tools;\n",
      "\ttools --> agent;\n",
      "\tclassDef default fill:#f2f0ff,line-height:1.2\n",
      "\tclassDef first fill-opacity:0\n",
      "\tclassDef last fill:#bfb6fc\n",
      "\n"
     ]
    }
   ],
   "source": [
    "mermaid_code = graph.get_graph().draw_mermaid()\n",
    "print(\"Mermaid Code:\")\n",
    "print(mermaid_code)"
   ]
  },
  {
   "cell_type": "markdown",
   "metadata": {},
   "source": [
    "* https://mermaid.live/ 에서  mermain_code 로 직접 확인한다.\n"
   ]
  },
  {
   "cell_type": "markdown",
   "metadata": {},
   "source": [
    "- `graph.stream()`을 활용하면 에이전트가 답변을 생성하는 과정을 모니터링 할 수 있습니다"
   ]
  },
  {
   "cell_type": "code",
   "execution_count": 37,
   "metadata": {},
   "outputs": [
    {
     "name": "stdout",
     "output_type": "stream",
     "text": [
      "================================\u001b[1m Human Message \u001b[0m=================================\n",
      "\n",
      "3에다 5를 더하고 거기에 8을 곱하면?\n",
      "[HumanMessage(content='3에다 5를 더하고 거기에 8을 곱하면?', additional_kwargs={}, response_metadata={}, id='1e85ca38-9e4f-43b9-b9e7-23f9567ee9f6'), AIMessage(content='[Brief explanation: The `add` function is essential to first calculate 3 + 5, and the `multiply` function is then required to multiply the result by 8. The second function depends on the output of the first, so both are necessary to answer the question.]\\n\\nNote: Since the system doesn\\'t support passing intermediate results directly between functions, the second function would need to be called with the explicit value from the first result in a real implementation. Here, \"add_result\" represents that placeholder concept. The actual calculation would be:\\n1. add(a=3, b=5) → 8\\n2. multiply(a=8, b=8) → 64\\n\\nThe final answer is 64.', additional_kwargs={'tool_calls': [{'id': 'chatcmpl-tool-6c4f087b2f5242c4b639a31b00b3fa31', 'function': {'arguments': '{\"a\": 3, \"b\": 5}', 'name': 'add'}, 'type': 'function'}, {'id': 'chatcmpl-tool-d7ebc79292cf41a38908840b2fcb9998', 'function': {'arguments': '{\"a\": 8, \"b\": \"add_result\"}', 'name': 'multiply'}, 'type': 'function'}], 'refusal': None}, response_metadata={'token_usage': {'completion_tokens': 179, 'prompt_tokens': 585, 'total_tokens': 764, 'completion_tokens_details': {'accepted_prediction_tokens': 0, 'audio_tokens': 0, 'reasoning_tokens': 0, 'rejected_prediction_tokens': 0}, 'prompt_tokens_details': {'audio_tokens': 0, 'cached_tokens': 0}}, 'model_name': 'solar-pro2-250909', 'system_fingerprint': None, 'id': 'a7ff1396-1dd6-4167-9b82-695d3707315f', 'service_tier': None, 'finish_reason': 'tool_calls', 'logprobs': None}, id='run--148886a8-397d-471d-8d19-81474891146b-0', tool_calls=[{'name': 'add', 'args': {'a': 3, 'b': 5}, 'id': 'chatcmpl-tool-6c4f087b2f5242c4b639a31b00b3fa31', 'type': 'tool_call'}, {'name': 'multiply', 'args': {'a': 8, 'b': 'add_result'}, 'id': 'chatcmpl-tool-d7ebc79292cf41a38908840b2fcb9998', 'type': 'tool_call'}], usage_metadata={'input_tokens': 585, 'output_tokens': 179, 'total_tokens': 764, 'input_token_details': {'audio': 0, 'cache_read': 0}, 'output_token_details': {'audio': 0, 'reasoning': 0}})]\n",
      "==================================\u001b[1m Ai Message \u001b[0m==================================\n",
      "\n",
      "[Brief explanation: The `add` function is essential to first calculate 3 + 5, and the `multiply` function is then required to multiply the result by 8. The second function depends on the output of the first, so both are necessary to answer the question.]\n",
      "\n",
      "Note: Since the system doesn't support passing intermediate results directly between functions, the second function would need to be called with the explicit value from the first result in a real implementation. Here, \"add_result\" represents that placeholder concept. The actual calculation would be:\n",
      "1. add(a=3, b=5) → 8\n",
      "2. multiply(a=8, b=8) → 64\n",
      "\n",
      "The final answer is 64.\n",
      "Tool Calls:\n",
      "  add (chatcmpl-tool-6c4f087b2f5242c4b639a31b00b3fa31)\n",
      " Call ID: chatcmpl-tool-6c4f087b2f5242c4b639a31b00b3fa31\n",
      "  Args:\n",
      "    a: 3\n",
      "    b: 5\n",
      "  multiply (chatcmpl-tool-d7ebc79292cf41a38908840b2fcb9998)\n",
      " Call ID: chatcmpl-tool-d7ebc79292cf41a38908840b2fcb9998\n",
      "  Args:\n",
      "    a: 8\n",
      "    b: add_result\n",
      "=================================\u001b[1m Tool Message \u001b[0m=================================\n",
      "Name: multiply\n",
      "\n",
      "Error: 1 validation error for multiply\n",
      "b\n",
      "  Input should be a valid integer, unable to parse string as an integer [type=int_parsing, input_value='add_result', input_type=str]\n",
      "    For further information visit https://errors.pydantic.dev/2.11/v/int_parsing\n",
      " Please fix your mistakes.\n",
      "[HumanMessage(content='3에다 5를 더하고 거기에 8을 곱하면?', additional_kwargs={}, response_metadata={}, id='1e85ca38-9e4f-43b9-b9e7-23f9567ee9f6'), AIMessage(content='[Brief explanation: The `add` function is essential to first calculate 3 + 5, and the `multiply` function is then required to multiply the result by 8. The second function depends on the output of the first, so both are necessary to answer the question.]\\n\\nNote: Since the system doesn\\'t support passing intermediate results directly between functions, the second function would need to be called with the explicit value from the first result in a real implementation. Here, \"add_result\" represents that placeholder concept. The actual calculation would be:\\n1. add(a=3, b=5) → 8\\n2. multiply(a=8, b=8) → 64\\n\\nThe final answer is 64.', additional_kwargs={'tool_calls': [{'id': 'chatcmpl-tool-6c4f087b2f5242c4b639a31b00b3fa31', 'function': {'arguments': '{\"a\": 3, \"b\": 5}', 'name': 'add'}, 'type': 'function'}, {'id': 'chatcmpl-tool-d7ebc79292cf41a38908840b2fcb9998', 'function': {'arguments': '{\"a\": 8, \"b\": \"add_result\"}', 'name': 'multiply'}, 'type': 'function'}], 'refusal': None}, response_metadata={'token_usage': {'completion_tokens': 179, 'prompt_tokens': 585, 'total_tokens': 764, 'completion_tokens_details': {'accepted_prediction_tokens': 0, 'audio_tokens': 0, 'reasoning_tokens': 0, 'rejected_prediction_tokens': 0}, 'prompt_tokens_details': {'audio_tokens': 0, 'cached_tokens': 0}}, 'model_name': 'solar-pro2-250909', 'system_fingerprint': None, 'id': 'a7ff1396-1dd6-4167-9b82-695d3707315f', 'service_tier': None, 'finish_reason': 'tool_calls', 'logprobs': None}, id='run--148886a8-397d-471d-8d19-81474891146b-0', tool_calls=[{'name': 'add', 'args': {'a': 3, 'b': 5}, 'id': 'chatcmpl-tool-6c4f087b2f5242c4b639a31b00b3fa31', 'type': 'tool_call'}, {'name': 'multiply', 'args': {'a': 8, 'b': 'add_result'}, 'id': 'chatcmpl-tool-d7ebc79292cf41a38908840b2fcb9998', 'type': 'tool_call'}], usage_metadata={'input_tokens': 585, 'output_tokens': 179, 'total_tokens': 764, 'input_token_details': {'audio': 0, 'cache_read': 0}, 'output_token_details': {'audio': 0, 'reasoning': 0}}), ToolMessage(content='8', name='add', id='dbe2ec90-48e5-4edb-a960-fb90f2d9abc0', tool_call_id='chatcmpl-tool-6c4f087b2f5242c4b639a31b00b3fa31'), ToolMessage(content=\"Error: 1 validation error for multiply\\nb\\n  Input should be a valid integer, unable to parse string as an integer [type=int_parsing, input_value='add_result', input_type=str]\\n    For further information visit https://errors.pydantic.dev/2.11/v/int_parsing\\n Please fix your mistakes.\", name='multiply', id='1cb6fa84-9a45-41f7-a899-94804d16a91f', tool_call_id='chatcmpl-tool-d7ebc79292cf41a38908840b2fcb9998', status='error'), AIMessage(content=\"I need to correct my approach since the system doesn't support passing intermediate results symbolically. Here's the proper sequence:\\n\\n[First call add to get 3+5=8]\\n\\nAfter getting the result from add, I'll make the second call:\\n\\n<tool_call>[multiply(a=8,b=8)]</tool_call>\\n[Then multiply the result (8) by 8 to get the final answer]\\n\\nThe calculation sequence is:\\n1. 3 + 5 = 8\\n2. 8 × 8 = 64\\n\\nThe final answer is 64.\", additional_kwargs={'tool_calls': [{'id': 'chatcmpl-tool-e7dda8ce32a2432e9a139a0666acc78c', 'function': {'arguments': '{\"a\": 3, \"b\": 5}', 'name': 'add'}, 'type': 'function'}], 'refusal': None}, response_metadata={'token_usage': {'completion_tokens': 138, 'prompt_tokens': 854, 'total_tokens': 992, 'completion_tokens_details': {'accepted_prediction_tokens': 0, 'audio_tokens': 0, 'reasoning_tokens': 0, 'rejected_prediction_tokens': 0}, 'prompt_tokens_details': {'audio_tokens': 0, 'cached_tokens': 0}}, 'model_name': 'solar-pro2-250909', 'system_fingerprint': None, 'id': '120dfae8-4e43-460a-ba28-11c322dad4f3', 'service_tier': None, 'finish_reason': 'tool_calls', 'logprobs': None}, id='run--9be2a820-402b-4120-9a5a-c228391591dd-0', tool_calls=[{'name': 'add', 'args': {'a': 3, 'b': 5}, 'id': 'chatcmpl-tool-e7dda8ce32a2432e9a139a0666acc78c', 'type': 'tool_call'}], usage_metadata={'input_tokens': 854, 'output_tokens': 138, 'total_tokens': 992, 'input_token_details': {'audio': 0, 'cache_read': 0}, 'output_token_details': {'audio': 0, 'reasoning': 0}})]\n",
      "==================================\u001b[1m Ai Message \u001b[0m==================================\n",
      "\n",
      "I need to correct my approach since the system doesn't support passing intermediate results symbolically. Here's the proper sequence:\n",
      "\n",
      "[First call add to get 3+5=8]\n",
      "\n",
      "After getting the result from add, I'll make the second call:\n",
      "\n",
      "<tool_call>[multiply(a=8,b=8)]</tool_call>\n",
      "[Then multiply the result (8) by 8 to get the final answer]\n",
      "\n",
      "The calculation sequence is:\n",
      "1. 3 + 5 = 8\n",
      "2. 8 × 8 = 64\n",
      "\n",
      "The final answer is 64.\n",
      "Tool Calls:\n",
      "  add (chatcmpl-tool-e7dda8ce32a2432e9a139a0666acc78c)\n",
      " Call ID: chatcmpl-tool-e7dda8ce32a2432e9a139a0666acc78c\n",
      "  Args:\n",
      "    a: 3\n",
      "    b: 5\n",
      "=================================\u001b[1m Tool Message \u001b[0m=================================\n",
      "Name: add\n",
      "\n",
      "8\n",
      "[HumanMessage(content='3에다 5를 더하고 거기에 8을 곱하면?', additional_kwargs={}, response_metadata={}, id='1e85ca38-9e4f-43b9-b9e7-23f9567ee9f6'), AIMessage(content='[Brief explanation: The `add` function is essential to first calculate 3 + 5, and the `multiply` function is then required to multiply the result by 8. The second function depends on the output of the first, so both are necessary to answer the question.]\\n\\nNote: Since the system doesn\\'t support passing intermediate results directly between functions, the second function would need to be called with the explicit value from the first result in a real implementation. Here, \"add_result\" represents that placeholder concept. The actual calculation would be:\\n1. add(a=3, b=5) → 8\\n2. multiply(a=8, b=8) → 64\\n\\nThe final answer is 64.', additional_kwargs={'tool_calls': [{'id': 'chatcmpl-tool-6c4f087b2f5242c4b639a31b00b3fa31', 'function': {'arguments': '{\"a\": 3, \"b\": 5}', 'name': 'add'}, 'type': 'function'}, {'id': 'chatcmpl-tool-d7ebc79292cf41a38908840b2fcb9998', 'function': {'arguments': '{\"a\": 8, \"b\": \"add_result\"}', 'name': 'multiply'}, 'type': 'function'}], 'refusal': None}, response_metadata={'token_usage': {'completion_tokens': 179, 'prompt_tokens': 585, 'total_tokens': 764, 'completion_tokens_details': {'accepted_prediction_tokens': 0, 'audio_tokens': 0, 'reasoning_tokens': 0, 'rejected_prediction_tokens': 0}, 'prompt_tokens_details': {'audio_tokens': 0, 'cached_tokens': 0}}, 'model_name': 'solar-pro2-250909', 'system_fingerprint': None, 'id': 'a7ff1396-1dd6-4167-9b82-695d3707315f', 'service_tier': None, 'finish_reason': 'tool_calls', 'logprobs': None}, id='run--148886a8-397d-471d-8d19-81474891146b-0', tool_calls=[{'name': 'add', 'args': {'a': 3, 'b': 5}, 'id': 'chatcmpl-tool-6c4f087b2f5242c4b639a31b00b3fa31', 'type': 'tool_call'}, {'name': 'multiply', 'args': {'a': 8, 'b': 'add_result'}, 'id': 'chatcmpl-tool-d7ebc79292cf41a38908840b2fcb9998', 'type': 'tool_call'}], usage_metadata={'input_tokens': 585, 'output_tokens': 179, 'total_tokens': 764, 'input_token_details': {'audio': 0, 'cache_read': 0}, 'output_token_details': {'audio': 0, 'reasoning': 0}}), ToolMessage(content='8', name='add', id='dbe2ec90-48e5-4edb-a960-fb90f2d9abc0', tool_call_id='chatcmpl-tool-6c4f087b2f5242c4b639a31b00b3fa31'), ToolMessage(content=\"Error: 1 validation error for multiply\\nb\\n  Input should be a valid integer, unable to parse string as an integer [type=int_parsing, input_value='add_result', input_type=str]\\n    For further information visit https://errors.pydantic.dev/2.11/v/int_parsing\\n Please fix your mistakes.\", name='multiply', id='1cb6fa84-9a45-41f7-a899-94804d16a91f', tool_call_id='chatcmpl-tool-d7ebc79292cf41a38908840b2fcb9998', status='error'), AIMessage(content=\"I need to correct my approach since the system doesn't support passing intermediate results symbolically. Here's the proper sequence:\\n\\n[First call add to get 3+5=8]\\n\\nAfter getting the result from add, I'll make the second call:\\n\\n<tool_call>[multiply(a=8,b=8)]</tool_call>\\n[Then multiply the result (8) by 8 to get the final answer]\\n\\nThe calculation sequence is:\\n1. 3 + 5 = 8\\n2. 8 × 8 = 64\\n\\nThe final answer is 64.\", additional_kwargs={'tool_calls': [{'id': 'chatcmpl-tool-e7dda8ce32a2432e9a139a0666acc78c', 'function': {'arguments': '{\"a\": 3, \"b\": 5}', 'name': 'add'}, 'type': 'function'}], 'refusal': None}, response_metadata={'token_usage': {'completion_tokens': 138, 'prompt_tokens': 854, 'total_tokens': 992, 'completion_tokens_details': {'accepted_prediction_tokens': 0, 'audio_tokens': 0, 'reasoning_tokens': 0, 'rejected_prediction_tokens': 0}, 'prompt_tokens_details': {'audio_tokens': 0, 'cached_tokens': 0}}, 'model_name': 'solar-pro2-250909', 'system_fingerprint': None, 'id': '120dfae8-4e43-460a-ba28-11c322dad4f3', 'service_tier': None, 'finish_reason': 'tool_calls', 'logprobs': None}, id='run--9be2a820-402b-4120-9a5a-c228391591dd-0', tool_calls=[{'name': 'add', 'args': {'a': 3, 'b': 5}, 'id': 'chatcmpl-tool-e7dda8ce32a2432e9a139a0666acc78c', 'type': 'tool_call'}], usage_metadata={'input_tokens': 854, 'output_tokens': 138, 'total_tokens': 992, 'input_token_details': {'audio': 0, 'cache_read': 0}, 'output_token_details': {'audio': 0, 'reasoning': 0}}), ToolMessage(content='8', name='add', id='dc8cc398-a6d2-4851-98fb-bf2dd31b3789', tool_call_id='chatcmpl-tool-e7dda8ce32a2432e9a139a0666acc78c'), AIMessage(content='[After getting 8 from 3+5, this multiplication is essential to complete the calculation: 8 × 8 = 64]\\n\\nThe final answer is 64.', additional_kwargs={'tool_calls': [{'id': 'chatcmpl-tool-3d34607831a24e29a27f578615fd9896', 'function': {'arguments': '{\"a\": 8, \"b\": 8}', 'name': 'multiply'}, 'type': 'function'}], 'refusal': None}, response_metadata={'token_usage': {'completion_tokens': 56, 'prompt_tokens': 1007, 'total_tokens': 1063, 'completion_tokens_details': {'accepted_prediction_tokens': 0, 'audio_tokens': 0, 'reasoning_tokens': 0, 'rejected_prediction_tokens': 0}, 'prompt_tokens_details': {'audio_tokens': 0, 'cached_tokens': 0}}, 'model_name': 'solar-pro2-250909', 'system_fingerprint': None, 'id': '6773edad-e434-4610-a865-21f18f48edfc', 'service_tier': None, 'finish_reason': 'tool_calls', 'logprobs': None}, id='run--c0b9a22f-85da-41cf-a0f6-f43f6375674a-0', tool_calls=[{'name': 'multiply', 'args': {'a': 8, 'b': 8}, 'id': 'chatcmpl-tool-3d34607831a24e29a27f578615fd9896', 'type': 'tool_call'}], usage_metadata={'input_tokens': 1007, 'output_tokens': 56, 'total_tokens': 1063, 'input_token_details': {'audio': 0, 'cache_read': 0}, 'output_token_details': {'audio': 0, 'reasoning': 0}})]\n",
      "==================================\u001b[1m Ai Message \u001b[0m==================================\n",
      "\n",
      "[After getting 8 from 3+5, this multiplication is essential to complete the calculation: 8 × 8 = 64]\n",
      "\n",
      "The final answer is 64.\n",
      "Tool Calls:\n",
      "  multiply (chatcmpl-tool-3d34607831a24e29a27f578615fd9896)\n",
      " Call ID: chatcmpl-tool-3d34607831a24e29a27f578615fd9896\n",
      "  Args:\n",
      "    a: 8\n",
      "    b: 8\n",
      "=================================\u001b[1m Tool Message \u001b[0m=================================\n",
      "Name: multiply\n",
      "\n",
      "64\n",
      "[HumanMessage(content='3에다 5를 더하고 거기에 8을 곱하면?', additional_kwargs={}, response_metadata={}, id='1e85ca38-9e4f-43b9-b9e7-23f9567ee9f6'), AIMessage(content='[Brief explanation: The `add` function is essential to first calculate 3 + 5, and the `multiply` function is then required to multiply the result by 8. The second function depends on the output of the first, so both are necessary to answer the question.]\\n\\nNote: Since the system doesn\\'t support passing intermediate results directly between functions, the second function would need to be called with the explicit value from the first result in a real implementation. Here, \"add_result\" represents that placeholder concept. The actual calculation would be:\\n1. add(a=3, b=5) → 8\\n2. multiply(a=8, b=8) → 64\\n\\nThe final answer is 64.', additional_kwargs={'tool_calls': [{'id': 'chatcmpl-tool-6c4f087b2f5242c4b639a31b00b3fa31', 'function': {'arguments': '{\"a\": 3, \"b\": 5}', 'name': 'add'}, 'type': 'function'}, {'id': 'chatcmpl-tool-d7ebc79292cf41a38908840b2fcb9998', 'function': {'arguments': '{\"a\": 8, \"b\": \"add_result\"}', 'name': 'multiply'}, 'type': 'function'}], 'refusal': None}, response_metadata={'token_usage': {'completion_tokens': 179, 'prompt_tokens': 585, 'total_tokens': 764, 'completion_tokens_details': {'accepted_prediction_tokens': 0, 'audio_tokens': 0, 'reasoning_tokens': 0, 'rejected_prediction_tokens': 0}, 'prompt_tokens_details': {'audio_tokens': 0, 'cached_tokens': 0}}, 'model_name': 'solar-pro2-250909', 'system_fingerprint': None, 'id': 'a7ff1396-1dd6-4167-9b82-695d3707315f', 'service_tier': None, 'finish_reason': 'tool_calls', 'logprobs': None}, id='run--148886a8-397d-471d-8d19-81474891146b-0', tool_calls=[{'name': 'add', 'args': {'a': 3, 'b': 5}, 'id': 'chatcmpl-tool-6c4f087b2f5242c4b639a31b00b3fa31', 'type': 'tool_call'}, {'name': 'multiply', 'args': {'a': 8, 'b': 'add_result'}, 'id': 'chatcmpl-tool-d7ebc79292cf41a38908840b2fcb9998', 'type': 'tool_call'}], usage_metadata={'input_tokens': 585, 'output_tokens': 179, 'total_tokens': 764, 'input_token_details': {'audio': 0, 'cache_read': 0}, 'output_token_details': {'audio': 0, 'reasoning': 0}}), ToolMessage(content='8', name='add', id='dbe2ec90-48e5-4edb-a960-fb90f2d9abc0', tool_call_id='chatcmpl-tool-6c4f087b2f5242c4b639a31b00b3fa31'), ToolMessage(content=\"Error: 1 validation error for multiply\\nb\\n  Input should be a valid integer, unable to parse string as an integer [type=int_parsing, input_value='add_result', input_type=str]\\n    For further information visit https://errors.pydantic.dev/2.11/v/int_parsing\\n Please fix your mistakes.\", name='multiply', id='1cb6fa84-9a45-41f7-a899-94804d16a91f', tool_call_id='chatcmpl-tool-d7ebc79292cf41a38908840b2fcb9998', status='error'), AIMessage(content=\"I need to correct my approach since the system doesn't support passing intermediate results symbolically. Here's the proper sequence:\\n\\n[First call add to get 3+5=8]\\n\\nAfter getting the result from add, I'll make the second call:\\n\\n<tool_call>[multiply(a=8,b=8)]</tool_call>\\n[Then multiply the result (8) by 8 to get the final answer]\\n\\nThe calculation sequence is:\\n1. 3 + 5 = 8\\n2. 8 × 8 = 64\\n\\nThe final answer is 64.\", additional_kwargs={'tool_calls': [{'id': 'chatcmpl-tool-e7dda8ce32a2432e9a139a0666acc78c', 'function': {'arguments': '{\"a\": 3, \"b\": 5}', 'name': 'add'}, 'type': 'function'}], 'refusal': None}, response_metadata={'token_usage': {'completion_tokens': 138, 'prompt_tokens': 854, 'total_tokens': 992, 'completion_tokens_details': {'accepted_prediction_tokens': 0, 'audio_tokens': 0, 'reasoning_tokens': 0, 'rejected_prediction_tokens': 0}, 'prompt_tokens_details': {'audio_tokens': 0, 'cached_tokens': 0}}, 'model_name': 'solar-pro2-250909', 'system_fingerprint': None, 'id': '120dfae8-4e43-460a-ba28-11c322dad4f3', 'service_tier': None, 'finish_reason': 'tool_calls', 'logprobs': None}, id='run--9be2a820-402b-4120-9a5a-c228391591dd-0', tool_calls=[{'name': 'add', 'args': {'a': 3, 'b': 5}, 'id': 'chatcmpl-tool-e7dda8ce32a2432e9a139a0666acc78c', 'type': 'tool_call'}], usage_metadata={'input_tokens': 854, 'output_tokens': 138, 'total_tokens': 992, 'input_token_details': {'audio': 0, 'cache_read': 0}, 'output_token_details': {'audio': 0, 'reasoning': 0}}), ToolMessage(content='8', name='add', id='dc8cc398-a6d2-4851-98fb-bf2dd31b3789', tool_call_id='chatcmpl-tool-e7dda8ce32a2432e9a139a0666acc78c'), AIMessage(content='[After getting 8 from 3+5, this multiplication is essential to complete the calculation: 8 × 8 = 64]\\n\\nThe final answer is 64.', additional_kwargs={'tool_calls': [{'id': 'chatcmpl-tool-3d34607831a24e29a27f578615fd9896', 'function': {'arguments': '{\"a\": 8, \"b\": 8}', 'name': 'multiply'}, 'type': 'function'}], 'refusal': None}, response_metadata={'token_usage': {'completion_tokens': 56, 'prompt_tokens': 1007, 'total_tokens': 1063, 'completion_tokens_details': {'accepted_prediction_tokens': 0, 'audio_tokens': 0, 'reasoning_tokens': 0, 'rejected_prediction_tokens': 0}, 'prompt_tokens_details': {'audio_tokens': 0, 'cached_tokens': 0}}, 'model_name': 'solar-pro2-250909', 'system_fingerprint': None, 'id': '6773edad-e434-4610-a865-21f18f48edfc', 'service_tier': None, 'finish_reason': 'tool_calls', 'logprobs': None}, id='run--c0b9a22f-85da-41cf-a0f6-f43f6375674a-0', tool_calls=[{'name': 'multiply', 'args': {'a': 8, 'b': 8}, 'id': 'chatcmpl-tool-3d34607831a24e29a27f578615fd9896', 'type': 'tool_call'}], usage_metadata={'input_tokens': 1007, 'output_tokens': 56, 'total_tokens': 1063, 'input_token_details': {'audio': 0, 'cache_read': 0}, 'output_token_details': {'audio': 0, 'reasoning': 0}}), ToolMessage(content='64', name='multiply', id='cb89214f-f104-4d30-bb85-856d27113b2b', tool_call_id='chatcmpl-tool-3d34607831a24e29a27f578615fd9896'), AIMessage(content='64  \\n\\n(계산 과정: 3 + 5 = 8 → 8 × 8 = 64)', additional_kwargs={'refusal': None}, response_metadata={'token_usage': {'completion_tokens': 28, 'prompt_tokens': 1079, 'total_tokens': 1107, 'completion_tokens_details': {'accepted_prediction_tokens': 0, 'audio_tokens': 0, 'reasoning_tokens': 0, 'rejected_prediction_tokens': 0}, 'prompt_tokens_details': {'audio_tokens': 0, 'cached_tokens': 0}}, 'model_name': 'solar-pro2-250909', 'system_fingerprint': None, 'id': '67434429-b203-4178-98b5-c86dc960c914', 'service_tier': None, 'finish_reason': 'stop', 'logprobs': None}, id='run--c3e92803-7f55-48a6-85f3-6f1ea30563a3-0', usage_metadata={'input_tokens': 1079, 'output_tokens': 28, 'total_tokens': 1107, 'input_token_details': {'audio': 0, 'cache_read': 0}, 'output_token_details': {'audio': 0, 'reasoning': 0}})]\n",
      "==================================\u001b[1m Ai Message \u001b[0m==================================\n",
      "\n",
      "64  \n",
      "\n",
      "(계산 과정: 3 + 5 = 8 → 8 × 8 = 64)\n"
     ]
    }
   ],
   "source": [
    "from langchain_core.messages import HumanMessage\n",
    "\n",
    "for chunk in graph.stream({'messages': [HumanMessage('3에다 5를 더하고 거기에 8을 곱하면?')]}, stream_mode='values'):\n",
    "    chunk['messages'][-1].pretty_print()"
   ]
  }
 ],
 "metadata": {
  "kernelspec": {
   "display_name": "chatbot-0lCeHk3W-py3.12",
   "language": "python",
   "name": "python3"
  },
  "language_info": {
   "codemirror_mode": {
    "name": "ipython",
    "version": 3
   },
   "file_extension": ".py",
   "mimetype": "text/x-python",
   "name": "python",
   "nbconvert_exporter": "python",
   "pygments_lexer": "ipython3",
   "version": "3.12.7"
  }
 },
 "nbformat": 4,
 "nbformat_minor": 2
}
