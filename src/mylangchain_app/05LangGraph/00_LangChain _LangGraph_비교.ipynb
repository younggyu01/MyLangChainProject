{
  "cells": [
    {
      "cell_type": "markdown",
      "metadata": {},
      "source": [
        "#### LangChain vs LangGraph (feat. LangGraph 개념 설명)\n",
        "* LangGraph의 개념과 주요 기능을 이해하고, 차이점을 비교합니다."
      ]
    },
    {
      "cell_type": "code",
      "execution_count": null,
      "metadata": {},
      "outputs": [],
      "source": [
        "# poetry add langgraph"
      ]
    },
    {
      "cell_type": "code",
      "execution_count": 1,
      "metadata": {},
      "outputs": [
        {
          "name": "stdout",
          "output_type": "stream",
          "text": [
            "sk\n",
            "WA\n"
          ]
        }
      ],
      "source": [
        "from dotenv import load_dotenv\n",
        "import os\n",
        "\n",
        "load_dotenv()\n",
        "\n",
        "OPENAI_API_KEY = os.getenv(\"OPENAI_API_KEY\")\n",
        "print(OPENAI_API_KEY[:2])\n",
        "\n",
        "UPSTAGE_API_KEY = os.getenv(\"UPSTAGE_API_KEY\")\n",
        "print(UPSTAGE_API_KEY[30:])"
      ]
    },
    {
      "cell_type": "code",
      "execution_count": 3,
      "metadata": {},
      "outputs": [
        {
          "name": "stdout",
          "output_type": "stream",
          "text": [
            "client=<openai.resources.chat.completions.completions.Completions object at 0x000001F20EAB35F0> async_client=<openai.resources.chat.completions.completions.AsyncCompletions object at 0x000001F20EAF4830> model_name='solar-pro' temperature=0.5 model_kwargs={} upstage_api_key=SecretStr('**********') upstage_api_base='https://api.upstage.ai/v1'\n",
            "**LangGraph**는 **대규모 언어 모델(LLM)**을 기반으로 한 **복잡한 대화형 애플리케이션**을 구축하기 위한 오픈소스 프레임워크입니다. 특히 **상태(State) 관리**와 **멀티턴 대화 흐름**을 체계적으로 제어할 수 있도록 설계되었으며, LangChain과 통합되어 확장성을 제공합니다.\n",
            "\n",
            "### 핵심 특징:\n",
            "1. **상태 기반 대화 관리**  \n",
            "   - 사용자 세션의 상태(메모리, 컨텍스트)를 자동으로 추적하여 복잡한 대화 흐름을 구현합니다.  \n",
            "   - 예: 이전 대화 기록을 기반으로 다음 응답을 생성하거나 의사 결정 트리를 구축.\n",
            "\n",
            "2. **그래프 기반 아키텍처**  \n",
            "   - 대화를 **노드(Node)**와 **엣지(Edge)**로 구성된 그래프 구조로 모델링합니다.  \n",
            "   - 분기 조건, 루프, 병렬 처리 등 유연한 흐름 설계가 가능합니다.\n",
            "\n",
            "3. **LangChain과의 통합**  \n",
            "   - LangChain의 도구 호출, 메모리, 체인 기능을 활용해 LLM 기반 애플리케이션을 쉽게 확장할 수 있습니다.\n",
            "\n",
            "4. **확장성**  \n",
            "   - 커스텀 노드/엣지를 추가해 비즈니스 로직이나 외부 API 연동이 가능합니다.\n",
            "\n",
            "### 사용 사례:\n",
            "- **챗봇**: 다단계 폼 작성, 고객 지원 자동화  \n",
            "- **에이전트 시스템**: 문서 분석 → 요약 → 사용자 질의 응답  \n",
            "- **게임/튜토리얼**: 상태 변화에 따른 동적 대화 흐름  \n",
            "\n",
            "### 예시 코드 (간단한 그래프):\n",
            "```python\n",
            "from langgraph import State, Graph\n",
            "\n",
            "state = State()\n",
            "graph = Graph(state)\n",
            "\n",
            "@graph.node\n",
            "def start(state):\n",
            "    state[\"step\"] = 1\n",
            "    return {\"next\": {\"where_to_go\": \"question_1\"}}\n",
            "\n",
            "@graph.node\n",
            "def question_1(state):\n",
            "    if state[\"step\"] == 1:\n",
            "        return {\"next\": {\"where_to_go\": \"end\"}}\n",
            "\n",
            "graph.add_node(\"start\", start)\n",
            "graph.add_node(\"question_1\", question_1)\n",
            "graph.add_edge(\"start\", \"question_1\")\n",
            "graph.compile()\n",
            "```\n",
            "\n",
            "LangGraph는 LLM 애플리케이션의 **복잡성**을 추상화하고 **유지보수성**을 높이는 데 중점을 둔 프레임워크입니다. 공식 문서(https://langchain-ai.github.io/langgraph/)에서 더 자세한 정보를 확인할 수 있습니다.\n"
          ]
        }
      ],
      "source": [
        "# from langchain_openai import ChatOpenAI\n",
        "\n",
        "# llm = ChatOpenAI(model='gpt-4o-mini') # 테스트의 경우에는 작은 모델을 사용합니다\n",
        "\n",
        "from langchain_upstage import ChatUpstage\n",
        "llm = ChatUpstage(\n",
        "        model=\"solar-pro\",\n",
        "        base_url=\"https://api.upstage.ai/v1\",\n",
        "        temperature=0.5\n",
        "    )\n",
        "print(llm)\n",
        "\n",
        "query = 'LangGraph는 무엇인가요?'\n",
        "ai_msg = llm.invoke(query)\n",
        "print(ai_msg.content)"
      ]
    },
    {
      "cell_type": "markdown",
      "metadata": {},
      "source": [
        "#### LangGraph의 기본개념\n",
        "* `state`는 LangGraph 에이전트의 state를 나타내는 데이터 구조입니다.\n",
        "* `state`는 `TypedDict`를 사용하여 정의되며, 이는 Python의 타입 힌팅을 통해 구조를 명확히 합니다.\n",
        "    * 간단하게 `messages`라는 필드만 있습니다.\n",
        "    * 필요에 따라 다양한 값들을 활용할 수 있습니다.\n",
        "* `state`는 에이전트의 동작을 결정하는 데 사용되며, 각 노드에서 state를 업데이트하거나 참조할 수 있습니다.\n",
        "* `state`는 LangGraph의 노드 간에 전달되며, 에이전트의 state 전이를 관리합니다."
      ]
    },
    {
      "cell_type": "code",
      "execution_count": 31,
      "metadata": {},
      "outputs": [],
      "source": [
        "from typing import Annotated # 타입 힌트를 사용하기 위해 \n",
        "from typing_extensions import TypedDict # 구조화된 딕셔너리 타입을 정의하기 위해 \n",
        "\n",
        "from langgraph.graph.message import add_messages \n",
        "from langchain_core.messages import AnyMessage # LangChain에서 사용하는 모든 종류의 메시지(예: HumanMessage, AIMessage, ToolMessage)\n",
        "\n",
        "# AgentState는 에이전트의 현재 상태를 나타내는 딕셔너리 타입을 정의합니다.\n",
        "# TypedDict를 사용하면 딕셔너리가 어떤 키와 값 타입을 가져야 하는지 명확하게 지정할 수 있습니다.\n",
        "class AgentState(TypedDict):\n",
        "    # 'messages' 키는 에이전트의 대화 기록을 저장합니다.\n",
        "    # 이 목록에는 LangChain 메시지 객체(AnyMessage)가 들어갑니다.\n",
        "    # LangGraph가 이 상태를 처리할 때, 새로운 메시지가 추가되면\n",
        "    # 기존 메시지 목록의 끝에 자동으로 추가되도록(append) 설정합니다.\n",
        "    messages: list[Annotated[AnyMessage, add_messages]]"
      ]
    },
    {
      "cell_type": "markdown",
      "metadata": {},
      "source": [
        "- 위에 선언한 `AgentState`를 활용하여 `StateGraph`를 생성합니다."
      ]
    },
    {
      "cell_type": "code",
      "execution_count": 32,
      "metadata": {},
      "outputs": [
        {
          "name": "stdout",
          "output_type": "stream",
          "text": [
            "<class 'langgraph.graph.state.StateGraph'>\n"
          ]
        }
      ],
      "source": [
        "from langgraph.graph import StateGraph\n",
        "\n",
        "graph_builder = StateGraph(AgentState)\n",
        "print(type(graph_builder))"
      ]
    },
    {
      "cell_type": "markdown",
      "metadata": {},
      "source": [
        "- `graph`에 추가할 `node`를 생성합니다\n",
        "-  `node`는 LangGraph에서 실행되는 개별적인 작업 단위를 의미합니다. \n",
        "    - 각 노드는 특정 기능을 수행하는 독립적인 컴포넌트로, 예를 들어 텍스트 생성, 데이터 처리, 또는 의사 결정과 같은 작업을 담당할 수 있습니다.\n",
        "    - `node`는 기본적으로 함수(function)로 정의되고, 뒤에서 다루지만 다른 에이전트(agent)를 활용할 수도 있습니다"
      ]
    },
    {
      "cell_type": "code",
      "execution_count": 33,
      "metadata": {},
      "outputs": [],
      "source": [
        "# Node 역할을 하는 함수의 인자로 state 객체를 사용함  LLM을 호출하는 노드\n",
        "def generate(state: AgentState) -> AgentState:\n",
        "    \"\"\"\n",
        "    `generate` 노드는 사용자의 질문을 받아서 응답을 생성하는 노드입니다.\n",
        "    \"\"\"\n",
        "    messages = state['messages']\n",
        "    ai_message = llm.invoke(messages)\n",
        "    return {'messages': [ai_message]}"
      ]
    },
    {
      "cell_type": "markdown",
      "metadata": {},
      "source": [
        "- `node`를 생성한 후에 `edge`로 연결합니다\n",
        "- `edge`는 노드들 사이의 연결을 나타내며, 데이터와 제어 흐름의 경로를 정의합니다. \n",
        "    - 엣지를 통해 한 노드의 출력이 다음 노드의 입력으로 전달되어, 전체적인 워크플로우가 형성됩니다.\n",
        "    - `node`와 `edge`의 조합은 방향성 그래프(Directed Graph)를 형성하며, 이를 통해 복잡한 AI 에이전트의 행동 흐름을 구조화할 수 있습니다"
      ]
    },
    {
      "cell_type": "code",
      "execution_count": 34,
      "metadata": {},
      "outputs": [
        {
          "data": {
            "text/plain": [
              "<langgraph.graph.state.StateGraph at 0x1f20ef97200>"
            ]
          },
          "execution_count": 34,
          "metadata": {},
          "output_type": "execute_result"
        }
      ],
      "source": [
        "# LLM을 호출하는 generate 함수를 Node로 추가함\n",
        "graph_builder.add_node('generate', generate)"
      ]
    },
    {
      "cell_type": "markdown",
      "metadata": {},
      "source": [
        "- 모든 그래프는 `START(시작)`와 `END(종료)`가 있습니다\n",
        "    - `END`를 explicit하게 선언하지 않는 경우도 종종 있지만, 가독성을 위해 작성해주는 것을 권장합니다"
      ]
    },
    {
      "cell_type": "code",
      "execution_count": 35,
      "metadata": {},
      "outputs": [
        {
          "data": {
            "text/plain": [
              "<langgraph.graph.state.StateGraph at 0x1f20ef97200>"
            ]
          },
          "execution_count": 35,
          "metadata": {},
          "output_type": "execute_result"
        }
      ],
      "source": [
        "from langgraph.graph import START, END\n",
        "\n",
        "graph_builder.add_edge(START, 'generate')\n",
        "graph_builder.add_edge('generate', END)"
      ]
    },
    {
      "cell_type": "markdown",
      "metadata": {},
      "source": [
        "- `node`를 생성하고 `edge`로 연결한 후에 `compile` 메서드를 호출하여 `Graph`를 생성합니다"
      ]
    },
    {
      "cell_type": "code",
      "execution_count": 37,
      "metadata": {},
      "outputs": [
        {
          "name": "stdout",
          "output_type": "stream",
          "text": [
            "<class 'langgraph.graph.state.CompiledStateGraph'>\n"
          ]
        }
      ],
      "source": [
        "graph = graph_builder.compile()\n",
        "print(type(graph))"
      ]
    },
    {
      "cell_type": "markdown",
      "metadata": {},
      "source": [
        "- `compile` 후에는 그래프를 시각화하여 확인할 수 있습니다\n",
        "- 의도한대로 그래프가 생성됐는지 확인하는 습관을 기르는 것이 좋습니다\n",
        "    - `git`에서 코드 작업물을 commit하기 전에 `git diff`를 통해 변경사항을 확인하는 것과 같습니다"
      ]
    },
    {
      "cell_type": "code",
      "execution_count": null,
      "metadata": {},
      "outputs": [],
      "source": [
        "#from IPython.display import display, Image\n",
        "\n",
        "#display(Image(graph.get_graph().draw_mermaid_png(max_retries=5, retry_delay=2.0)))"
      ]
    },
    {
      "cell_type": "code",
      "execution_count": 15,
      "metadata": {},
      "outputs": [
        {
          "name": "stdout",
          "output_type": "stream",
          "text": [
            "Mermaid Code:\n",
            "---\n",
            "config:\n",
            "  flowchart:\n",
            "    curve: linear\n",
            "---\n",
            "graph TD;\n",
            "\t__start__([<p>__start__</p>]):::first\n",
            "\tgenerate(generate)\n",
            "\t__end__([<p>__end__</p>]):::last\n",
            "\t__start__ --> generate;\n",
            "\tgenerate --> __end__;\n",
            "\tclassDef default fill:#f2f0ff,line-height:1.2\n",
            "\tclassDef first fill-opacity:0\n",
            "\tclassDef last fill:#bfb6fc\n",
            "\n"
          ]
        }
      ],
      "source": [
        "# 대체 방법\n",
        "mermaid_code = graph.get_graph().draw_mermaid()\n",
        "print(\"Mermaid Code:\")\n",
        "print(mermaid_code)"
      ]
    },
    {
      "cell_type": "markdown",
      "metadata": {},
      "source": [
        "* https://mermaid.live/ 에서  mermain_code 로 직접 확인한다.\n",
        "\n",
        "* [Graph 이미지](https://mermaidchart.com/play?utm_source=mermaid_live_editor&utm_medium=share#pako:eNpVkN1ugjAUx1-lObvRBLCAVq3Gm_kIu9q6mAqn0AwKKSWZM777KirR3vR8_f7n4wxZkyNwKKxsS_Kx3wgj3OHQOWn9N_natrvR287a3feUc6607dy1sECDVjqcPIzpDUeTj_Bgj2glb-QoSsJwRx745ll0yNz5IZF5uNujIjkq2VeOKF1V_E0liioVVNpgWKIuSsfjKHkBhoGH8rBpZabdidOXgutYd7mjOjKVQeBPonPgzvYYQI22llcXzsIQIsCVWKMA7s1c2h8Bwlw800rz2TT1A7NNX5TAlaw67_Vt7tfaa-mPXY9R6xdE-970xgFP4kED-Bl-gaeURYyyNEmXbJGuaDIP4OTDLIqT-XoVp2tK54ytLwH8DV1ptFou6NOLL_-94J8W) "
      ]
    },
    {
      "cell_type": "code",
      "execution_count": 38,
      "metadata": {},
      "outputs": [
        {
          "name": "stdout",
          "output_type": "stream",
          "text": [
            "<class 'dict'>\n",
            "<class 'langchain_core.messages.ai.AIMessage'>\n",
            "[AIMessage(content='**LangGraph**와 **LangChain**은 모두 LLM(Large Language Model) 기반 애플리케이션 개발을 위한 프레임워크이지만, 목적과 기능에서 차이가 있습니다.  \\n\\n### **1. LangGraph란?**  \\n- **그래프 기반 워크플로우 관리 도구**로, 복잡한 멀티스텝 LLM 애플리케이션(예: 챗봇, 에이전트 시스템)을 **상태(State)와 노드(Node) 기반의 그래프**로 구성하고 실행할 수 있게 해줍니다.  \\n- LangChain과 통합되어 사용되며, **대화 상태 추적**, **조건부 라우팅**, **사용자 정의 메모리** 등을 지원합니다.  \\n- 주요 특징:  \\n  - **상태(State) 관리**: 각 단계에서 컨텍스트(대화 기록, 변수 등)를 유지하며 흐름을 제어합니다.  \\n  - **그래프 시각화**: 워크플로우를 다이어그램으로 표현할 수 있습니다.  \\n  - **확장성**: 사용자 정의 노드와 에지(Edge)를 추가해 복잡한 로직을 구현할 수 있습니다.  \\n\\n> 📌 **예시**:  \\n> - \"여행 계획 챗봇\"에서 사용자 질문에 따라 호텔 예약 → 항공권 검색 → 일정 생성 등의 단계를 그래프로 연결합니다.  \\n\\n---\\n\\n### **2. LangChain과의 차이점**  \\n| **기준**       | **LangChain**                          | **LangGraph**                          |\\n|----------------|----------------------------------------|----------------------------------------|\\n| **주요 목적**  | LLM과 외부 도구(검색, DB 등)를 연결하는 **체인(Chain) 구성** | 복잡한 워크플로우를 **그래프 기반**으로 관리 |\\n| **구조**       | 순차적 체인 (예: `RetrievalQA`)        | 비순환적/순환적 그래프 (예: 상태 머신) |\\n| **상태 관리**  | 제한적 (간단한 메모리)                 | 고급 상태 추적 (JSON 기반 상태 객체)   |\\n| **사용 사례**  | 단일 작업 (문서 Q&A, 요약)             | 다중 단계 작업 (대화형 에이전트, 게임) |\\n| **통합 관계**  | LangGraph는 LangChain의 확장 모듈      | LangChain의 체인을 노드로 활용 가능    |\\n\\n---\\n\\n### **3. 함께 사용하는 예시**  \\n```python\\nfrom langchain_core.runs import RunnableLambda, RunnablePassthrough\\nfrom langgraph import State, Graph\\n\\n# LangChain 체인 정의\\nllm_chain = some_llm_chain  # 예: RetrievalQA 체인\\n\\n# LangGraph 노드 정의\\nclass RouterState(State):\\n    next_step: str = \"start\"\\n\\ngraph = Graph(RouterState)\\n\\nwith graph.contextual(\"start\"):\\n    graph.add_node(\"llm_node\", llm_chain)\\n    graph.add_conditional(\\n        lambda state: state[\"next_step\"],  # 상태에 따라 분기\\n        {\\n            \"hotel\": \"hotel_node\",\\n            \"flight\": \"flight_node\",\\n        }\\n    )\\n\\n# 실행\\nstate = graph.run(\"start\", input={\"question\": \"호텔 추천해줄래?\"})\\n```\\n\\n---\\n\\n### **4. 요약**  \\n- **LangChain**은 LLM과 도구를 연결하는 **기본 빌딩 블록**을 제공합니다.  \\n- **LangGraph**는 LangChain의 체인을 활용해 **복잡한 워크플로우**를 그래프로 구성하고 상태를 관리하는 **고급 도구**입니다.  \\n- 두 도구는 함께 사용될 때 가장 강력한 시너지를 발휘합니다.  \\n\\n더 궁금한 점이 있다면 언제든 질문해주세요! 😊', additional_kwargs={'refusal': None}, response_metadata={'token_usage': {'completion_tokens': 677, 'prompt_tokens': 25, 'total_tokens': 702, 'completion_tokens_details': {'accepted_prediction_tokens': 0, 'audio_tokens': 0, 'reasoning_tokens': 0, 'rejected_prediction_tokens': 0}, 'prompt_tokens_details': {'audio_tokens': 0, 'cached_tokens': 0}}, 'model_name': 'solar-pro2-250909', 'system_fingerprint': None, 'id': '7a30d338-c3f9-4218-a94d-fda577a65a14', 'service_tier': None, 'finish_reason': 'stop', 'logprobs': None}, id='run--09aa3780-73e0-429b-9129-268384483356-0', usage_metadata={'input_tokens': 25, 'output_tokens': 677, 'total_tokens': 702, 'input_token_details': {'audio': 0, 'cache_read': 0}, 'output_token_details': {'audio': 0, 'reasoning': 0}})]\n"
          ]
        }
      ],
      "source": [
        "from langchain_core.messages import HumanMessage\n",
        "\n",
        "query = 'LangGraph는 무엇인가요? LangChain과의 차이점은 무엇인가요?'\n",
        "initial_state = {'messages': [HumanMessage(query)]}\n",
        "result = graph.invoke(initial_state)\n",
        "\n",
        "print(type(result))\n",
        "print(type(result['messages'][0]))\n",
        "print(result['messages'])"
      ]
    },
    {
      "cell_type": "markdown",
      "metadata": {},
      "source": [
        "#### 2개의 AI 에이전트 협력하기\n",
        "* 첫번째 AI 에이전트\n",
        "    * 사용자의 질문을 분석하고 핵심 키워드와 배경 정보를 추가하는 역할\n",
        "* 두번째 AI 에이전트\n",
        "    * 첫번째 에이전트가 제공한 정보를 기반으로 좀 더 자세한 답변을 생성하는 역할    "
      ]
    },
    {
      "cell_type": "code",
      "execution_count": 21,
      "metadata": {},
      "outputs": [
        {
          "name": "stdout",
          "output_type": "stream",
          "text": [
            "solar-pro\n"
          ]
        }
      ],
      "source": [
        "print(llm.model_name)"
      ]
    },
    {
      "cell_type": "code",
      "execution_count": 39,
      "metadata": {},
      "outputs": [],
      "source": [
        "from langgraph.graph import StateGraph\n",
        "from pprint import pprint\n",
        "\n",
        "#첫번째 AI 에이전트\n",
        "def agent_1(state):\n",
        "    \"\"\"사용자의 질문을 분석하고 핵심 키워드아 배경 정보를 추가하는 역할\"\"\"\n",
        "    query = state['query']\n",
        "    \n",
        "    keywords = llm.invoke(f'질문: {query}\\n 이 질문에서 핵심 키워드를 3~5개 추출해 주세요.')\n",
        "\n",
        "     # 질문과 관련된 배경 정보 제공\n",
        "    background_info = llm.invoke(f\"질문: {query}\\n 이 질문을 이해하는 데 도움이 될 만한 추가 정보를 제공해 주세요.\")\n",
        "\n",
        "    print(f\"\\n[Agent 1] 원본 질문: {query}\")\n",
        "    print(f\"[Agent 1] 핵심 키워드: {keywords}\")\n",
        "    print(f\"[Agent 1] 배경 정보: {background_info}\\n\")\n",
        "\n",
        "    return {\"refined_query\": query, \"keywords\": keywords, \"background_info\": background_info}"
      ]
    },
    {
      "cell_type": "code",
      "execution_count": 40,
      "metadata": {},
      "outputs": [],
      "source": [
        "# 두번째 AI 에이전트\n",
        "def agent_2(state):\n",
        "    \"\"\"첫번째 에이전트가 제공한 정보를 기반으로 좀 더 자세한 답변을 생성하는 역할\"\"\"\n",
        "    refined_query = state['refined_query']\n",
        "    keywords = state['keywords']\n",
        "    background_info = state['background_info']\n",
        "\n",
        "    # Agent 1이 제공한 정보를 활용하여 최종 답변 생성\n",
        "    final_response = llm.invoke(\n",
        "        f\"질문: {refined_query}\\n\"\n",
        "        f\"핵심 키워드: {keywords}\\n\"\n",
        "        f\"배경 정보: {background_info}\\n\"\n",
        "        f\"위 정보를 바탕으로 질문에 대한 깊이 있는 답변을 작성해 주세요.\"\n",
        "    )\n",
        "\n",
        "    print(f\"[Agent 2] 최종 답변 생성 완료\\n\")\n",
        "    \n",
        "    return {\"final_answer\": final_response}"
      ]
    },
    {
      "cell_type": "code",
      "execution_count": 41,
      "metadata": {},
      "outputs": [
        {
          "name": "stdout",
          "output_type": "stream",
          "text": [
            "<class 'langgraph.graph.state.StateGraph'>\n",
            "{<class 'dict'>: {'__root__': <langgraph.channels.last_value.LastValue object at 0x000001F2107D2340>}}\n"
          ]
        }
      ],
      "source": [
        "# WorkFlow 역할을 하는 StateGraph 객체를 생성하기\n",
        "workflow = StateGraph(dict)\n",
        "\n",
        "print(type(workflow))\n",
        "print(workflow.schemas)"
      ]
    },
    {
      "cell_type": "code",
      "execution_count": 42,
      "metadata": {},
      "outputs": [
        {
          "data": {
            "text/plain": [
              "{'agent_1': StateNodeSpec(runnable=agent_1(tags=None, recurse=True, explode_args=False, func_accepts={}), metadata=None, input_schema=<class 'dict'>, retry_policy=None, cache_policy=None, ends=(), defer=False),\n",
              " 'agent_2': StateNodeSpec(runnable=agent_2(tags=None, recurse=True, explode_args=False, func_accepts={}), metadata=None, input_schema=<class 'dict'>, retry_policy=None, cache_policy=None, ends=(), defer=False)}"
            ]
          },
          "execution_count": 42,
          "metadata": {},
          "output_type": "execute_result"
        }
      ],
      "source": [
        "# WorkFlow에 Node 추가하기\n",
        "workflow.add_node(\"agent_1\", agent_1)\n",
        "workflow.add_node(\"agent_2\", agent_2)\n",
        "\n",
        "workflow.nodes"
      ]
    },
    {
      "cell_type": "code",
      "execution_count": 43,
      "metadata": {},
      "outputs": [
        {
          "name": "stdout",
          "output_type": "stream",
          "text": [
            "{('agent_1', 'agent_2'), ('__start__', 'agent_1')}\n"
          ]
        }
      ],
      "source": [
        "# WorkFlow에 Edge 추가하기\n",
        "# agent_1이 먼저 실행됨\n",
        "workflow.set_entry_point(\"agent_1\")\n",
        "# agent_1 -> agent_2\n",
        "workflow.add_edge(\"agent_1\",\"agent_2\")\n",
        "\n",
        "print(workflow.edges)"
      ]
    },
    {
      "cell_type": "code",
      "execution_count": 44,
      "metadata": {},
      "outputs": [
        {
          "name": "stdout",
          "output_type": "stream",
          "text": [
            "<class 'langgraph.graph.state.CompiledStateGraph'>\n"
          ]
        },
        {
          "data": {
            "image/png": "[encoded data removed]",
            "text/plain": [
              "<langgraph.graph.state.CompiledStateGraph object at 0x000001F20EF9E930>"
            ]
          },
          "execution_count": 44,
          "metadata": {},
          "output_type": "execute_result"
        }
      ],
      "source": [
        "graph = workflow.compile()\n",
        "\n",
        "print(type(graph))\n",
        "graph"
      ]
    },
    {
      "cell_type": "code",
      "execution_count": 46,
      "metadata": {},
      "outputs": [
        {
          "name": "stdout",
          "output_type": "stream",
          "text": [
            "---\n",
            "config:\n",
            "  flowchart:\n",
            "    curve: linear\n",
            "---\n",
            "graph TD;\n",
            "\t__start__([<p>__start__</p>]):::first\n",
            "\tagent_1(agent_1)\n",
            "\tagent_2(agent_2)\n",
            "\t__end__([<p>__end__</p>]):::last\n",
            "\t__start__ --> agent_1;\n",
            "\tagent_1 --> agent_2;\n",
            "\tagent_2 --> __end__;\n",
            "\tclassDef default fill:#f2f0ff,line-height:1.2\n",
            "\tclassDef first fill-opacity:0\n",
            "\tclassDef last fill:#bfb6fc\n",
            "\n"
          ]
        }
      ],
      "source": [
        "mermaid_code = graph.get_graph().draw_mermaid()\n",
        "print(mermaid_code)"
      ]
    },
    {
      "cell_type": "code",
      "execution_count": 47,
      "metadata": {},
      "outputs": [
        {
          "name": "stdout",
          "output_type": "stream",
          "text": [
            "\n",
            "[Agent 1] 원본 질문: LangGraph는 무엇이며, LangChain과 어떤 차이점이 있나요? 그리고 LangGraph를 사용해야 하는 이유는 무엇인가요?\n",
            "[Agent 1] 핵심 키워드: content='핵심 키워드:  \\n1. **LangGraph**  \\n2. **LangChain** (차이점)  \\n3. **사용 이유**  \\n4. **워크플로우 관리** (또는 **상태 기반 애플리케이션**)  \\n5. **그래프 기반 구조**  \\n\\n### 설명:  \\n- **LangGraph**와 **LangChain**은 모두 LLM 기반 애플리케이션 개발을 위한 도구이지만, LangGraph는 **상태(state)와 워크플로우**를 명시적으로 관리하는 **그래프 기반 구조**에 특화되어 있습니다.  \\n- **차이점**은 LangChain이 체인/컴포넌트 조립에 중점을 둔다면, LangGraph는 복잡한 대화 흐름이나 다중 노드 상태 머신에 적합하다는 점입니다.  \\n- **사용 이유**로는 대화 상태 추적, 조건부 분기, 장기 메모리 구현 등이 포함됩니다.  \\n\\n추가로 \"상태 관리\"나 \"대화형 애플리케이션\"을 키워드로 포함할 수도 있습니다.' additional_kwargs={'refusal': None} response_metadata={'token_usage': {'completion_tokens': 177, 'prompt_tokens': 49, 'total_tokens': 226, 'completion_tokens_details': {'accepted_prediction_tokens': 0, 'audio_tokens': 0, 'reasoning_tokens': 0, 'rejected_prediction_tokens': 0}, 'prompt_tokens_details': {'audio_tokens': 0, 'cached_tokens': 0}}, 'model_name': 'solar-pro2-250909', 'system_fingerprint': None, 'id': '10a17938-0785-43b6-a7e7-f214c51d42d6', 'service_tier': None, 'finish_reason': 'stop', 'logprobs': None} id='run--0ba71c18-228b-4950-bc01-8a9564e02175-0' usage_metadata={'input_tokens': 49, 'output_tokens': 177, 'total_tokens': 226, 'input_token_details': {'audio': 0, 'cache_read': 0}, 'output_token_details': {'audio': 0, 'reasoning': 0}}\n",
            "[Agent 1] 배경 정보: content='### LangGraph란 무엇인가요?\\n**LangGraph**는 LangChain 팀에서 개발한 **상태(state)를 가진 대화형 LLM 애플리케이션을 구축하기 위한 프레임워크**입니다. 기존의 LangChain이 \"체인의 조합\"에 초점을 맞췄다면, LangGraph는 **상태 머신(State Machine)**과 **그래프 기반 워크플로우**를 통해 복잡한 대화 흐름을 체계적으로 관리할 수 있도록 설계되었습니다.  \\n- **핵심 개념**: 노드(상태), 엣지(전이), 메모리(상태 저장)로 구성된 방향성 그래프로 대화 흐름을 모델링합니다.  \\n- **사용 사례**: 멀티턴 대화, 상태 추적, 조건부 분기, 서브그래프 호출 등이 필요한 애플리케이션 (예: 챗봇, 워크플로우 자동화).\\n\\n---\\n\\n### LangChain vs. LangGraph: 주요 차이점\\n| **기준**       | **LangChain**                          | **LangGraph**                          |\\n|----------------|----------------------------------------|----------------------------------------|\\n| **목적**       | 모듈식 LLM 체인 구축                   | 상태 기반 그래프 워크플로우 관리       |\\n| **구조**       | 선형/분기형 체인                       | 순환 가능한 상태 머신 그래프           |\\n| **상태 관리**  | 제한적 (간단한 메모리 지원)            | 명시적 상태 저장 + 동적 업데이트       |\\n| **복잡성**     | 단순한 작업 (예: 단일 질문-응답)       | 복잡한 대화 흐름 (예: 결제 프로세스)   |\\n| **확장성**     | 모듈 조합                              | 서브그래프 재사용 및 조합              |\\n\\n---\\n\\n### LangGraph를 사용해야 하는 이유\\n1. **복잡한 대화 흐름 관리**  \\n   - 예: 사용자가 \"주문 취소 → 이유 선택 → 확인\" 같은 단계를 거칠 때, 각 상태를 명시적으로 추적할 수 있습니다.\\n\\n2. **상태 지속성**  \\n   - `State` 객체를 통해 대화 중 생성된 데이터(예: 사용자 ID, 이전 응답)를 저장하고 활용할 수 있습니다.\\n\\n3. **모듈화된 서브그래프**  \\n   - 공통 로직(예: 인증 절차)을 서브그래프로 분리해 재사용할 수 있습니다.\\n\\n4. **시각적 모델링**  \\n   - 그래프를 코드로 정의하면 워크플로우가 명확해지며, 디버깅이 용이합니다.\\n\\n5. **LangChain과의 통합**  \\n   - 기존 LangChain 컴포넌트(체인, 도구)를 그래프 노드로 활용할 수 있어 호환성이 높습니다.\\n\\n---\\n\\n### 이해를 돕는 추가 정보\\n1. **LangGraph의 핵심 컴포넌트**  \\n   - **Node**: LLM 호출, 도구 사용, 조건 검사 등의 작업을 정의.  \\n   - **Edge**: 노드 간 전이 조건을 설정 (예: `if user_said(\"yes\") → next_node`).  \\n   - **State**: 대화 중 생성된 데이터를 저장하는 딕셔너리.\\n\\n2. **간단한 예제 코드**  \\n   ```python\\n   from langgraph import State, Graph\\n\\n   class ChatState(State):\\n       memory: dict = {}\\n\\n   graph = Graph(ChatState)\\n\\n   @graph.node()\\n   def start(state: ChatState) -> dict:\\n       state.memory[\"greeting\"] = \"Hello!\"\\n       return {\"end\": True}  # 종료 조건\\n\\n   flow = graph.compile()\\n   response = flow.run({}, messages=[{\"content\": \"Hi\"}])\\n   ```\\n\\n3. **LangChain과의 비교 시나리오**  \\n   - **LangChain**: \"날씨 알려줘\" → LLM 체인 → 응답 반환.  \\n   - **LangGraph**: \"계좌 개설\" → (1) 신분증 확인 → (2) 본인 인증 → (3) 계약 체결 (각 단계마다 상태 저장).\\n\\n4. **적합한 사용 사례**  \\n   - 고객 지원 봇, 인터뷰 자동화, 다단계 양식 작성, 게임 대화 시스템 등.\\n\\n5. **공식 문서 및 튜토리얼**  \\n   - [LangGraph GitHub](https://github.com/langchain-ai/langgraph)  \\n   - [LangChain 공식 블로그](https://blog.langchain.com/langgraph/)에서 아키텍처 설명 확인 가능.\\n\\n---\\n\\n### 결론\\nLangGraph는 **상태 관리가 필수적인 복잡한 애플리케이션**에서 빛을 발합니다. 단순한 LLM 호출이 아닌, 사용자의 입력에 따라 동적으로 흐름이 변화하는 시스템을 구축할 때 LangChain보다 더 적합합니다. 기존 LangChain 사용자를 위한 자연스러운 확장 도구로도 활용할 수 있습니다.' additional_kwargs={'refusal': None} response_metadata={'token_usage': {'completion_tokens': 827, 'prompt_tokens': 49, 'total_tokens': 876, 'completion_tokens_details': {'accepted_prediction_tokens': 0, 'audio_tokens': 0, 'reasoning_tokens': 0, 'rejected_prediction_tokens': 0}, 'prompt_tokens_details': {'audio_tokens': 0, 'cached_tokens': 0}}, 'model_name': 'solar-pro2-250909', 'system_fingerprint': None, 'id': '440ea39e-3bf5-46ac-b31a-f6b94e34a165', 'service_tier': None, 'finish_reason': 'stop', 'logprobs': None} id='run--3a276360-1944-4af1-85fa-6d4e33a10007-0' usage_metadata={'input_tokens': 49, 'output_tokens': 827, 'total_tokens': 876, 'input_token_details': {'audio': 0, 'cache_read': 0}, 'output_token_details': {'audio': 0, 'reasoning': 0}}\n",
            "\n",
            "[Agent 2] 최종 답변 생성 완료\n",
            "\n",
            "{'final_answer': AIMessage(content='### LangGraph와 LangChain의 차이 및 LangGraph 사용 이유: 심층 분석\\n\\n#### 1. **LangGraph란?**\\nLangGraph는 **상태(state) 기반의 복잡한 대화형 LLM 애플리케이션**을 구축하기 위한 프레임워크로, LangChain 팀이 개발했습니다. 기존 LangChain이 \"모듈 조합\"에 집중했다면, LangGraph는 **그래프 기반 상태 머신**을 통해 다음과 같은 기능을 제공합니다:\\n- **노드(Node)**: LLM 호출, 도구 사용, 조건 검사 등의 작업 단위.\\n- **엣지(Edge)**: 노드 간 전이 조건 (예: `if user_said(\"yes\") → next_node`).\\n- **상태(State)**: 대화 중 생성된 데이터(예: 사용자 입력, 이전 응답)를 저장하는 딕셔너리.\\n- **서브그래프**: 재사용 가능한 모듈화된 워크플로우 (예: 인증 절차).\\n\\n> 💡 **핵심 차별점**: \"대화 흐름\"을 **시각적 그래프**로 모델링하고, 상태를 명시적으로 관리할 수 있다는 점입니다.\\n\\n---\\n\\n#### 2. **LangChain vs. LangGraph: 주요 차이점**\\n\\n| **기준**          | **LangChain**                          | **LangGraph**                          |\\n|-------------------|----------------------------------------|----------------------------------------|\\n| **목적**          | 단순한 LLM 체인 구축 (예: Q&A)         | 복잡한 상태 머신 및 워크플로우 관리     |\\n| **구조**          | 선형/분기형 체인                       | 순환 가능한 방향성 그래프               |\\n| **상태 관리**     | 제한적 (간단한 메모리 지원)            | 명시적 상태 저장 + 동적 업데이트       |\\n| **복잡성 처리**   | 단일 작업 또는 짧은 대화 흐름          | 다중 단계 프로세스 (예: 결제, 인증)    |\\n| **확장성**        | 모듈 조합                              | 서브그래프 재사용 및 조합              |\\n| **사용 사례**     | \"날씨 알려줘\" 같은 즉시 응답 시스템    | \"계좌 개설 → 인증 → 계약\" 같은 다단계 시스템 |\\n\\n> 🔍 **예시 비교**:\\n> - **LangChain**: 사용자 질문 → LLM 체인 → 응답 반환.\\n> - **LangGraph**: 사용자 요청 → (노드1: 신분증 확인) → (노드2: 본인 인증) → (노드3: 계약 체결).\\n\\n---\\n\\n#### 3. **LangGraph를 사용해야 하는 이유**\\n\\n##### (1) **복잡한 대화 흐름 관리**\\n- **조건부 분기**: 사용자 입력에 따라 다른 노드로 전이 (예: \"예\" → 다음 단계, \"아니오\" → 재입력 요청).\\n- **순환 구조**: 이전 단계로 돌아가거나 루프 처리 가능 (예: 오류 발생 시 재시도).\\n\\n##### (2) **상태 지속성 및 추적**\\n- `State` 객체로 대화 중 데이터를 저장하고 활용:\\n  ```python\\n  state.memory[\"user_intent\"] = \"order_cancellation\"\\n  ```\\n- 장기 메모리 구현에 유용 (예: 이전 대화 기록 참조).\\n\\n##### (3) **모듈화된 서브그래프**\\n- 공통 로직을 서브그래프로 분리해 재사용:\\n  ```python\\n  @subgraph(\"auth_flow\")\\n  def auth_steps(state: State) -> dict:\\n      # 인증 절차 구현\\n      return {\"next\": \"contract_signing\"}\\n  ```\\n\\n##### (4) **시각적 모델링 및 디버깅 용이성**\\n- 그래프 구조로 워크플로우가 명확해 코드 가독성과 유지보수성이 향상됩니다.\\n- 도구(예: LangSmith)로 시각화 및 디버깅 가능.\\n\\n##### (5) **LangChain과의 통합**\\n- 기존 LangChain 컴포넌트(체인, 도구)를 LangGraph 노드로 활용:\\n  ```python\\n  from langchain.chains import LLMChain\\n  @graph.node()\\n  def llm_node(state: State) -> dict:\\n      response = llm_chain.run(state.memory[\"context\"])\\n      state.memory[\"response\"] = response\\n      return {\"next\": \"check_response\"}\\n  ```\\n\\n---\\n\\n#### 4. **적합한 사용 사례**\\n- **고객 지원 봇**: 주문 취소, 환불 절차 등 다단계 대화.\\n- **워크플로우 자동화**: 서류 처리, 승인 프로세스.\\n- **게임 대화 시스템**: 플레이어 선택에 따른 분기형 스토리.\\n- **인터뷰 자동화**: 질문 → 답변 → 다음 질문 동적 생성.\\n\\n---\\n\\n#### 5. **LangGraph 시작 가이드**\\n1. **기본 구조 정의**:\\n   ```python\\n   from langgraph import State, Graph\\n\\n   class ChatState(State):\\n       memory: dict = {}\\n\\n   graph = Graph(ChatState)\\n   ```\\n2. **노드와 엣지 추가**:\\n   ```python\\n   @graph.node()\\n   def start(state: ChatState) -> dict:\\n       state.memory[\"greeting\"] = \"Hello!\"\\n       return {\"next\": \"ask_name\"}  # 다음 노드로 전이\\n\\n   @graph.node()\\n   def ask_name(state: ChatState) -> dict:\\n       name = state.messages[-1].content  # 사용자 입력 가져오기\\n       state.memory[\"user_name\"] = name\\n       return {\"next\": \"respond\"}\\n   ```\\n3. **컴파일 및 실행**:\\n   ```python\\n   flow = graph.compile()\\n   response = flow.run({}, messages=[{\"content\": \"Alice\"}])\\n   ```\\n\\n---\\n\\n### 결론: **언제 LangGraph를 선택할까?**\\n- **LangChain**으로 충분한 경우: 단순한 LLM 호출 또는 짧은 대화 흐름.\\n- **LangGraph**가 필요한 경우:  \\n  ✅ 상태가 중요한 다단계 프로세스  \\n  ✅ 조건부 분기 또는 순환 구조  \\n  ✅ 모듈 재사용이 필요한 복잡한 시스템  \\n  ✅ 대화 흐름을 시각적으로 관리해야 할 때  \\n\\nLangGraph는 LangChain의 강력한 확장 도구로, **상태 관리와 그래프 기반 설계**가 필요한 고급 LLM 애플리케이션에 최적화되어 있습니다.', additional_kwargs={'refusal': None}, response_metadata={'token_usage': {'completion_tokens': 1134, 'prompt_tokens': 1760, 'total_tokens': 2894, 'completion_tokens_details': {'accepted_prediction_tokens': 0, 'audio_tokens': 0, 'reasoning_tokens': 0, 'rejected_prediction_tokens': 0}, 'prompt_tokens_details': {'audio_tokens': 0, 'cached_tokens': 0}}, 'model_name': 'solar-pro2-250909', 'system_fingerprint': None, 'id': 'ddff7c72-9042-40d4-970e-f5795d5a1fe0', 'service_tier': None, 'finish_reason': 'stop', 'logprobs': None}, id='run--d85786a9-70ff-47d9-883f-576ed9f5cb15-0', usage_metadata={'input_tokens': 1760, 'output_tokens': 1134, 'total_tokens': 2894, 'input_token_details': {'audio': 0, 'cache_read': 0}, 'output_token_details': {'audio': 0, 'reasoning': 0}})}\n"
          ]
        }
      ],
      "source": [
        "# Graph 호출하기\n",
        "query = \"LangGraph는 무엇이며, LangChain과 어떤 차이점이 있나요? 그리고 LangGraph를 사용해야 하는 이유는 무엇인가요?\"\n",
        "\n",
        "state = {\"query\": query}\n",
        "result = graph.invoke(state)\n",
        "print(result)"
      ]
    },
    {
      "cell_type": "code",
      "execution_count": 48,
      "metadata": {},
      "outputs": [
        {
          "name": "stdout",
          "output_type": "stream",
          "text": [
            "{'final_answer': AIMessage(content='### LangGraph와 LangChain의 차이 및 LangGraph 사용 이유: 심층 분석\\n\\n#### 1. **LangGraph란?**\\nLangGraph는 **상태(state) 기반의 복잡한 대화형 LLM 애플리케이션**을 구축하기 위한 프레임워크로, LangChain 팀이 개발했습니다. 기존 LangChain이 \"모듈 조합\"에 집중했다면, LangGraph는 **그래프 기반 상태 머신**을 통해 다음과 같은 기능을 제공합니다:\\n- **노드(Node)**: LLM 호출, 도구 사용, 조건 검사 등의 작업 단위.\\n- **엣지(Edge)**: 노드 간 전이 조건 (예: `if user_said(\"yes\") → next_node`).\\n- **상태(State)**: 대화 중 생성된 데이터(예: 사용자 입력, 이전 응답)를 저장하는 딕셔너리.\\n- **서브그래프**: 재사용 가능한 모듈화된 워크플로우 (예: 인증 절차).\\n\\n> 💡 **핵심 차별점**: \"대화 흐름\"을 **시각적 그래프**로 모델링하고, 상태를 명시적으로 관리할 수 있다는 점입니다.\\n\\n---\\n\\n#### 2. **LangChain vs. LangGraph: 주요 차이점**\\n\\n| **기준**          | **LangChain**                          | **LangGraph**                          |\\n|-------------------|----------------------------------------|----------------------------------------|\\n| **목적**          | 단순한 LLM 체인 구축 (예: Q&A)         | 복잡한 상태 머신 및 워크플로우 관리     |\\n| **구조**          | 선형/분기형 체인                       | 순환 가능한 방향성 그래프               |\\n| **상태 관리**     | 제한적 (간단한 메모리 지원)            | 명시적 상태 저장 + 동적 업데이트       |\\n| **복잡성 처리**   | 단일 작업 또는 짧은 대화 흐름          | 다중 단계 프로세스 (예: 결제, 인증)    |\\n| **확장성**        | 모듈 조합                              | 서브그래프 재사용 및 조합              |\\n| **사용 사례**     | \"날씨 알려줘\" 같은 즉시 응답 시스템    | \"계좌 개설 → 인증 → 계약\" 같은 다단계 시스템 |\\n\\n> 🔍 **예시 비교**:\\n> - **LangChain**: 사용자 질문 → LLM 체인 → 응답 반환.\\n> - **LangGraph**: 사용자 요청 → (노드1: 신분증 확인) → (노드2: 본인 인증) → (노드3: 계약 체결).\\n\\n---\\n\\n#### 3. **LangGraph를 사용해야 하는 이유**\\n\\n##### (1) **복잡한 대화 흐름 관리**\\n- **조건부 분기**: 사용자 입력에 따라 다른 노드로 전이 (예: \"예\" → 다음 단계, \"아니오\" → 재입력 요청).\\n- **순환 구조**: 이전 단계로 돌아가거나 루프 처리 가능 (예: 오류 발생 시 재시도).\\n\\n##### (2) **상태 지속성 및 추적**\\n- `State` 객체로 대화 중 데이터를 저장하고 활용:\\n  ```python\\n  state.memory[\"user_intent\"] = \"order_cancellation\"\\n  ```\\n- 장기 메모리 구현에 유용 (예: 이전 대화 기록 참조).\\n\\n##### (3) **모듈화된 서브그래프**\\n- 공통 로직을 서브그래프로 분리해 재사용:\\n  ```python\\n  @subgraph(\"auth_flow\")\\n  def auth_steps(state: State) -> dict:\\n      # 인증 절차 구현\\n      return {\"next\": \"contract_signing\"}\\n  ```\\n\\n##### (4) **시각적 모델링 및 디버깅 용이성**\\n- 그래프 구조로 워크플로우가 명확해 코드 가독성과 유지보수성이 향상됩니다.\\n- 도구(예: LangSmith)로 시각화 및 디버깅 가능.\\n\\n##### (5) **LangChain과의 통합**\\n- 기존 LangChain 컴포넌트(체인, 도구)를 LangGraph 노드로 활용:\\n  ```python\\n  from langchain.chains import LLMChain\\n  @graph.node()\\n  def llm_node(state: State) -> dict:\\n      response = llm_chain.run(state.memory[\"context\"])\\n      state.memory[\"response\"] = response\\n      return {\"next\": \"check_response\"}\\n  ```\\n\\n---\\n\\n#### 4. **적합한 사용 사례**\\n- **고객 지원 봇**: 주문 취소, 환불 절차 등 다단계 대화.\\n- **워크플로우 자동화**: 서류 처리, 승인 프로세스.\\n- **게임 대화 시스템**: 플레이어 선택에 따른 분기형 스토리.\\n- **인터뷰 자동화**: 질문 → 답변 → 다음 질문 동적 생성.\\n\\n---\\n\\n#### 5. **LangGraph 시작 가이드**\\n1. **기본 구조 정의**:\\n   ```python\\n   from langgraph import State, Graph\\n\\n   class ChatState(State):\\n       memory: dict = {}\\n\\n   graph = Graph(ChatState)\\n   ```\\n2. **노드와 엣지 추가**:\\n   ```python\\n   @graph.node()\\n   def start(state: ChatState) -> dict:\\n       state.memory[\"greeting\"] = \"Hello!\"\\n       return {\"next\": \"ask_name\"}  # 다음 노드로 전이\\n\\n   @graph.node()\\n   def ask_name(state: ChatState) -> dict:\\n       name = state.messages[-1].content  # 사용자 입력 가져오기\\n       state.memory[\"user_name\"] = name\\n       return {\"next\": \"respond\"}\\n   ```\\n3. **컴파일 및 실행**:\\n   ```python\\n   flow = graph.compile()\\n   response = flow.run({}, messages=[{\"content\": \"Alice\"}])\\n   ```\\n\\n---\\n\\n### 결론: **언제 LangGraph를 선택할까?**\\n- **LangChain**으로 충분한 경우: 단순한 LLM 호출 또는 짧은 대화 흐름.\\n- **LangGraph**가 필요한 경우:  \\n  ✅ 상태가 중요한 다단계 프로세스  \\n  ✅ 조건부 분기 또는 순환 구조  \\n  ✅ 모듈 재사용이 필요한 복잡한 시스템  \\n  ✅ 대화 흐름을 시각적으로 관리해야 할 때  \\n\\nLangGraph는 LangChain의 강력한 확장 도구로, **상태 관리와 그래프 기반 설계**가 필요한 고급 LLM 애플리케이션에 최적화되어 있습니다.', additional_kwargs={'refusal': None}, response_metadata={'token_usage': {'completion_tokens': 1134, 'prompt_tokens': 1760, 'total_tokens': 2894, 'completion_tokens_details': {'accepted_prediction_tokens': 0, 'audio_tokens': 0, 'reasoning_tokens': 0, 'rejected_prediction_tokens': 0}, 'prompt_tokens_details': {'audio_tokens': 0, 'cached_tokens': 0}}, 'model_name': 'solar-pro2-250909', 'system_fingerprint': None, 'id': 'ddff7c72-9042-40d4-970e-f5795d5a1fe0', 'service_tier': None, 'finish_reason': 'stop', 'logprobs': None}, id='run--d85786a9-70ff-47d9-883f-576ed9f5cb15-0', usage_metadata={'input_tokens': 1760, 'output_tokens': 1134, 'total_tokens': 2894, 'input_token_details': {'audio': 0, 'cache_read': 0}, 'output_token_details': {'audio': 0, 'reasoning': 0}})}\n"
          ]
        }
      ],
      "source": [
        "print(result)"
      ]
    },
    {
      "cell_type": "code",
      "execution_count": 49,
      "metadata": {},
      "outputs": [
        {
          "name": "stdout",
          "output_type": "stream",
          "text": [
            "('### LangGraph와 LangChain의 차이 및 LangGraph 사용 이유: 심층 분석\\n'\n",
            " '\\n'\n",
            " '#### 1. **LangGraph란?**\\n'\n",
            " 'LangGraph는 **상태(state) 기반의 복잡한 대화형 LLM 애플리케이션**을 구축하기 위한 프레임워크로, LangChain '\n",
            " '팀이 개발했습니다. 기존 LangChain이 \"모듈 조합\"에 집중했다면, LangGraph는 **그래프 기반 상태 머신**을 통해 다음과 '\n",
            " '같은 기능을 제공합니다:\\n'\n",
            " '- **노드(Node)**: LLM 호출, 도구 사용, 조건 검사 등의 작업 단위.\\n'\n",
            " '- **엣지(Edge)**: 노드 간 전이 조건 (예: `if user_said(\"yes\") → next_node`).\\n'\n",
            " '- **상태(State)**: 대화 중 생성된 데이터(예: 사용자 입력, 이전 응답)를 저장하는 딕셔너리.\\n'\n",
            " '- **서브그래프**: 재사용 가능한 모듈화된 워크플로우 (예: 인증 절차).\\n'\n",
            " '\\n'\n",
            " '> 💡 **핵심 차별점**: \"대화 흐름\"을 **시각적 그래프**로 모델링하고, 상태를 명시적으로 관리할 수 있다는 점입니다.\\n'\n",
            " '\\n'\n",
            " '---\\n'\n",
            " '\\n'\n",
            " '#### 2. **LangChain vs. LangGraph: 주요 차이점**\\n'\n",
            " '\\n'\n",
            " '| **기준**          | **LangChain**                          | '\n",
            " '**LangGraph**                          |\\n'\n",
            " '|-------------------|----------------------------------------|----------------------------------------|\\n'\n",
            " '| **목적**          | 단순한 LLM 체인 구축 (예: Q&A)         | 복잡한 상태 머신 및 워크플로우 '\n",
            " '관리     |\\n'\n",
            " '| **구조**          | 선형/분기형 체인                       | 순환 가능한 방향성 '\n",
            " '그래프               |\\n'\n",
            " '| **상태 관리**     | 제한적 (간단한 메모리 지원)            | 명시적 상태 저장 + 동적 업데이트       |\\n'\n",
            " '| **복잡성 처리**   | 단일 작업 또는 짧은 대화 흐름          | 다중 단계 프로세스 (예: 결제, 인증)    |\\n'\n",
            " '| **확장성**        | 모듈 조합                              | 서브그래프 재사용 및 '\n",
            " '조합              |\\n'\n",
            " '| **사용 사례**     | \"날씨 알려줘\" 같은 즉시 응답 시스템    | \"계좌 개설 → 인증 → 계약\" 같은 다단계 시스템 |\\n'\n",
            " '\\n'\n",
            " '> 🔍 **예시 비교**:\\n'\n",
            " '> - **LangChain**: 사용자 질문 → LLM 체인 → 응답 반환.\\n'\n",
            " '> - **LangGraph**: 사용자 요청 → (노드1: 신분증 확인) → (노드2: 본인 인증) → (노드3: 계약 체결).\\n'\n",
            " '\\n'\n",
            " '---\\n'\n",
            " '\\n'\n",
            " '#### 3. **LangGraph를 사용해야 하는 이유**\\n'\n",
            " '\\n'\n",
            " '##### (1) **복잡한 대화 흐름 관리**\\n'\n",
            " '- **조건부 분기**: 사용자 입력에 따라 다른 노드로 전이 (예: \"예\" → 다음 단계, \"아니오\" → 재입력 요청).\\n'\n",
            " '- **순환 구조**: 이전 단계로 돌아가거나 루프 처리 가능 (예: 오류 발생 시 재시도).\\n'\n",
            " '\\n'\n",
            " '##### (2) **상태 지속성 및 추적**\\n'\n",
            " '- `State` 객체로 대화 중 데이터를 저장하고 활용:\\n'\n",
            " '  ```python\\n'\n",
            " '  state.memory[\"user_intent\"] = \"order_cancellation\"\\n'\n",
            " '  ```\\n'\n",
            " '- 장기 메모리 구현에 유용 (예: 이전 대화 기록 참조).\\n'\n",
            " '\\n'\n",
            " '##### (3) **모듈화된 서브그래프**\\n'\n",
            " '- 공통 로직을 서브그래프로 분리해 재사용:\\n'\n",
            " '  ```python\\n'\n",
            " '  @subgraph(\"auth_flow\")\\n'\n",
            " '  def auth_steps(state: State) -> dict:\\n'\n",
            " '      # 인증 절차 구현\\n'\n",
            " '      return {\"next\": \"contract_signing\"}\\n'\n",
            " '  ```\\n'\n",
            " '\\n'\n",
            " '##### (4) **시각적 모델링 및 디버깅 용이성**\\n'\n",
            " '- 그래프 구조로 워크플로우가 명확해 코드 가독성과 유지보수성이 향상됩니다.\\n'\n",
            " '- 도구(예: LangSmith)로 시각화 및 디버깅 가능.\\n'\n",
            " '\\n'\n",
            " '##### (5) **LangChain과의 통합**\\n'\n",
            " '- 기존 LangChain 컴포넌트(체인, 도구)를 LangGraph 노드로 활용:\\n'\n",
            " '  ```python\\n'\n",
            " '  from langchain.chains import LLMChain\\n'\n",
            " '  @graph.node()\\n'\n",
            " '  def llm_node(state: State) -> dict:\\n'\n",
            " '      response = llm_chain.run(state.memory[\"context\"])\\n'\n",
            " '      state.memory[\"response\"] = response\\n'\n",
            " '      return {\"next\": \"check_response\"}\\n'\n",
            " '  ```\\n'\n",
            " '\\n'\n",
            " '---\\n'\n",
            " '\\n'\n",
            " '#### 4. **적합한 사용 사례**\\n'\n",
            " '- **고객 지원 봇**: 주문 취소, 환불 절차 등 다단계 대화.\\n'\n",
            " '- **워크플로우 자동화**: 서류 처리, 승인 프로세스.\\n'\n",
            " '- **게임 대화 시스템**: 플레이어 선택에 따른 분기형 스토리.\\n'\n",
            " '- **인터뷰 자동화**: 질문 → 답변 → 다음 질문 동적 생성.\\n'\n",
            " '\\n'\n",
            " '---\\n'\n",
            " '\\n'\n",
            " '#### 5. **LangGraph 시작 가이드**\\n'\n",
            " '1. **기본 구조 정의**:\\n'\n",
            " '   ```python\\n'\n",
            " '   from langgraph import State, Graph\\n'\n",
            " '\\n'\n",
            " '   class ChatState(State):\\n'\n",
            " '       memory: dict = {}\\n'\n",
            " '\\n'\n",
            " '   graph = Graph(ChatState)\\n'\n",
            " '   ```\\n'\n",
            " '2. **노드와 엣지 추가**:\\n'\n",
            " '   ```python\\n'\n",
            " '   @graph.node()\\n'\n",
            " '   def start(state: ChatState) -> dict:\\n'\n",
            " '       state.memory[\"greeting\"] = \"Hello!\"\\n'\n",
            " '       return {\"next\": \"ask_name\"}  # 다음 노드로 전이\\n'\n",
            " '\\n'\n",
            " '   @graph.node()\\n'\n",
            " '   def ask_name(state: ChatState) -> dict:\\n'\n",
            " '       name = state.messages[-1].content  # 사용자 입력 가져오기\\n'\n",
            " '       state.memory[\"user_name\"] = name\\n'\n",
            " '       return {\"next\": \"respond\"}\\n'\n",
            " '   ```\\n'\n",
            " '3. **컴파일 및 실행**:\\n'\n",
            " '   ```python\\n'\n",
            " '   flow = graph.compile()\\n'\n",
            " '   response = flow.run({}, messages=[{\"content\": \"Alice\"}])\\n'\n",
            " '   ```\\n'\n",
            " '\\n'\n",
            " '---\\n'\n",
            " '\\n'\n",
            " '### 결론: **언제 LangGraph를 선택할까?**\\n'\n",
            " '- **LangChain**으로 충분한 경우: 단순한 LLM 호출 또는 짧은 대화 흐름.\\n'\n",
            " '- **LangGraph**가 필요한 경우:  \\n'\n",
            " '  ✅ 상태가 중요한 다단계 프로세스  \\n'\n",
            " '  ✅ 조건부 분기 또는 순환 구조  \\n'\n",
            " '  ✅ 모듈 재사용이 필요한 복잡한 시스템  \\n'\n",
            " '  ✅ 대화 흐름을 시각적으로 관리해야 할 때  \\n'\n",
            " '\\n'\n",
            " 'LangGraph는 LangChain의 강력한 확장 도구로, **상태 관리와 그래프 기반 설계**가 필요한 고급 LLM 애플리케이션에 '\n",
            " '최적화되어 있습니다.')\n"
          ]
        }
      ],
      "source": [
        "\n",
        "pprint(result['final_answer'].content)"
      ]
    }
  ],
  "metadata": {
    "kernelspec": {
      "display_name": "mylangchain-app-SBe-Yh6W-py3.12",
      "language": "python",
      "name": "python3"
    },
    "language_info": {
      "codemirror_mode": {
        "name": "ipython",
        "version": 3
      },
      "file_extension": ".py",
      "mimetype": "text/x-python",
      "name": "python",
      "nbconvert_exporter": "python",
      "pygments_lexer": "ipython3",
      "version": "3.12.7"
    }
  },
  "nbformat": 4,
  "nbformat_minor": 2
}
