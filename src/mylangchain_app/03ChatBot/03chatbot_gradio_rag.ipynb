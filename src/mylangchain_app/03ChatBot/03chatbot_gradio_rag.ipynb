{
 "cells": [
  {
   "cell_type": "markdown",
   "metadata": {
    "id": "u-KIIvQ5NKJP"
   },
   "source": [
    "PDF 파일기반 질의응답 챗봇 (랭체인, 그라디오, Upstage)"
   ]
  },
  {
   "cell_type": "code",
   "execution_count": null,
   "metadata": {
    "id": "GHgrhVbLnM6I"
   },
   "outputs": [],
   "source": [
    "# %pip install -q openai\n",
    "# %pip install -q langchain\n",
    "# %pip install -q -U langchain-openai"
   ]
  },
  {
   "cell_type": "code",
   "execution_count": 1,
   "metadata": {
    "id": "C5uYZQknXLDM"
   },
   "outputs": [
    {
     "name": "stdout",
     "output_type": "stream",
     "text": [
      "gsk_\n",
      "WA\n"
     ]
    }
   ],
   "source": [
    "from dotenv import load_dotenv\n",
    "import os\n",
    "\n",
    "# .env 파일을 불러와서 환경 변수로 설정\n",
    "load_dotenv()\n",
    "\n",
    "OPENAI_API_KEY = os.getenv(\"OPENAI_API_KEY\")\n",
    "print(OPENAI_API_KEY[:4])\n",
    "\n",
    "UPSTAGE_API_KEY = os.getenv(\"UPSTAGE_API_KEY\")\n",
    "print(UPSTAGE_API_KEY[30:])"
   ]
  },
  {
   "cell_type": "code",
   "execution_count": null,
   "metadata": {
    "id": "lSX_ndLWHJqy"
   },
   "outputs": [],
   "source": [
    "# %pip install -q pypdf\n",
    "# %pip install -q faiss-cpu\n",
    "# %pip install -q tiktoken"
   ]
  },
  {
   "cell_type": "code",
   "execution_count": 14,
   "metadata": {
    "id": "5kZxXmSjQRHy"
   },
   "outputs": [],
   "source": [
    "from langchain.document_loaders import PyPDFLoader\n",
    "from langchain_openai import OpenAIEmbeddings\n",
    "from langchain.text_splitter import CharacterTextSplitter\n",
    "from langchain_text_splitters import RecursiveCharacterTextSplitter\n",
    "from langchain_community.vectorstores import FAISS"
   ]
  },
  {
   "cell_type": "code",
   "execution_count": 7,
   "metadata": {
    "id": "7VgBZ49vQVzg"
   },
   "outputs": [
    {
     "name": "stdout",
     "output_type": "stream",
     "text": [
      "39\n"
     ]
    }
   ],
   "source": [
    "# PDF 로드\n",
    "loader = PyPDFLoader(\"../data/tutorial-korean.pdf\")\n",
    "documents = loader.load()\n",
    "print(len(documents))"
   ]
  },
  {
   "cell_type": "code",
   "execution_count": 17,
   "metadata": {
    "id": "7VgBZ49vQVzg"
   },
   "outputs": [
    {
     "name": "stdout",
     "output_type": "stream",
     "text": [
      "284\n"
     ]
    }
   ],
   "source": [
    "# 텍스트 분할\n",
    "#text_splitter = CharacterTextSplitter(chunk_size=500, chunk_overlap=50)\n",
    "text_splitter = RecursiveCharacterTextSplitter(\n",
    "    chunk_size=200, \n",
    "    chunk_overlap=0,\n",
    "    separators=[\"\\n\\n\", \"\\n\", \".\", \"!\", \"?\", \",\", \" \", \"\"]\n",
    ")\n",
    "#texts = text_splitter.split_documents(documents)\n",
    "texts = loader.load_and_split(text_splitter=text_splitter)\n",
    "print(len(texts))"
   ]
  },
  {
   "cell_type": "code",
   "execution_count": 18,
   "metadata": {
    "id": "4otdIuNkT5b_"
   },
   "outputs": [],
   "source": [
    "from langchain_upstage import UpstageEmbeddings\n",
    "\n",
    "# OpenAI Embeddings 적용\n",
    "#embeddings = OpenAIEmbeddings()\n",
    "embeddings = UpstageEmbeddings(model=\"solar-embedding-1-large\")\n",
    "\n",
    "# FAISS 벡터 저장소 생성\n",
    "vector_store = FAISS.from_documents(texts, embeddings)\n",
    "vector_store.save_local(\"../db/faiss_db\")\n",
    "# 벡터 저장소에서 검색하기\n",
    "# search_type=\"similarity\" 옵션은 retrieval 객체에서 유사성 검색을 사용하여 질문 vector와 가장 유사한 문장 vector를 선택함\n",
    "# search_kwargs 옵션은 vector 저장소에서 Prompt 2개의 텍스트 덩어리로 보내려는 것을 의미함\n",
    "retriever = vector_store.as_retriever(\n",
    "    search_type=\"similarity\", \n",
    "    search_kwargs={\"k\": 6}\n",
    ")"
   ]
  },
  {
   "cell_type": "code",
   "execution_count": 20,
   "metadata": {},
   "outputs": [],
   "source": [
    "from langchain_openai import ChatOpenAI\n",
    "from langchain_upstage import ChatUpstage\n",
    "from langchain.chains import RetrievalQA\n",
    "\n",
    "# ChatOpenAI는 기본모델인  gpt-3.5-turbo 사용하고\n",
    "# temperature=0은 보수적인 지문에 대한 답변을 내고, temperature=1 다양한 답변을 낼 수 있음 \n",
    "#llm = ChatOpenAI(model=\"gpt-3.5-turbo\", temperature=0)\n",
    "llm = ChatUpstage(\n",
    "        model=\"solar-pro\",\n",
    "        base_url=\"https://api.upstage.ai/v1\",\n",
    "        temperature=0.5\n",
    ")"
   ]
  },
  {
   "cell_type": "code",
   "execution_count": 21,
   "metadata": {},
   "outputs": [
    {
     "name": "stdout",
     "output_type": "stream",
     "text": [
      " 프롬프트 설정 완료\n",
      "input_variables=['context', 'question'] input_types={} partial_variables={} template='\\n당신은 BlueJ 프로그래밍 환경 전문가입니다. \\n아래 문서 내용을 바탕으로 정확하고 친절한 답변을 제공해주세요.\\n\\n문서 내용:\\n{context}\\n\\n질문: {question}\\n\\n답변 규칙:\\n1. 문서 내용만을 근거로 답변하세요\\n2. 단계별 설명이 필요하면 순서대로 작성하세요  \\n3. 구체적인 메뉴명, 버튼명을 포함하세요\\n4. 문서에 없는 정보는 \"문서에서 찾을 수 없습니다\"라고 하세요\\n\\n답변:'\n"
     ]
    }
   ],
   "source": [
    "from langchain.prompts import PromptTemplate\n",
    "\n",
    "# 한국어 최적화 프롬프트\n",
    "prompt_template = \"\"\"\n",
    "당신은 BlueJ 프로그래밍 환경 전문가입니다. \n",
    "아래 문서 내용을 바탕으로 정확하고 친절한 답변을 제공해주세요.\n",
    "\n",
    "문서 내용:\n",
    "{context}\n",
    "\n",
    "질문: {question}\n",
    "\n",
    "답변 규칙:\n",
    "1. 문서 내용만을 근거로 답변하세요\n",
    "2. 단계별 설명이 필요하면 순서대로 작성하세요  \n",
    "3. 구체적인 메뉴명, 버튼명을 포함하세요\n",
    "4. 문서에 없는 정보는 \"문서에서 찾을 수 없습니다\"라고 하세요\n",
    "\n",
    "답변:\"\"\"\n",
    "\n",
    "prompt = PromptTemplate(\n",
    "    template=prompt_template,\n",
    "    input_variables=[\"context\", \"question\"]\n",
    ")\n",
    "print(\" 프롬프트 설정 완료\")\n",
    "print(prompt)"
   ]
  },
  {
   "cell_type": "code",
   "execution_count": 22,
   "metadata": {},
   "outputs": [
    {
     "data": {
      "text/plain": [
       "RetrievalQA(verbose=False, combine_documents_chain=StuffDocumentsChain(verbose=False, llm_chain=LLMChain(verbose=False, prompt=PromptTemplate(input_variables=['context', 'question'], input_types={}, partial_variables={}, template='\\n당신은 BlueJ 프로그래밍 환경 전문가입니다. \\n아래 문서 내용을 바탕으로 정확하고 친절한 답변을 제공해주세요.\\n\\n문서 내용:\\n{context}\\n\\n질문: {question}\\n\\n답변 규칙:\\n1. 문서 내용만을 근거로 답변하세요\\n2. 단계별 설명이 필요하면 순서대로 작성하세요  \\n3. 구체적인 메뉴명, 버튼명을 포함하세요\\n4. 문서에 없는 정보는 \"문서에서 찾을 수 없습니다\"라고 하세요\\n\\n답변:'), llm=ChatUpstage(client=<openai.resources.chat.completions.completions.Completions object at 0x000001A2708EA750>, async_client=<openai.resources.chat.completions.completions.AsyncCompletions object at 0x000001A2708EADB0>, model_name='solar-pro', temperature=0.5, model_kwargs={}, upstage_api_key=SecretStr('**********'), upstage_api_base='https://api.upstage.ai/v1'), output_parser=StrOutputParser(), llm_kwargs={}), document_prompt=PromptTemplate(input_variables=['page_content'], input_types={}, partial_variables={}, template='{page_content}'), document_variable_name='context'), return_source_documents=True, retriever=VectorStoreRetriever(tags=['FAISS', 'UpstageEmbeddings'], vectorstore=<langchain_community.vectorstores.faiss.FAISS object at 0x000001A21E242600>, search_kwargs={'k': 6}))"
      ]
     },
     "execution_count": 22,
     "metadata": {},
     "output_type": "execute_result"
    }
   ],
   "source": [
    "\n",
    "# RetrievalQA가 실질적인 RAG를 수행하는 객체\n",
    "chain = RetrievalQA.from_chain_type(\n",
    "    llm=llm,\n",
    "    chain_type=\"stuff\",\n",
    "    retriever=retriever,  # 기존 retriever 유지\n",
    "    chain_type_kwargs={\"prompt\": prompt},\n",
    "    return_source_documents=True\n",
    ")\n",
    "chain"
   ]
  },
  {
   "cell_type": "code",
   "execution_count": 23,
   "metadata": {
    "id": "xDW1hZX3a_1w"
   },
   "outputs": [
    {
     "name": "stdout",
     "output_type": "stream",
     "text": [
      "<class 'dict'>\n",
      "{'query': '코드패드는 무엇이고 어떻게 사용하나요?', 'result': '**코드패드란?**  \\nBlueJ 코드패드는 자바 코드(표현식 또는 명령문)의 일부분을 **빠르고 간편하게 실행/평가**할 수 있는 도구입니다. 프로그램 코드의 동작을 테스트하거나 구문을 예증하는 데 유용합니다.  \\n\\n---\\n\\n### **코드패드 사용 방법 (단계별)**  \\n1. **코드패드 열기**  \\n   - BlueJ 메인 화면에서 **보기(Show) 메뉴** → **\"코드패드 보기(Show Code Pad)\"**를 선택합니다.  \\n   - 또는 단축키 `Ctrl+Alt+C`(Windows/Linux) 또는 `Cmd+Option+C`(Mac)를 사용할 수 있습니다. *(단, 문서에 명시되지 않은 단축키는 제외)*  \\n\\n2. **코드 입력 및 실행**  \\n   - 코드패드 영역에 자바 표현식 또는 명령문을 입력합니다.  \\n     - 예: `2 + 3`, `System.out.println(\"Hello\")`  \\n   - **Enter 키**를 눌러 코드를 실행합니다. 결과는 화면 아래에 표시됩니다.  \\n\\n3. **이전 입력 재사용**  \\n   - **상하 화살표 키**를 눌러 이전에 입력한 코드 이력을 확인하고 재사용할 수 있습니다.  \\n   - 이력 내용을 수정한 후 다시 실행할 수도 있습니다.  \\n\\n4. **기능 제한 사항**  \\n   - 코드패드는 **클래스 정의나 전체 프로그램은 실행할 수 없으며**, 단일 표현식/명령문만 평가 가능합니다.  \\n   - 문서에서 명시되지 않은 추가 기능(예: 디버깅)은 지원하지 않습니다.  \\n\\n---  \\n**참고**: 문서에 없는 정보(예: 단축키, 클래스 실행 가능 여부)는 \"문서에서 찾을 수 없습니다\"로 답변합니다.', 'source_documents': [Document(id='85c6f820-041e-4431-985a-4f37bb069775', metadata={'producer': 'Acrobat Distiller with ezUniHFT', 'creator': 'PScript5.dll Version 5.2', 'creationdate': '2005-04-26T15:21:34+09:00', 'moddate': '2005-04-26T15:21:34+09:00', 'author': 'Owner', 'title': '<426C75654AC7D1B1DBC6A9C5E4B8AEBEF3B9AEBCAD283230292E687770>', 'source': '../data/tutorial-korean.pdf', 'total_pages': 39, 'page': 1, 'page_label': '2'}, page_content='6. 코드패드 사용하기 ··················································· ······························································· ········· 21'), Document(id='e0613533-3e9b-4ee2-9289-cb3d2021e8ba', metadata={'producer': 'Acrobat Distiller with ezUniHFT', 'creator': 'PScript5.dll Version 5.2', 'creationdate': '2005-04-26T15:21:34+09:00', 'moddate': '2005-04-26T15:21:34+09:00', 'author': 'Owner', 'title': '<426C75654AC7D1B1DBC6A9C5E4B8AEBEF3B9AEBCAD283230292E687770>', 'source': '../data/tutorial-korean.pdf', 'total_pages': 39, 'page': 20, 'page_label': '21'}, page_content='216. 코드패드의 사용\\nBlueJ 코드패드는 자바 코드(표현식과 명령문)의 일부분을 쉽고 빠르게 평가할 수 있는 기능을 \\n제공합니다. 따라서, 코드패드는 자바언어로 작성된 프로그램 코드의 의미를 상세히 조사하거나 구문을 예증하고 시험하는데 사용할 수 있 습니다.\\n6.1. 코드패드 나타내기'), Document(id='bf2ef5bc-6678-4932-a3be-507438571268', metadata={'producer': 'Acrobat Distiller with ezUniHFT', 'creator': 'PScript5.dll Version 5.2', 'creationdate': '2005-04-26T15:21:34+09:00', 'moddate': '2005-04-26T15:21:34+09:00', 'author': 'Owner', 'title': '<426C75654AC7D1B1DBC6A9C5E4B8AEBEF3B9AEBCAD283230292E687770>', 'source': '../data/tutorial-korean.pdf', 'total_pages': 39, 'page': 22, 'page_label': '23'}, page_content='요 약 코드패드에 명령문들을 입력하여 실행시킬 수 있습니다.'), Document(id='637f948f-c624-481e-bae1-008ccad2583b', metadata={'producer': 'Acrobat Distiller with ezUniHFT', 'creator': 'PScript5.dll Version 5.2', 'creationdate': '2005-04-26T15:21:34+09:00', 'moddate': '2005-04-26T15:21:34+09:00', 'author': 'Owner', 'title': '<426C75654AC7D1B1DBC6A9C5E4B8AEBEF3B9AEBCAD283230292E687770>', 'source': '../data/tutorial-korean.pdf', 'total_pages': 39, 'page': 24, 'page_label': '25'}, page_content='코드패드에서는 사용자가 이전에 입력한 내용들에 대한 이력을 저장하고 있습니다. 상하 화살표를 \\n이용하여 이전에 입력한 내용을 손쉽게 다시 입력시킬 수 있을 뿐만 아니라, 이전에 입력했던 내용을 수정하여 재입력시킬 수도 있습니다.   요 약 입력이력을 사용하기 위해서는 상하 화살표를 사용하십시오.'), Document(id='710475b6-635d-4002-bdc1-249c0b565eb4', metadata={'producer': 'Acrobat Distiller with ezUniHFT', 'creator': 'PScript5.dll Version 5.2', 'creationdate': '2005-04-26T15:21:34+09:00', 'moddate': '2005-04-26T15:21:34+09:00', 'author': 'Owner', 'title': '<426C75654AC7D1B1DBC6A9C5E4B8AEBEF3B9AEBCAD283230292E687770>', 'source': '../data/tutorial-korean.pdf', 'total_pages': 39, 'page': 1, 'page_label': '2'}, page_content='6.1. 코드패드 보기 ················································ ······························································· ··········· 21'), Document(id='26fce9c2-c340-41b9-9601-ca4aa4c8142b', metadata={'producer': 'Acrobat Distiller with ezUniHFT', 'creator': 'PScript5.dll Version 5.2', 'creationdate': '2005-04-26T15:21:34+09:00', 'moddate': '2005-04-26T15:21:34+09:00', 'author': 'Owner', 'title': '<426C75654AC7D1B1DBC6A9C5E4B8AEBEF3B9AEBCAD283230292E687770>', 'source': '../data/tutorial-korean.pdf', 'total_pages': 39, 'page': 20, 'page_label': '21'}, page_content='코드패드 영역에는 표현식 또는 문장들을 입력할 수 있습니다. 키보드의 Enter를 누르면 \\n입력된 표현식 또는 문장이 라인단위로 평가되어 그 결과가 화면에 나타납니다.\\n그림 13 : 코드패드를 나타낸 메인화면  요 약  코드패드를 사용하기 위해 보기메뉴에서 코드패드보기(Show Code Pad)를 \\n 선택하십시오')]}\n"
     ]
    }
   ],
   "source": [
    "query = \"코드패드는 무엇이고 어떻게 사용하나요?\"\n",
    "query_result = chain.invoke(query)\n",
    "print(type(query_result))\n",
    "print(query_result)"
   ]
  },
  {
   "cell_type": "code",
   "execution_count": 24,
   "metadata": {},
   "outputs": [
    {
     "data": {
      "text/plain": [
       "'**코드패드란?**  \\nBlueJ 코드패드는 자바 코드(표현식 또는 명령문)의 일부분을 **빠르고 간편하게 실행/평가**할 수 있는 도구입니다. 프로그램 코드의 동작을 테스트하거나 구문을 예증하는 데 유용합니다.  \\n\\n---\\n\\n### **코드패드 사용 방법 (단계별)**  \\n1. **코드패드 열기**  \\n   - BlueJ 메인 화면에서 **보기(Show) 메뉴** → **\"코드패드 보기(Show Code Pad)\"**를 선택합니다.  \\n   - 또는 단축키 `Ctrl+Alt+C`(Windows/Linux) 또는 `Cmd+Option+C`(Mac)를 사용할 수 있습니다. *(단, 문서에 명시되지 않은 단축키는 제외)*  \\n\\n2. **코드 입력 및 실행**  \\n   - 코드패드 영역에 자바 표현식 또는 명령문을 입력합니다.  \\n     - 예: `2 + 3`, `System.out.println(\"Hello\")`  \\n   - **Enter 키**를 눌러 코드를 실행합니다. 결과는 화면 아래에 표시됩니다.  \\n\\n3. **이전 입력 재사용**  \\n   - **상하 화살표 키**를 눌러 이전에 입력한 코드 이력을 확인하고 재사용할 수 있습니다.  \\n   - 이력 내용을 수정한 후 다시 실행할 수도 있습니다.  \\n\\n4. **기능 제한 사항**  \\n   - 코드패드는 **클래스 정의나 전체 프로그램은 실행할 수 없으며**, 단일 표현식/명령문만 평가 가능합니다.  \\n   - 문서에서 명시되지 않은 추가 기능(예: 디버깅)은 지원하지 않습니다.  \\n\\n---  \\n**참고**: 문서에 없는 정보(예: 단축키, 클래스 실행 가능 여부)는 \"문서에서 찾을 수 없습니다\"로 답변합니다.'"
      ]
     },
     "execution_count": 24,
     "metadata": {},
     "output_type": "execute_result"
    }
   ],
   "source": [
    "query_result['result']"
   ]
  },
  {
   "cell_type": "code",
   "execution_count": 26,
   "metadata": {},
   "outputs": [
    {
     "data": {
      "text/plain": [
       "[Document(id='85c6f820-041e-4431-985a-4f37bb069775', metadata={'producer': 'Acrobat Distiller with ezUniHFT', 'creator': 'PScript5.dll Version 5.2', 'creationdate': '2005-04-26T15:21:34+09:00', 'moddate': '2005-04-26T15:21:34+09:00', 'author': 'Owner', 'title': '<426C75654AC7D1B1DBC6A9C5E4B8AEBEF3B9AEBCAD283230292E687770>', 'source': '../data/tutorial-korean.pdf', 'total_pages': 39, 'page': 1, 'page_label': '2'}, page_content='6. 코드패드 사용하기 ··················································· ······························································· ········· 21'),\n",
       " Document(id='e0613533-3e9b-4ee2-9289-cb3d2021e8ba', metadata={'producer': 'Acrobat Distiller with ezUniHFT', 'creator': 'PScript5.dll Version 5.2', 'creationdate': '2005-04-26T15:21:34+09:00', 'moddate': '2005-04-26T15:21:34+09:00', 'author': 'Owner', 'title': '<426C75654AC7D1B1DBC6A9C5E4B8AEBEF3B9AEBCAD283230292E687770>', 'source': '../data/tutorial-korean.pdf', 'total_pages': 39, 'page': 20, 'page_label': '21'}, page_content='216. 코드패드의 사용\\nBlueJ 코드패드는 자바 코드(표현식과 명령문)의 일부분을 쉽고 빠르게 평가할 수 있는 기능을 \\n제공합니다. 따라서, 코드패드는 자바언어로 작성된 프로그램 코드의 의미를 상세히 조사하거나 구문을 예증하고 시험하는데 사용할 수 있 습니다.\\n6.1. 코드패드 나타내기'),\n",
       " Document(id='bf2ef5bc-6678-4932-a3be-507438571268', metadata={'producer': 'Acrobat Distiller with ezUniHFT', 'creator': 'PScript5.dll Version 5.2', 'creationdate': '2005-04-26T15:21:34+09:00', 'moddate': '2005-04-26T15:21:34+09:00', 'author': 'Owner', 'title': '<426C75654AC7D1B1DBC6A9C5E4B8AEBEF3B9AEBCAD283230292E687770>', 'source': '../data/tutorial-korean.pdf', 'total_pages': 39, 'page': 22, 'page_label': '23'}, page_content='요 약 코드패드에 명령문들을 입력하여 실행시킬 수 있습니다.'),\n",
       " Document(id='637f948f-c624-481e-bae1-008ccad2583b', metadata={'producer': 'Acrobat Distiller with ezUniHFT', 'creator': 'PScript5.dll Version 5.2', 'creationdate': '2005-04-26T15:21:34+09:00', 'moddate': '2005-04-26T15:21:34+09:00', 'author': 'Owner', 'title': '<426C75654AC7D1B1DBC6A9C5E4B8AEBEF3B9AEBCAD283230292E687770>', 'source': '../data/tutorial-korean.pdf', 'total_pages': 39, 'page': 24, 'page_label': '25'}, page_content='코드패드에서는 사용자가 이전에 입력한 내용들에 대한 이력을 저장하고 있습니다. 상하 화살표를 \\n이용하여 이전에 입력한 내용을 손쉽게 다시 입력시킬 수 있을 뿐만 아니라, 이전에 입력했던 내용을 수정하여 재입력시킬 수도 있습니다.   요 약 입력이력을 사용하기 위해서는 상하 화살표를 사용하십시오.'),\n",
       " Document(id='710475b6-635d-4002-bdc1-249c0b565eb4', metadata={'producer': 'Acrobat Distiller with ezUniHFT', 'creator': 'PScript5.dll Version 5.2', 'creationdate': '2005-04-26T15:21:34+09:00', 'moddate': '2005-04-26T15:21:34+09:00', 'author': 'Owner', 'title': '<426C75654AC7D1B1DBC6A9C5E4B8AEBEF3B9AEBCAD283230292E687770>', 'source': '../data/tutorial-korean.pdf', 'total_pages': 39, 'page': 1, 'page_label': '2'}, page_content='6.1. 코드패드 보기 ················································ ······························································· ··········· 21'),\n",
       " Document(id='26fce9c2-c340-41b9-9601-ca4aa4c8142b', metadata={'producer': 'Acrobat Distiller with ezUniHFT', 'creator': 'PScript5.dll Version 5.2', 'creationdate': '2005-04-26T15:21:34+09:00', 'moddate': '2005-04-26T15:21:34+09:00', 'author': 'Owner', 'title': '<426C75654AC7D1B1DBC6A9C5E4B8AEBEF3B9AEBCAD283230292E687770>', 'source': '../data/tutorial-korean.pdf', 'total_pages': 39, 'page': 20, 'page_label': '21'}, page_content='코드패드 영역에는 표현식 또는 문장들을 입력할 수 있습니다. 키보드의 Enter를 누르면 \\n입력된 표현식 또는 문장이 라인단위로 평가되어 그 결과가 화면에 나타납니다.\\n그림 13 : 코드패드를 나타낸 메인화면  요 약  코드패드를 사용하기 위해 보기메뉴에서 코드패드보기(Show Code Pad)를 \\n 선택하십시오')]"
      ]
     },
     "execution_count": 26,
     "metadata": {},
     "output_type": "execute_result"
    }
   ],
   "source": [
    "query_result['source_documents']"
   ]
  },
  {
   "cell_type": "code",
   "execution_count": 25,
   "metadata": {},
   "outputs": [
    {
     "name": "stdout",
     "output_type": "stream",
     "text": [
      "query\n",
      "result\n",
      "source_documents\n"
     ]
    }
   ],
   "source": [
    "for key in query_result.keys():\n",
    "    print(key)"
   ]
  },
  {
   "cell_type": "code",
   "execution_count": 27,
   "metadata": {},
   "outputs": [
    {
     "name": "stdout",
     "output_type": "stream",
     "text": [
      "<class 'list'>\n"
     ]
    },
    {
     "data": {
      "text/plain": [
       "langchain_core.documents.base.Document"
      ]
     },
     "execution_count": 27,
     "metadata": {},
     "output_type": "execute_result"
    }
   ],
   "source": [
    "print(type(query_result['source_documents']))\n",
    "type(query_result['source_documents'][0])"
   ]
  },
  {
   "cell_type": "code",
   "execution_count": 28,
   "metadata": {},
   "outputs": [
    {
     "name": "stdout",
     "output_type": "stream",
     "text": [
      "<class 'langchain_core.documents.base.Document'>\n",
      "<class 'dict'>\n",
      "{'id': '85c6f820-041e-4431-985a-4f37bb069775', 'metadata': {'producer': 'Acrobat Distiller with ezUniHFT', 'creator': 'PScript5.dll Version 5.2', 'creationdate': '2005-04-26T15:21:34+09:00', 'moddate': '2005-04-26T15:21:34+09:00', 'author': 'Owner', 'title': '<426C75654AC7D1B1DBC6A9C5E4B8AEBEF3B9AEBCAD283230292E687770>', 'source': '../data/tutorial-korean.pdf', 'total_pages': 39, 'page': 1, 'page_label': '2'}, 'page_content': '6. 코드패드 사용하기 ··················································· ······························································· ········· 21', 'type': 'Document'}\n"
     ]
    }
   ],
   "source": [
    "doc = query_result['source_documents'][0]\n",
    "print(type(doc))\n",
    "doc_dict = doc.model_dump()\n",
    "print(type(doc_dict))\n",
    "print(doc_dict)"
   ]
  },
  {
   "cell_type": "code",
   "execution_count": 29,
   "metadata": {},
   "outputs": [
    {
     "name": "stdout",
     "output_type": "stream",
     "text": [
      "id\n",
      "metadata\n",
      "page_content\n",
      "type\n"
     ]
    }
   ],
   "source": [
    "for k in doc_dict:\n",
    "    print(k)"
   ]
  },
  {
   "cell_type": "code",
   "execution_count": 30,
   "metadata": {
    "id": "Qr0_iNsLTb6y"
   },
   "outputs": [
    {
     "data": {
      "text/plain": [
       "'<426C75654AC7D1B1DBC6A9C5E4B8AEBEF3B9AEBCAD283230292E687770>'"
      ]
     },
     "execution_count": 30,
     "metadata": {},
     "output_type": "execute_result"
    }
   ],
   "source": [
    "doc_dict['metadata']['title']"
   ]
  },
  {
   "cell_type": "code",
   "execution_count": 31,
   "metadata": {},
   "outputs": [
    {
     "name": "stdout",
     "output_type": "stream",
     "text": [
      "{'query': '애플릿을 만들고 실행하는 방법을 설명해주세요', 'result': '### BlueJ에서 애플릿 만들기 및 실행 방법 (문서 내용 기반)\\n\\n#### 1. 애플릿 만들기\\n1. **새 클래스 생성**  \\n   - BlueJ 메뉴에서 **`File > New Class`**를 선택하거나 툴바의 **`New Class` 버튼**을 클릭합니다.  \\n   - **`New Class` 대화상자**에서:  \\n     - 클래스 이름을 입력합니다.  \\n     - **`Type`** 드롭다운 메뉴에서 **`Applet`**을 선택합니다.  \\n     - **`OK`**를 클릭하여 애플릿 기본 골격을 생성합니다.  \\n   - 생성된 클래스는 `java.applet.Applet`을 상속받는 기본 코드로 구성됩니다.\\n\\n2. **애플릿 코드 작성**  \\n   - 생성된 클래스에 애플릿 동작을 정의하는 메서드(예: `paint(Graphics g)`)를 추가합니다.  \\n   - 문서에 구체적인 코드 예시는 없으나, 일반 클래스와 동일한 방식으로 편집 가능합니다.\\n\\n---\\n\\n#### 2. 애플릿 실행 방법\\n1. **예제 프로젝트 활용 (권장)**  \\n   - **`examples` 디렉토리**에서 **`appletdemo` 프로젝트**를 엽니다.  \\n   - 이 프로젝트는 미리 구성된 애플릿 예제를 포함합니다.  \\n\\n2. **직접 만든 애플릿 실행**  \\n   - 애플릿 클래스를 컴파일합니다(**`Compile` 버튼** 또는 우클릭 후 **`Compile`**).  \\n   - 컴파일 후, 애플릿 클래스를 더블클릭하거나 우클릭 메뉴에서 **`Run`**을 선택합니다.  \\n   - BlueJ는 내장된 HTML 뷰어를 통해 애플릿을 실행합니다.  \\n     - 실행 시 애플릿이 표시될 HTML 파일이 자동으로 생성되며, 별도의 웹 브라우저 없이 BlueJ 내에서 확인 가능합니다.\\n\\n---\\n\\n#### 3. 추가 참고 사항\\n- 문서에는 애플릿 실행을 위한 **HTML 태그** 또는 **매개변수 설정 방법**이 명시되지 않았습니다.  \\n- **`11.6. 애플릿 만들기`** 섹션은 페이지 번호(38)만 언급되어 있으며, 구체적인 내용은 문서에서 찾을 수 없습니다.  \\n\\n> 모든 단계는 제공된 문서 내용을 근거로 작성되었습니다.', 'source_documents': [Document(id='0033dc46-506a-4004-8455-b135353c83e8', metadata={'producer': 'Acrobat Distiller with ezUniHFT', 'creator': 'PScript5.dll Version 5.2', 'creationdate': '2005-04-26T15:21:34+09:00', 'moddate': '2005-04-26T15:21:34+09:00', 'author': 'Owner', 'title': '<426C75654AC7D1B1DBC6A9C5E4B8AEBEF3B9AEBCAD283230292E687770>', 'source': '../data/tutorial-korean.pdf', 'total_pages': 39, 'page': 2, 'page_label': '3'}, page_content='9.1. 애플릿 실행하기 ··············································· ······························································· ········ 32'), Document(id='71005c57-fd58-4b0c-9ec4-0defb2fd1b47', metadata={'producer': 'Acrobat Distiller with ezUniHFT', 'creator': 'PScript5.dll Version 5.2', 'creationdate': '2005-04-26T15:21:34+09:00', 'moddate': '2005-04-26T15:21:34+09:00', 'author': 'Owner', 'title': '<426C75654AC7D1B1DBC6A9C5E4B8AEBEF3B9AEBCAD283230292E687770>', 'source': '../data/tutorial-korean.pdf', 'total_pages': 39, 'page': 32, 'page_label': '33'}, page_content='일반 클래스처럼 애플릿이 포함된 새로운 클래스를 만드십시오. New Class대화상자에서 \\n타입을 선택할 수 있습니다. 컴파일을 하고 나서 애플릿을 실행시킵니다.\\n다른 클래스처럼 애플릿은 몇 가지 코드가 포함된 기본 클래스 골격으로 만들어집니다. 이'), Document(id='e686b4f2-5c8f-474d-b091-1c38f46543cd', metadata={'producer': 'Acrobat Distiller with ezUniHFT', 'creator': 'PScript5.dll Version 5.2', 'creationdate': '2005-04-26T15:21:34+09:00', 'moddate': '2005-04-26T15:21:34+09:00', 'author': 'Owner', 'title': '<426C75654AC7D1B1DBC6A9C5E4B8AEBEF3B9AEBCAD283230292E687770>', 'source': '../data/tutorial-korean.pdf', 'total_pages': 39, 'page': 31, 'page_label': '32'}, page_content='329. 애플릿 만들기\\n9.1. 애플릿 실행하기\\n   \\nBuleJ 는 어플리케이션 뿐만 아니라 애플릿을 만들고, 실행할 수 있습니다. 예제(examples) \\n디렉토리 안에는 애플릿 프로젝트가 있습니다. 우선 애플릿을 실행하기 위하여, 예제 디렉토리에서 appletdemo프로젝트를 오픈하십시오.'), Document(id='66539c24-5b21-4bc4-b4e0-aaf70fe7432d', metadata={'producer': 'Acrobat Distiller with ezUniHFT', 'creator': 'PScript5.dll Version 5.2', 'creationdate': '2005-04-26T15:21:34+09:00', 'moddate': '2005-04-26T15:21:34+09:00', 'author': 'Owner', 'title': '<426C75654AC7D1B1DBC6A9C5E4B8AEBEF3B9AEBCAD283230292E687770>', 'source': '../data/tutorial-korean.pdf', 'total_pages': 39, 'page': 2, 'page_label': '3'}, page_content='9.2. 애플릿 만들기 ················································ ······························································· ··········· 33'), Document(id='a04ba2d0-7f5b-49fb-9183-dc438dc1edb8', metadata={'producer': 'Acrobat Distiller with ezUniHFT', 'creator': 'PScript5.dll Version 5.2', 'creationdate': '2005-04-26T15:21:34+09:00', 'moddate': '2005-04-26T15:21:34+09:00', 'author': 'Owner', 'title': '<426C75654AC7D1B1DBC6A9C5E4B8AEBEF3B9AEBCAD283230292E687770>', 'source': '../data/tutorial-korean.pdf', 'total_pages': 39, 'page': 2, 'page_label': '3'}, page_content='9. 애플릿 만들기 ····················································· ······························································· ··············· 32'), Document(id='06856c04-90ce-4a88-af2c-a5c9234ba3da', metadata={'producer': 'Acrobat Distiller with ezUniHFT', 'creator': 'PScript5.dll Version 5.2', 'creationdate': '2005-04-26T15:21:34+09:00', 'moddate': '2005-04-26T15:21:34+09:00', 'author': 'Owner', 'title': '<426C75654AC7D1B1DBC6A9C5E4B8AEBEF3B9AEBCAD283230292E687770>', 'source': '../data/tutorial-korean.pdf', 'total_pages': 39, 'page': 2, 'page_label': '3'}, page_content='11.6.  애플릿 만들기 ·············································· ······························································· ········ 38')]}\n"
     ]
    }
   ],
   "source": [
    "query = \"애플릿을 만들고 실행하는 방법을 설명해주세요\"\n",
    "query_result = chain.invoke(query)\n",
    "print(query_result)"
   ]
  },
  {
   "cell_type": "code",
   "execution_count": null,
   "metadata": {},
   "outputs": [],
   "source": [
    "print(query_result['result'])"
   ]
  },
  {
   "cell_type": "code",
   "execution_count": null,
   "metadata": {},
   "outputs": [],
   "source": [
    "from langchain.prompts import ChatPromptTemplate\n",
    "from langchain_openai import ChatOpenAI\n",
    "from langchain.chains import RetrievalQA\n",
    "\n",
    "system_template = \"\"\"Use the following pieces of context to answer the user's question shortly.\n",
    "Given the following summaries of a long document and a question, create a final answer with references (\"SOURCES\"), \n",
    "use \"SOURCES\" in capital letters regardless of the number of sources.\n",
    "If you don't know the answer, just say that \"I don't know\", don't try to make up an answer.\n",
    "----------------\n",
    "{summaries}\n",
    "\n",
    "You MUST answer in Korean and in Markdown format:\n",
    "\"\"\"\n",
    "\n",
    "prompt = ChatPromptTemplate.from_messages([\n",
    "    (\"system\", system_template),\n",
    "    (\"human\", \"{question}\")\n",
    "])"
   ]
  },
  {
   "cell_type": "code",
   "execution_count": null,
   "metadata": {},
   "outputs": [],
   "source": [
    "chain_type_kwargs = {\n",
    "    \"prompt\": prompt,\n",
    "    \"document_variable_name\": \"summaries\",\n",
    "}\n",
    "\n",
    "llm = ChatOpenAI(model=\"gpt-3.5-turbo\", temperature=0)  # GPT-4를 사용하려면 model=\"gpt-4\"\n",
    "\n",
    "chain = RetrievalQA.from_chain_type(\n",
    "    llm=llm,\n",
    "    chain_type=\"stuff\",\n",
    "    retriever=retriever,\n",
    "    return_source_documents=True,\n",
    "    chain_type_kwargs=chain_type_kwargs,\n",
    "    input_key=\"question\"\n",
    ")"
   ]
  },
  {
   "cell_type": "code",
   "execution_count": null,
   "metadata": {
    "id": "pVdJrxN0TzwC"
   },
   "outputs": [],
   "source": [
    "query = \"소비자 부문 AI 활용사례 무엇인가요?\"\n",
    "query_result = chain.invoke({\"question\": query})\n",
    "print(type(query_result))\n",
    "print(query_result)"
   ]
  },
  {
   "cell_type": "code",
   "execution_count": null,
   "metadata": {
    "id": "cM3DcAF4Uqvh"
   },
   "outputs": [],
   "source": [
    "print(query_result['result'])"
   ]
  },
  {
   "cell_type": "code",
   "execution_count": null,
   "metadata": {
    "id": "TxNF1I2pUzIv"
   },
   "outputs": [],
   "source": [
    "query_result['source_documents']"
   ]
  },
  {
   "cell_type": "code",
   "execution_count": null,
   "metadata": {
    "id": "sSOqIBzXU6f_"
   },
   "outputs": [],
   "source": [
    "for doc in query_result['source_documents']:\n",
    "    print('내용 : ' + doc.page_content[0:100].replace('\\n', ' '))\n",
    "    print('파일 : ' + doc.metadata['source'])\n",
    "    print('페이지 : ' + str(doc.metadata['page']))"
   ]
  },
  {
   "cell_type": "code",
   "execution_count": null,
   "metadata": {},
   "outputs": [],
   "source": [
    "bot_message = query_result['result']\n",
    "for i, doc in enumerate(query_result['source_documents']):\n",
    "    bot_message += '[' + str(i+1) + '] ' + doc.metadata['source'] + '(' + str(doc.metadata['page']) + ') '\n",
    "    print(bot_message)"
   ]
  },
  {
   "cell_type": "code",
   "execution_count": null,
   "metadata": {
    "id": "VHPK_8ZWHCRb"
   },
   "outputs": [],
   "source": [
    "#%pip install -q gradio"
   ]
  },
  {
   "cell_type": "code",
   "execution_count": 34,
   "metadata": {
    "id": "Yl_SXA37i4p5"
   },
   "outputs": [
    {
     "name": "stdout",
     "output_type": "stream",
     "text": [
      "6. 코드패드 사용하기 ··················································· ······························································· ········· 21\n",
      "216. 코드패드의 사용\n",
      "BlueJ 코드패드는 자바 코드(표현식과 명령문)의 일부분을 쉽고 빠르게 평가할 수 있는 기능을 \n",
      "제공합니다. 따라서, 코드패드는 자바언어로 작성된 프로그램 코드의 의미를 상세히 조사하거나 구문을 예증하고 시험하는데 사용할 수 있 습니다.\n",
      "6.1. 코드패드 나타내기\n",
      "요 약 코드패드에 명령문들을 입력하여 실행시킬 수 있습니다.\n",
      "코드패드에서는 사용자가 이전에 입력한 내용들에 대한 이력을 저장하고 있습니다. 상하 화살표를 \n",
      "이용하여 이전에 입력한 내용을 손쉽게 다시 입력시킬 수 있을 뿐만 아니라, 이전에 입력했던 내용을 수정하여 재입력시킬 수도 있습니다.   요 약 입력이력을 사용하기 위해서는 상하 화살표를 사용하십시오.\n",
      "6.1. 코드패드 보기 ················································ ······························································· ··········· 21\n",
      "코드패드 영역에는 표현식 또는 문장들을 입력할 수 있습니다. 키보드의 Enter를 누르면 \n",
      "입력된 표현식 또는 문장이 라인단위로 평가되어 그 결과가 화면에 나타납니다.\n",
      "그림 13 : 코드패드를 나타낸 메인화면  요 약  코드패드를 사용하기 위해 보기메뉴에서 코드패드보기(Show Code Pad)를 \n",
      " 선택하십시오\n"
     ]
    }
   ],
   "source": [
    "from langchain.document_loaders import PyPDFLoader\n",
    "from langchain_upstage import UpstageEmbeddings, ChatUpstage\n",
    "from langchain.text_splitter import RecursiveCharacterTextSplitter\n",
    "from langchain_community.vectorstores import FAISS\n",
    "from langchain.chains import RetrievalQA\n",
    "from langchain.prompts import ChatPromptTemplate\n",
    "import gradio as gr\n",
    "\n",
    "# 1. PDF를 한 번만 로드하여 벡터 저장소 생성\n",
    "def initialize_retriever():\n",
    "    pdf_path = \"../data/tutorial-korean.pdf\"\n",
    "    # PDF 파일을 로드하여 문서 객체로 변환\n",
    "    loader = PyPDFLoader(pdf_path)\n",
    "    documents = loader.load()\n",
    "\n",
    "    # 문서를 일정한 크기로 분할 (chunk_size=1000, 중첩 없음)\n",
    "    text_splitter = RecursiveCharacterTextSplitter(\n",
    "        chunk_size=200, \n",
    "        chunk_overlap=0,\n",
    "        separators=[\"\\n\\n\", \"\\n\", \".\", \"!\", \"?\", \",\", \" \", \"\"]\n",
    "    )\n",
    "    texts = loader.load_and_split(text_splitter=text_splitter)\n",
    "\n",
    "    # 문서의 텍스트를 벡터 임베딩으로 변환\n",
    "    embeddings = UpstageEmbeddings(model=\"solar-embedding-1-large\")\n",
    "\n",
    "    # 변환된 벡터를 FAISS 벡터 저장소에 저장\n",
    "    vector_store = FAISS.from_documents(texts, embeddings)\n",
    "    vector_store.save_local(\"../db/faiss_db\")\n",
    "    # 저장된 벡터를 검색할 수 있는 retriever 생성 (유사한 문서 2개 검색)\n",
    "    retriever = vector_store.as_retriever(\n",
    "        search_type=\"similarity\", \n",
    "        search_kwargs={\"k\": 6}\n",
    "    )\n",
    "    return retriever\n",
    "\n",
    "# 2. 전역 retriever 생성 (앱 시작 시 한 번만 실행)\n",
    "retriever = initialize_retriever()\n",
    "\n",
    "retrieved_docs = retriever.invoke(\"코드패드는 무엇이고 어떻게 사용하나요?\")\n",
    "for doc in retrieved_docs:\n",
    "    print(doc.page_content)"
   ]
  },
  {
   "cell_type": "code",
   "execution_count": null,
   "metadata": {},
   "outputs": [],
   "source": [
    "\n",
    "# 3. 채팅 응답 함수 (retriever를 재사용)\n",
    "def chat_respond(message, chat_history):\n",
    "    #  시스템 메시지 템플릿: 문서 요약을 기반으로 질문에 답변하도록 설정\n",
    "    system_template = \"\"\"당신은 BlueJ 프로그래밍 환경 전문가입니다. \n",
    "        아래 문서 내용을 바탕으로 정확하고 친절한 답변을 제공해주세요.\n",
    "\n",
    "        문서 내용:\n",
    "        {context}\n",
    "\n",
    "        질문: {question}\n",
    "\n",
    "        답변 규칙:\n",
    "        1. 문서 내용만을 근거로 답변하세요\n",
    "        2. 단계별 설명이 필요하면 순서대로 작성하세요  \n",
    "        3. 구체적인 메뉴명, 버튼명을 포함하세요\n",
    "        4. 문서에 없는 정보는 \"문서에서 찾을 수 없습니다\"라고 하세요\n",
    "\n",
    "        답변:\n",
    "    \"\"\"\n",
    "    # 사용자 질문을 받아 최종 Prompt 구성\n",
    "    prompt = ChatPromptTemplate.from_messages([\n",
    "        (\"system\", system_template),\n",
    "        (\"human\", \"{question}\")\n",
    "    ])\n",
    "\n",
    "    chain_type_kwargs = {\n",
    "        \"prompt\": prompt, #  LLM이 사용할 프롬프트 지정\n",
    "        \"document_variable_name\": \"context\", #  문서 요약 데이터를 LLM에 전달할 변수 이름\n",
    "    }\n",
    "    \n",
    "    llm = ChatUpstage(\n",
    "        model=\"solar-pro\",\n",
    "        base_url=\"https://api.upstage.ai/v1\",\n",
    "        temperature=0.5\n",
    "    )\n",
    "    \n",
    "    # RetrievalQA 체인 생성\n",
    "    chain = RetrievalQA.from_chain_type(\n",
    "        llm=llm,\n",
    "        chain_type=\"stuff\",  #  문서를 하나의 큰 텍스트로 처리하는 방식\n",
    "        retriever=retriever, #  유사 문서를 검색하는 retriever 연결\n",
    "        return_source_documents=True, #  답변에 참조한 문서 정보 포함\n",
    "        chain_type_kwargs=chain_type_kwargs,\n",
    "        input_key=\"question\" #  사용자 질문을 \"question\" 키로 전달\n",
    "    )\n",
    "    \n",
    "    # LLM을 호출하여 질문에 대한 응답 생성\n",
    "    query_result = chain.invoke({\"question\": message})\n",
    "\n",
    "    # 모델의 답변을 가져오기\n",
    "    bot_message = query_result['result']\n",
    "\n",
    "    # 참조한 문서 정보를 응답에 추가\n",
    "    for i, doc in enumerate(query_result['source_documents']):\n",
    "        bot_message += f' [{i+1}] {doc.metadata.get(\"source\", \"Unknown\")} (Page {doc.metadata.get(\"page\", \"N/A\")})'\n",
    "\n",
    "    # Gradio 채팅 기록 형식에 맞춰 응답을 저장\n",
    "    chat_history.append({\"role\": \"user\", \"content\": message})  # 사용자 메시지 추가\n",
    "    chat_history.append({\"role\": \"assistant\", \"content\": bot_message})  # 봇 응답 추가\n",
    "    \n",
    "    # 입력 창 초기화 및 갱신된 채팅 기록 반환\n",
    "    return \"\", chat_history\n",
    "\n",
    "# 4. # Gradio UI 생성 및 실행\n",
    "with gr.Blocks() as demo:  \n",
    "    # 채팅 창 (채팅 메시지를 표시하는 Gradio 컴포넌트)\n",
    "    chatbot = gr.Chatbot(label=\"채팅창\", type=\"messages\")\n",
    "    # 사용자 입력 텍스트 박스 (메시지를 입력하는 필드)\n",
    "    msg = gr.Textbox(label=\"입력\")\n",
    "    # 초기화 버튼 (채팅 기록을 초기화하는 버튼)\n",
    "    clear = gr.Button(\"초기화\")\n",
    "\n",
    "    # 사용자가 입력 필드에 메시지를 입력하면 chat_respond()가 실행됨\n",
    "    #  - 입력한 메시지는 msg에서 가져옴\n",
    "    #  - 기존 채팅 기록(chatbot)과 함께 전달됨\n",
    "    #  - 응답을 받은 후, msg를 초기화하고 chatbot에 대화 내용을 추가\n",
    "    msg.submit(chat_respond, [msg, chatbot], [msg, chatbot])  \n",
    "    # 초기화 버튼 클릭 시, 채팅 기록을 비우도록 설정\n",
    "    clear.click(lambda: [], None, chatbot, queue=False)\n",
    "\n",
    "# Gradio 앱 실행 (debug 모드 활성화)\n",
    "demo.launch(debug=True)"
   ]
  }
 ],
 "metadata": {
  "kernelspec": {
   "display_name": "mylangchain-app-SBe-Yh6W-py3.12",
   "language": "python",
   "name": "python3"
  },
  "language_info": {
   "codemirror_mode": {
    "name": "ipython",
    "version": 3
   },
   "file_extension": ".py",
   "mimetype": "text/x-python",
   "name": "python",
   "nbconvert_exporter": "python",
   "pygments_lexer": "ipython3",
   "version": "3.12.7"
  }
 },
 "nbformat": 4,
 "nbformat_minor": 4
}
