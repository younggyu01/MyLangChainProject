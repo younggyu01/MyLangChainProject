{
 "cells": [
  {
   "cell_type": "markdown",
   "metadata": {
    "id": "_pyLTgWwvQhV"
   },
   "source": [
    "그라디오 챗봇와 랭체인 LLM 연동하기"
   ]
  },
  {
   "cell_type": "code",
   "execution_count": null,
   "metadata": {
    "colab": {
     "base_uri": "https://localhost:8080/"
    },
    "executionInfo": {
     "elapsed": 29624,
     "status": "ok",
     "timestamp": 1739071493071,
     "user": {
      "displayName": "Myung Sook Baek",
      "userId": "06392624545902733911"
     },
     "user_tz": -540
    },
    "id": "mho6mQWYvUle",
    "outputId": "05496f39-0f87-447e-d46a-0edbf9566171"
   },
   "outputs": [],
   "source": [
    "# 그라디오 라이브러리를 설치합니다.\n",
    "#poetry add gradio\n",
    "# 랭체인 라이브러리를 설치합니다.\n",
    "#poetry add langchain \n",
    "# 랭체인 OpenAI 연동 라이브러리를 설치합니다.\n",
    "#poetry add langchain-openai"
   ]
  },
  {
   "cell_type": "markdown",
   "metadata": {},
   "source": [
    "#### LangChain의 ChatOpenAI가 환경 변수를 자동으로 로드하는 방식\n",
    "* load_dotenv()를 실행하면 .env 파일에 있는 환경 변수가 시스템 환경 변수로 등록됨\n",
    "* LangChain의 ChatOpenAI는 api_key=None일 때 os.getenv(\"OPENAI_API_KEY\")를 자동으로 불러옴\n",
    "* 따라서 api_key를 명시적으로 설정하지 않아도 API 키가 자동으로 적용됨"
   ]
  },
  {
   "cell_type": "code",
   "execution_count": 1,
   "metadata": {
    "executionInfo": {
     "elapsed": 9,
     "status": "ok",
     "timestamp": 1739073587961,
     "user": {
      "displayName": "Myung Sook Baek",
      "userId": "06392624545902733911"
     },
     "user_tz": -540
    },
    "id": "1eHQ5ThX3KHP"
   },
   "outputs": [
    {
     "name": "stdout",
     "output_type": "stream",
     "text": [
      "gsk_\n"
     ]
    }
   ],
   "source": [
    "from dotenv import load_dotenv\n",
    "import os\n",
    "\n",
    "# .env 파일을 불러와서 환경 변수로 설정\n",
    "load_dotenv()\n",
    "\n",
    "OPENAI_API_KEY = os.getenv(\"OPENAI_API_KEY\")\n",
    "print(OPENAI_API_KEY[:4])"
   ]
  },
  {
   "cell_type": "code",
   "execution_count": 2,
   "metadata": {},
   "outputs": [
    {
     "name": "stdout",
     "output_type": "stream",
     "text": [
      "0.3.27\n"
     ]
    }
   ],
   "source": [
    "import langchain\n",
    "\n",
    "print(langchain.__version__)"
   ]
  },
  {
   "cell_type": "code",
   "execution_count": 3,
   "metadata": {
    "colab": {
     "base_uri": "https://localhost:8080/"
    },
    "executionInfo": {
     "elapsed": 4273,
     "status": "ok",
     "timestamp": 1739073595715,
     "user": {
      "displayName": "Myung Sook Baek",
      "userId": "06392624545902733911"
     },
     "user_tz": -540
    },
    "id": "3_Wj7jaE4giS",
    "outputId": "b9e33cb5-b7d6-4080-89eb-7722641b7f50"
   },
   "outputs": [
    {
     "name": "stdout",
     "output_type": "stream",
     "text": [
      "content='파이썬(Python)은 1991년 네덜란드의 개발자 귀도 반 로섬(Guido van Rossum)이 만든 **고급 프로그래밍 언어**입니다.  \\n간결하고 읽기 쉬운 문법을 갖춰 **초보자도 배우기 쉽고**, 동시에 **전문가도 강력하게 활용할 수 있는 언어**예요.\\n\\n### 핵심 특징\\n- **쉬운 문법**: C나 Java보다 코드가 짧고, 들여쓰기(indentation)로 블록을 구분해 가독성이 높음  \\n- **무료/오픈소스**: 누구나 무료로 설치·활용 가능  \\n- **크로스플랫폼**: Windows, macOS, Linux 등 대부분의 OS에서 동일한 코드 실행  \\n- **방대한 생태계**: 데이터 분석(pandas, NumPy), 머신러닝(PyTorch, TensorFlow), 웹(Django, Flask), 자동화, 크롤링(BeautifulSoup, Scrapy) 등 수많은 라이브러리 보유  \\n- **인터프리터 언어**: 소스를 바로 실행해 즉각적인 결과 확인 가능  \\n\\n### 한 줄 요약\\n> “쓰기 쉽고, 읽기 쉬우며, 뭐든지 할 수 있는 ‘만능 드라이버’ 같은 프로그래밍 언어”' additional_kwargs={'refusal': None} response_metadata={'token_usage': {'completion_tokens': 371, 'prompt_tokens': 34, 'total_tokens': 405, 'completion_tokens_details': None, 'prompt_tokens_details': None, 'queue_time': 0.172769963, 'prompt_time': 0.00994543, 'completion_time': 1.3773807599999999, 'total_time': 1.38732619}, 'model_name': 'moonshotai/kimi-k2-instruct-0905', 'system_fingerprint': 'fp_b8565bb333', 'id': 'chatcmpl-439e45dd-da7a-486a-bef7-e0df9ffaa6a4', 'service_tier': 'on_demand', 'finish_reason': 'stop', 'logprobs': None} id='run--ddcb578f-5889-402c-abdb-0f5ef91bc78b-0' usage_metadata={'input_tokens': 34, 'output_tokens': 371, 'total_tokens': 405, 'input_token_details': {}, 'output_token_details': {}}\n",
      "파이썬(Python)은 1991년 네덜란드의 개발자 귀도 반 로섬(Guido van Rossum)이 만든 **고급 프로그래밍 언어**입니다.  \n",
      "간결하고 읽기 쉬운 문법을 갖춰 **초보자도 배우기 쉽고**, 동시에 **전문가도 강력하게 활용할 수 있는 언어**예요.\n",
      "\n",
      "### 핵심 특징\n",
      "- **쉬운 문법**: C나 Java보다 코드가 짧고, 들여쓰기(indentation)로 블록을 구분해 가독성이 높음  \n",
      "- **무료/오픈소스**: 누구나 무료로 설치·활용 가능  \n",
      "- **크로스플랫폼**: Windows, macOS, Linux 등 대부분의 OS에서 동일한 코드 실행  \n",
      "- **방대한 생태계**: 데이터 분석(pandas, NumPy), 머신러닝(PyTorch, TensorFlow), 웹(Django, Flask), 자동화, 크롤링(BeautifulSoup, Scrapy) 등 수많은 라이브러리 보유  \n",
      "- **인터프리터 언어**: 소스를 바로 실행해 즉각적인 결과 확인 가능  \n",
      "\n",
      "### 한 줄 요약\n",
      "> “쓰기 쉽고, 읽기 쉬우며, 뭐든지 할 수 있는 ‘만능 드라이버’ 같은 프로그래밍 언어”\n"
     ]
    }
   ],
   "source": [
    "from langchain_openai import ChatOpenAI\n",
    "\n",
    "# LLM 인스턴스 생성\n",
    "#llm = ChatOpenAI(model_name=\"gpt-3.5-turbo\")\n",
    "llm = ChatOpenAI(\n",
    "    base_url=\"https://api.groq.com/openai/v1\",\n",
    "    #model=\"meta-llama/llama-4-scout-17b-16e-instruct\",\n",
    "    model=\"moonshotai/kimi-k2-instruct-0905\",\n",
    "    temperature=0\n",
    ")\n",
    "\n",
    "response = llm.invoke([{\"role\": \"user\", \"content\": \"파이썬이란?\"}])\n",
    "print(response) #AIMessage\n",
    "print(response.content) #str"
   ]
  },
  {
   "cell_type": "markdown",
   "metadata": {},
   "source": [
    "#### API 키를 명시적으로 설정하는 방법"
   ]
  },
  {
   "cell_type": "code",
   "execution_count": 4,
   "metadata": {},
   "outputs": [
    {
     "name": "stdout",
     "output_type": "stream",
     "text": [
      "content='파이썬(Python)은 1991년 네덜란드의 개빈 반 로섬(Guido van Rossum)이 발표한 고급 프로그래밍 언어입니다.  \\n“코드는 읽히는 것이다(Code is read much more often than it is written)”라는 철학을 바탕으로 **간결하고 읽기 쉬운 문법**을 특징으로 합니다.\\n\\n### 핵심 특징\\n1. **배우기 쉽다**  \\n   C/C++·자바에 비해 문법이 단순하고, 들여쓰기(indent)로 블록을 구분해 시각적으로 깔끔합니다.\\n\\n2. **인터프리터 언어**  \\n   소스를 바로 한 줄씩 실행하며, 별도의 컴파일 과정 없이 즉시 결과를 확인할 수 있습니다.\\n\\n3. **크로스 플랫폼**  \\n   Windows·macOS·Linux 등 거의 모든 운영체제에서 동일한 코드가 실행됩니다.\\n\\n4. **방대한 생태계**  \\n   - 웹: Django, FastAPI, Flask  \\n   - 데이터·AI: NumPy, pandas, scikit-learn, PyTorch, TensorFlow  \\n   - 자동화·스크립팅: BeautifulSoup, Selenium, openpyxl  \\n   - GUI·게임: Tkinter, PyQt, Pygame  \\n   - 임베디드·사물인터넷: MicroPython, CircuitPython  \\n\\n5. **강력한 커뮤니티**  \\n   PyPI(Python Package Index)에 40만 개 이상의 서드파티 패키지가 공개되어 있어 필요한 기능을 손쉽게 가져다 씁니다.\\n\\n### 간단한 예제\\n```python\\n# 1부터 10까지의 합\\ntotal = 0\\nfor i in range(1, 11):\\n    total += i\\nprint(\"합계:\", total)\\n```\\n또는 한 줄로:\\n```python\\nprint(\"합계:\", sum(range(1, 11)))\\n```\\n\\n### 활용 분야\\n- 웹 서버·백엔드 API\\n- 데이터 분석·머신러닝·딥러닝\\n- 업무 자동화(엑셀·PDF·메일 처리)\\n- 크롤링·스크래핑\\n- DevOps·테스트 자동화\\n- 사물인터넷·임베디드 제어\\n- 교육·연구(알고리즘·수치해석)\\n\\n요약하자면, 파이썬은 **“읽기 쉽고, 쓰기 쉽고, 강력한”** 언어로, 초보자부터 전문 개발자·과학자까지 폭넓게 사용되는 현대적 표준 언어입니다.' additional_kwargs={'refusal': None} response_metadata={'token_usage': {'completion_tokens': 689, 'prompt_tokens': 34, 'total_tokens': 723, 'completion_tokens_details': None, 'prompt_tokens_details': None, 'queue_time': 0.172939133, 'prompt_time': 0.167054955, 'completion_time': 4.510165411, 'total_time': 4.677220366}, 'model_name': 'moonshotai/kimi-k2-instruct-0905', 'system_fingerprint': 'fp_b8565bb333', 'id': 'chatcmpl-62280fe2-5917-43ae-95ea-32d33f8d40e3', 'service_tier': 'on_demand', 'finish_reason': 'stop', 'logprobs': None} id='run--6f93caa8-c084-4c2d-8e3d-f6d37653fb8f-0' usage_metadata={'input_tokens': 34, 'output_tokens': 689, 'total_tokens': 723, 'input_token_details': {}, 'output_token_details': {}}\n"
     ]
    }
   ],
   "source": [
    "from langchain_openai import ChatOpenAI\n",
    "\n",
    "# 명시적으로 API 키 설정\n",
    "#llm = ChatOpenAI(model=\"gpt-3.5-turbo\", api_key=OPENAI_API_KEY)  \n",
    "llm = ChatOpenAI(\n",
    "    api_key=OPENAI_API_KEY,\n",
    "    base_url=\"https://api.groq.com/openai/v1\",\n",
    "    #model=\"meta-llama/llama-4-scout-17b-16e-instruct\",\n",
    "    model=\"moonshotai/kimi-k2-instruct-0905\",\n",
    "    temperature=0\n",
    ")\n",
    "\n",
    "response = llm.invoke([{\"role\": \"user\", \"content\": \"파이썬이란?\"}])\n",
    "print(response)"
   ]
  },
  {
   "cell_type": "code",
   "execution_count": null,
   "metadata": {
    "colab": {
     "base_uri": "https://localhost:8080/",
     "height": 721
    },
    "executionInfo": {
     "elapsed": 120391,
     "status": "ok",
     "timestamp": 1739073719232,
     "user": {
      "displayName": "Myung Sook Baek",
      "userId": "06392624545902733911"
     },
     "user_tz": -540
    },
    "id": "wRX0aUZk7Zul",
    "outputId": "5eba57b6-5fbf-4597-de9a-d473e943d423"
   },
   "outputs": [],
   "source": [
    "# 그라디오 라이브러리를 불러옵니다.\n",
    "import gradio as gr\n",
    "# LangChain 의 ChatOpenAI 를 불러옵니다.\n",
    "from langchain_openai import ChatOpenAI\n",
    "\n",
    "# ChatOpenAI 인스턴스 생성\n",
    "#llm = ChatOpenAI(model=\"gpt-3.5-turbo\")\n",
    "llm = ChatOpenAI(\n",
    "    base_url=\"https://api.groq.com/openai/v1\",\n",
    "    #model=\"meta-llama/llama-4-scout-17b-16e-instruct\",\n",
    "    model=\"moonshotai/kimi-k2-instruct-0905\",\n",
    "    temperature=0\n",
    ")\n",
    "\n",
    "# 채팅봇의 응답을 처리하는 함수를 정의합니다.\n",
    "def chat_respond(message, chat_history):  \n",
    "    response = llm.invoke([{\"role\": \"user\", \"content\": message}])\n",
    "    bot_message = response.content #str\n",
    "    \n",
    "    chat_history.append({\"role\": \"user\", \"content\": message})\n",
    "    chat_history.append({\"role\": \"assistant\", \"content\": bot_message})\n",
    "\n",
    "    # 수정된 채팅 기록을 반환합니다.\n",
    "    return \"\", chat_history  \n",
    "\n",
    "# gr.Blocks()를 사용하여 인터페이스를 생성합니다.\n",
    "with gr.Blocks() as demo:  \n",
    "    chatbot = gr.Chatbot(label=\"채팅창\", type=\"messages\")  # '채팅창'이라는 레이블을 가진 채팅봇 컴포넌트를 생성합니다.\n",
    "    msg = gr.Textbox(label=\"입력\")  # '입력'이라는 레이블을 가진 텍스트박스를 생성합니다.\n",
    "    clear = gr.Button(\"초기화\")  # '초기화'라는 레이블을 가진 버튼을 생성합니다.\n",
    "\n",
    "    # 텍스트박스에 메시지를 입력하고 제출하면 respond 함수가 호출되도록 합니다.\n",
    "    msg.submit(chat_respond, [msg, chatbot], [msg, chatbot])  \n",
    "    # '초기화' 버튼을 클릭하면 채팅 기록을 초기화합니다.\n",
    "    clear.click(lambda: None, None, chatbot, queue=False)  \n",
    "\n",
    "# 인터페이스를 실행합니다. 실행하면 사용자는 '입력' 텍스트박스에 메시지를 작성하고 제출할 수 있으며, '초기화' 버튼을 통해 채팅 기록을 초기화 할 수 있습니다.\n",
    "demo.launch(debug=True)  "
   ]
  }
 ],
 "metadata": {
  "colab": {
   "authorship_tag": "ABX9TyObKSkPPvS7YmfW96AW/9bs",
   "provenance": []
  },
  "kernelspec": {
   "display_name": "mylangchain-app-SBe-Yh6W-py3.12",
   "language": "python",
   "name": "python3"
  },
  "language_info": {
   "codemirror_mode": {
    "name": "ipython",
    "version": 3
   },
   "file_extension": ".py",
   "mimetype": "text/x-python",
   "name": "python",
   "nbconvert_exporter": "python",
   "pygments_lexer": "ipython3",
   "version": "3.12.7"
  }
 },
 "nbformat": 4,
 "nbformat_minor": 4
}
