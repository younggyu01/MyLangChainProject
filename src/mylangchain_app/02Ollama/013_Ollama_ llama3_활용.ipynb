{
 "cells": [
  {
   "cell_type": "markdown",
   "metadata": {},
   "source": [
    "#### 1. 패키지 설치"
   ]
  },
  {
   "cell_type": "code",
   "execution_count": 1,
   "metadata": {},
   "outputs": [
    {
     "name": "stdout",
     "output_type": "stream",
     "text": [
      "Note: you may need to restart the kernel to use updated packages.\n",
      "Note: you may need to restart the kernel to use updated packages.\n"
     ]
    }
   ],
   "source": [
    "%pip install -q langchain\n",
    "%pip install -q langchain-ollama"
   ]
  },
  {
   "cell_type": "markdown",
   "metadata": {},
   "source": [
    "#### 로컬 Ollama로 설치한 gemma2 모델을 사용하기\n",
    "##### ollama run gemma2\n",
    "\n",
    "- `ChatOllama` 를 활용한 LLM 답변 생성"
   ]
  },
  {
   "cell_type": "code",
   "execution_count": 1,
   "metadata": {},
   "outputs": [
    {
     "name": "stdout",
     "output_type": "stream",
     "text": [
      "content='LangChain은 **대규모 언어 모델(LLM)을 사용하여 애플리케이션을 구축하는 데 도움이 되는 프레임워크**입니다. \\n\\n쉽게 말해, 멋진 AI 기술을 가진 LLM들을 더 효과적으로 활용하고 다양한 응용 프로그램을 만들 수 있도록 돕는 도구라고 할 수 있습니다.\\n\\n**LangChain의 주요 기능은 다음과 같습니다:**\\n\\n* **LLM 연결:** GPT-3와 같은 다양한 LLM들과 원활하게 통신할 수 있습니다.\\n* **데이터 확장:** LLM에 필요한 정보를 제공하기 위해 데이터베이스, API, 파일 시스템 등을 활용합니다.\\n* **메커니즘 구성:** 텍스트 생성, 질문 답변, 요약, 번역과 같은 다양한 작업을 수행하는 AI 스트림을 구축할 수 있습니다.\\n* **모듈화 및 재사용성:** 작은 단위로 분리된 모듈들을 사용하여 애플리케이션을 개발하고, 다른 개발자와 공유할 수 있습니다.\\n\\n**LangChain를 활용한 몇 가지 예시는 다음과 같습니다:**\\n\\n* **챗봇 개발:** 자연스러운 대화를 통해 사용자의 질문에 답변하고 도움을 줄 수 있는 챗봇을 만들 수 있습니다.\\n* **텍스트 요약 및 분석:** 긴 문서를 간결하게 요약하거나, 주제와 감정을 분석할 수 있습니다.\\n* **코드 생성:** 특정 기능을 가진 코드를 자동으로 생성합니다.\\n\\n**LangChain은 LLM의 잠재력을 최대한 활용하고 다양한 분야에서 AI 애플리케이션 개발에 새로운 가능성을 열어줍니다.**\\n\\n\\n' additional_kwargs={} response_metadata={'model': 'gemma2', 'created_at': '2025-09-22T02:21:27.6042418Z', 'done': True, 'done_reason': 'stop', 'total_duration': 87401579900, 'load_duration': 182505100, 'prompt_eval_count': 18, 'prompt_eval_duration': 1622297900, 'eval_count': 406, 'eval_duration': 85595098800, 'model_name': 'gemma2'} id='run--15b43a96-a39f-4ebe-8389-dd8fe7c860cb-0' usage_metadata={'input_tokens': 18, 'output_tokens': 406, 'total_tokens': 424}\n"
     ]
    }
   ],
   "source": [
    "from langchain_ollama import ChatOllama\n",
    "\n",
    "llm = ChatOllama(model=\"gemma2\")\n",
    "response = llm.invoke(\"LangChain은 무엇인가요?\")\n",
    "print(response)\n"
   ]
  },
  {
   "cell_type": "markdown",
   "metadata": {},
   "source": [
    "#### 로컬 Ollama로 설치한 llama3.2 모델을 사용하기\n",
    "##### ollama run llama3.2\n"
   ]
  },
  {
   "cell_type": "code",
   "execution_count": 2,
   "metadata": {},
   "outputs": [
    {
     "name": "stderr",
     "output_type": "stream",
     "text": [
      "C:\\Users\\82103\\AppData\\Local\\Temp\\ipykernel_25912\\2871398690.py:6: LangChainDeprecationWarning: The class `Ollama` was deprecated in LangChain 0.3.1 and will be removed in 1.0.0. An updated version of the class exists in the :class:`~langchain-ollama package and should be used instead. To use it run `pip install -U :class:`~langchain-ollama` and import as `from :class:`~langchain_ollama import OllamaLLM``.\n",
      "  llm = Ollama(model=\"llama3.2\")\n",
      "C:\\Users\\82103\\AppData\\Local\\Temp\\ipykernel_25912\\2871398690.py:15: LangChainDeprecationWarning: The class `LLMChain` was deprecated in LangChain 0.1.17 and will be removed in 1.0. Use :meth:`~RunnableSequence, e.g., `prompt | llm`` instead.\n",
      "  chain = LLMChain(llm=llm, prompt=prompt_template)\n"
     ]
    },
    {
     "name": "stdout",
     "output_type": "stream",
     "text": [
      "{'question': 'What is LangChain?', 'text': \"LangChain is a web3 developer framework for building scalable, decentralized applications (dApps) on the Ethereum blockchain. It provides a set of tools and libraries that enable developers to create robust, modular, and maintainable dApps.\\n\\nSome key features of LangChain include:\\n\\n1. Decentralized storage: LangChain uses IPFS (InterPlanetary File System) for decentralized storage, allowing for secure and tamper-proof data storage.\\n2. Chain-based architecture: LangChain's architecture is based on blockchain chains, enabling developers to build modular, scalable, and flexible dApps.\\n3. Interoperability: LangChain facilitates interoperability between different blockchain networks, making it easier to integrate multiple blockchains into a single application.\\n\\nLangChain aims to provide a comprehensive set of tools for building robust, decentralized applications, while also promoting a community-driven development process.\\n\\nWould you like to know more about LangChain or is there something specific you'd like to ask?\"}\n"
     ]
    }
   ],
   "source": [
    "from langchain.llms import Ollama\n",
    "from langchain.prompts import PromptTemplate\n",
    "from langchain.chains import LLMChain\n",
    "\n",
    "# Ollama를 사용하여 로컬에서 실행 중인 llama3.2 모델을 로드\n",
    "llm = Ollama(model=\"llama3.2\")\n",
    "\n",
    "# 프롬프트 템플릿 정의\n",
    "prompt_template = PromptTemplate(\n",
    "    input_variables=[\"question\"],\n",
    "    template=\"Q: {question}\\nA:\"\n",
    ")\n",
    "\n",
    "# LLMChain 생성\n",
    "chain = LLMChain(llm=llm, prompt=prompt_template)\n",
    "\n",
    "# 질문을 입력하고 모델의 응답을 받음\n",
    "question = \"What is LangChain?\"\n",
    "#question = \"France의 수도는 어디입니까?\"\n",
    "response = chain.invoke({\"question\": question})\n",
    "\n",
    "# 결과 출력\n",
    "print(response)"
   ]
  },
  {
   "cell_type": "code",
   "execution_count": 3,
   "metadata": {},
   "outputs": [
    {
     "name": "stdout",
     "output_type": "stream",
     "text": [
      "LangChain is a web3 developer framework for building scalable, decentralized applications (dApps) on the Ethereum blockchain. It provides a set of tools and libraries that enable developers to create robust, modular, and maintainable dApps.\n",
      "\n",
      "Some key features of LangChain include:\n",
      "\n",
      "1. Decentralized storage: LangChain uses IPFS (InterPlanetary File System) for decentralized storage, allowing for secure and tamper-proof data storage.\n",
      "2. Chain-based architecture: LangChain's architecture is based on blockchain chains, enabling developers to build modular, scalable, and flexible dApps.\n",
      "3. Interoperability: LangChain facilitates interoperability between different blockchain networks, making it easier to integrate multiple blockchains into a single application.\n",
      "\n",
      "LangChain aims to provide a comprehensive set of tools for building robust, decentralized applications, while also promoting a community-driven development process.\n",
      "\n",
      "Would you like to know more about LangChain or is there something specific you'd like to ask?\n"
     ]
    }
   ],
   "source": [
    "print(response['text'])"
   ]
  },
  {
   "cell_type": "markdown",
   "metadata": {},
   "source": [
    "##### 최신버전 LangChain에서는 ChatOllama와 RunnableSequence(prompt | llm) 를 사용해야 합니다."
   ]
  },
  {
   "cell_type": "code",
   "execution_count": 4,
   "metadata": {},
   "outputs": [
    {
     "name": "stdout",
     "output_type": "stream",
     "text": [
      "<class 'langchain_core.messages.ai.AIMessage'>\n",
      "content='LangChain is an open-source, Python-based framework designed to simplify the development of web3 applications built on blockchain technology, particularly those using Ethereum. It aims to provide a structured approach to building scalable, maintainable, and efficient web3 projects.\\n\\nLangChain provides several key components:\\n\\n1. **Web3 Storage**: A decentralized storage solution that allows users to store and manage their data in a secure and tamper-proof manner.\\n2. **Contract APIs**: Pre-built interfaces for interacting with smart contracts on various blockchain networks.\\n3. **Service Registry**: A registry of web3 services, including storage solutions, contract APIs, and other tools, making it easier to discover and integrate third-party services into projects.\\n\\nBy using LangChain, developers can focus on building the logic and features of their web3 application, while leveraging pre-built components to simplify the process. This framework is particularly useful for building complex web3 applications that require interacting with multiple contracts, storing data securely, and managing dependencies between services.\\n\\nLangChain has gained popularity among blockchain developers and enthusiasts due to its simplicity, flexibility, and focus on making web3 development more accessible and efficient.' additional_kwargs={} response_metadata={'model': 'llama3.2', 'created_at': '2025-09-22T02:25:02.4717248Z', 'done': True, 'done_reason': 'stop', 'total_duration': 16648391400, 'load_duration': 184584800, 'prompt_eval_count': 46, 'prompt_eval_duration': 1050432500, 'eval_count': 229, 'eval_duration': 15410803400, 'model_name': 'llama3.2'} id='run--a4424f22-8a2f-4a44-84a6-ef1806114f8f-0' usage_metadata={'input_tokens': 46, 'output_tokens': 229, 'total_tokens': 275}\n"
     ]
    }
   ],
   "source": [
    "from langchain_ollama import ChatOllama\n",
    "#from langchain_core.prompts import PromptTemplate\n",
    "from langchain_core.prompts import ChatPromptTemplate\n",
    "\n",
    "# Ollama를 사용하여 로컬에서 실행 중인 llama3.2 모델 로드\n",
    "llm = ChatOllama(model=\"llama3.2\")\n",
    "\n",
    "# 프롬프트 템플릿 정의\n",
    "# prompt_template = PromptTemplate.from_template(\"Q: {question}\\nA:\")\n",
    "\n",
    "# 더 정확한 응답을 위한 개선된 프롬프트\n",
    "prompt_template = ChatPromptTemplate.from_messages([\n",
    "    (\"system\", \"You are an AI assistant that provides accurate and detailed answers.\"),\n",
    "    (\"human\", \"Q: {question}\\nA:\")\n",
    "])\n",
    "\n",
    "\n",
    "# 최신 LangChain 방식: RunnableSequence 활용\n",
    "chain = prompt_template | llm\n",
    "\n",
    "# 실행 예시\n",
    "question = \"What is LangChain?\"\n",
    "response = chain.invoke({\"question\": question})\n",
    "\n",
    "print(type(response))\n",
    "print(response)"
   ]
  },
  {
   "cell_type": "code",
   "execution_count": 5,
   "metadata": {},
   "outputs": [
    {
     "name": "stdout",
     "output_type": "stream",
     "text": [
      "LangChain is an open-source, Python-based framework designed to simplify the development of web3 applications built on blockchain technology, particularly those using Ethereum. It aims to provide a structured approach to building scalable, maintainable, and efficient web3 projects.\n",
      "\n",
      "LangChain provides several key components:\n",
      "\n",
      "1. **Web3 Storage**: A decentralized storage solution that allows users to store and manage their data in a secure and tamper-proof manner.\n",
      "2. **Contract APIs**: Pre-built interfaces for interacting with smart contracts on various blockchain networks.\n",
      "3. **Service Registry**: A registry of web3 services, including storage solutions, contract APIs, and other tools, making it easier to discover and integrate third-party services into projects.\n",
      "\n",
      "By using LangChain, developers can focus on building the logic and features of their web3 application, while leveraging pre-built components to simplify the process. This framework is particularly useful for building complex web3 applications that require interacting with multiple contracts, storing data securely, and managing dependencies between services.\n",
      "\n",
      "LangChain has gained popularity among blockchain developers and enthusiasts due to its simplicity, flexibility, and focus on making web3 development more accessible and efficient.\n"
     ]
    }
   ],
   "source": [
    "print(response.content)"
   ]
  }
 ],
 "metadata": {
  "kernelspec": {
   "display_name": "mylangchain-app-SBe-Yh6W-py3.12",
   "language": "python",
   "name": "python3"
  },
  "language_info": {
   "codemirror_mode": {
    "name": "ipython",
    "version": 3
   },
   "file_extension": ".py",
   "mimetype": "text/x-python",
   "name": "python",
   "nbconvert_exporter": "python",
   "pygments_lexer": "ipython3",
   "version": "3.12.7"
  }
 },
 "nbformat": 4,
 "nbformat_minor": 4
}
