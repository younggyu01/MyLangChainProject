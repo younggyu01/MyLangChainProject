{
 "cells": [
  {
   "cell_type": "markdown",
   "metadata": {},
   "source": [
    "#### 1. 패키지 설치"
   ]
  },
  {
   "cell_type": "code",
   "execution_count": null,
   "metadata": {},
   "outputs": [],
   "source": [
    "# poetry add langchain-ollama"
   ]
  },
  {
   "cell_type": "markdown",
   "metadata": {},
   "source": [
    "#### 로컬 Ollama로 설치한 deepseek-r1:1.5b 모델을 사용하기\n",
    "##### ollama run deepseek-r1:1.5b"
   ]
  },
  {
   "cell_type": "code",
   "execution_count": 1,
   "metadata": {},
   "outputs": [
    {
     "name": "stderr",
     "output_type": "stream",
     "text": [
      "C:\\Users\\82103\\AppData\\Local\\Temp\\ipykernel_10284\\633809197.py:6: LangChainDeprecationWarning: The class `Ollama` was deprecated in LangChain 0.3.1 and will be removed in 1.0.0. An updated version of the class exists in the :class:`~langchain-ollama package and should be used instead. To use it run `pip install -U :class:`~langchain-ollama` and import as `from :class:`~langchain_ollama import OllamaLLM``.\n",
      "  llm = Ollama(model=\"deepseek-r1:1.5b\")\n",
      "C:\\Users\\82103\\AppData\\Local\\Temp\\ipykernel_10284\\633809197.py:15: LangChainDeprecationWarning: The class `LLMChain` was deprecated in LangChain 0.1.17 and will be removed in 1.0. Use :meth:`~RunnableSequence, e.g., `prompt | llm`` instead.\n",
      "  chain = LLMChain(llm=llm, prompt=prompt_template)\n"
     ]
    },
    {
     "name": "stdout",
     "output_type": "stream",
     "text": [
      "<class 'dict'>\n",
      "{'question': 'What is LangChain?', 'text': '<think>\\n\\n</think>\\n\\nLangChain is a cutting-edge approach to building intelligent applications that combine the power of machine learning with the flexibility of programming languages. It allows developers to write code in familiar languages while letting machines learn and improve their responses over time through data.\\n\\n### Key Features of LangChain:\\n1. **Integration**: Enables integration of advanced AI models with high-level programming languages.\\n2. **Dynamic Learning**: The AI model learns from your interactions, improving its responses as you use it.\\n3. **User-Friendly**: Simple setup using Python or other common programming languages.\\n4. **Versatility**: Supports a wide range of tasks and industries.\\n\\n### Example Use Case:\\nIf I want the AI to answer questions in a specific domain (e.g., \"how does climate change affect the environment\"), LangChain can provide tailored responses, allowing me to write code that leverages these insights.\\n\\n### How It Works:\\nLangChain uses pre-trained models (like GPT-3 or others) as black boxes. The user writes code in their language, which is passed through LangChain\\'s model to get a response. This model then learns by adjusting its responses based on the user\\'s feedback.\\n\\nFor example, if you write:\\n```python\\nprint(\"Hello! How are you?\")\\n```\\nAnd use LangChain with a climate change domain model, it might respond with something like \"That sounds concerning... I\\'m not sure about your expectations. It would be helpful to know more about what you hope for and how you plan to act on this.\"\\n\\nThis approach bridges the gap between powerful AI models and practical problem-solving, making it easier to use advanced AI in everyday applications.'}\n",
      "<think>\n",
      "\n",
      "</think>\n",
      "\n",
      "LangChain is a cutting-edge approach to building intelligent applications that combine the power of machine learning with the flexibility of programming languages. It allows developers to write code in familiar languages while letting machines learn and improve their responses over time through data.\n",
      "\n",
      "### Key Features of LangChain:\n",
      "1. **Integration**: Enables integration of advanced AI models with high-level programming languages.\n",
      "2. **Dynamic Learning**: The AI model learns from your interactions, improving its responses as you use it.\n",
      "3. **User-Friendly**: Simple setup using Python or other common programming languages.\n",
      "4. **Versatility**: Supports a wide range of tasks and industries.\n",
      "\n",
      "### Example Use Case:\n",
      "If I want the AI to answer questions in a specific domain (e.g., \"how does climate change affect the environment\"), LangChain can provide tailored responses, allowing me to write code that leverages these insights.\n",
      "\n",
      "### How It Works:\n",
      "LangChain uses pre-trained models (like GPT-3 or others) as black boxes. The user writes code in their language, which is passed through LangChain's model to get a response. This model then learns by adjusting its responses based on the user's feedback.\n",
      "\n",
      "For example, if you write:\n",
      "```python\n",
      "print(\"Hello! How are you?\")\n",
      "```\n",
      "And use LangChain with a climate change domain model, it might respond with something like \"That sounds concerning... I'm not sure about your expectations. It would be helpful to know more about what you hope for and how you plan to act on this.\"\n",
      "\n",
      "This approach bridges the gap between powerful AI models and practical problem-solving, making it easier to use advanced AI in everyday applications.\n"
     ]
    }
   ],
   "source": [
    "from langchain.llms import Ollama\n",
    "from langchain.prompts import PromptTemplate\n",
    "from langchain.chains import LLMChain\n",
    "\n",
    "# Ollama를 사용하여 로컬에서 실행 중인 deepseek-r1 모델을 로드\n",
    "llm = Ollama(model=\"deepseek-r1:1.5b\")\n",
    "\n",
    "# 프롬프트 템플릿 정의\n",
    "prompt_template = PromptTemplate(\n",
    "    input_variables=[\"question\"],\n",
    "    template=\"Q: {question}\\nA:\"\n",
    ")\n",
    "\n",
    "# LLMChain 생성\n",
    "chain = LLMChain(llm=llm, prompt=prompt_template)\n",
    "\n",
    "# 질문을 입력하고 모델의 응답을 받음\n",
    "question = \"What is LangChain?\"\n",
    "response = chain.invoke({\"question\": question})\n",
    "\n",
    "# 결과 출력\n",
    "print(type(response))\n",
    "print(response)\n",
    "print(response[\"text\"])"
   ]
  },
  {
   "cell_type": "markdown",
   "metadata": {},
   "source": [
    "##### 최신버전 LangChain에서는 ChatOllama와 RunnableSequence(prompt | llm) 를 사용"
   ]
  },
  {
   "cell_type": "code",
   "execution_count": 2,
   "metadata": {},
   "outputs": [
    {
     "name": "stdout",
     "output_type": "stream",
     "text": [
      "<class 'langchain_core.messages.ai.AIMessage'>\n",
      "content='<think>\\nOkay, so I\\'m trying to figure out what Python is. I\\'ve heard people talk about it a lot lately, especially in programming circles. It sounds like it\\'s related to computer science or something similar.\\n\\nFirst, I think of the word \"Python.\" Maybe it stands for something? Like Apple\\'s product line, but that doesn\\'t seem right. Or maybe it\\'s named after Python itself. That makes sense because if it were named after itself, people would probably just call it their own product name instead of using a nickname.\\n\\nI\\'ve used the Windows version of Python before when I was in school. It had some basic features and a straightforward interface. But now, with all these tools like Jupyter Notebooks and other IDEs, the experience changed. The desktop apps are gone; you can\\'t just run them anymore. So maybe the name has evolved to reflect that change.\\n\\nI remember seeing people use Python on their Mac or Linux systems now. It\\'s probably more powerful than Windows but accessible with different tools. That makes sense because Linux offers a lot of flexibility and community support, which helps with many programming tasks.\\n\\nSpeaking of which, I\\'ve heard about a free version called Python 3.9.9. That sounds familiar—it\\'s an open-source project with a large community contributing to its development. The name \"Python\" is used for the project because it was originally developed in C, but since everything is open source, it\\'s now written in Python.\\n\\nSo putting this all together, I think of \"Python\" as not just a language or framework, but also an open-source software that has become popular across various operating systems. It\\'s more than just Windows 10 or any specific version—it\\'s a versatile tool with active developers and a rich ecosystem.\\n\\nI\\'m still trying to get the exact definition. A quick search in my mind tells me it\\'s a general-purpose programming language, especially known for its simplicity and the extensive libraries that come with it. It\\'s also used as an interactive shell for other languages like Python 2 or Ruby.\\n\\nWait, maybe I should look up the official definition. It says Python is a high-level, interpreted programming language that has no static type declarations, making it dynamically typed. The syntax is minimal, which allows for concise code, especially with its support for loops and recursion in just three keywords: def, if, return.\\n\\nIt\\'s built on top of other languages like C and compiled to Python using Numba or Cython for performance. This makes it suitable for computationally heavy tasks where speed is crucial. Additionally, the extensive ecosystem includes libraries such as NumPy, Pandas, Matplotlib, and scikit-learn, which are essential for data manipulation and analysis.\\n\\nSo, in summary, \"Python\" isn\\'t just a name; it\\'s an open-source framework, programming language, and development environment that has expanded its reach to various operating systems. It\\'s known for simplicity, performance, and a vast array of libraries, making it widely used in both academic and professional settings.\\n</think>\\n\\n**Understanding Python: A Comprehensive Overview**\\n\\n1. **Origin and Name**:\\n   - \"Python\" refers not merely to a specific version but to the broader open-source framework or programming language. The name itself is derived from the name of the language.\\n\\n2. **Programming Language**:\\n   - As a high-level, interpreted programming language, Python is known for its simplicity and minimal syntax. It allows concise code with features like loops and recursion using just three keywords: `def`, `if`, and `return`.\\n\\n3. **Dynamic Typing**:\\n   - Unlike some other languages that require static typing, Python\\'s dynamic typing means there are no type declarations, enhancing flexibility and reducing the need for explicit type checks.\\n\\n4. **Base Stack Language**:\\n   - Python is written in C but compiled to Python using tools like Numba or Cython, enabling high performance and efficiency.\\n\\n5. **Extensive Ecosystem**:\\n   - The language\\'s extensive ecosystem includes essential libraries such as NumPy, Pandas, Matplotlib, and scikit-learn, making it ideal for data manipulation and analysis.\\n\\n6. **Versatility and Support**:\\n   - Python is used across various platforms—Windows 10, macOS, and Linux—all of which offer its flexibility and community support. It\\'s particularly popular among researchers due to the active developer community.\\n\\n7. **Open-Source Nature**:\\n   - As an open-source project, Python inherits a vast repository of contributions from the global community, enhancing its functionality and continuously evolving.\\n\\nIn essence, \"Python\" is more than just a name; it is a versatile framework and programming language with applications spanning multiple systems and fields, known for its simplicity, performance, and extensive library support.' additional_kwargs={} response_metadata={'model': 'deepseek-r1:1.5b', 'created_at': '2025-09-22T02:28:32.895695Z', 'done': True, 'done_reason': 'stop', 'total_duration': 32630286500, 'load_duration': 158985500, 'prompt_eval_count': 24, 'prompt_eval_duration': 336058500, 'eval_count': 968, 'eval_duration': 32134216600, 'model_name': 'deepseek-r1:1.5b'} id='run--bb3311a5-b7ad-4d4e-8270-279cf21145fb-0' usage_metadata={'input_tokens': 24, 'output_tokens': 968, 'total_tokens': 992}\n"
     ]
    }
   ],
   "source": [
    "from langchain_ollama import ChatOllama\n",
    "from langchain_core.prompts import ChatPromptTemplate\n",
    "\n",
    "# Ollama를 사용하여 로컬에서 실행 중인 llama3.2 모델 로드\n",
    "llm = ChatOllama(model=\"deepseek-r1:1.5b\")\n",
    "\n",
    "# 프롬프트 템플릿 정의\n",
    "# prompt_template = PromptTemplate.from_template(\"Q: {question}\\nA:\")\n",
    "\n",
    "# 더 정확한 응답을 위한 개선된 프롬프트\n",
    "prompt_template = ChatPromptTemplate.from_messages([\n",
    "    (\"system\", \"You are an AI assistant that provides accurate and detailed answers.\"),\n",
    "    (\"human\", \"Q: {question}\\nA:\")\n",
    "])\n",
    "\n",
    "# 최신 LangChain 방식: RunnableSequence 활용\n",
    "chain = prompt_template | llm\n",
    "\n",
    "# 실행 예시\n",
    "question = \"What is Pyhon?\"\n",
    "response = chain.invoke({\"question\": question})\n",
    "\n",
    "print(type(response))\n",
    "print(response)"
   ]
  },
  {
   "cell_type": "code",
   "execution_count": 3,
   "metadata": {},
   "outputs": [
    {
     "name": "stdout",
     "output_type": "stream",
     "text": [
      "<think>\n",
      "Okay, so I'm trying to figure out what Python is. I've heard people talk about it a lot lately, especially in programming circles. It sounds like it's related to computer science or something similar.\n",
      "\n",
      "First, I think of the word \"Python.\" Maybe it stands for something? Like Apple's product line, but that doesn't seem right. Or maybe it's named after Python itself. That makes sense because if it were named after itself, people would probably just call it their own product name instead of using a nickname.\n",
      "\n",
      "I've used the Windows version of Python before when I was in school. It had some basic features and a straightforward interface. But now, with all these tools like Jupyter Notebooks and other IDEs, the experience changed. The desktop apps are gone; you can't just run them anymore. So maybe the name has evolved to reflect that change.\n",
      "\n",
      "I remember seeing people use Python on their Mac or Linux systems now. It's probably more powerful than Windows but accessible with different tools. That makes sense because Linux offers a lot of flexibility and community support, which helps with many programming tasks.\n",
      "\n",
      "Speaking of which, I've heard about a free version called Python 3.9.9. That sounds familiar—it's an open-source project with a large community contributing to its development. The name \"Python\" is used for the project because it was originally developed in C, but since everything is open source, it's now written in Python.\n",
      "\n",
      "So putting this all together, I think of \"Python\" as not just a language or framework, but also an open-source software that has become popular across various operating systems. It's more than just Windows 10 or any specific version—it's a versatile tool with active developers and a rich ecosystem.\n",
      "\n",
      "I'm still trying to get the exact definition. A quick search in my mind tells me it's a general-purpose programming language, especially known for its simplicity and the extensive libraries that come with it. It's also used as an interactive shell for other languages like Python 2 or Ruby.\n",
      "\n",
      "Wait, maybe I should look up the official definition. It says Python is a high-level, interpreted programming language that has no static type declarations, making it dynamically typed. The syntax is minimal, which allows for concise code, especially with its support for loops and recursion in just three keywords: def, if, return.\n",
      "\n",
      "It's built on top of other languages like C and compiled to Python using Numba or Cython for performance. This makes it suitable for computationally heavy tasks where speed is crucial. Additionally, the extensive ecosystem includes libraries such as NumPy, Pandas, Matplotlib, and scikit-learn, which are essential for data manipulation and analysis.\n",
      "\n",
      "So, in summary, \"Python\" isn't just a name; it's an open-source framework, programming language, and development environment that has expanded its reach to various operating systems. It's known for simplicity, performance, and a vast array of libraries, making it widely used in both academic and professional settings.\n",
      "</think>\n",
      "\n",
      "**Understanding Python: A Comprehensive Overview**\n",
      "\n",
      "1. **Origin and Name**:\n",
      "   - \"Python\" refers not merely to a specific version but to the broader open-source framework or programming language. The name itself is derived from the name of the language.\n",
      "\n",
      "2. **Programming Language**:\n",
      "   - As a high-level, interpreted programming language, Python is known for its simplicity and minimal syntax. It allows concise code with features like loops and recursion using just three keywords: `def`, `if`, and `return`.\n",
      "\n",
      "3. **Dynamic Typing**:\n",
      "   - Unlike some other languages that require static typing, Python's dynamic typing means there are no type declarations, enhancing flexibility and reducing the need for explicit type checks.\n",
      "\n",
      "4. **Base Stack Language**:\n",
      "   - Python is written in C but compiled to Python using tools like Numba or Cython, enabling high performance and efficiency.\n",
      "\n",
      "5. **Extensive Ecosystem**:\n",
      "   - The language's extensive ecosystem includes essential libraries such as NumPy, Pandas, Matplotlib, and scikit-learn, making it ideal for data manipulation and analysis.\n",
      "\n",
      "6. **Versatility and Support**:\n",
      "   - Python is used across various platforms—Windows 10, macOS, and Linux—all of which offer its flexibility and community support. It's particularly popular among researchers due to the active developer community.\n",
      "\n",
      "7. **Open-Source Nature**:\n",
      "   - As an open-source project, Python inherits a vast repository of contributions from the global community, enhancing its functionality and continuously evolving.\n",
      "\n",
      "In essence, \"Python\" is more than just a name; it is a versatile framework and programming language with applications spanning multiple systems and fields, known for its simplicity, performance, and extensive library support.\n"
     ]
    }
   ],
   "source": [
    "print(response.content)"
   ]
  },
  {
   "cell_type": "code",
   "execution_count": 5,
   "metadata": {},
   "outputs": [
    {
     "name": "stdout",
     "output_type": "stream",
     "text": [
      "<think>\n",
      "Okay, the user is asking \"파이썬은 무엇인가요?\" which translates to \"What is Python?\" in English. I need to provide a clear and accurate answer.\n",
      "\n",
      "First, I should define Python as a programming language. Mention its creation, creator, and the year it was released. Then, highlight its key features like simplicity, readability, and versatility. It's used in web development, data analysis, artificial intelligence, automation, and more.\n",
      "\n",
      "I should also note that it's open-source and has a large community. Maybe include some examples of popular libraries like NumPy, Pandas, TensorFlow, and Django. Emphasize that it's beginner-friendly but powerful for advanced users.\n",
      "\n",
      "Avoid technical jargon unless necessary. Keep the explanation straightforward. Make sure to mention that it's cross-platform and runs on multiple operating systems. Maybe add a sentence about its syntax being clean and easy to learn.\n",
      "\n",
      "Check if there's any recent updates or features in Python that I should mention. For example, Python 3.10 introduced features like type hints and the \"if __name__ == \"__main__\" pattern. But maybe that's too detailed for a basic answer.\n",
      "\n",
      "Also, note that it's widely used in various industries and has a lot of resources available. Maybe mention some famous people who use Python, like Elon Musk, Jeff Bezos, and Mark Zuckerberg.\n",
      "\n",
      "Ensure the answer is concise but covers the main points. Avoid being too verbose. Use bullet points or short paragraphs for readability. Make sure the user understands the basics without getting too deep into technical specifics.\n",
      "</think>\n",
      "\n",
      "파이썬은 프로그래밍 언어로, 1991년 바이런 헨리슨(Guido van Rossum)이 개발한 언어입니다. 이름은 \"Python\"으로, 간결하고 읽기 쉽도록 설계되었습니다. 이 언어는 **명확한 문법**, **간단한 구문**, **다양한 활용 분야**를 특징으로 합니다.\n",
      "\n",
      "### 주요 특징:\n",
      "1. **간결한 문법**: 코드가 짧고 직관적이며, 주어진 목표를 쉽게 달성할 수 있습니다.\n",
      "2. **다중 언어 지원**: Python은 C, C++, Java, JavaScript 등 다양한 언어의 기반을 지원합니다.\n",
      "3. **다양한 활용 분야**: 웹 개발, 데이터 분석, 인공지능(AI), 자동화, 라이브러리 활용 등 다양한 분야에서 사용됩니다.\n",
      "4. **오픈소스**: 자유롭게 사용, 수정, 배포할 수 있으며, 커뮤니티가 활발히 참여합니다.\n",
      "5. **정확한 예제**: `print(\"안녕하세요!\")`처럼 간단한 코드로 시작할 수 있습니다.\n",
      "\n",
      "### 주요 라이브러리:\n",
      "- **NumPy**: 데이터 분석에 사용\n",
      "- **Pandas**: 데이터 처리에 유용\n",
      "- **TensorFlow / PyTorch**: 인공지능에 활용\n",
      "- **Django / Flask**: 웹 개발에 사용\n",
      "\n",
      "### 사용자층:\n",
      "- **초보자**: 간단한 프로그래밍을 시작하는 사람들\n",
      "- **전문가**: 다양한 분야에서 복잡한 프로젝트를 개발하는 사람들\n",
      "\n",
      "### 특징 예:\n",
      "```python\n",
      "# 간단한 예제\n",
      "name = \"Python\"\n",
      "print(f\"안녕하세요, {name}!\")\n",
      "```\n",
      "\n",
      "파이썬은 **초보자도 쉽게 시작할 수 있는 언어**이며, **고성능으로 복잡한 프로젝트도 개발할 수 있는 강력한 도구**입니다. 다양한 분야에서 널리 사용되고 있으며, 커뮤니티가 활발히 참여하여 지속적으로 발전하고 있습니다.\n"
     ]
    }
   ],
   "source": [
    "from langchain_ollama import ChatOllama\n",
    "from langchain_core.prompts import ChatPromptTemplate\n",
    "\n",
    "# Ollama를 사용하여 로컬에서 실행 중인 llama3.2 모델 로드\n",
    "llm = ChatOllama(model=\"qwen3:1.7b\")\n",
    "\n",
    "# 더 정확한 응답을 위한 개선된 프롬프트\n",
    "prompt_template = ChatPromptTemplate.from_messages([\n",
    "    (\"system\", \"You are an AI assistant that provides accurate and detailed answers.\"),\n",
    "    (\"human\", \"Q: {question}\\nA:\")\n",
    "])\n",
    "\n",
    "# 최신 LangChain 방식: RunnableSequence 활용\n",
    "chain = prompt_template | llm\n",
    "\n",
    "# 실행 예시\n",
    "question = \"파이썬은 무엇인가요?\"\n",
    "response = chain.invoke({\"question\": question})\n",
    "\n",
    "print(response.content)"
   ]
  }
 ],
 "metadata": {
  "kernelspec": {
   "display_name": "mylangchain-app-SBe-Yh6W-py3.12",
   "language": "python",
   "name": "python3"
  },
  "language_info": {
   "codemirror_mode": {
    "name": "ipython",
    "version": 3
   },
   "file_extension": ".py",
   "mimetype": "text/x-python",
   "name": "python",
   "nbconvert_exporter": "python",
   "pygments_lexer": "ipython3",
   "version": "3.12.7"
  }
 },
 "nbformat": 4,
 "nbformat_minor": 2
}
