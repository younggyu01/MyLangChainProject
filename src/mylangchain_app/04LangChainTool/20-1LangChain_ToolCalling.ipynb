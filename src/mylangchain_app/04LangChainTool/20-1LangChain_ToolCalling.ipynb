{
 "cells": [
  {
   "cell_type": "markdown",
   "id": "bf1cf819",
   "metadata": {},
   "source": [
    "#### 1. 환경 설정\n",
    "\n",
    "* ctrl + shift + p -> Python: Restart Language Server 를 선택하면 노란 warning 줄이 사라집니다."
   ]
  },
  {
   "cell_type": "markdown",
   "id": "bc0cb932",
   "metadata": {},
   "source": [
    "`(1) Env 환경변수`"
   ]
  },
  {
   "cell_type": "code",
   "execution_count": 1,
   "id": "423dec5b",
   "metadata": {},
   "outputs": [
    {
     "name": "stdout",
     "output_type": "stream",
     "text": [
      "sk\n",
      "WA\n",
      "tvly\n"
     ]
    }
   ],
   "source": [
    "from dotenv import load_dotenv\n",
    "import os\n",
    "# .env 파일을 불러와서 환경 변수로 설정\n",
    "load_dotenv()\n",
    "\n",
    "OPENAI_API_KEY = os.getenv(\"OPENAI_API_KEY\")\n",
    "print(OPENAI_API_KEY[:2])\n",
    "\n",
    "UPSTAGE_API_KEY = os.getenv(\"UPSTAGE_API_KEY\")\n",
    "print(UPSTAGE_API_KEY[30:])\n",
    "\n",
    "TAVILY_API_KEY = os.getenv(\"TAVILY_API_KEY\")\n",
    "print(TAVILY_API_KEY[:4])"
   ]
  },
  {
   "cell_type": "markdown",
   "id": "b00b09cb",
   "metadata": {},
   "source": [
    "`(2) 라이브러리`"
   ]
  },
  {
   "cell_type": "code",
   "execution_count": 2,
   "id": "54412ba6",
   "metadata": {},
   "outputs": [],
   "source": [
    "import re\n",
    "import os, json\n",
    "\n",
    "from textwrap import dedent\n",
    "from pprint import pprint\n",
    "\n",
    "import warnings\n",
    "warnings.filterwarnings(\"ignore\")"
   ]
  },
  {
   "cell_type": "markdown",
   "id": "50e67655",
   "metadata": {},
   "source": [
    "## 2. 도구 호출 (Tool Calling)\n",
    "- 도구 호출은 LLM이 특정 작업을 수행하기 위해 외부 기능을 호출하는 기능\n",
    "- 이를 통해 LLM은 외부 API 통합 등 더 복잡한 작업을 수행할 수 있음 "
   ]
  },
  {
   "cell_type": "markdown",
   "id": "7bdccc6b",
   "metadata": {},
   "source": [
    "### 2-1. 랭체인 내장 도구\n",
    "- Tavily 웹 검색 도구 (예시)"
   ]
  },
  {
   "cell_type": "markdown",
   "id": "a6f7e257",
   "metadata": {},
   "source": [
    "`(1) 도구(tool) 정의하기`"
   ]
  },
  {
   "cell_type": "code",
   "execution_count": 19,
   "id": "7c85ed38",
   "metadata": {},
   "outputs": [
    {
     "name": "stdout",
     "output_type": "stream",
     "text": [
      "<class 'dict'>\n",
      "dict_keys(['title', 'url', 'content', 'score', 'raw_content'])\n",
      "0.9317675 https://mashija.com/%EC%8A%A4%ED%85%8C%EC%9D%B4%ED%81%AC%EC%99%80-%EC%96%B4%EC%9A%B8%EB%A6%AC%EB%8A%94-%EC%B5%9C%EA%B3%A0%EC%9D%98-%EC%99%80%EC%9D%B8-%EB%AC%B4%EC%97%87%EC%9D%84-%EA%B3%A0%EB%A5%BC-%EA%B2%83%EC%9D%B8/\n",
      "----------------------------------------------------------------------------------------------------\n",
      "<class 'dict'>\n",
      "dict_keys(['title', 'url', 'content', 'score', 'raw_content'])\n",
      "0.93161833 https://alcohol.hobby-tech.com/entry/%EC%8A%A4%ED%85%8C%EC%9D%B4%ED%81%AC%EC%99%80-%EC%B0%B0%EB%96%A1%EA%B6%81%ED%95%A9-%EC%8A%A4%ED%85%8C%EC%9D%B4%ED%81%AC%EC%97%90-%EC%96%B4%EC%9A%B8%EB%A6%AC%EB%8A%94-%EC%99%80%EC%9D%B8-5%EA%B0%80%EC%A7%80\n",
      "----------------------------------------------------------------------------------------------------\n",
      "<class 'dict'>\n",
      "dict_keys(['title', 'url', 'content', 'score', 'raw_content'])\n",
      "0.9061314 https://m.blog.naver.com/wineislikeacat/223096696241\n",
      "----------------------------------------------------------------------------------------------------\n"
     ]
    }
   ],
   "source": [
    "from langchain_community.tools import TavilySearchResults\n",
    "\n",
    "# 검색할 쿼리 설정\n",
    "query = \"스테이크와 어울리는 와인을 추천해주세요.\"\n",
    "\n",
    "# Tavily 검색 도구 초기화 (최대 3개의 결과 반환)\n",
    "#web_search = TavilySearchResults(max_results=2)\n",
    "web_search = TavilySearchResults(\n",
    "    # 검색 결과의 최대 개수를 3개로 제한합니다.\n",
    "    max_results=3,\n",
    "\n",
    "    # 검색 깊이를 \"고급(advanced)\"으로 설정합니다.\n",
    "    # 일반(basic) 검색보다 더 깊이 있고 포괄적인 결과를 제공해 복잡한 질문에 더 적합합니다.\n",
    "    search_depth=\"advanced\",\n",
    "\n",
    "    # 검색 결과에 질문에 대한 요약된 답변을 포함시킵니다.\n",
    "    # 이를 통해 에이전트가 별도의 추론 없이 핵심 정보를 빠르게 얻을 수 있습니다.\n",
    "    include_answer=True,\n",
    "\n",
    "    # 검색 결과에 원본 웹페이지의 전체 콘텐츠를 포함시킵니다.\n",
    "    # 답변에 대한 더 자세한 맥락이나 원문이 필요할 때 유용합니다.\n",
    "    include_raw_content=True,\n",
    "\n",
    "    # 검색 결과에 관련된 이미지를 포함시킵니다.\n",
    "    # 시각적인 정보가 필요한 경우(예: 특정 장소, 제품 등) 유용합니다.\n",
    "    include_images=True,\n",
    ")\n",
    "\n",
    "# 웹 검색 실행\n",
    "search_results = web_search.invoke(query)\n",
    "\n",
    "# 검색 결과 출력 [dict, dict]\n",
    "for result in search_results:\n",
    "    print(type(result))\n",
    "    print(result.keys())  \n",
    "    print(result['score'], result['url'])\n",
    "    print(\"-\" * 100)  "
   ]
  },
  {
   "cell_type": "code",
   "execution_count": 6,
   "id": "b6791575",
   "metadata": {},
   "outputs": [
    {
     "name": "stdout",
     "output_type": "stream",
     "text": [
      "자료형: \n",
      "<class 'langchain_community.tools.tavily_search.tool.TavilySearchResults'>\n",
      "----------------------------------------------------------------------------------------------------\n",
      "name: \n",
      "tavily_search_results_json\n",
      "----------------------------------------------------------------------------------------------------\n",
      "description: \n",
      "('A search engine optimized for comprehensive, accurate, and trusted results. '\n",
      " 'Useful for when you need to answer questions about current events. Input '\n",
      " 'should be a search query.')\n",
      "----------------------------------------------------------------------------------------------------\n",
      "schema: \n",
      "{'description': 'Input for the Tavily tool.',\n",
      " 'properties': {'query': {'description': 'search query to look up',\n",
      "                          'title': 'Query',\n",
      "                          'type': 'string'}},\n",
      " 'required': ['query'],\n",
      " 'title': 'TavilyInput',\n",
      " 'type': 'object'}\n",
      "----------------------------------------------------------------------------------------------------\n"
     ]
    }
   ],
   "source": [
    "# 도구 속성\n",
    "print(\"자료형: \")\n",
    "print(type(web_search))\n",
    "print(\"-\"*100)\n",
    "\n",
    "print(\"name: \")\n",
    "print(web_search.name)\n",
    "print(\"-\"*100)\n",
    "\n",
    "print(\"description: \")\n",
    "pprint(web_search.description)\n",
    "print(\"-\"*100)\n",
    "\n",
    "print(\"schema: \")\n",
    "pprint(web_search.args_schema.schema())\n",
    "print(\"-\"*100)"
   ]
  },
  {
   "cell_type": "markdown",
   "id": "88b600d9",
   "metadata": {},
   "source": [
    "`(2) 도구(tool) 호출하기`"
   ]
  },
  {
   "cell_type": "code",
   "execution_count": 4,
   "id": "51a3633c",
   "metadata": {},
   "outputs": [
    {
     "name": "stdout",
     "output_type": "stream",
     "text": [
      "gpt-4o-mini\n",
      "<class 'langchain_core.runnables.base.RunnableBinding'>\n"
     ]
    }
   ],
   "source": [
    "from langchain_openai import ChatOpenAI\n",
    "# ChatOpenAI 모델 초기화\n",
    "llm = ChatOpenAI(model=\"gpt-4o-mini\")\n",
    "\n",
    "# from langchain_upstage import ChatUpstage\n",
    "# llm = ChatUpstage(\n",
    "#         model=\"solar-pro\",\n",
    "#         base_url=\"https://api.upstage.ai/v1\",\n",
    "#         temperature=0.5\n",
    "#     )\n",
    "print(llm.model_name)\n",
    "\n",
    "# 웹 검색 도구를 직접 LLM에 바인딩 가능\n",
    "llm_with_tools = llm.bind_tools(tools=[web_search])\n",
    "print(type(llm_with_tools))"
   ]
  },
  {
   "cell_type": "code",
   "execution_count": 9,
   "id": "17d2468d",
   "metadata": {},
   "outputs": [
    {
     "name": "stdout",
     "output_type": "stream",
     "text": [
      "AIMessage(content='안녕하세요! 어떻게 도와드릴 수 있을까요? 😊  \\n\\n질문이나 요청 사항이 있다면 알려주시면 최대한 정확하고 간결하게 답변드리겠습니다.  \\n\\n(기능 호출이 필요한 질문인 경우, 위의 기준에 따라 필요한 함수만 최소로 호출하겠습니다.)', additional_kwargs={'refusal': None}, response_metadata={'token_usage': {'completion_tokens': 48, 'prompt_tokens': 533, 'total_tokens': 581, 'completion_tokens_details': {'accepted_prediction_tokens': 0, 'audio_tokens': 0, 'reasoning_tokens': 0, 'rejected_prediction_tokens': 0}, 'prompt_tokens_details': {'audio_tokens': 0, 'cached_tokens': 0}}, 'model_name': 'solar-pro2-250909', 'system_fingerprint': None, 'id': '8b19a79a-4bfb-4b65-834b-63c827ac19f6', 'service_tier': None, 'finish_reason': 'stop', 'logprobs': None}, id='run--22e079c6-5d24-4c90-b8c6-a60b0f5808db-0', usage_metadata={'input_tokens': 533, 'output_tokens': 48, 'total_tokens': 581, 'input_token_details': {'audio': 0, 'cache_read': 0}, 'output_token_details': {'audio': 0, 'reasoning': 0}})\n",
      "----------------------------------------------------------------------------------------------------\n",
      "('안녕하세요! 어떻게 도와드릴 수 있을까요? 😊  \\n'\n",
      " '\\n'\n",
      " '질문이나 요청 사항이 있다면 알려주시면 최대한 정확하고 간결하게 답변드리겠습니다.  \\n'\n",
      " '\\n'\n",
      " '(기능 호출이 필요한 질문인 경우, 위의 기준에 따라 필요한 함수만 최소로 호출하겠습니다.)')\n",
      "----------------------------------------------------------------------------------------------------\n",
      "[]\n",
      "----------------------------------------------------------------------------------------------------\n"
     ]
    }
   ],
   "source": [
    "# 도구 호출이 필요 없는 LLM 호출을 수행\n",
    "query = \"안녕하세요?\"\n",
    "ai_msg = llm_with_tools.invoke(query)\n",
    "\n",
    "# LLM의 전체 출력 결과 출력\n",
    "pprint(ai_msg)\n",
    "print(\"-\" * 100)\n",
    "\n",
    "# 메시지 content 속성 (텍스트 출력)\n",
    "pprint(ai_msg.content)\n",
    "print(\"-\" * 100)\n",
    "\n",
    "# LLM이 호출한 도구 정보 출력\n",
    "pprint(ai_msg.tool_calls) #[]\n",
    "print(\"-\" * 100)"
   ]
  },
  {
   "cell_type": "code",
   "execution_count": 5,
   "id": "dd8df009",
   "metadata": {},
   "outputs": [
    {
     "name": "stdout",
     "output_type": "stream",
     "text": [
      "<class 'langchain_core.messages.ai.AIMessage'>\n",
      "{'additional_kwargs': {'refusal': None,\n",
      "                       'tool_calls': [{'function': {'arguments': '{\"query\": '\n",
      "                                                                 '\"스테이크 와인 '\n",
      "                                                                 '추천\"}',\n",
      "                                                    'name': 'tavily_search_results_json'},\n",
      "                                       'id': 'call_etHIv7cEV2d7Vv2x7wqOuJX3',\n",
      "                                       'type': 'function'},\n",
      "                                      {'function': {'arguments': '{\"query\": '\n",
      "                                                                 '\"스테이크에 잘 '\n",
      "                                                                 '어울리는 와인 종류\"}',\n",
      "                                                    'name': 'tavily_search_results_json'},\n",
      "                                       'id': 'call_HJX93iSj2H2fsF2Hlf37MEMV',\n",
      "                                       'type': 'function'}]},\n",
      " 'content': '',\n",
      " 'example': False,\n",
      " 'id': 'run--9672818b-1b51-4cc2-88ba-6c0fa28d7a71-0',\n",
      " 'invalid_tool_calls': [],\n",
      " 'name': None,\n",
      " 'response_metadata': {'finish_reason': 'tool_calls',\n",
      "                       'id': 'chatcmpl-CJEcAVzyurl3QQ43EyOrI2EblpyzT',\n",
      "                       'logprobs': None,\n",
      "                       'model_name': 'gpt-4o-mini-2024-07-18',\n",
      "                       'service_tier': 'default',\n",
      "                       'system_fingerprint': 'fp_560af6e559',\n",
      "                       'token_usage': {'completion_tokens': 67,\n",
      "                                       'completion_tokens_details': {'accepted_prediction_tokens': 0,\n",
      "                                                                     'audio_tokens': 0,\n",
      "                                                                     'reasoning_tokens': 0,\n",
      "                                                                     'rejected_prediction_tokens': 0},\n",
      "                                       'prompt_tokens': 91,\n",
      "                                       'prompt_tokens_details': {'audio_tokens': 0,\n",
      "                                                                 'cached_tokens': 0},\n",
      "                                       'total_tokens': 158}},\n",
      " 'tool_calls': [{'args': {'query': '스테이크 와인 추천'},\n",
      "                 'id': 'call_etHIv7cEV2d7Vv2x7wqOuJX3',\n",
      "                 'name': 'tavily_search_results_json',\n",
      "                 'type': 'tool_call'},\n",
      "                {'args': {'query': '스테이크에 잘 어울리는 와인 종류'},\n",
      "                 'id': 'call_HJX93iSj2H2fsF2Hlf37MEMV',\n",
      "                 'name': 'tavily_search_results_json',\n",
      "                 'type': 'tool_call'}],\n",
      " 'type': 'ai',\n",
      " 'usage_metadata': {'input_token_details': {'audio': 0, 'cache_read': 0},\n",
      "                    'input_tokens': 91,\n",
      "                    'output_token_details': {'audio': 0, 'reasoning': 0},\n",
      "                    'output_tokens': 67,\n",
      "                    'total_tokens': 158}}\n"
     ]
    }
   ],
   "source": [
    "from pprint import pprint\n",
    "\n",
    "# 도구 호출이 필요한 LLM 호출을 수행\n",
    "query = \"스테이크와 어울리는 와인을 추천해주세요.\"\n",
    "#query = \"최근에 가장 인기있는 파스타 식당을 추천해주세요\"\n",
    "ai_message = llm_with_tools.invoke(query)\n",
    "print(type(ai_message))\n",
    "\n",
    "# AIMessage의 속성 확인\n",
    "pprint(vars(ai_message))"
   ]
  },
  {
   "cell_type": "code",
   "execution_count": 6,
   "id": "2dcc0f63",
   "metadata": {},
   "outputs": [
    {
     "name": "stdout",
     "output_type": "stream",
     "text": [
      "AIMessage(content='', additional_kwargs={'tool_calls': [{'id': 'call_etHIv7cEV2d7Vv2x7wqOuJX3', 'function': {'arguments': '{\"query\": \"스테이크 와인 추천\"}', 'name': 'tavily_search_results_json'}, 'type': 'function'}, {'id': 'call_HJX93iSj2H2fsF2Hlf37MEMV', 'function': {'arguments': '{\"query\": \"스테이크에 잘 어울리는 와인 종류\"}', 'name': 'tavily_search_results_json'}, 'type': 'function'}], 'refusal': None}, response_metadata={'token_usage': {'completion_tokens': 67, 'prompt_tokens': 91, 'total_tokens': 158, 'completion_tokens_details': {'accepted_prediction_tokens': 0, 'audio_tokens': 0, 'reasoning_tokens': 0, 'rejected_prediction_tokens': 0}, 'prompt_tokens_details': {'audio_tokens': 0, 'cached_tokens': 0}}, 'model_name': 'gpt-4o-mini-2024-07-18', 'system_fingerprint': 'fp_560af6e559', 'id': 'chatcmpl-CJEcAVzyurl3QQ43EyOrI2EblpyzT', 'service_tier': 'default', 'finish_reason': 'tool_calls', 'logprobs': None}, id='run--9672818b-1b51-4cc2-88ba-6c0fa28d7a71-0', tool_calls=[{'name': 'tavily_search_results_json', 'args': {'query': '스테이크 와인 추천'}, 'id': 'call_etHIv7cEV2d7Vv2x7wqOuJX3', 'type': 'tool_call'}, {'name': 'tavily_search_results_json', 'args': {'query': '스테이크에 잘 어울리는 와인 종류'}, 'id': 'call_HJX93iSj2H2fsF2Hlf37MEMV', 'type': 'tool_call'}], usage_metadata={'input_tokens': 91, 'output_tokens': 67, 'total_tokens': 158, 'input_token_details': {'audio': 0, 'cache_read': 0}, 'output_token_details': {'audio': 0, 'reasoning': 0}})\n",
      "####################################################################################################\n",
      "''\n",
      "****************************************************************************************************\n",
      "[{'args': {'query': '스테이크 와인 추천'},\n",
      "  'id': 'call_etHIv7cEV2d7Vv2x7wqOuJX3',\n",
      "  'name': 'tavily_search_results_json',\n",
      "  'type': 'tool_call'},\n",
      " {'args': {'query': '스테이크에 잘 어울리는 와인 종류'},\n",
      "  'id': 'call_HJX93iSj2H2fsF2Hlf37MEMV',\n",
      "  'name': 'tavily_search_results_json',\n",
      "  'type': 'tool_call'}]\n",
      "----------------------------------------------------------------------------------------------------\n"
     ]
    }
   ],
   "source": [
    "\n",
    "pprint(ai_message)\n",
    "print(\"#\" * 100)\n",
    "\n",
    "# 메시지 content 속성 (텍스트 출력)\n",
    "pprint(ai_message.content)\n",
    "print(\"*\" * 100)\n",
    "\n",
    "# LLM이 호출한 도구 정보 출력\n",
    "pprint(ai_message.tool_calls)\n",
    "print(\"-\" * 100)"
   ]
  },
  {
   "cell_type": "code",
   "execution_count": 7,
   "id": "84d0d45d",
   "metadata": {},
   "outputs": [
    {
     "name": "stdout",
     "output_type": "stream",
     "text": [
      "{'args': {'query': '스테이크 와인 추천'},\n",
      " 'id': 'call_etHIv7cEV2d7Vv2x7wqOuJX3',\n",
      " 'name': 'tavily_search_results_json',\n",
      " 'type': 'tool_call'}\n"
     ]
    }
   ],
   "source": [
    "tool_call = ai_message.tool_calls[0]\n",
    "\n",
    "pprint(tool_call)"
   ]
  },
  {
   "cell_type": "markdown",
   "id": "86835305",
   "metadata": {},
   "source": [
    "`(3) 도구(tool) 실행하기`"
   ]
  },
  {
   "cell_type": "markdown",
   "id": "1b75bf7f",
   "metadata": {},
   "source": [
    "##### Tool 직접 호출하여 바로 ToolMessage 객체 생성\n",
    "\n",
    "* 이 방법은 도구를 직접 호출하여 ToolMessage 객체를 생성한다.\n",
    "* 가장 간단하고 직관적인 방법으로, LangChain의 추상화를 활용한다."
   ]
  },
  {
   "cell_type": "code",
   "execution_count": 8,
   "id": "0f39f32b",
   "metadata": {},
   "outputs": [
    {
     "name": "stdout",
     "output_type": "stream",
     "text": [
      "<class 'langchain_core.messages.tool.ToolMessage'>\n",
      "\n",
      "=== 주요 속성들 ===\n",
      "content: [{\"title\": \"스테이크와 어울리는 최고의 와인: 무엇을 고를 것인가? - 마시자 매거진\", \"url\": \"https://mashija.com/%EC%8A%A4%ED%85%8C%EC%9D%B4%ED%81%AC%EC%99%80-%EC%96%B4%EC%9A%B8%EB%A6%AC%EB%8A%94-%EC%B5%9C%EA%B3%A0%EC%9D%98-%EC%99%80%EC%9D%B8-%EB%AC%B4%EC%97%87%EC%9D%84-%EA%B3%A0%EB%A5%BC-%EA%B2%83%EC%9D%B8/\", \"content\": \"# 스테이크와 어울리는 최고의 와인: 무엇을 고를 것인가?\\n\\n카베르네 소비뇽(Cabernet Sauvignon) 및 말벡(Malbec)과 같은 전형적인 선택부터 더 가벼운 레드 와인, 심지어 화이트 와인과 맛있는 스테이크를 페어링하는 방법까지, 우리의 아카이브에서 가져온 최고의 조언과 최근 디캔터 전문가가 추천한 와인을 소개한다.\\n\\n<스테이크를 곁들인 레드 와인을 위한 5가지 전형적인 선택>\\n\\n• 카베르네 소비뇽(Cabernet Sauvignon)  \\n• 말벡(Malbec)  \\n• 그르나슈/쉬라즈 블렌드(Grenache / Shiraz blends)  \\n• 시라/쉬라즈(Syrah / Shiraz)  \\n• 산지오베제(Sangiovese)\\n\\n육즙이 풍부한 스테이크와 맛있는 와인이 있는 저녁 식사는 적어도 고기 애호가들에게 인생의 큰 즐거움일 것이다. [...] 와인과 음식 페어링에서 새로운 시도를 하는 것은 항상 재미있지만, 특별한 스테이크 저녁 식사를 준비할 때 고려해야 할 몇 가지 스타일과 주의사항이 있다.\\n\\n<스테이크에 곁들이는 레드 와인>\\n\\n이 포도 품종을 세계 와인 무대에 재등장시키고 고품질 쇠고기에 대한 국가의 명성을 가진 아르헨티나 덕분에, 말벡 레드 와인은 스테이크와 함께 고전적인 매칭이 되었다.\\n\\n말벡의 풍부한 짙은 과일의 특징과 자연스러운 타닌은 일반적으로 좋은 스테이크와 잘 어울린다고 여겨지지만, 일부 전문가들은 더 신선한 스타일을 찾는 것을 제안한다.\\n\\n2018년 디캔터 월드 와인 어워드(Decanter World Wine Awards)에서 아르헨티나 지역 의장이었던 남미 와인 전문가이자 저널리스트인 파트리시오 타피아(Patricio Tapia)는 ‘나는 오크가 적고 신선한 과일과 더 좋은 산도를 가진 ‘뉴 웨이브(new wave)’ 말벡을 선택하는 경향이 있다.’라고 말한다. [...] ‘특히 우코 밸리(Uco Valley)의 알타미라(Altamira) 및 괄타라리(Gualtallary)와 같은 곳에서 안데스산맥 쪽의 와인들이며, 와인 한 잔의 주요 임무는 음식에 활력을 주는 것임을 항상 명심하라.’고 그는 덧붙였다.\\n\\n진한 색의 과일, 타닌, 자연적으로 높은 산도가 조화를 이루는 카베르네 소비뇽 와인은 풀바디 레드 와인을 즐기고 싶다면 할 수 있는 또 다른 고전적인 선택이다.\\n\\n와인 전문가 카렌 맥닐(Karen MacNeil)은 음식과 와인 페어링에 대한 10가지 규칙에서 ‘구운(grilled) 스테이크를 곁들인 파워풀한 캘리포니아 카베르네 소비뇽은 이길 수 없다’라고 언급했다.\\n\\n– 스테이크와 레드 와인에 대한 추가 옵션 –\\n\\n2018년 디캔터와의 인터뷰에서 피터 리차즈(Peter Richards MW)는 “사람들이 스테이크와 함께 곁들일 와인으로 말벡이나 카베르네 소비뇽의 전통적인 조합을 뛰어넘어 볼 것을 강조한다.”라고 하였다.\", \"score\": 0.8987045, \"raw_content\": \"# 스테이크와 어울리는 최고의 와인: 무엇을 고를 것인가?\\n\\n카베르네 소비뇽(Cabernet Sauvignon) 및 말벡(Malbec)과 같은 전형적인 선택부터 더 가벼운 레드 와인, 심지어 화이트 와인과 맛있는 스테이크를 페어링하는 방법까지, 우리의 아카이브에서 가져온 최고의 조언과 최근 디캔터 전문가가 추천한 와인을 소개한다.\\n\\n**<스테이크를 곁들인 레드 와인을 위한 5가지 전형적인 선택>**\\n\\n• 카베르네 소비뇽(Cabernet Sauvignon)  \\n• 말벡(Malbec)  \\n• 그르나슈/쉬라즈 블렌드(Grenache / Shiraz blends)  \\n• 시라/쉬라즈(Syrah / Shiraz)  \\n• 산지오베제(Sangiovese)\\n\\n육즙이 풍부한 스테이크와 맛있는 와인이 있는 저녁 식사는 적어도 고기 애호가들에게 인생의 큰 즐거움일 것이다.\\n\\n와인과 음식 페어링에서 새로운 시도를 하는 것은 항상 재미있지만, 특별한 스테이크 저녁 식사를 준비할 때 고려해야 할 몇 가지 스타일과 주의사항이 있다.\\n\\n**<스테이크에 곁들이는 레드 와인>**\\n\\n이 포도 품종을 세계 와인 무대에 재등장시키고 고품질 쇠고기에 대한 국가의 명성을 가진 아르헨티나 덕분에, 말벡 레드 와인은 스테이크와 함께 고전적인 매칭이 되었다.\\n\\n말벡의 풍부한 짙은 과일의 특징과 자연스러운 타닌은 일반적으로 좋은 스테이크와 잘 어울린다고 여겨지지만, 일부 전문가들은 더 신선한 스타일을 찾는 것을 제안한다.\\n\\n2018년 디캔터 월드 와인 어워드(Decanter World Wine Awards)에서 아르헨티나 지역 의장이었던 남미 와인 전문가이자 저널리스트인 파트리시오 타피아(Patricio Tapia)는 ‘나는 오크가 적고 신선한 과일과 더 좋은 산도를 가진 ‘뉴 웨이브(new wave)’ 말벡을 선택하는 경향이 있다.’라고 말한다.\\n\\n‘특히 우코 밸리(Uco Valley)의 알타미라(Altamira) 및 괄타라리(Gualtallary)와 같은 곳에서 안데스산맥 쪽의 와인들이며, 와인 한 잔의 주요 임무는 음식에 활력을 주는 것임을 항상 명심하라.’고 그는 덧붙였다.\\n\\n진한 색의 과일, 타닌, 자연적으로 높은 산도가 조화를 이루는 카베르네 소비뇽 와인은 풀바디 레드 와인을 즐기고 싶다면 할 수 있는 또 다른 고전적인 선택이다.\\n\\n와인 전문가 카렌 맥닐(Karen MacNeil)은 음식과 와인 페어링에 대한 10가지 규칙에서 ‘구운(grilled) 스테이크를 곁들인 파워풀한 캘리포니아 카베르네 소비뇽은 이길 수 없다’라고 언급했다.\\n\\n– **스테이크와 레드 와인에 대한 추가 옵션 –**\\n\\n2018년 디캔터와의 인터뷰에서 피터 리차즈(Peter Richards MW)는 “사람들이 스테이크와 함께 곁들일 와인으로 말벡이나 카베르네 소비뇽의 전통적인 조합을 뛰어넘어 볼 것을 강조한다.”라고 하였다.\\n\\n‘멋지고 생동감 넘치는 카베르네 프랑(Cabernet Franc)은 어떤가? 아니면 카리냥(Carignan), 쌩소(Cinsault) 또는 서늘한 기후에서 생산한 시라(Syrah)는 어떨까? DWWA 칠레 지역 의장이자 Decanter Retailer Awards 회장인 리차즈는 “풀바디하지만 우아한 로제(rosé)도 따뜻한 날에는 잘 어울린다.”라고 말했다.\\n\\n그는 바디감과 질감이 있지만 스테이크 저녁 식사 중에 미각을 상쾌하게 할 수 있는 레드 와인을 즐긴다고 말하며, ‘스테이크의 리스크은 ‘무거운 육류 맛 = 무거운 와인’이라고 생각하는 것이다.’라고 말했다.\\n\\n**– 피노 누아(Pinot Noir)는 스테이크와 어울리는가? –**\\n\\n대부분의 피노 누아 와인은 스펙트럼의 라이트에서 미디엄 바디에 위치하는 경향이 있으므로, 그 프로필은 종종 더 가벼운 스타일의 육류와 페어링이 주를 이룬다.\\n\\n그럼에도, 피노 누아의 자연스러운 산도와 붉은 베리 과일은 스타일과 컷(cut)에 따라 스테이크 식사와 잘 어울린다.\\n\\n일반적으로 레어(rare)에서 미디엄 레어(medium-rare)로 요리된 필레(fillet)처럼 더 얇게 잘린 부위로 시도해 보자.\\n\\n음식과 와인 전문가인 피오나 베켓(Fiona Becket)이 2007년 디캔터에서 스테이크와 함께 몇 가지의 고급 와인을 테이스팅한 후, ‘나는 일반적으로 피노 누아를 스테이크와 궁합이라고 생각하지 않지만, 고기를 레어(rare)로 요리했을 때 지금까지 최고의 궁합은 클래식하게 실크처럼 부드럽고 매혹적인 다니엘 리옹의 본 로마네(Daniel Rion, Vosne-Romanée 2001)이다’라고 썼다.\\n\\n**– 자르는 법: 립아이 스테이크(ribeye steak) 또는 필레(fillet)와 함께 와인을 원하는가? –**\\n\\n‘와인과 소고기를 페어링하는 가장 쉬운 방법은 소고기와 와인의 풍미 강도를 일치시키는 방법에 대해 생각하는 것이다.’라고 Hawksmoor 스테이크하우스 레스토랑의 와인 디렉터인 마크 퀵(Mark Quick)이 와인과 쇠고기의 페어링에 관한 심층 기사에서 언급했다.\\n\\n예를 들어 고기의 지방 함량을 고려하라. ‘지방이 많을수록 소고기 맛이 더 강해진다.’라고 2020년 디캔터와의 인터뷰에서 퀵은 언급했다.\\n\\n다양한 부위의 페어링에 관한 2007년 기사에서 베켓은 상대적으로 지방 함량이 높은 립아이 스테이크가 넉넉하고 잘 익은 풀바디를 가진 론 북부의 시라(Syrah) 요새의 코뜨 로띠(Côte-Rôtie)와 슈퍼 투스칸(Super Tuscan)과 잘 어울린다.’라고 언급했다.\\n\\n베켓은 또한 잘 익은 스테이크에 더 익은 과일 위주의 스타일의 레드 와인을 추천했다.\\n\\n**– 소스 문제 –**\\n\\n리차즈는 ‘와인을 선택할 때 소스와 사이드 디쉬도 마찬가지로 중요할 것이다. 베아네즈(béarnaise) 같은 크리미한 소스는 오크 향이 나는 와인과 잘 어울린다. 시라는 후추와 잘 어울린다.’라고 말했다.\\n\\n**<화이트 와인과 스테이크>**\\n\\n깜짝 놀란 마음을 무시하고, 스테이크 저녁 식사는 화이트 와인을 위한 장소가 아니라는 오래된 진언을 잊어버리지 않겠는가?\\n\\n결국 와인 세계에서 발견은 가장 흥미로운 것이다. 우리 기사에서 Le Cordon Bleu London의 마티유 롱게르(Matthieu Longuère MS)는 화이트 와인을 스테이크 및 기타 붉은 고기와 페어링할 수 있는 가능성에 관해 이야기한다.\\n\\n그는 숙성한 화이트 리오하(Rioja) 와인에서 피노 그리지오(Pinot Grigio)와 같은 다른 스타일에 맞게 식사를 미묘하게 조정하는 방법에 대한 생각에 이르기까지 다양한 옵션에 관해 썼다.\\n\\n작성자 Chris Mercer / 번역자 Bora Kim / [원문 기사 보기](https://www.decanter.com/learn/advice/wine-steak-ask-decanter-400770/) / 이 기사는 Decanter의 저작물입니다.\\n\\nTags:\\n\\n* [마시자매거진](https://mashija.com/tag/%eb%a7%88%ec%8b%9c%ec%9e%90%eb%a7%a4%ea%b1%b0%ec%a7%84/)\\n* [소고기와인](https://mashija.com/tag/%ec%86%8c%ea%b3%a0%ea%b8%b0%ec%99%80%ec%9d%b8/)\\n* [스테이크와인](https://mashija.com/tag/%ec%8a%a4%ed%85%8c%ec%9d%b4%ed%81%ac%ec%99%80%ec%9d%b8/)\\n* [와인추천](https://mashija.com/tag/%ec%99%80%ec%9d%b8%ec%b6%94%ec%b2%9c/)\\n* [와인페어링](https://mashija.com/tag/%ec%99%80%ec%9d%b8%ed%8e%98%ec%96%b4%eb%a7%81/)\\n\\n[Bora Kim](https://mashija.com/author/bora-kim/)\\n\\nathur@winevision.kr\\n\\n1\\n\\n\\n\\nPrevious Article\\n\\n[달달한 포도를 바구니로 달아 넣는 와인, 헝가리의 토카이 와인 이야기](https://mashija.com/%eb%8b%ac%eb%8b%ac%ed%95%9c-%ed%8f%ac%eb%8f%84%eb%a5%bc-%eb%b0%94%ea%b5%ac%eb%8b%88%eb%a1%9c-%eb%8b%ac%ec%95%84-%eb%84%a3%eb%8a%94-%ec%99%80%ec%9d%b8-%ed%97%9d%ea%b0%80%eb%a6%ac%ec%9d%98-%ed%86%a0/)\\n\\nNext Article\\n\\n[[1월 마지막 주] mashija 이슈 브리핑 – MZ세대가 설에 가장 받고 싶은 선물은? 外](https://mashija.com/1%ec%9b%94-%eb%a7%88%ec%a7%80%eb%a7%89-%ec%a3%bc-mashija-%ec%9d%b4%ec%8a%88-%eb%b8%8c%eb%a6%ac%ed%95%91-mz%ec%84%b8%eb%8c%80%ea%b0%80-%ec%84%a4%ec%97%90-%ea%b0%80%ec%9e%a5-%eb%b0%9b%ea%b3%a0/)\\n\\n### You Might also Like\\n\\n[[8월 첫째 주] mashija 이슈 브리핑 – 경계 허무는 주류·뷰티 업계 外](https://mashija.com/8%ec%9b%94-%ec%b2%ab%ec%a7%b8-%ec%a3%bc-mashija-%ec%9d%b4%ec%8a%88-%eb%b8%8c%eb%a6%ac%ed%95%91-%ea%b2%bd%ea%b3%84-%ed%97%88%eb%ac%b4%eb%8a%94-%ec%a3%bc%eb%a5%98%c2%b7%eb%b7%b0%ed%8b%b0-%ec%97%85/)\\n\\n[Olivia Cho](https://mashija.com/author/olivia-cho/)\\n8월 08\\n\\n[[7월 다섯째 주] mashija 이슈 브리핑 – “한 잔씩, 가볍게” 글라스 와인이 바꾼 와인 소비 문화 外](https://mashija.com/7%ec%9b%94-%eb%8b%a4%ec%84%af%ec%a7%b8-%ec%a3%bc-mashija-%ec%9d%b4%ec%8a%88-%eb%b8%8c%eb%a6%ac%ed%95%91-%ed%95%9c-%ec%9e%94%ec%94%a9-%ea%b0%80%eb%b3%8d%ea%b2%8c-%ea%b8%80/)\\n\\n[Olivia Cho](https://mashija.com/author/olivia-cho/)\\n8월 01\\n\\n[[7월 넷째 주] mashija 이슈 브리핑 – 주류업계, 여름 성수기 맞아 체험 마케팅 본격화 外](https://mashija.com/7%ec%9b%94-%eb%84%b7%ec%a7%b8-%ec%a3%bc-mashija-%ec%9d%b4%ec%8a%88-%eb%b8%8c%eb%a6%ac%ed%95%91-%ec%a3%bc%eb%a5%98%ec%97%85%ea%b3%84-%ec%97%ac%eb%a6%84-%ec%84%b1%ec%88%98%ea%b8%b0-%eb%a7%9e/)\\n\\n[Olivia Cho](https://mashija.com/author/olivia-cho/)\\n7월 25\\n\\n[[7월 셋째 주] mashija 이슈 브리핑 – 국세청, 주류제조 면허 확대…위스키·소주 규제 완화 外](https://mashija.com/7%ec%9b%94-%ec%85%8b%ec%a7%b8-%ec%a3%bc-mashija-%ec%9d%b4%ec%8a%88-%eb%b8%8c%eb%a6%ac%ed%95%91-%ea%b5%ad%ec%84%b8%ec%b2%ad-%ec%a3%bc%eb%a5%98%ec%a0%9c%ec%a1%b0-%eb%a9%b4%ed%97%88-%ed%99%95/)\\n\\n[Olivia Cho](https://mashija.com/author/olivia-cho/)\\n7월 17\\n\\n### Leave a Comment [Cancel Comment](/%EC%8A%A4%ED%85%8C%EC%9D%B4%ED%81%AC%EC%99%80-%EC%96%B4%EC%9A%B8%EB%A6%AC%EB%8A%94-%EC%B5%9C%EA%B3%A0%EC%9D%98-%EC%99%80%EC%9D%B8-%EB%AC%B4%EC%97%87%EC%9D%84-%EA%B3%A0%EB%A5%BC-%EA%B2%83%EC%9D%B8/#respond)\\n\\n### Related Stories\\n\\n[[8월 첫째 주] mashija 이슈 브리핑 – 경계 허무는 주류·뷰티 업계 外](https://mashija.com/8%ec%9b%94-%ec%b2%ab%ec%a7%b8-%ec%a3%bc-mashija-%ec%9d%b4%ec%8a%88-%eb%b8%8c%eb%a6%ac%ed%95%91-%ea%b2%bd%ea%b3%84-%ed%97%88%eb%ac%b4%eb%8a%94-%ec%a3%bc%eb%a5%98%c2%b7%eb%b7%b0%ed%8b%b0-%ec%97%85/)\\n\\n[[7월 다섯째 주] mashija 이슈 브리핑 – “한 잔씩, 가볍게” 글라스 와인이 바꾼 와인 소비 문화 外](https://mashija.com/7%ec%9b%94-%eb%8b%a4%ec%84%af%ec%a7%b8-%ec%a3%bc-mashija-%ec%9d%b4%ec%8a%88-%eb%b8%8c%eb%a6%ac%ed%95%91-%ed%95%9c-%ec%9e%94%ec%94%a9-%ea%b0%80%eb%b3%8d%ea%b2%8c-%ea%b8%80/)\\n\\n[[7월 넷째 주] mashija 이슈 브리핑 – 주류업계, 여름 성수기 맞아 체험 마케팅 본격화 外](https://mashija.com/7%ec%9b%94-%eb%84%b7%ec%a7%b8-%ec%a3%bc-mashija-%ec%9d%b4%ec%8a%88-%eb%b8%8c%eb%a6%ac%ed%95%91-%ec%a3%bc%eb%a5%98%ec%97%85%ea%b3%84-%ec%97%ac%eb%a6%84-%ec%84%b1%ec%88%98%ea%b8%b0-%eb%a7%9e/)\\n\\n[[7월 셋째 주] mashija 이슈 브리핑 – 국세청, 주류제조 면허 확대…위스키·소주 규제 완화 外](https://mashija.com/7%ec%9b%94-%ec%85%8b%ec%a7%b8-%ec%a3%bc-mashija-%ec%9d%b4%ec%8a%88-%eb%b8%8c%eb%a6%ac%ed%95%91-%ea%b5%ad%ec%84%b8%ec%b2%ad-%ec%a3%bc%eb%a5%98%ec%a0%9c%ec%a1%b0-%eb%a9%b4%ed%97%88-%ed%99%95/)\\n\\n### Next Up\\n\\n[[1월 마지막 주] mashija 이슈 브리핑 – MZ세대가 설에 가장 받고 싶은 선물은? 外](https://mashija.com/1%ec%9b%94-%eb%a7%88%ec%a7%80%eb%a7%89-%ec%a3%bc-mashija-%ec%9d%b4%ec%8a%88-%eb%b8%8c%eb%a6%ac%ed%95%91-mz%ec%84%b8%eb%8c%80%ea%b0%80-%ec%84%a4%ec%97%90-%ea%b0%80%ec%9e%a5-%eb%b0%9b%ea%b3%a0/)\\n\\n[Crystal Kwon](https://mashija.com/author/crystal/)\\n1월 28\\n\\n##### Mashija Magazine\\n\\n마시자매거진은 와인비전프레스가 발행합니다.  \\n(주)와인비전프레스  \\n서울시 강남구 선릉로 135길 12 4층(논현동)  \\nTel. 02-514-1855  \\n대표자 : 방문송 사업자등록번호 : 325-87-00031\\n\\n##### Mashija Magazine\\n\\n<마시자 매거진>은 세상의 다양한 맛과 사는 재미를 찾아 전달하는 진정한 음주 라이프 스타일 매거진입니다.\\n\\n마시자매거진: 서울 아03617  \\n발행인 / 편집인 : 방문송  \\n개인정보관리 / 청소년보호책임자 : 조윤지  \\n[이용약관 및 개인정보보호정책](https://mashija.com/termsuse/)\\n\\n    [마시자 공식 포스트](http://naver.me/G8aY9NaR)\\n\\n[마시자 공식 블로그](https://blog.naver.com/mashijamagazine)\\n\\n##### Decanter\\n\\n디캔터는 1975년 영국에서 처음 출간되어 오늘날 90여 개 국가에서 와인 애호가와 전문가들에게 널리 읽히고 있습니다.\\n\\n디캔터 브랜드  \\n디캔터 매거진, 디캔터닷컴, 디캔터 이벤트, 디캔터 월드 와인 어워즈, 디캔터차이나닷컴, 디캔터 아시아 와인 어워즈.\"}, {\"title\": \"등심 스테이크에는 이 와인 드셔보세요! 소고기 부위별 레드와인 추천 ...\", \"url\": \"https://m.blog.naver.com/wineislikeacat/223096696241\", \"content\": \"카베르네 소비뇽(Carbernet Sauvignon), 시라(Syrah) 품종을 추천드려요!\\n\\n​\\n\\n존재하지 않는 이미지입니다.\\n\\n안심 스테이크와 어울리는 와인\\n\\n> 안심 스테이크와 어울리는 와인 품종은? 산지오베제!\\n\\n고기 본연의 맛을 즐기기 가장 좋은 부위로 꼽히는 안심은\\n\\n등심 안쪽에 위치해 있어 운동량이 적기 때문에 소고기 중 육질이 가장 부드럽습니다.\\n\\n지방이 거의 없기 때문에 고기 자체의 맛을 가장 잘 느낄 수 있는 것이죠.\\n\\n​\\n\\n이와 어울리는 품종은 산도가 높은 편에 속해 시큼한 맛으로 안심의 감칠맛을 더해주는\\n\\n이탈리아의 산지오베제(Sangiovege)를 추천드릴 수 있습니다.\\n\\n​\\n\\n존재하지 않는 이미지입니다.\\n\\n갈비살과 어울리는 와인\\n\\n> 갈비살과 어울리는 와인 품종은? 말벡, 카베르네 소비뇽!\\n\\n갈비뼈에 붙어있는 살인 갈비살은\\n\\n뼈에서 나오는 골즙이 육즙과 어우러져 풍미가 좋죠.\\n\\n등심과 비슷한 맛이지만 더 질긴 편에 속합니다.\\n\\n​ [...] 오래 씹을수록 기름기가 더 느껴지는 갈비살의 경우\\n\\n등심과 마찬가지로 탄닌감과 산도감이 높아,\\n\\n느끼함을 씻어줄 수 있는 와인 품종이 좋습니다.\\n\\n​\\n\\n따라서 위의 등심 스테이크에서 언급한 까베르네 소비뇽 뿐만 아니라\\n\\n깊고 진한 탄닌감을 지닌 말벡(Malbec)도 추천드릴 수 있겠네요!\\n\\n​\\n\\n존재하지 않는 이미지입니다.\\n\\n차돌박이와 어울리는 와인\\n\\n> 차돌박이와 어울리는 와인 품종은? 메를로, 피노 누아!\\n\\n기름기가 풍부하고 얇은 차돌박이는\\n\\n굽고 나면 기름이 빠지기 때문에 고소하고 깔끔한 맛을 즐길 수 있죠.\\n\\n​\\n\\n부드러운 차돌박이에는 부드러운 탄닌감과 짙은 과실향을 지닌 메를로 품종 혹은\\n\\n우아하고 깔끔한 향의 피노 누아를 추천드립니다.\\n\\n​\\n\\n존재하지 않는 이미지입니다.\\n\\n부채살과 어울리는 와인\\n\\n> 부채살과 어울리는 와인은? 시라!\\n\\n'낙엽살'로도 불리는 부채살은 힘줄이 약간 질긴 편이지만\\n\\n씹을수록 그 특유의 쫀득함과 감칠맛이 매력적인 부위입니다.\\n\\n​\", \"score\": 0.8437023, \"raw_content\": \"[로그인이 필요합니다.](#)\\n\\n\\n\\n\\n\\n\\n\\n\\n\\n\\n\\n*My Menu 닫기*\\n\\n[본문 바로가기](#ct)\\n\\n[검색](/PostSearchList.naver?blogId=wineislikeacat)\\n\\n[와인별 음식 추천](/PostList.naver?blogId=wineislikeacat&categoryNo=7&logCode=0&categoryName=%EC%99%80%EC%9D%B8%EB%B3%84+%EC%9D%8C%EC%8B%9D+%EC%B6%94%EC%B2%9C#postlist_block)\\n\\n등심 스테이크에는 이 와인 드셔보세요! 소고기 부위별 레드와인 추천 모음\\n\\n[**우리동네내와인**](/PostList.naver?blogId=wineislikeacat)\\n\\n2023. 5. 8. 21:18\\n\\n[이웃추가](#)\\n\\n\\n* **본문 폰트 크기 조정**\\n  가\\n* [*공감*](#)\\n* [공유하기](#)\\n* [URL복사](#)\\n* [신고하기](#)\\n\\n\\n\\n\\n존재하지 않는 이미지입니다.\\n\\n우리동네내와인의 소고기 스테이크 부위별 레드와인 추천!\\n\\n안녕하세요, 우리동네내와인입니다!\\n\\n​\\n\\n흔히 육류 스테이크 하면 레드와인이라고 알려져있죠?\\n\\n이번 시간에는 이 공식을 조금 더 자세히 살펴보려 합니다.\\n\\n특정 부위에 더 잘 어울리는 와인을 소개하는 방식으로요 :)\\n\\n​\\n\\n오늘 글을 읽으시다가 모르는 레드와인 종류가 나오면\\n\\n아래 글도 한번 참고해보시길 바랍니다.\\n\\n​\\n\\n[**말벡? 쉬라즈? 그게 뭐야? 레드와인 포도 품종 알아보기! - 1편**\\n\\n안녕하세요, 우리동네내와인입니다 :) 오늘 가져온 와인 상식은 바로 레드와인의 원료가 되는 포도 품종입...\\n\\nblog.naver.com](https://blog.naver.com/wineislikeacat/223094878460)\\n\\n[**피노 누아? 네비올로? 그게 뭐야? 레드와인 포도 품종 알아보기! - 2편**\\n\\n안녕하세요, 우리동네내와인입니다 :) 지난 시간엔 레드와인 포도 품종 4가지에 대해 알아보았는데요. 카베...\\n\\nblog.naver.com](https://blog.naver.com/wineislikeacat/223095423066)\\n\\n​\\n\\n존재하지 않는 이미지입니다.\\n\\n등심 & 채끝 스테이크와 어울리는 와인\\n\\n> **등심 스테이크, 채끝 스테이크와 어울리는 와인 품종은? 카베르네 소비뇽, 시라 등!**\\n\\n등심은 소의 등뼈를 둘러싸고 있는 부위입니다.\\n\\n육질이 연하고 지방이 많아서 두꺼운 스테이크 구이용으로 최적이죠.\\n\\n채끝은 등뼈에서 허리를 감싸는 뼈로 내려오는 쪽의 살인데요,\\n\\n마블링 러버들의 선택을 쉽사리 받는 부위입니다.\\n\\n​\\n\\n등심과 채끝 스테이크는 모두 풍미가 진하고 지방맛이 강하게 느껴지기에,\\n\\n중간에서 높음 사이의 적당한 탄닌과 산도를 가진 와인을 선택하면\\n\\n씹는 맛의 긴 여운 속 느끼함을 잡아줄 수 있습니다.\\n\\n​\\n\\n이에 맞는 레드와인으로는\\n\\n카베르네 소비뇽(Carbernet Sauvignon), 시라(Syrah) 품종을 추천드려요!\\n\\n​\\n\\n존재하지 않는 이미지입니다.\\n\\n안심 스테이크와 어울리는 와인\\n\\n> **안심 스테이크와 어울리는 와인 품종은? 산지오베제!**\\n\\n고기 본연의 맛을 즐기기 가장 좋은 부위로 꼽히는 안심은\\n\\n등심 안쪽에 위치해 있어 운동량이 적기 때문에 소고기 중 육질이 가장 부드럽습니다.\\n\\n지방이 거의 없기 때문에 고기 자체의 맛을 가장 잘 느낄 수 있는 것이죠.\\n\\n​\\n\\n이와 어울리는 품종은 산도가 높은 편에 속해 시큼한 맛으로 안심의 감칠맛을 더해주는\\n\\n이탈리아의 산지오베제(Sangiovege)를 추천드릴 수 있습니다.\\n\\n​\\n\\n존재하지 않는 이미지입니다.\\n\\n갈비살과 어울리는 와인\\n\\n> **갈비살과 어울리는 와인 품종은? 말벡, 카베르네 소비뇽!**\\n\\n갈비뼈에 붙어있는 살인 갈비살은\\n\\n뼈에서 나오는 골즙이 육즙과 어우러져 풍미가 좋죠.\\n\\n등심과 비슷한 맛이지만 더 질긴 편에 속합니다.\\n\\n​\\n\\n오래 씹을수록 기름기가 더 느껴지는 갈비살의 경우\\n\\n등심과 마찬가지로 탄닌감과 산도감이 높아,\\n\\n느끼함을 씻어줄 수 있는 와인 품종이 좋습니다.\\n\\n​\\n\\n따라서 위의 등심 스테이크에서 언급한 까베르네 소비뇽 뿐만 아니라\\n\\n깊고 진한 탄닌감을 지닌 말벡(Malbec)도 추천드릴 수 있겠네요!\\n\\n​\\n\\n존재하지 않는 이미지입니다.\\n\\n차돌박이와 어울리는 와인\\n\\n> 차돌박이와 어울리는 와인 품종은? 메를로, 피노 누아!\\n\\n기름기가 풍부하고 얇은 차돌박이는\\n\\n굽고 나면 기름이 빠지기 때문에 고소하고 깔끔한 맛을 즐길 수 있죠.\\n\\n​\\n\\n부드러운 차돌박이에는 부드러운 탄닌감과 짙은 과실향을 지닌 메를로 품종 혹은\\n\\n우아하고 깔끔한 향의 피노 누아를 추천드립니다.\\n\\n​\\n\\n존재하지 않는 이미지입니다.\\n\\n부채살과 어울리는 와인\\n\\n> **부채살과 어울리는 와인은? 시라!**\\n\\n'낙엽살'로도 불리는 부채살은 힘줄이 약간 질긴 편이지만\\n\\n씹을수록 그 특유의 쫀득함과 감칠맛이 매력적인 부위입니다.\\n\\n​\\n\\n단단하고 절제된 스타일로 프랑스의 론 지방을 대표하는 시라는\\n\\n부채살의 무거운 육류맛과 잘 어우러집니다.\\n\\n​\\n\\n존재하지 않는 이미지입니다.\\n\\n​\\n\\n물론 이렇게 추천해드린 부위별 레드와인이\\n\\n모든 사람에게 정답일 수는 없습니다.\\n\\n​\\n\\n한번 시도해보시고, 기회가 된다면\\n\\n본인이 가장 좋아하는 와인과 가장 좋아하는 소고기 부위를 페어링해보는 식으로\\n\\n새로운 조합을 찾아나가는 것도 좋을 것 같습니다 :)\\n\\n​\\n\\n내가 좋아하는 방식으로 음식과 와인을 즐길 때\\n\\n색다르고 맛있는 조합이나 최애 조합을 찾을 수도 있는 법이니까요 ㅎㅎ\\n\\n존재하지 않는 스티커입니다.\\n\\n---\\n\\n와인 픽업 & 배달 문의는\\n\\n전화/카카오톡/인스타DM 중 편하신 방법으로\\n\\n우리동네내와인에 문의주시면 친절히 도와드리겠습니다 :D\\n\\n[**우리동네내와인**\\n\\n서울특별시 마포구 큰우물로4길 5 1층](#)\\n\\n[**우리동네내와인**\\n\\n마포구 용강동, Wine Bar & Shop 입니다 ◡̈\\n\\npf.kakao.com](https://pf.kakao.com/_duuks)\\n\\n[**우리동네내와인(@wine\\\\_islikeacat) • Instagram 사진 및 동영상**\\n\\n팔로워 216명, 팔로잉 135명, 게시물 76개 - 우리동네내와인(@wine\\\\_islikeacat)님의 Instagram 사진 및 동영상 보기\\n\\ninstagram.com](https://instagram.com/wine_islikeacat?igshid=YmMyMTA2M2Y=)\\n\\n* [#와인](https://m.blog.naver.com/BlogTagView.naver?orderType=date&tagName=%EC%99%80%EC%9D%B8)\\n* [#와인바](https://m.blog.naver.com/BlogTagView.naver?orderType=date&tagName=%EC%99%80%EC%9D%B8%EB%B0%94)\\n* [#와인샵](https://m.blog.naver.com/BlogTagView.naver?orderType=date&tagName=%EC%99%80%EC%9D%B8%EC%83%B5)\\n* [#서울와인바](https://m.blog.naver.com/BlogTagView.naver?orderType=date&tagName=%EC%84%9C%EC%9A%B8%EC%99%80%EC%9D%B8%EB%B0%94)\\n* [#공덕와인바](https://m.blog.naver.com/BlogTagView.naver?orderType=date&tagName=%EA%B3%B5%EB%8D%95%EC%99%80%EC%9D%B8%EB%B0%94)\\n* [#공덕와인샵](https://m.blog.naver.com/BlogTagView.naver?orderType=date&tagName=%EA%B3%B5%EB%8D%95%EC%99%80%EC%9D%B8%EC%83%B5)\\n\\n[공감한 사람 보러가기](/SympathyHistoryList.naver?blogId=wineislikeacat&logNo=223096696241&categoryId=POST)\\n\\n[댓글 *0*](/CommentList.naver?blogId=wineislikeacat&logNo=223096696241)\\n공유하기\\n\\n[**우리동네내와인**\\n\\n맛집이웃18명\\n\\n마포공덕 베스트 와인샵\\n✔서울시 마포구 큰우물로 4길 5, 1층\\n✔02-6951-0463\\n✔Open 4pm & Close 11pm](/wineislikeacat)\\n\\n{\\\"title\\\":\\\"등심 스테이크에는 이 와인 드셔보세요! 소고기 부위별 레드와인 추천 모음\\\",\\\"source\\\":\\\"https://blog.naver.com/wineislikeacat/223096696241\\\",\\\"blogName\\\":\\\"나의 와인 ..\\\",\\\"domainIdOrBlogId\\\":\\\"wineislikeacat\\\",\\\"nicknameOrBlogId\\\":\\\"우리동네내와인\\\",\\\"logNo\\\":223096696241,\\\"smartEditorVersion\\\":4,\\\"blogDisplay\\\":false,\\\"cafeDisplay\\\":false,\\\"meDisplay\\\":true,\\\"lineDisplay\\\":true,\\\"outsideDisplay\\\":false}\\n\\n[닫기](#)\\n\\n[이 블로그 홈](/wineislikeacat)\\n\\n[*3*](#)\\n\\n[공감한 사람 보러가기](/SympathyHistoryList.naver?blogId=wineislikeacat&logNo=223096696241&categoryId=POST)\\n\\n[댓글 *0*](/CommentList.naver?blogId=wineislikeacat&logNo=223096696241)\\n[공유하기](#)\\n\\n**우리동네내와인(wineislikeacat)**\\n님을 이웃추가하고 새글을 받아보세요\\n\\n[취소](#)\\n[이웃추가](#)\\n\\n[**0** / 0](javascript:void(0);)\"}, {\"title\": \"스테이크를 더 맛있게 만들어줄 와인 페어링 - 와인21닷컴 - WINE21\", \"url\": \"https://www.wine21.com/11_news/news_view.html?Idx=19051\", \"content\": \"유명 스테이크하우스 레스토랑의 와인 디렉터인 마크 퀵(Mark Quick)에 따르면 와인과 소고기를 페어링하는 가장 쉬운 방법은 와인 풍미의 강도를 스테이크와 맞추는 것이라고 한다. 예를 들어 지방이 많은 스테이크는 풍미가 강하니 맛이 묵직한 와인을, 지방이 적은 스테이크는 비교적 가벼운 와인을 매칭하는 것이 바람직하다고 말한다. 또한 피터 리처드 MW는 “크리미한 소스는 오크향이 강한 와인과 잘 어울리며 소금과 후추만 곁들일 땐 시라 와인을 추천한다”고 전했다.\\n\\n고정관념을 깨는 스테이크와 화이트 와인 페어링 [...] 품종의 특성상 대부분의 피노 누아 와인은 비교적 가볍기 때문에 맛이 묵직한 스테이크에 섬세한 향이 묻힌다고 생각하기 쉽다. 그러나 피노 누아의 산미와 밝은 레드베리 풍미는 상황에 따라 스테이크와 훌륭한 궁합을 보여준다. 피노 누아와 스테이크를 페어링할 경우, 일반적으로 레어에서 미디엄 레어로 익힌 안심을 선택하길 추천한다. 음식 및 와인 전문가 피오나 베켓(Fiona Becket)은 “나는 일반적으로 피노 누아를 스테이크와 잘 어울린다고 생각하지 않지만, 고기를 레어로 익혔을 경우 지금까지 최고의 페어링은 부드럽고 매혹적인 다니엘 리옹(Daniel Rion)의 본 로마네(Vosne-Romanée) 2001이었다”고 말했다.\\n\\n지방의 정도와 소스도 중요하다고? [...] 풀바디 레드 와인 중 또 다른 클래식한 선택으로는 카베르네 소비뇽 와인이 있다. 진한 과실 풍미와 타닌, 높은 산도가 조화롭기 때문이다. 와인 전문가인 카렌 맥닐(Karen MacNeil)은 음식과 와인 페어링에 대한 10가지 규칙에서 '구운 스테이크를 곁들인 강력한 캘리포니아 카베르네 소비뇽을 이길 와인은 극히 드물다'며 미국 카베르네 소비뇽에 대한 확신을 내비쳤다.\\n\\n스테이크를 곁들인 레드 와인에 대한 추가 옵션\\n\\n피터 리처드(Peter Richards) MW는 스테이크와 함께 곁들일 와인으로 신선한 카베르네 프랑이나 까리냥, 쌩소 또는 서늘한 지역의 시라도 추천한다. “풀바디하면서도 우아한 로제도 잘 어울릴 수 있다”며 “많은 사람들이 착각하는 부분이 스테이크와 어울리는 와인은 묵직한 스타일이라고 생각하는 것”이라고 덧붙였다.\\n\\n스테이크와 피노 누아의 페어링은 어떨까?\", \"score\": 0.8386933, \"raw_content\": \"육즙이 풍부한 스테이크와 맛있는 와인 한 병이 있는 저녁. 적어도 미트 러버(Meat Lover)들에게는 인생의 큰 즐거움 중 하나다. 영국의 와인 전문 매체 <디캔터(Decanter)>가 와인과 함께 스테이크를 즐길 때 고려해야 할 사항을 안내하고 페어링을 추천했다.\\n\\n**스테이크와 레드 와인?!**\\n\\n아르헨티나의 레드 와인으로 유명한 말벡은 아르헨티나의 훌륭한 소고기 덕분에 스테이크와 함께 즐기는 클래식한 페어링으로 자리매김했다. 말벡의 풍부한 과실과 진한 타닌은 일반적으로 좋은 스테이크와 잘 어울리는데, 일부 전문가는 더 가볍고 신선한 스타일을 추천하기도 한다. 남미 와인 전문가이자 언론인인 패트리시오 타피아(Patricio Tapia)는 디캔터 월드 와인 어워즈(Decanter World Wine Awards)에서 “나는 오크가 덜하고 과실이 더 신선하며 산도가 더 좋은 새로운 트렌드의 말벡을 선택하곤 한다”며 새로운 스타일의 페어링을 제안했다. 그는 “와인의 주된 역할을 음식을 더 깔끔하게 느끼도록 하는 것”이라고 덧붙였다.\\n\\n풀바디 레드 와인 중 또 다른 클래식한 선택으로는 카베르네 소비뇽 와인이 있다. 진한 과실 풍미와 타닌, 높은 산도가 조화롭기 때문이다. 와인 전문가인 카렌 맥닐(Karen MacNeil)은 음식과 와인 페어링에 대한 10가지 규칙에서 '구운 스테이크를 곁들인 강력한 캘리포니아 카베르네 소비뇽을 이길 와인은 극히 드물다'며 미국 카베르네 소비뇽에 대한 확신을 내비쳤다.\\n\\n**스테이크를 곁들인 레드 와인에 대한 추가 옵션**\\n\\n피터 리처드(Peter Richards) MW는 스테이크와 함께 곁들일 와인으로 신선한 카베르네 프랑이나 까리냥, 쌩소 또는 서늘한 지역의 시라도 추천한다. “풀바디하면서도 우아한 로제도 잘 어울릴 수 있다”며 “많은 사람들이 착각하는 부분이 스테이크와 어울리는 와인은 묵직한 스타일이라고 생각하는 것”이라고 덧붙였다.\\n\\n**스테이크와 피노 누아의 페어링은 어떨까?**\\n\\n품종의 특성상 대부분의 피노 누아 와인은 비교적 가볍기 때문에 맛이 묵직한 스테이크에 섬세한 향이 묻힌다고 생각하기 쉽다. 그러나 피노 누아의 산미와 밝은 레드베리 풍미는 상황에 따라 스테이크와 훌륭한 궁합을 보여준다. 피노 누아와 스테이크를 페어링할 경우, 일반적으로 레어에서 미디엄 레어로 익힌 안심을 선택하길 추천한다. 음식 및 와인 전문가 피오나 베켓(Fiona Becket)은 “나는 일반적으로 피노 누아를 스테이크와 잘 어울린다고 생각하지 않지만, 고기를 레어로 익혔을 경우 지금까지 최고의 페어링은 부드럽고 매혹적인 다니엘 리옹(Daniel Rion)의 본 로마네(Vosne-Romanée) 2001이었다”고 말했다.\\n\\n**지방의 정도와 소스도 중요하다고?**\\n\\n유명 스테이크하우스 레스토랑의 와인 디렉터인 마크 퀵(Mark Quick)에 따르면 와인과 소고기를 페어링하는 가장 쉬운 방법은 와인 풍미의 강도를 스테이크와 맞추는 것이라고 한다. 예를 들어 지방이 많은 스테이크는 풍미가 강하니 맛이 묵직한 와인을, 지방이 적은 스테이크는 비교적 가벼운 와인을 매칭하는 것이 바람직하다고 말한다. 또한 피터 리처드 MW는 “크리미한 소스는 오크향이 강한 와인과 잘 어울리며 소금과 후추만 곁들일 땐 시라 와인을 추천한다”고 전했다.\\n\\n**고****정관념을 깨는 스테이크와 화이트 와인 페어링**\\n\\n페어링에 관한 오랜 전통을 깨고 스테이크와 화이트 와인을 함께 즐길 수도 있다. 르 꼬르동 블루 런던(Le Cordon Bleu London)의 마티유 롱게르(Matthieu Longuère) MS는 화이트 와인을 스테이크나 기타 육류와 페어링할 수 있는 가능성에 대해 이야기하며, 리오하 지역의 잘 숙성된 피노 그리지오 와인에서 그 답을 찾을 수 있다고 전했다. 고정관념을 깨고 새로운 페어링을 시도해보는 건 어떨까.\\n\\n[#와인페어링](javascript:onSearch(\\\"와인페어링\\\"))\\n[#스테이크와인](javascript:onSearch(\\\"스테이크와인\\\"))\\n[#미트러버](javascript:onSearch(\\\"미트러버\\\"))\\n\\n[프로필이미지**이승주 기자**](javascript:goReporterViewDirect(13548))\\n\\n[기자 페이지 바로가기](javascript:goReporterViewDirect(13548))\\n\\n작성 2023.04.21 12:15수정 2023.04.21 13:23\\n\\nCopyrights © 와인21닷컴 & 미디어. 무단 전재 및 재배포 금지\\n\\n\\n\\n\\n\\n\\n## 관련와인(0)\\n\\n* 관련 와인이 없습니다.\\n\\n### 인기 검색어\\n\\n* 오늘\\n* 주간\\n* 월간\\n\\n1. 1[샤또 라뚜르](javascript:onSearch(\\\"샤또 라뚜르\\\"))\\n2. 2[샤또](javascript:onSearch(\\\"샤또\\\"))\\n3. 3[피노누아](javascript:onSearch(\\\"피노누아\\\"))\\n4. 4[타구아 셀렉션 카베네 쇼비뇽 2023](javascript:onSearch(\\\"타구아 셀렉션 카베네 쇼비뇽 2023\\\"))\\n5. 5[샤또마고2015](javascript:onSearch(\\\"샤또마고2015\\\"))\\n\\n1. 6[몬테스알파](javascript:onSearch(\\\"몬테스알파\\\"))\\n2. 7[키안티](javascript:onSearch(\\\"키안티\\\"))\\n3. 8[까바](javascript:onSearch(\\\"까바\\\"))\\n4. 9[루이끌로드](javascript:onSearch(\\\"루이끌로드 \\\"))\\n5. 10[메를로](javascript:onSearch(\\\"메를로\\\"))\\n\\n1. 1[피노누아](javascript:onSearch(\\\"피노누아\\\"))\\n2. 2[모스카토 다스티](javascript:onSearch(\\\"모스카토 다스티\\\"))\\n3. 3[돔페리뇽](javascript:onSearch(\\\"돔페리뇽\\\"))\\n4. 4[크룩](javascript:onSearch(\\\"크룩\\\"))\\n5. 5[텍스트북](javascript:onSearch(\\\"텍스트북\\\"))\\n\\n1. 6[모스카토](javascript:onSearch(\\\"모스카토\\\"))\\n2. 7[케이머스](javascript:onSearch(\\\"케이머스\\\"))\\n3. 8[돔 페리뇽](javascript:onSearch(\\\"돔 페리뇽\\\"))\\n4. 9[오퍼스원](javascript:onSearch(\\\"오퍼스원\\\"))\\n5. 10[스톤베이](javascript:onSearch(\\\"스톤베이\\\"))\\n\\n1. 1[피노누아](javascript:onSearch(\\\"피노누아\\\"))\\n2. 2[텍스트북](javascript:onSearch(\\\"텍스트북\\\"))\\n3. 3[1865](javascript:onSearch(\\\"1865\\\"))\\n4. 4[샤블리](javascript:onSearch(\\\"샤블리\\\"))\\n5. 5[샤또 딸보](javascript:onSearch(\\\"샤또 딸보\\\"))\\n\\n1. 6[돔페리뇽](javascript:onSearch(\\\"돔페리뇽\\\"))\\n2. 7[모스카토](javascript:onSearch(\\\"모스카토\\\"))\\n3. 8[샤또](javascript:onSearch(\\\"샤또\\\"))\\n4. 9[케이머스](javascript:onSearch(\\\"케이머스\\\"))\\n5. 10[리슬링](javascript:onSearch(\\\"리슬링\\\"))\\n\\n-->\\n\\n### 최신 이벤트 [전체보기](/12_event/index.html?shCate=C02010)\\n\\n* [8/29(금)~30(토) 하우스 오브 신세계 몽라쉐 캠프](javascript:goEventViewDirect(19575);)\\n* [8/22(금) 와인 뉴비 과정 '와인, 그저 갬성이 전부였다면 이제는 맛도 알아갈 시간'](javascript:goEventViewDirect(19580);)\\n* [8/20~27(수) WSET Level3 시험 준비반](javascript:goEventViewDirect(19579);)\\n* [8/8(금)~9/8(월) 펄리셔 랜드마크 인스타그램 사진 공모전](javascript:goEventViewDirect(19578);)\\n* [8/14(목) 와인웍스 무역센터점 '엘 꼬또' 와인 페어링 디너 코스](javascript:goEventViewDirect(19577);)\\n* [8/21(목) 소셜 에노테카 와인 디너 (2nd Episode)](javascript:goEventViewDirect(19576);)\\n* [8/24(일)~25(월) 베리타스 트레이딩 공식 여름 시음회](javascript:goEventViewDirect(19574);)\\n* [8/1(금)~31(일) 1879 와인샵 8월 이벤트](javascript:goEventViewDirect(19573);)\\n* [7/18(금)~9/30(화) 빈티지코리아 WINE POP-UP FAIR](javascript:goEventViewDirect(19572);)\\n* [8/12~19(화) Champagne 심화과정](javascript:goEventViewDirect(19571);)\\n\\n### 최신 뉴스 [전체보기](/11_news/news_list.html)\\n\\n* [[현지 취재] 프란치아코르타, 이탈리아 스파클링의 정수](javascript:goNewsViewDirect(20628);) NEW\\n* [나라셀라, '몬테스 알파' 올드 빈티지 선보여](javascript:goNewsViewDirect(20627);)NEW\\n* [로베르토 콘테르노의 첫 번째 스파클링 와인, 제퍼슨](javascript:goNewsViewDirect(20625);) NEW\\n* [호주 쿨 클라이밋 와인의 향연, 빅토리아주 프리미엄 와인 시음 행사](javascript:goNewsViewDirect(20626);)\\n* [세계 고양이의 날, 집사들을 위한 와인 리스트](javascript:goNewsViewDirect(20623);)\\n* [배우 소지섭이 선택한 착한 와인, '오스피스 드 본 뫼르소 쥬느브리에르'](javascript:goNewsViewDirect(20624);)\\n* [레뱅, 뉴질랜드 프리미엄 와인 '펄리셔'와 함께하는 여름 사진 공모전 개최](javascript:goNewsViewDirect(20622);)\\n* [2025년 화이트 와인 트렌드 TOP 10](javascript:goNewsViewDirect(20621);)\\n* [돈 멜초, 1위 너머의 세계를 향한 행보](javascript:goNewsViewDirect(20608);)\\n* [레뱅, 새로운 전설의 서곡 라포스톨 '프렐루드' 론칭](javascript:goNewsViewDirect(20619);)\\n\\n### 추천 와인 [전체보기](/13_search/monthly_list.html)\\n\\n* 이달의 와인\\n* 와인21 추천\\n\\n[:   *화이트*미국\\n\\n크리스톰, 이올라 아미티 힐즈 샤르도네](javascript:goWineViewDirect(168474);)\\n\\n[:   *스파클링*이탈리아\\n\\n베를루끼, '61 네이처](javascript:goWineViewDirect(166187);)\\n\\n[:   *화이트*이탈리아\\n    93점\\n\\n베르사노, 모스카토 다스티 부티크](javascript:goWineViewDirect(172390);)\\n\\n[:   *레드*이탈리아\\n    92.5점\\n\\n불리오니, 리파소 발폴리첼라 클라시코 수페리오레](javascript:goWineViewDirect(178298);)\\n\\n[:   *화이트*스페인\\n\\n발데리베로, 루에다 베르데호](javascript:goWineViewDirect(179211);)\\n\\n[:   *스파클링*이탈리아\\n\\n까델 보스코, 프란치아코르타 안나마리아 클레멘티](javascript:goWineViewDirect(164966);)\\n\\n[:   *스파클링*이탈리아\\n    91점\\n\\n꼰타디 까스탈디, 프란치아코르타 사텐 브뤼](javascript:goWineViewDirect(176892);)\\n\\n[:   *화이트*스페인\\n    88점\\n\\n마르케스 데 무리에타, 파소 바란테스 알바리뇨](javascript:goWineViewDirect(153933);)\\n\\n[:   *로제*이탈리아\\n    90점\\n\\n네르비, 일 로사토](javascript:goWineViewDirect(169544);)\\n\\n[:   *스파클링*이탈리아\\n\\n벨라비스타, 라 스칼라](javascript:goWineViewDirect(146834);)\\n\\n[:   *화이트*스페인\\n    90점\\n\\n보데가스 무리엘, 파소 시에이로 알바리뇨](javascript:goWineViewDirect(164685);)\\n\\n[:   *화이트*이탈리아\\n\\n비떼 꼴떼, 라 가따 모스카토 다스티](javascript:goWineViewDirect(163828);)\\n\\n[:   *화이트*미국\\n\\n휴먼셀러,그랑제로 샤도네이](javascript:goWineViewDirect(177157);)\\n\\n[:   *로제*프랑스\\n\\n떼르 피델, 펠리셋 그르나슈 로제](javascript:goWineViewDirect(177016);)\\n\\n[:   *화이트*프랑스\\n    92점\\n\\n제프 까렐 샤그리](javascript:goWineViewDirect(179452);)\\n\\n[:   *레드*미국\\n\\n허쉬 빈야드, 보한 딜런 피노 누아](javascript:goWineViewDirect(172912);)\\n\\n이전\\n\\n다음\\n\\n\\n\\n뉴스레터  \\n신청하기\\n\\n* 최근 본 상품\\n\\nTOP\\n\\n\\n\\n이전\\n\\n다음\"}]\n",
      "tool_call_id: call_etHIv7cEV2d7Vv2x7wqOuJX3\n",
      "name: tavily_search_results_json\n",
      "type: tool\n",
      "additional_kwargs: {}\n"
     ]
    }
   ],
   "source": [
    "# tool_call  {'name': 'tavily_search_results_json', 'args': {'query': 'wine pairing with steak'}, 'id': 'call_LrHyxTadqHDjW7J6LOWEaoSi', 'type': 'tool_call'}\n",
    "tool_message = web_search.invoke(tool_call)\n",
    "print(type(tool_message))\n",
    "\n",
    "# 특정 속성들만 확인\n",
    "print(\"\\n=== 주요 속성들 ===\")\n",
    "attributes = ['content', 'tool_call_id', 'name', 'type', 'additional_kwargs']\n",
    "for attr in attributes:\n",
    "    if hasattr(tool_message, attr):\n",
    "        print(f\"{attr}: {getattr(tool_message, attr)}\")\n"
   ]
  },
  {
   "cell_type": "code",
   "execution_count": null,
   "id": "03d47ea5",
   "metadata": {},
   "outputs": [],
   "source": [
    "print(type(tool_message.content))\n",
    "pprint(tool_message.content)"
   ]
  },
  {
   "cell_type": "code",
   "execution_count": 12,
   "id": "aeeb5890",
   "metadata": {},
   "outputs": [
    {
     "name": "stdout",
     "output_type": "stream",
     "text": [
      "call_etHIv7cEV2d7Vv2x7wqOuJX3\n"
     ]
    }
   ],
   "source": [
    "print(tool_message.tool_call_id)"
   ]
  },
  {
   "cell_type": "code",
   "execution_count": 13,
   "id": "01309400",
   "metadata": {},
   "outputs": [
    {
     "name": "stdout",
     "output_type": "stream",
     "text": [
      "tavily_search_results_json\n"
     ]
    }
   ],
   "source": [
    "print(tool_message.name)"
   ]
  },
  {
   "cell_type": "code",
   "execution_count": 14,
   "id": "f3e71c37",
   "metadata": {},
   "outputs": [
    {
     "data": {
      "text/plain": [
       "[{'name': 'tavily_search_results_json',\n",
       "  'args': {'query': '스테이크 와인 추천'},\n",
       "  'id': 'call_etHIv7cEV2d7Vv2x7wqOuJX3',\n",
       "  'type': 'tool_call'},\n",
       " {'name': 'tavily_search_results_json',\n",
       "  'args': {'query': '스테이크에 잘 어울리는 와인 종류'},\n",
       "  'id': 'call_HJX93iSj2H2fsF2Hlf37MEMV',\n",
       "  'type': 'tool_call'}]"
      ]
     },
     "execution_count": 14,
     "metadata": {},
     "output_type": "execute_result"
    }
   ],
   "source": [
    "ai_message.tool_calls"
   ]
  },
  {
   "cell_type": "code",
   "execution_count": null,
   "id": "35a3ad18",
   "metadata": {},
   "outputs": [],
   "source": [
    "# batch 실행 - 도구 호출이 여러 개인 경우\n",
    "\n",
    "# web_serarch 변수는 TavilySearchResults 객체\n",
    "tool_messages = web_search.batch(ai_message.tool_calls)\n",
    "\n",
    "print(tool_messages)\n",
    "print(\"-\" * 100)\n",
    "pprint(tool_messages[0].content)"
   ]
  },
  {
   "cell_type": "markdown",
   "id": "a20257ba",
   "metadata": {},
   "source": [
    "`(4) @chain 데코레이터를 사용하여 RunnableLambda로 생성하기`\n",
    "* @chain 데코레이터를 사용하여 Tavily를 호출하는 TavilySearchResults 객체와 LLM을 연결하여 RunnableLambda 객체로 생성하기\n",
    "\n",
    "* @chain 데코레이터를 선언한 web_search_chain 함수의 파라미터 이름이 config여야 하는 이유: \n",
    "    * @chain 데코레이터가 config라는 이름만 특별히 인식하도록 설계되었습니다.\n",
    "    * config 생략 가능한 이유: @chain이 자동으로 기본 RunnableConfig()를 생성해서 전달하기 때문입니다."
   ]
  },
  {
   "cell_type": "code",
   "execution_count": 16,
   "id": "1c5de654",
   "metadata": {},
   "outputs": [
    {
     "name": "stdout",
     "output_type": "stream",
     "text": [
      "====> <class 'langchain_core.runnables.base.RunnableLambda'>\n",
      "ai_msgs: \n",
      " content='' additional_kwargs={'tool_calls': [{'id': 'call_QZhGqWMuEnFQOCPeuw2w1z6A', 'function': {'arguments': '{\"query\":\"스테이크 와인 추천\"}', 'name': 'tavily_search_results_json'}, 'type': 'function'}], 'refusal': None} response_metadata={'token_usage': {'completion_tokens': 23, 'prompt_tokens': 109, 'total_tokens': 132, 'completion_tokens_details': {'accepted_prediction_tokens': 0, 'audio_tokens': 0, 'reasoning_tokens': 0, 'rejected_prediction_tokens': 0}, 'prompt_tokens_details': {'audio_tokens': 0, 'cached_tokens': 0}}, 'model_name': 'gpt-4o-mini-2024-07-18', 'system_fingerprint': 'fp_560af6e559', 'id': 'chatcmpl-CJEsdfohpPIl1atRJe5cAGyHUCIZ3', 'service_tier': 'default', 'finish_reason': 'tool_calls', 'logprobs': None} id='run--590fbe2b-36d4-4252-a6f7-46e72ec95342-0' tool_calls=[{'name': 'tavily_search_results_json', 'args': {'query': '스테이크 와인 추천'}, 'id': 'call_QZhGqWMuEnFQOCPeuw2w1z6A', 'type': 'tool_call'}] usage_metadata={'input_tokens': 109, 'output_tokens': 23, 'total_tokens': 132, 'input_token_details': {'audio': 0, 'cache_read': 0}, 'output_token_details': {'audio': 0, 'reasoning': 0}}\n",
      "----------------------------------------------------------------------------------------------------\n",
      "tool_msgs: \n",
      " [ToolMessage(content='[{\"title\": \"스테이크와 어울리는 최고의 와인: 무엇을 고를 것인가? - 마시자 매거진\", \"url\": \"https://mashija.com/%EC%8A%A4%ED%85%8C%EC%9D%B4%ED%81%AC%EC%99%80-%EC%96%B4%EC%9A%B8%EB%A6%AC%EB%8A%94-%EC%B5%9C%EA%B3%A0%EC%9D%98-%EC%99%80%EC%9D%B8-%EB%AC%B4%EC%97%87%EC%9D%84-%EA%B3%A0%EB%A5%BC-%EA%B2%83%EC%9D%B8/\", \"content\": \"# 스테이크와 어울리는 최고의 와인: 무엇을 고를 것인가?\\\\n\\\\n카베르네 소비뇽(Cabernet Sauvignon) 및 말벡(Malbec)과 같은 전형적인 선택부터 더 가벼운 레드 와인, 심지어 화이트 와인과 맛있는 스테이크를 페어링하는 방법까지, 우리의 아카이브에서 가져온 최고의 조언과 최근 디캔터 전문가가 추천한 와인을 소개한다.\\\\n\\\\n<스테이크를 곁들인 레드 와인을 위한 5가지 전형적인 선택>\\\\n\\\\n• 카베르네 소비뇽(Cabernet Sauvignon)  \\\\n• 말벡(Malbec)  \\\\n• 그르나슈/쉬라즈 블렌드(Grenache / Shiraz blends)  \\\\n• 시라/쉬라즈(Syrah / Shiraz)  \\\\n• 산지오베제(Sangiovese)\\\\n\\\\n육즙이 풍부한 스테이크와 맛있는 와인이 있는 저녁 식사는 적어도 고기 애호가들에게 인생의 큰 즐거움일 것이다. [...] 와인과 음식 페어링에서 새로운 시도를 하는 것은 항상 재미있지만, 특별한 스테이크 저녁 식사를 준비할 때 고려해야 할 몇 가지 스타일과 주의사항이 있다.\\\\n\\\\n<스테이크에 곁들이는 레드 와인>\\\\n\\\\n이 포도 품종을 세계 와인 무대에 재등장시키고 고품질 쇠고기에 대한 국가의 명성을 가진 아르헨티나 덕분에, 말벡 레드 와인은 스테이크와 함께 고전적인 매칭이 되었다.\\\\n\\\\n말벡의 풍부한 짙은 과일의 특징과 자연스러운 타닌은 일반적으로 좋은 스테이크와 잘 어울린다고 여겨지지만, 일부 전문가들은 더 신선한 스타일을 찾는 것을 제안한다.\\\\n\\\\n2018년 디캔터 월드 와인 어워드(Decanter World Wine Awards)에서 아르헨티나 지역 의장이었던 남미 와인 전문가이자 저널리스트인 파트리시오 타피아(Patricio Tapia)는 ‘나는 오크가 적고 신선한 과일과 더 좋은 산도를 가진 ‘뉴 웨이브(new wave)’ 말벡을 선택하는 경향이 있다.’라고 말한다. [...] ‘특히 우코 밸리(Uco Valley)의 알타미라(Altamira) 및 괄타라리(Gualtallary)와 같은 곳에서 안데스산맥 쪽의 와인들이며, 와인 한 잔의 주요 임무는 음식에 활력을 주는 것임을 항상 명심하라.’고 그는 덧붙였다.\\\\n\\\\n진한 색의 과일, 타닌, 자연적으로 높은 산도가 조화를 이루는 카베르네 소비뇽 와인은 풀바디 레드 와인을 즐기고 싶다면 할 수 있는 또 다른 고전적인 선택이다.\\\\n\\\\n와인 전문가 카렌 맥닐(Karen MacNeil)은 음식과 와인 페어링에 대한 10가지 규칙에서 ‘구운(grilled) 스테이크를 곁들인 파워풀한 캘리포니아 카베르네 소비뇽은 이길 수 없다’라고 언급했다.\\\\n\\\\n– 스테이크와 레드 와인에 대한 추가 옵션 –\\\\n\\\\n2018년 디캔터와의 인터뷰에서 피터 리차즈(Peter Richards MW)는 “사람들이 스테이크와 함께 곁들일 와인으로 말벡이나 카베르네 소비뇽의 전통적인 조합을 뛰어넘어 볼 것을 강조한다.”라고 하였다.\", \"score\": 0.8987045}, {\"title\": \"등심 스테이크에는 이 와인 드셔보세요! 소고기 부위별 레드와인 추천 ...\", \"url\": \"https://m.blog.naver.com/wineislikeacat/223096696241\", \"content\": \"카베르네 소비뇽(Carbernet Sauvignon), 시라(Syrah) 품종을 추천드려요!\\\\n\\\\n\\u200b\\\\n\\\\n존재하지 않는 이미지입니다.\\\\n\\\\n안심 스테이크와 어울리는 와인\\\\n\\\\n> 안심 스테이크와 어울리는 와인 품종은? 산지오베제!\\\\n\\\\n고기 본연의 맛을 즐기기 가장 좋은 부위로 꼽히는 안심은\\\\n\\\\n등심 안쪽에 위치해 있어 운동량이 적기 때문에 소고기 중 육질이 가장 부드럽습니다.\\\\n\\\\n지방이 거의 없기 때문에 고기 자체의 맛을 가장 잘 느낄 수 있는 것이죠.\\\\n\\\\n\\u200b\\\\n\\\\n이와 어울리는 품종은 산도가 높은 편에 속해 시큼한 맛으로 안심의 감칠맛을 더해주는\\\\n\\\\n이탈리아의 산지오베제(Sangiovege)를 추천드릴 수 있습니다.\\\\n\\\\n\\u200b\\\\n\\\\n존재하지 않는 이미지입니다.\\\\n\\\\n갈비살과 어울리는 와인\\\\n\\\\n> 갈비살과 어울리는 와인 품종은? 말벡, 카베르네 소비뇽!\\\\n\\\\n갈비뼈에 붙어있는 살인 갈비살은\\\\n\\\\n뼈에서 나오는 골즙이 육즙과 어우러져 풍미가 좋죠.\\\\n\\\\n등심과 비슷한 맛이지만 더 질긴 편에 속합니다.\\\\n\\\\n\\u200b [...] 오래 씹을수록 기름기가 더 느껴지는 갈비살의 경우\\\\n\\\\n등심과 마찬가지로 탄닌감과 산도감이 높아,\\\\n\\\\n느끼함을 씻어줄 수 있는 와인 품종이 좋습니다.\\\\n\\\\n\\u200b\\\\n\\\\n따라서 위의 등심 스테이크에서 언급한 까베르네 소비뇽 뿐만 아니라\\\\n\\\\n깊고 진한 탄닌감을 지닌 말벡(Malbec)도 추천드릴 수 있겠네요!\\\\n\\\\n\\u200b\\\\n\\\\n존재하지 않는 이미지입니다.\\\\n\\\\n차돌박이와 어울리는 와인\\\\n\\\\n> 차돌박이와 어울리는 와인 품종은? 메를로, 피노 누아!\\\\n\\\\n기름기가 풍부하고 얇은 차돌박이는\\\\n\\\\n굽고 나면 기름이 빠지기 때문에 고소하고 깔끔한 맛을 즐길 수 있죠.\\\\n\\\\n\\u200b\\\\n\\\\n부드러운 차돌박이에는 부드러운 탄닌감과 짙은 과실향을 지닌 메를로 품종 혹은\\\\n\\\\n우아하고 깔끔한 향의 피노 누아를 추천드립니다.\\\\n\\\\n\\u200b\\\\n\\\\n존재하지 않는 이미지입니다.\\\\n\\\\n부채살과 어울리는 와인\\\\n\\\\n> 부채살과 어울리는 와인은? 시라!\\\\n\\\\n\\'낙엽살\\'로도 불리는 부채살은 힘줄이 약간 질긴 편이지만\\\\n\\\\n씹을수록 그 특유의 쫀득함과 감칠맛이 매력적인 부위입니다.\\\\n\\\\n\\u200b\", \"score\": 0.8437023}, {\"title\": \"스테이크를 더 맛있게 만들어줄 와인 페어링 - 와인21닷컴 - WINE21\", \"url\": \"https://www.wine21.com/11_news/news_view.html?Idx=19051\", \"content\": \"유명 스테이크하우스 레스토랑의 와인 디렉터인 마크 퀵(Mark Quick)에 따르면 와인과 소고기를 페어링하는 가장 쉬운 방법은 와인 풍미의 강도를 스테이크와 맞추는 것이라고 한다. 예를 들어 지방이 많은 스테이크는 풍미가 강하니 맛이 묵직한 와인을, 지방이 적은 스테이크는 비교적 가벼운 와인을 매칭하는 것이 바람직하다고 말한다. 또한 피터 리처드 MW는 “크리미한 소스는 오크향이 강한 와인과 잘 어울리며 소금과 후추만 곁들일 땐 시라 와인을 추천한다”고 전했다.\\\\n\\\\n고정관념을 깨는 스테이크와 화이트 와인 페어링 [...] 품종의 특성상 대부분의 피노 누아 와인은 비교적 가볍기 때문에 맛이 묵직한 스테이크에 섬세한 향이 묻힌다고 생각하기 쉽다. 그러나 피노 누아의 산미와 밝은 레드베리 풍미는 상황에 따라 스테이크와 훌륭한 궁합을 보여준다. 피노 누아와 스테이크를 페어링할 경우, 일반적으로 레어에서 미디엄 레어로 익힌 안심을 선택하길 추천한다. 음식 및 와인 전문가 피오나 베켓(Fiona Becket)은 “나는 일반적으로 피노 누아를 스테이크와 잘 어울린다고 생각하지 않지만, 고기를 레어로 익혔을 경우 지금까지 최고의 페어링은 부드럽고 매혹적인 다니엘 리옹(Daniel Rion)의 본 로마네(Vosne-Romanée) 2001이었다”고 말했다.\\\\n\\\\n지방의 정도와 소스도 중요하다고? [...] 풀바디 레드 와인 중 또 다른 클래식한 선택으로는 카베르네 소비뇽 와인이 있다. 진한 과실 풍미와 타닌, 높은 산도가 조화롭기 때문이다. 와인 전문가인 카렌 맥닐(Karen MacNeil)은 음식과 와인 페어링에 대한 10가지 규칙에서 \\'구운 스테이크를 곁들인 강력한 캘리포니아 카베르네 소비뇽을 이길 와인은 극히 드물다\\'며 미국 카베르네 소비뇽에 대한 확신을 내비쳤다.\\\\n\\\\n스테이크를 곁들인 레드 와인에 대한 추가 옵션\\\\n\\\\n피터 리처드(Peter Richards) MW는 스테이크와 함께 곁들일 와인으로 신선한 카베르네 프랑이나 까리냥, 쌩소 또는 서늘한 지역의 시라도 추천한다. “풀바디하면서도 우아한 로제도 잘 어울릴 수 있다”며 “많은 사람들이 착각하는 부분이 스테이크와 어울리는 와인은 묵직한 스타일이라고 생각하는 것”이라고 덧붙였다.\\\\n\\\\n스테이크와 피노 누아의 페어링은 어떨까?\", \"score\": 0.8386933}]', name='tavily_search_results_json', tool_call_id='call_QZhGqWMuEnFQOCPeuw2w1z6A', artifact={'query': '스테이크 와인 추천', 'follow_up_questions': None, 'answer': None, 'images': [], 'results': [{'url': 'https://mashija.com/%EC%8A%A4%ED%85%8C%EC%9D%B4%ED%81%AC%EC%99%80-%EC%96%B4%EC%9A%B8%EB%A6%AC%EB%8A%94-%EC%B5%9C%EA%B3%A0%EC%9D%98-%EC%99%80%EC%9D%B8-%EB%AC%B4%EC%97%87%EC%9D%84-%EA%B3%A0%EB%A5%BC-%EA%B2%83%EC%9D%B8/', 'title': '스테이크와 어울리는 최고의 와인: 무엇을 고를 것인가? - 마시자 매거진', 'content': '# 스테이크와 어울리는 최고의 와인: 무엇을 고를 것인가?\\n\\n카베르네 소비뇽(Cabernet Sauvignon) 및 말벡(Malbec)과 같은 전형적인 선택부터 더 가벼운 레드 와인, 심지어 화이트 와인과 맛있는 스테이크를 페어링하는 방법까지, 우리의 아카이브에서 가져온 최고의 조언과 최근 디캔터 전문가가 추천한 와인을 소개한다.\\n\\n<스테이크를 곁들인 레드 와인을 위한 5가지 전형적인 선택>\\n\\n• 카베르네 소비뇽(Cabernet Sauvignon)  \\n• 말벡(Malbec)  \\n• 그르나슈/쉬라즈 블렌드(Grenache / Shiraz blends)  \\n• 시라/쉬라즈(Syrah / Shiraz)  \\n• 산지오베제(Sangiovese)\\n\\n육즙이 풍부한 스테이크와 맛있는 와인이 있는 저녁 식사는 적어도 고기 애호가들에게 인생의 큰 즐거움일 것이다. [...] 와인과 음식 페어링에서 새로운 시도를 하는 것은 항상 재미있지만, 특별한 스테이크 저녁 식사를 준비할 때 고려해야 할 몇 가지 스타일과 주의사항이 있다.\\n\\n<스테이크에 곁들이는 레드 와인>\\n\\n이 포도 품종을 세계 와인 무대에 재등장시키고 고품질 쇠고기에 대한 국가의 명성을 가진 아르헨티나 덕분에, 말벡 레드 와인은 스테이크와 함께 고전적인 매칭이 되었다.\\n\\n말벡의 풍부한 짙은 과일의 특징과 자연스러운 타닌은 일반적으로 좋은 스테이크와 잘 어울린다고 여겨지지만, 일부 전문가들은 더 신선한 스타일을 찾는 것을 제안한다.\\n\\n2018년 디캔터 월드 와인 어워드(Decanter World Wine Awards)에서 아르헨티나 지역 의장이었던 남미 와인 전문가이자 저널리스트인 파트리시오 타피아(Patricio Tapia)는 ‘나는 오크가 적고 신선한 과일과 더 좋은 산도를 가진 ‘뉴 웨이브(new wave)’ 말벡을 선택하는 경향이 있다.’라고 말한다. [...] ‘특히 우코 밸리(Uco Valley)의 알타미라(Altamira) 및 괄타라리(Gualtallary)와 같은 곳에서 안데스산맥 쪽의 와인들이며, 와인 한 잔의 주요 임무는 음식에 활력을 주는 것임을 항상 명심하라.’고 그는 덧붙였다.\\n\\n진한 색의 과일, 타닌, 자연적으로 높은 산도가 조화를 이루는 카베르네 소비뇽 와인은 풀바디 레드 와인을 즐기고 싶다면 할 수 있는 또 다른 고전적인 선택이다.\\n\\n와인 전문가 카렌 맥닐(Karen MacNeil)은 음식과 와인 페어링에 대한 10가지 규칙에서 ‘구운(grilled) 스테이크를 곁들인 파워풀한 캘리포니아 카베르네 소비뇽은 이길 수 없다’라고 언급했다.\\n\\n– 스테이크와 레드 와인에 대한 추가 옵션 –\\n\\n2018년 디캔터와의 인터뷰에서 피터 리차즈(Peter Richards MW)는 “사람들이 스테이크와 함께 곁들일 와인으로 말벡이나 카베르네 소비뇽의 전통적인 조합을 뛰어넘어 볼 것을 강조한다.”라고 하였다.', 'score': 0.8987045, 'raw_content': None}, {'url': 'https://m.blog.naver.com/wineislikeacat/223096696241', 'title': '등심 스테이크에는 이 와인 드셔보세요! 소고기 부위별 레드와인 추천 ...', 'content': \"카베르네 소비뇽(Carbernet Sauvignon), 시라(Syrah) 품종을 추천드려요!\\n\\n\\u200b\\n\\n존재하지 않는 이미지입니다.\\n\\n안심 스테이크와 어울리는 와인\\n\\n> 안심 스테이크와 어울리는 와인 품종은? 산지오베제!\\n\\n고기 본연의 맛을 즐기기 가장 좋은 부위로 꼽히는 안심은\\n\\n등심 안쪽에 위치해 있어 운동량이 적기 때문에 소고기 중 육질이 가장 부드럽습니다.\\n\\n지방이 거의 없기 때문에 고기 자체의 맛을 가장 잘 느낄 수 있는 것이죠.\\n\\n\\u200b\\n\\n이와 어울리는 품종은 산도가 높은 편에 속해 시큼한 맛으로 안심의 감칠맛을 더해주는\\n\\n이탈리아의 산지오베제(Sangiovege)를 추천드릴 수 있습니다.\\n\\n\\u200b\\n\\n존재하지 않는 이미지입니다.\\n\\n갈비살과 어울리는 와인\\n\\n> 갈비살과 어울리는 와인 품종은? 말벡, 카베르네 소비뇽!\\n\\n갈비뼈에 붙어있는 살인 갈비살은\\n\\n뼈에서 나오는 골즙이 육즙과 어우러져 풍미가 좋죠.\\n\\n등심과 비슷한 맛이지만 더 질긴 편에 속합니다.\\n\\n\\u200b [...] 오래 씹을수록 기름기가 더 느껴지는 갈비살의 경우\\n\\n등심과 마찬가지로 탄닌감과 산도감이 높아,\\n\\n느끼함을 씻어줄 수 있는 와인 품종이 좋습니다.\\n\\n\\u200b\\n\\n따라서 위의 등심 스테이크에서 언급한 까베르네 소비뇽 뿐만 아니라\\n\\n깊고 진한 탄닌감을 지닌 말벡(Malbec)도 추천드릴 수 있겠네요!\\n\\n\\u200b\\n\\n존재하지 않는 이미지입니다.\\n\\n차돌박이와 어울리는 와인\\n\\n> 차돌박이와 어울리는 와인 품종은? 메를로, 피노 누아!\\n\\n기름기가 풍부하고 얇은 차돌박이는\\n\\n굽고 나면 기름이 빠지기 때문에 고소하고 깔끔한 맛을 즐길 수 있죠.\\n\\n\\u200b\\n\\n부드러운 차돌박이에는 부드러운 탄닌감과 짙은 과실향을 지닌 메를로 품종 혹은\\n\\n우아하고 깔끔한 향의 피노 누아를 추천드립니다.\\n\\n\\u200b\\n\\n존재하지 않는 이미지입니다.\\n\\n부채살과 어울리는 와인\\n\\n> 부채살과 어울리는 와인은? 시라!\\n\\n'낙엽살'로도 불리는 부채살은 힘줄이 약간 질긴 편이지만\\n\\n씹을수록 그 특유의 쫀득함과 감칠맛이 매력적인 부위입니다.\\n\\n\\u200b\", 'score': 0.8437023, 'raw_content': None}, {'url': 'https://www.wine21.com/11_news/news_view.html?Idx=19051', 'title': '스테이크를 더 맛있게 만들어줄 와인 페어링 - 와인21닷컴 - WINE21', 'content': \"유명 스테이크하우스 레스토랑의 와인 디렉터인 마크 퀵(Mark Quick)에 따르면 와인과 소고기를 페어링하는 가장 쉬운 방법은 와인 풍미의 강도를 스테이크와 맞추는 것이라고 한다. 예를 들어 지방이 많은 스테이크는 풍미가 강하니 맛이 묵직한 와인을, 지방이 적은 스테이크는 비교적 가벼운 와인을 매칭하는 것이 바람직하다고 말한다. 또한 피터 리처드 MW는 “크리미한 소스는 오크향이 강한 와인과 잘 어울리며 소금과 후추만 곁들일 땐 시라 와인을 추천한다”고 전했다.\\n\\n고정관념을 깨는 스테이크와 화이트 와인 페어링 [...] 품종의 특성상 대부분의 피노 누아 와인은 비교적 가볍기 때문에 맛이 묵직한 스테이크에 섬세한 향이 묻힌다고 생각하기 쉽다. 그러나 피노 누아의 산미와 밝은 레드베리 풍미는 상황에 따라 스테이크와 훌륭한 궁합을 보여준다. 피노 누아와 스테이크를 페어링할 경우, 일반적으로 레어에서 미디엄 레어로 익힌 안심을 선택하길 추천한다. 음식 및 와인 전문가 피오나 베켓(Fiona Becket)은 “나는 일반적으로 피노 누아를 스테이크와 잘 어울린다고 생각하지 않지만, 고기를 레어로 익혔을 경우 지금까지 최고의 페어링은 부드럽고 매혹적인 다니엘 리옹(Daniel Rion)의 본 로마네(Vosne-Romanée) 2001이었다”고 말했다.\\n\\n지방의 정도와 소스도 중요하다고? [...] 풀바디 레드 와인 중 또 다른 클래식한 선택으로는 카베르네 소비뇽 와인이 있다. 진한 과실 풍미와 타닌, 높은 산도가 조화롭기 때문이다. 와인 전문가인 카렌 맥닐(Karen MacNeil)은 음식과 와인 페어링에 대한 10가지 규칙에서 '구운 스테이크를 곁들인 강력한 캘리포니아 카베르네 소비뇽을 이길 와인은 극히 드물다'며 미국 카베르네 소비뇽에 대한 확신을 내비쳤다.\\n\\n스테이크를 곁들인 레드 와인에 대한 추가 옵션\\n\\n피터 리처드(Peter Richards) MW는 스테이크와 함께 곁들일 와인으로 신선한 카베르네 프랑이나 까리냥, 쌩소 또는 서늘한 지역의 시라도 추천한다. “풀바디하면서도 우아한 로제도 잘 어울릴 수 있다”며 “많은 사람들이 착각하는 부분이 스테이크와 어울리는 와인은 묵직한 스타일이라고 생각하는 것”이라고 덧붙였다.\\n\\n스테이크와 피노 누아의 페어링은 어떨까?\", 'score': 0.8386933, 'raw_content': None}], 'response_time': 1.95, 'request_id': '36ee9c5b-1ebf-40ce-bb19-7a65cc8c51b2'})]\n",
      "----------------------------------------------------------------------------------------------------\n",
      "('스테이크와 잘 어울리는 와인에 대한 추천은 여러 가지가 있습니다. 다음은 각 스테이크 부위 별로 추천하는 와인 품종입니다:\\n'\n",
      " '\\n'\n",
      " '1. **카베르네 소비뇽 (Cabernet Sauvignon)**:\\n'\n",
      " '   - 풀바디 레드 와인으로, 강한 타닌과 풍부한 과일 맛이 스테이크와 잘 어울립니다. 특히 지방이 많은 고기와 좋은 조화를 '\n",
      " '이룹니다.\\n'\n",
      " '\\n'\n",
      " '2. **말벡 (Malbec)**:\\n'\n",
      " '   - 아르헨티나의 대표적인 와인으로, 풍부한 과일 맛과 부드러운 타닌이 있습니다. 육즙이 많은 스테이크와 특히 잘 어울립니다.\\n'\n",
      " '\\n'\n",
      " '3. **시라 / 쉬라즈 (Syrah / Shiraz)**:\\n'\n",
      " '   - 가끔 강렬한 향과 좋은 산미를 가진 이 와인은 스테이크의 풍미를 강조해 줍니다.\\n'\n",
      " '\\n'\n",
      " '4. **산지오베제 (Sangiovese)**:\\n'\n",
      " '   - 이탈리아의 대표적인 품종으로, 산도가 높아 뒷맛이 깔끔하여 안심 스테이크와 잘 어울립니다.\\n'\n",
      " '\\n'\n",
      " '5. **그르나슈 / 쉬라즈 블렌드 (Grenache / Shiraz blends)**:\\n'\n",
      " '   - 부드럽고 풍부한 맛의 조화를 이루며 스테이크와 좋은 조합을 이룹니다.\\n'\n",
      " '\\n'\n",
      " '### 추가 정보\\n'\n",
      " '- 스테이크의 지방 함량과 조리 방법에 따라 와인을 선택할 때 풍미의 강도를 맞추는 것이 좋습니다. 예를 들어, 기름기가 많은 스테이크는 '\n",
      " '묵직한 와인과, 지방이 적은 스테이크는 가벼운 와인과 잘 어울립니다.\\n'\n",
      " '\\n'\n",
      " '더 자세한 정보는 [이곳에서 '\n",
      " '확인](https://mashija.com/%EC%8A%A4%ED%85%8C%EC%9D%B4%ED%81%AC%EC%99%80-%EC%96%B4%EC%9A%B8%EB%A6%AC%EB%8A%94-%EC%B5%9C%EA%B3%A0%EC%9D%98-%EC%99%80%EC%9D%B8-%EB%AC%B4%EC%97%87%EC%9D%84-%EA%B3%A0%EB%A5%BC-%EA%B2%83%EC%9D%B8/) '\n",
      " '할 수 있습니다.')\n"
     ]
    }
   ],
   "source": [
    "from datetime import datetime\n",
    "from langchain_core.prompts import ChatPromptTemplate\n",
    "from langchain_core.runnables import RunnableConfig, chain\n",
    "from pprint import pprint\n",
    "\n",
    "# 오늘 날짜 설정\n",
    "today = datetime.today().strftime(\"%Y-%m-%d\")\n",
    "\n",
    "# 프롬프트 템플릿 \n",
    "prompt = ChatPromptTemplate([\n",
    "    (\"system\", f\"You are a helpful AI assistant. Today's date is {today}.\"),\n",
    "    (\"human\", \"{user_input}\"),\n",
    "    (\"placeholder\", \"{messages}\"),\n",
    "])\n",
    "\n",
    "# ChatOpenAI 모델 초기화 \n",
    "#llm = ChatOpenAI(model=\"gpt-4o-mini\")\n",
    "\n",
    "# Tavily 검색 도구 초기화 (최대 3개의 결과 반환)\n",
    "tavily_tool = TavilySearchResults(max_results=3)\n",
    "\n",
    "# LLM에 도구를 바인딩\n",
    "llm_with_tools = llm.bind_tools(tools=[tavily_tool])\n",
    "\n",
    "# LLM 체인 생성\n",
    "llm_chain = prompt | llm_with_tools\n",
    "\n",
    "# 도구 실행 체인 정의\n",
    "# web_search_chain() 함수는 StructuredTool 객체이다.\n",
    "@chain\n",
    "def web_search_chain(user_input: str, config: RunnableConfig):\n",
    "    input_ = {\"user_input\": user_input}\n",
    "    ai_msgs = llm_chain.invoke(input_, config=config)\n",
    "    print(\"ai_msgs: \\n\", ai_msgs) #AIMessage\n",
    "    print(\"-\"*100)\n",
    "\n",
    "    tool_msgs = tavily_tool.batch(ai_msgs.tool_calls, config=config)\n",
    "    print(\"tool_msgs: \\n\", tool_msgs) #ToolMessage \n",
    "    \n",
    "    print(\"-\"*100)\n",
    "    return llm_chain.invoke({**input_, \"messages\": [ai_msgs, *tool_msgs]}, config=config)\n",
    "\n",
    "# 체인 실행\n",
    "query = \"스테이크와 어울리는 와인을 추천해주세요.\"\n",
    "# chain을 호출하는 함수 호출\n",
    "print('====>' , type(web_search_chain))\n",
    "response = web_search_chain.invoke(query)\n",
    "\n",
    "# 응답 출력 \n",
    "pprint(response.content)"
   ]
  },
  {
   "cell_type": "markdown",
   "id": "60f49a9f",
   "metadata": {},
   "source": [
    "### 2-2. 사용자 정의 도구\n",
    "* @tool decorator를 통해 사용자 정의 도구를 정의할 수 있음\n",
    "* @tool 데코레이터를 사용하여 Tavily를 호출하는 tavily_search_func 함수를 StructuredTool로 생성하기"
   ]
  },
  {
   "cell_type": "markdown",
   "id": "5c058ff5",
   "metadata": {},
   "source": [
    "`(1) 도구(tool) 정의하기`"
   ]
  },
  {
   "cell_type": "code",
   "execution_count": 20,
   "id": "2647393d",
   "metadata": {},
   "outputs": [],
   "source": [
    "from langchain_community.tools import TavilySearchResults\n",
    "from langchain_core.tools import tool\n",
    "\n",
    "# Tool 정의 \n",
    "@tool\n",
    "def tavily_search_func(query: str) -> str:\n",
    "    \"\"\"Searches the internet for information that does not exist in the database or for the latest information.\"\"\"\n",
    "\n",
    "    tavily_search = TavilySearchResults(max_results=2)\n",
    "    docs = tavily_search.invoke(query)\n",
    "\n",
    "    #doc 변수가 dict 타입, ['title', 'url', 'content', 'score', 'raw_content']\n",
    "    formatted_docs = \"\\n---\\n\".join([\n",
    "        f'<Document href=\"{doc[\"url\"]}\"/>\\n{doc[\"content\"]}\\n</Document>'\n",
    "        for doc in docs\n",
    "        ])\n",
    "\n",
    "    if len(formatted_docs) > 0:\n",
    "        return formatted_docs\n",
    "    \n",
    "    return \"관련 정보를 찾을 수 없습니다.\""
   ]
  },
  {
   "cell_type": "code",
   "execution_count": null,
   "id": "40ca35d1",
   "metadata": {},
   "outputs": [],
   "source": [
    "print(llm.model_name)\n",
    "llm_with_tools = llm.bind_tools(tools=[tavily_search_func])\n",
    "print(type(llm_with_tools))\n"
   ]
  },
  {
   "cell_type": "markdown",
   "id": "7b2d5144",
   "metadata": {},
   "source": [
    "### 2-3. Runnable 객체를 도구(tool) 변환\n",
    "- 문자열이나 dict 입력을 받는 Runnable을 도구로 변환\n",
    "- as_tool() 메서드를 사용\n",
    "- [WikipediaLoader](https://python.langchain.com/api_reference/community/document_loaders/langchain_community.document_loaders.wikipedia.WikipediaLoader.html) 사용\n"
   ]
  },
  {
   "cell_type": "markdown",
   "id": "4c34b84a",
   "metadata": {},
   "source": [
    "- wikipedia 설치\n",
    "```python\n",
    "    poetry add wikipedia\n",
    "```"
   ]
  },
  {
   "cell_type": "code",
   "execution_count": 63,
   "id": "933f7aa5",
   "metadata": {},
   "outputs": [
    {
     "name": "stdout",
     "output_type": "stream",
     "text": [
      "<class 'langchain_core.tools.structured.StructuredTool'>\n"
     ]
    }
   ],
   "source": [
    "# 필요한 모듈들을 가져옵니다.\n",
    "from langchain_community.document_loaders import WikipediaLoader  # 위키피디아에서 문서를 불러오는 로더\n",
    "from langchain_core.documents import Document                     # LangChain 문서 객체\n",
    "from langchain_core.runnables import RunnableLambda             # 일반 함수를 LangChain의 Runnable로 변환\n",
    "from pydantic import BaseModel, Field                           # 데이터 유효성 검사 및 스키마 정의를 위한 Pydantic\n",
    "from typing import List                                         # 타입 힌트를 위한 List\n",
    "# dedent() 함수를 가져옵니다. 이 함수는 문자열의 들여쓰기를 제거하는 역할을 합니다.\n",
    "from textwrap import dedent\n",
    "\n",
    "# WikipediaLoader를 사용하여 위키피디아 문서를 검색하는 함수를 정의합니다.\n",
    "def search_wiki(input_data: dict) -> List[Document]:\n",
    "    \"\"\"사용자의 입력(query)을 기반으로 위키피디아 문서를 검색하고 지정된 개수(k)만큼 반환합니다.\"\"\"\n",
    "    # input_data 딕셔너리에서 'query' 값을 가져와 검색어로 사용합니다.\n",
    "    query = input_data[\"query\"]\n",
    "    # input_data에서 'k' 값을 가져옵니다. 'k'가 없으면 기본값 2를 사용합니다.\n",
    "    k = input_data.get(\"k\", 2)\n",
    "    \n",
    "    # 지정된 검색어와 문서 개수(k), 언어('ko' for 한국어)를 설정하여 WikipediaLoader를 초기화합니다.\n",
    "    wiki_loader = WikipediaLoader(query=query, load_max_docs=k, lang=\"ko\")\n",
    "    # 로더를 실행하여 위키피디아 문서를 불러옵니다.\n",
    "    wiki_docs = wiki_loader.load()\n",
    "    # 불러온 문서 목록을 반환합니다.\n",
    "    return wiki_docs\n",
    "\n",
    "# 도구 호출에 사용될 입력 스키마(데이터 구조)를 Pydantic을 이용해 정의합니다.\n",
    "class WikiSearchSchema(BaseModel):\n",
    "    \"\"\"위키피디아 검색을 위한 입력 스키마.\"\"\"\n",
    "    # 검색어를 나타내는 필드. ...은 필수 필드임을 의미합니다.\n",
    "    query: str = Field(..., description=\"위키피디아에서 검색할 질의어\")\n",
    "    # 반환할 문서의 개수를 나타내는 필드. 기본값은 2입니다.\n",
    "    k: int = Field(2, description=\"반환할 문서의 개수 (기본값은 2)\")\n",
    "\n",
    "# RunnableLambda를 사용하여 함수(search_wiki)를 LangChain의 Runnable 객체로 변환합니다.\n",
    "# 이를 통해 함수를 LangChain의 체인(chain)이나 에이전트 도구로 활용할 수 있습니다.\n",
    "runnable = RunnableLambda(search_wiki)\n",
    "\n",
    "# Runnable 객체를 도구(tool)로 변환합니다. wiki_search는 StructuredTool 객체이다.\n",
    "wiki_search = runnable.as_tool(\n",
    "    # 도구의 이름을 'wiki_search'로 설정합니다.\n",
    "    name=\"wiki_search\",\n",
    "    # 도구의 설명을 지정합니다. dedent() 함수를 사용해 들여쓰기를 제거하여 깔끔하게 만듭니다.\n",
    "    description=dedent(\"\"\"\n",
    "        위키피디아 정보를 검색해야 할 때 이 도구를 사용하세요.\n",
    "        사용자의 질의와 관련된 위키피디아 문서를 검색하여 지정된 개수만큼 반환합니다.\n",
    "        일반적인 지식이나 배경 정보가 필요할 때 유용합니다.\n",
    "    \"\"\"),\n",
    "    # 도구의 입력 스키마를 WikiSearchSchema로 지정하여 입력의 유효성을 검사합니다.\n",
    "    args_schema=WikiSearchSchema\n",
    ")\n",
    "print(type(wiki_search))"
   ]
  },
  {
   "cell_type": "code",
   "execution_count": 64,
   "id": "ff26347a",
   "metadata": {},
   "outputs": [
    {
     "name": "stdout",
     "output_type": "stream",
     "text": [
      "자료형: \n",
      "<class 'langchain_core.tools.structured.StructuredTool'>\n",
      "----------------------------------------------------------------------------------------------------\n",
      "name: \n",
      "wiki_search\n",
      "----------------------------------------------------------------------------------------------------\n",
      "description: \n",
      "('위키피디아 정보를 검색해야 할 때 이 도구를 사용하세요.\\n'\n",
      " '사용자의 질의와 관련된 위키피디아 문서를 검색하여 지정된 개수만큼 반환합니다.\\n'\n",
      " '일반적인 지식이나 배경 정보가 필요할 때 유용합니다.')\n",
      "----------------------------------------------------------------------------------------------------\n",
      "schema: \n",
      "{'description': '위키피디아 검색을 위한 입력 스키마.',\n",
      " 'properties': {'k': {'default': 2,\n",
      "                      'description': '반환할 문서의 개수 (기본값은 2)',\n",
      "                      'title': 'K',\n",
      "                      'type': 'integer'},\n",
      "                'query': {'description': '위키피디아에서 검색할 질의어',\n",
      "                          'title': 'Query',\n",
      "                          'type': 'string'}},\n",
      " 'required': ['query'],\n",
      " 'title': 'WikiSearchSchema',\n",
      " 'type': 'object'}\n",
      "----------------------------------------------------------------------------------------------------\n"
     ]
    }
   ],
   "source": [
    "# 도구 속성\n",
    "print(\"자료형: \")\n",
    "print(type(wiki_search))\n",
    "print(\"-\"*100)\n",
    "\n",
    "print(\"name: \")\n",
    "print(wiki_search.name)\n",
    "print(\"-\"*100)\n",
    "\n",
    "print(\"description: \")\n",
    "pprint(wiki_search.description)\n",
    "print(\"-\"*100)\n",
    "\n",
    "print(\"schema: \")\n",
    "pprint(wiki_search.args_schema.schema())\n",
    "print(\"-\"*100)"
   ]
  },
  {
   "cell_type": "code",
   "execution_count": 65,
   "id": "ed7ff3c4",
   "metadata": {},
   "outputs": [
    {
     "name": "stdout",
     "output_type": "stream",
     "text": [
      "page_content='오르조(이탈리아어: orzo) 또는 리소니(이탈리아어: risoni, 단수: risone 리소네[*])는 이탈리아의 파스타이다. \"오르조\"는 라틴어:hordeum에서 유래했으며 \"보리\"를 뜻한다. \"리소니\"는 \"큰 쌀\"이라는 뜻이다. 파스타의 일종으로 큰 쌀알의 모양을 하고 있으며 솔방울이나 잣보다는 좀 더 작다. 보통 라구 등 수프와 함께 먹는다. 원래는 보리로 만들었지만 요즘에는 박력분으로 만드는 것이 흔해졌다. 다른 이름으로는 kritharáki (\"little barley\") 혹은 manéstra(그리스 요리)로 부르며, lisān al-`uṣfūr (\"명금의 혀\")라고 아랍 요리에서 불린다. 오르조를 두고 이탈리아의 쌀이라고 부르기도 한다.\n",
      "터키에서는 아르파 셰흐리예(arpa şehriye)로 불리며, 셰흐리예의 하나이다. 필라브를 만들거나 초르바(수프)에 넣어 먹는다.\n",
      "\n",
      "\n",
      "== 같이 보기 ==\n",
      "파스티나\n",
      "셰흐리예\n",
      "\n",
      "\n",
      "== 각주 ==' metadata={'title': '오르조', 'summary': '오르조(이탈리아어: orzo) 또는 리소니(이탈리아어: risoni, 단수: risone 리소네[*])는 이탈리아의 파스타이다. \"오르조\"는 라틴어:hordeum에서 유래했으며 \"보리\"를 뜻한다. \"리소니\"는 \"큰 쌀\"이라는 뜻이다. 파스타의 일종으로 큰 쌀알의 모양을 하고 있으며 솔방울이나 잣보다는 좀 더 작다. 보통 라구 등 수프와 함께 먹는다. 원래는 보리로 만들었지만 요즘에는 박력분으로 만드는 것이 흔해졌다. 다른 이름으로는 kritharáki (\"little barley\") 혹은 manéstra(그리스 요리)로 부르며, lisān al-`uṣfūr (\"명금의 혀\")라고 아랍 요리에서 불린다. 오르조를 두고 이탈리아의 쌀이라고 부르기도 한다.\\n터키에서는 아르파 셰흐리예(arpa şehriye)로 불리며, 셰흐리예의 하나이다. 필라브를 만들거나 초르바(수프)에 넣어 먹는다.', 'source': 'https://ko.wikipedia.org/wiki/%EC%98%A4%EB%A5%B4%EC%A1%B0'}\n",
      "----------------------------------------------------------------------------------------------------\n",
      "page_content='이탈리아 요리(Italia 料理, 이탈리아어: cucina italiana 쿠치나 이탈리아나[*])는 남유럽에 있는 이탈리아의 요리이다. 기원전 4세기부터 다양한 사회·정치 변화와 함께 발전해 왔다. 특히 유럽인들이 세계 각지로 진출한 이후 신대륙에서 감자, 토마토, 단고추, 옥수수 등의 다양한 식재료가 유입되면서 이탈리아 요리는 큰 변화를 겪었다. 이런 재료는 18세기 이전까지는 보급되지 않았다.\n",
      "이탈리아 요리는 각 지역마다 고유한 특색이 있고 다양하지만 크게 북부와 남부로 구분한다. 다른 나라와 국경을 맞대던 북부는 산업화하여 호황을 누리면서 농업이 발달한 덕분에 쌀이나 유제품이 사용되는 요리가 많지만 경제적으로 침체됐던 남부는 지역 특산물인 올리브와 토마토, 모짜렐라 치즈나 해산물을 활용한 요리가 많다.\n",
      "간결함으로 귀결되는 특징이 있어 많은 경우 4개~8개 정도의 재료로 조리되며 정교한 준비 과정보다는 재료의 질에 따라 맛이 좌우된다. 치즈와 포도주는 이탈리아 요리의 핵심을 차지하며 여러 종류가 존재하는데 식재료와 치즈의 차이는 파스타의 종류와 요리에 기본이 되는 수프, 소스의 차이를 뜻한다.\n",
      "2013년 CNN은 세계 최고의 요리로 이탈리아 요리를 선정했다.\n",
      "\n",
      "\n",
      "== 역사 ==\n",
      "대략 기원전 4세기부터 시작되었다고 여겨진다. 여러 세기 동안 주변 지역과 정복자, 유명한 요리사, 정치 변동 및 신대륙의 발견 등 매우 다양한 요소가 이탈리아 요리의 형성에 영향을 끼쳤다.\n",
      "\n",
      "\n",
      "=== 고대 ===\n",
      "이탈리아 요리에 대해 최초의 저술을 남긴 사람은 그리스계 시칠리아 사람인 아케스트라투스이다. 기원전 4세기에 지금의 시라쿠사 지역에 살던 그는 “계절에 맞는 최상의 재료”를 사용하는 것에 대한 시를 남겼다. 그는 또한 향신료나 허브, 양념 따위를 사용한 음식과 그 중요성, 생선 요리 등에 대해 서술했다. 특정 양념이나 향신료가 지나쳐서는 안 된다는 것 또한 집필 내용에 포함됐지만 470가지의 요리법을 담은 책인 《데 레 코퀴나리아》(De re coquinaria《요리에 관하여》)를 출판하면서 이런 형태의 요리는 역사 속으로 사라졌다. 이 책은 생선의 비린내나 특정 재료의 맛을 숨기면서 다른 맛을 낼 수 있는 소스에 대해서 서술해 놓았다. 로마 사람들은 그리스 최고의 제빵사를 고용해서 빵을 만들었고 가장 뛰어난 재료로 알려져 있던 페코리니(pecorini)를 시칠리아에서 수입해 왔다고 한다. 로마인은 염소를 사육해 육식을 함과 동시에 여러 가지 식물도 재배한 것으로 알려져 있다.\n",
      "\n",
      "\n",
      "=== 중세 ===\n",
      "시칠리아 지방으로 로마와 아테네의 요리 문화가 유입됐고 섬 지형에 맞게 변형되고 다시 새로운 요리로 탈바꿈하게 됐다. 이탈리아 요리의 뿌리가 시칠리아에 기원한다고 볼 수 있는 셈이다.\n",
      "\n",
      "무슬림이 9세기까지 시칠리아를 침략하여 다스렸고 그 뒤에는 바이킹 세력이 남하하여 지중해 일대는 상당한 혼란기를 겪었다. 아랍인들은 시금치, 아몬드, 쌀 등을 도입했으며, 이러한 재료의 출현은 12세기 노르웨이의 왕이 시칠리아에 왔을 때 사람들이 기다란 면발을 만들어 먹었다는 것을 보았다고 기록한 것을 토대로 알 수 있다. 이 요리를 일부에서는 파스타의 첫 출현이라고 보고 있다. 당시에는 면을 단순히 밀가루와 물로 만들었다고 하는데, 사람들이 “아트리야”(atriya)라고 불렀다가 나중에는 “트리”(trii)로 굳어졌다고 한다. 트리(Trii)라는 이 낱말은 남부 이탈리아에서 스파게티의 다른 이름으로 쓰이기도 했다. 노르만 족들은 청어나 대구 따위를 절여 먹는 법도 들여왔으며, 이 방법은 아직까지도 이탈리아에서 사용되고 있다.\n",
      "냉장고가 없던 시절에 음식 저장법은 매우 중요했으며, 그 방법은 물리적이면서 화학적이기도 했다. 육류나 생선은 훈제하거나 얼음 위에 보관했고 아니면 건조시켰다. 소금물이나 소금에 식재료를 절여 두는 것은 청어나 돼지고기, 피클 따위를 보관하는 방법으로 유용하게 쓰였으며, 식초나 기름 등을 함께 넣어 동물성 단백질이 변질되지 않도록 했는데, 이는 지금의 방부제와 유사한 효과를 냈다. 과일 보관에는 술이나 꿀, 설탕이 쓰였다.\n",
      "\n",
      "이탈리아 반도 북부 지방에서는 독일 요리의 특징과 고대 로마식 요리의 특징이 서로 겹치는 현상이 나타났으며, 남쪽에는 아랍 문화에 토대한 식사 형태가 뿌리내려 지중해 일대로 널리 퍼져 갔다. 가장 오래된 이탈리아의 요리책은 13세기 나폴리에서 집필됐다고 전해지는 《리베르 데 코퀴나》(Liber de Coquina)로서 한국어로는 말 그대로 《요리책》이다. 이 책에는 로마식 배추 요리나 작은 잎을 잘라서 요리한 음식인 라바냐 파이(Lavagna pie)를 비롯해서 지금도 볼 수 있는 생선 요리도 많이 소개되어 있다.\n",
      "15세기에는 바티칸의 요리사로 근무한 마르티노가 《리브로 데 아르테 코퀴나리아》(Libro de Arte Coquinaria, 《요리법》)라는 원고를 써서 그때까지 소개된 책과는 아주 다른 고품격 음식을 다루었다. 그 중 한 가지는 “마카로니 시칠리아니”(Maccaroni Siciliani, 시실리풍 마카로니)인데 얇은 철제 기구에 밀가루 반죽을 덮어서 햇빛에 말려 먹는 요리였다. 주재료인 마카로니는 갓 잡은 수탉과 함께 요리하였고 사프란을 첨가했다. 그는 이 요리가 아랍 문화의 영향을 받았다고 적어 놓았다. 로마인의 요리법으로 포함된 것 중에는 양배추로 요리한 음식과 “코피에테”(coppiette)가 있었다. 그가 선보인 피렌체 풍 음식으로는 달걀로 요리한 볼로네즈 토르타(Bolognese Torta, 볼로냐풍 케이크)와 시에니즈 토르타(Sienese torta, 시에나풍 케이크)가 있었는데 제노바 풍 마카로니 요리, 호박, 버섯, 시금치를 이용해 만들었던 파이 등도 함께 다뤘다.\n",
      "마르티노의 요리는 1475년 베네치아에서 바르톨로미오 플라티나가 출판한 《참된 즐거움과 건강에 대하여》(De honesta voluptate et valetudine)에도 소개되었다. 마르티노의 원고를 참고해서 지역에 따라 분류하고 정리했으며, 마조레 호수의 농어나 가르다 호수의 정어리 등 인근에서 가져다가 사용한 식재료와 해당 음식을 자세히 설명하였다.\n",
      "\n",
      "\n",
      "=== 근대 초 ===\n",
      "이탈리아의 정통 요리는 피렌체와 로마, 베네치아, 페라라의 궁중에서 요리 문화가 꽃피운 이후 본격화하였다. 그중에서도 페라라의 에스테 궁전이 요리 문화의 선두 주자가 됐다. 1549년 이폴리토 데스테의 집사였던 크리스토포로 메시스부고(Christoforo Messisbugo)가 《Banchetti Composizioni di Vivande》를 출판하면서 이탈리아의 파이나 타르트를 소개했다. 그 책에서는 동양이나 동부 지방에서 유입된 재료, 124종의 다양한 양념에 대해서도 설명해 놓았다.\n",
      "\n",
      "1570년 교황 비오 5세의 개인 요리사였던 바르톨미오 스카피가 책 《오페라》(Opera)를 써냈다. 다섯 권으로 구성된 이 책은 요리하는 방법을 천 가지 이상 설명해 놓았을 뿐만 아니라 정찬에서 어떤 형태로 음식이 나가고 식단이 결정됐는지, 조리 기구나 요리하는 모습도 상세히 다뤘다. 다른 궁중에서 전해졌던 책과 이 책이 특별히 다른 점은 가금류를 요리하는 법이다. 인근의 동물이나 새를 잡아서 어떤 식으로 다듬고 깨끗하게 잘라내는지가 나와 있다. 혀나 머리, 어깨뼈 부위를 손질하는 방법도 다뤘다. 제3권에서는 생선이나 사순절에 먹는 음식을 설명했다. 생선 요리는 구워 먹거나 탕류, 찜으로 먹었으므로 상당히 간단했다. 제5권에서는 나폴리풍 피자 요리법이 등장하는데 당시 이탈리아에는 토마토가 존재하지 않았으므로 피자가 지금의 맛이 아니라 달거나 짭짜름한 맛이었다. 옥수수나 칠면조 역시 없었으므로 현대인이 생각하는 음식 문화와는 상당히 달랐다. 이외에 타라트나 파이, 얇게 썬 과일 튀김에 대해서도 썼다.\n",
      "1600년대 잔자코모 카스텔베트로(Giangiacomo Castelvetro)는 《모든 종류의 채소와 허브, 과일》(Brieve Racconto di Tutte le Radici di Tutte l'Herbe et di Tutti i Frutti)이라는 책을 썼다. 모데나 태생인 카스텔베르트로는 개신교도였기에 영국으로 건너갔다. 이 책은 이탈리아의 채소와 과일,' metadata={'title': '이탈리아 요리', 'summary': '이탈리아 요리(Italia 料理, 이탈리아어: cucina italiana 쿠치나 이탈리아나[*])는 남유럽에 있는 이탈리아의 요리이다. 기원전 4세기부터 다양한 사회·정치 변화와 함께 발전해 왔다. 특히 유럽인들이 세계 각지로 진출한 이후 신대륙에서 감자, 토마토, 단고추, 옥수수 등의 다양한 식재료가 유입되면서 이탈리아 요리는 큰 변화를 겪었다. 이런 재료는 18세기 이전까지는 보급되지 않았다.\\n이탈리아 요리는 각 지역마다 고유한 특색이 있고 다양하지만 크게 북부와 남부로 구분한다. 다른 나라와 국경을 맞대던 북부는 산업화하여 호황을 누리면서 농업이 발달한 덕분에 쌀이나 유제품이 사용되는 요리가 많지만 경제적으로 침체됐던 남부는 지역 특산물인 올리브와 토마토, 모짜렐라 치즈나 해산물을 활용한 요리가 많다.\\n간결함으로 귀결되는 특징이 있어 많은 경우 4개~8개 정도의 재료로 조리되며 정교한 준비 과정보다는 재료의 질에 따라 맛이 좌우된다. 치즈와 포도주는 이탈리아 요리의 핵심을 차지하며 여러 종류가 존재하는데 식재료와 치즈의 차이는 파스타의 종류와 요리에 기본이 되는 수프, 소스의 차이를 뜻한다.\\n2013년 CNN은 세계 최고의 요리로 이탈리아 요리를 선정했다.', 'source': 'https://ko.wikipedia.org/wiki/%EC%9D%B4%ED%83%88%EB%A6%AC%EC%95%84_%EC%9A%94%EB%A6%AC'}\n",
      "----------------------------------------------------------------------------------------------------\n"
     ]
    }
   ],
   "source": [
    "# 위키 검색 Tool 호출\n",
    "query = \"파스타의 유래\"\n",
    "wiki_results = wiki_search.invoke({\"query\":query})\n",
    "\n",
    "# 검색 결과 출력\n",
    "for result in wiki_results:\n",
    "    print(result)  \n",
    "    print(\"-\" * 100)  "
   ]
  },
  {
   "cell_type": "code",
   "execution_count": 66,
   "id": "1b812a0a",
   "metadata": {},
   "outputs": [
    {
     "name": "stdout",
     "output_type": "stream",
     "text": [
      "client=<openai.resources.chat.completions.completions.Completions object at 0x000001E924C12660> async_client=<openai.resources.chat.completions.completions.AsyncCompletions object at 0x000001E924C11BB0> root_client=<openai.OpenAI object at 0x000001E925D1B6E0> root_async_client=<openai.AsyncOpenAI object at 0x000001E9239F2990> model_name='gpt-4o-mini' model_kwargs={} openai_api_key=SecretStr('**********')\n",
      "==> tavily_search_func =  <class 'langchain_core.tools.structured.StructuredTool'>\n",
      "==> wiki_search =  <class 'langchain_core.tools.structured.StructuredTool'>\n",
      "<class 'langchain_core.runnables.base.RunnableBinding'>\n",
      "AIMessage(content='', additional_kwargs={'tool_calls': [{'id': 'call_orbQKnlS63eGRcfDrakCw2i5', 'function': {'arguments': '{\"query\": \"서울 강남 파스타 맛집\"}', 'name': 'tavily_search_func'}, 'type': 'function'}, {'id': 'call_8R8IMWvs1X5hLjmurymSeo5s', 'function': {'arguments': '{\"query\": \"파스타의 유래\"}', 'name': 'wiki_search'}, 'type': 'function'}], 'refusal': None}, response_metadata={'token_usage': {'completion_tokens': 58, 'prompt_tokens': 193, 'total_tokens': 251, 'completion_tokens_details': {'accepted_prediction_tokens': 0, 'audio_tokens': 0, 'reasoning_tokens': 0, 'rejected_prediction_tokens': 0}, 'prompt_tokens_details': {'audio_tokens': 0, 'cached_tokens': 0}}, 'model_name': 'gpt-4o-mini-2024-07-18', 'system_fingerprint': 'fp_560af6e559', 'id': 'chatcmpl-CJAJdbdCt55vS43Ev96cCvxxR5wbP', 'service_tier': 'default', 'finish_reason': 'tool_calls', 'logprobs': None}, id='run--dd0d4b29-43b5-494f-a817-5559c2374424-0', tool_calls=[{'name': 'tavily_search_func', 'args': {'query': '서울 강남 파스타 맛집'}, 'id': 'call_orbQKnlS63eGRcfDrakCw2i5', 'type': 'tool_call'}, {'name': 'wiki_search', 'args': {'query': '파스타의 유래'}, 'id': 'call_8R8IMWvs1X5hLjmurymSeo5s', 'type': 'tool_call'}], usage_metadata={'input_tokens': 193, 'output_tokens': 58, 'total_tokens': 251, 'input_token_details': {'audio': 0, 'cache_read': 0}, 'output_token_details': {'audio': 0, 'reasoning': 0}})\n",
      "----------------------------------------------------------------------------------------------------\n",
      "''\n",
      "----------------------------------------------------------------------------------------------------\n",
      "[{'args': {'query': '서울 강남 파스타 맛집'},\n",
      "  'id': 'call_orbQKnlS63eGRcfDrakCw2i5',\n",
      "  'name': 'tavily_search_func',\n",
      "  'type': 'tool_call'},\n",
      " {'args': {'query': '파스타의 유래'},\n",
      "  'id': 'call_8R8IMWvs1X5hLjmurymSeo5s',\n",
      "  'name': 'wiki_search',\n",
      "  'type': 'tool_call'}]\n",
      "----------------------------------------------------------------------------------------------------\n"
     ]
    }
   ],
   "source": [
    "# LLM에 도구를 바인딩 (2개의 도구 바인딩)\n",
    "print(llm)\n",
    "print('==> tavily_search_func = ' , type(tavily_search_func))\n",
    "print('==> wiki_search = ' , type(wiki_search))\n",
    "\n",
    "llm_with_tools = llm.bind_tools(tools=[tavily_search_func, wiki_search])\n",
    "print(type(llm_with_tools))\n",
    "\n",
    "# 도구 호출이 필요한 LLM 호출을 수행\n",
    "query = \"서울 강남의 유명한 파스타 맛집은 어디인가요? 그리고 파스타의 유래를 알려주세요. \"\n",
    "ai_msgs = llm_with_tools.invoke(query)\n",
    "\n",
    "# LLM의 전체 출력 결과 출력\n",
    "pprint(ai_msgs)\n",
    "print(\"-\" * 100)\n",
    "\n",
    "# 메시지 content 속성 (텍스트 출력)\n",
    "pprint(ai_msgs.content)\n",
    "print(\"-\" * 100)\n",
    "\n",
    "# LLM이 호출한 도구 정보 출력\n",
    "pprint(ai_msgs.tool_calls)\n",
    "print(\"-\" * 100)"
   ]
  },
  {
   "cell_type": "markdown",
   "id": "db06d2ed",
   "metadata": {},
   "source": [
    "`(2) LCEL 체인`\n",
    "- 위키피디아 문서를 검색하고 내용을 요약하는 체인"
   ]
  },
  {
   "cell_type": "code",
   "execution_count": 67,
   "id": "4a7ab14a",
   "metadata": {},
   "outputs": [
    {
     "name": "stdout",
     "output_type": "stream",
     "text": [
      "('오르조(또는 리소니)는 이탈리아의 파스타로, 보리에서 유래한 이름을 가지고 있으며 큰 쌀알 모양이다. 주로 수프와 함께 먹으며, 현재는 '\n",
      " '박력분으로 만들어진다. 터키에서는 아르파 셰흐리예로 불리며, 필라브나 수프에 사용된다. 이탈리아 요리는 기원전 4세기부터 발전해왔으며, '\n",
      " '지역에 따라 다양한 특색을 지닌다. 북부는 쌀과 유제품을, 남부는 올리브와 해산물을 주로 사용한다. 이탈리아 요리는 간결함과 재료의 질을 '\n",
      " '중시하며, 2013년 CNN에서 세계 최고의 요리로 선정되었다.')\n"
     ]
    }
   ],
   "source": [
    "from langchain_core.prompts import ChatPromptTemplate\n",
    "from langchain_core.output_parsers import StrOutputParser\n",
    "from langchain_core.runnables import RunnableLambda\n",
    "from langchain_community.document_loaders import WikipediaLoader\n",
    "\n",
    "# WikipediaLoader를 사용하여 위키피디아 문서를 검색하고 텍스트로 반환하는 함수 \n",
    "def wiki_search_and_summarize(input_data: dict):\n",
    "    wiki_loader = WikipediaLoader(query=input_data[\"query\"], load_max_docs=2, lang=\"ko\")\n",
    "    wiki_docs = wiki_loader.load()\n",
    "\n",
    "    formatted_docs =[\n",
    "        f'<Document source=\"{doc.metadata[\"source\"]}\"/>\\n{doc.page_content}\\n</Document>'\n",
    "        for doc in wiki_docs\n",
    "        ]\n",
    "    \n",
    "    return formatted_docs\n",
    "\n",
    "# 요약 프롬프트 템플릿\n",
    "summary_prompt = ChatPromptTemplate.from_template(\n",
    "    \"Summarize the following text in a concise manner:\\n\\n{context}\\n\\nSummary:\"\n",
    ")\n",
    "\n",
    "# LLM 및 요약 체인 설정\n",
    "#llm = ChatOpenAI(model=\"gpt-4o-mini\", temperature=0)\n",
    "\n",
    "summary_chain = (\n",
    "    {\"context\": RunnableLambda(wiki_search_and_summarize)}\n",
    "    | summary_prompt | llm | StrOutputParser() \n",
    ")\n",
    "\n",
    "# 요약 테스트 \n",
    "summarized_text = summary_chain.invoke({\"query\":\"파스타의 유래\"})\n",
    "pprint(summarized_text)"
   ]
  },
  {
   "cell_type": "code",
   "execution_count": 72,
   "id": "a35ac080",
   "metadata": {},
   "outputs": [
    {
     "name": "stdout",
     "output_type": "stream",
     "text": [
      "자료형: \n",
      "<class 'langchain_core.tools.structured.StructuredTool'>\n",
      "1 ----------------------------------------------------------------------------------------------------\n",
      "name: \n",
      "wiki_summary\n",
      "2 ----------------------------------------------------------------------------------------------------\n",
      "description: \n",
      "('Use this tool when you need to search for information on Wikipedia.\\n'\n",
      " \"It searches for Wikipedia articles related to the user's query and returns\\n\"\n",
      " 'a summarized text. This tool is useful when general knowledge\\n'\n",
      " 'or background information is required.')\n",
      "3 ----------------------------------------------------------------------------------------------------\n",
      "schema: \n",
      "{'description': 'Input schema for Wikipedia search.',\n",
      " 'properties': {'query': {'description': 'The query to search for in Wikipedia',\n",
      "                          'title': 'Query',\n",
      "                          'type': 'string'}},\n",
      " 'required': ['query'],\n",
      " 'title': 'WikiSummarySchema',\n",
      " 'type': 'object'}\n",
      "4 ----------------------------------------------------------------------------------------------------\n"
     ]
    }
   ],
   "source": [
    "from pydantic import BaseModel, Field                           # 데이터 유효성 검사 및 스키마 정의를 위한 Pydantic\n",
    "from typing import List                                         # 타입 힌트를 위한 List\n",
    "# dedent() 함수를 가져옵니다. 이 함수는 문자열의 들여쓰기를 제거하는 역할을 합니다.\n",
    "from textwrap import dedent\n",
    "\n",
    "# 도구 호출에 사용할 입력 스키마 정의 \n",
    "class WikiSummarySchema(BaseModel):\n",
    "    \"\"\"Input schema for Wikipedia search.\"\"\"\n",
    "    query: str = Field(..., description=\"The query to search for in Wikipedia\")\n",
    "\n",
    "# as_tool 메소드를 사용하여 도구 객체로 변환\n",
    "wiki_summary = summary_chain.as_tool(\n",
    "    name=\"wiki_summary\",\n",
    "    description=dedent(\"\"\"\n",
    "        Use this tool when you need to search for information on Wikipedia.\n",
    "        It searches for Wikipedia articles related to the user's query and returns\n",
    "        a summarized text. This tool is useful when general knowledge\n",
    "        or background information is required.\n",
    "    \"\"\"),\n",
    "    args_schema=WikiSummarySchema\n",
    ")\n",
    "\n",
    "# 도구 속성\n",
    "print(\"자료형: \")\n",
    "print(type(wiki_summary))\n",
    "print(\"1\",\"-\"*100)\n",
    "\n",
    "print(\"name: \")\n",
    "print(wiki_summary.name)\n",
    "print(\"2\",\"-\"*100)\n",
    "\n",
    "print(\"description: \")\n",
    "pprint(wiki_summary.description)\n",
    "print(\"3\",\"-\"*100)\n",
    "\n",
    "print(\"schema: \")\n",
    "pprint(wiki_summary.args_schema.schema())\n",
    "print(\"4\",\"-\"*100)"
   ]
  },
  {
   "cell_type": "code",
   "execution_count": 73,
   "id": "78824759",
   "metadata": {},
   "outputs": [
    {
     "name": "stdout",
     "output_type": "stream",
     "text": [
      "AIMessage(content='', additional_kwargs={'tool_calls': [{'id': 'call_8dVzirHXQ2KL4cIsuSI6Rs5T', 'function': {'arguments': '{\"query\": \"서울 강남 파스타 맛집\"}', 'name': 'tavily_search_func'}, 'type': 'function'}, {'id': 'call_nwhmNHTCiYhIcg1Wz1eoTPIJ', 'function': {'arguments': '{\"query\": \"파스타의 유래\"}', 'name': 'wiki_summary'}, 'type': 'function'}], 'refusal': None}, response_metadata={'token_usage': {'completion_tokens': 58, 'prompt_tokens': 152, 'total_tokens': 210, 'completion_tokens_details': {'accepted_prediction_tokens': 0, 'audio_tokens': 0, 'reasoning_tokens': 0, 'rejected_prediction_tokens': 0}, 'prompt_tokens_details': {'audio_tokens': 0, 'cached_tokens': 0}}, 'model_name': 'gpt-4o-mini-2024-07-18', 'system_fingerprint': 'fp_51db84afab', 'id': 'chatcmpl-CJAMrcwrmnEx3SI8Rga16lujXsb6x', 'service_tier': 'default', 'finish_reason': 'tool_calls', 'logprobs': None}, id='run--1ea544c7-1b91-4efd-a4d6-79ddd34d4ee3-0', tool_calls=[{'name': 'tavily_search_func', 'args': {'query': '서울 강남 파스타 맛집'}, 'id': 'call_8dVzirHXQ2KL4cIsuSI6Rs5T', 'type': 'tool_call'}, {'name': 'wiki_summary', 'args': {'query': '파스타의 유래'}, 'id': 'call_nwhmNHTCiYhIcg1Wz1eoTPIJ', 'type': 'tool_call'}], usage_metadata={'input_tokens': 152, 'output_tokens': 58, 'total_tokens': 210, 'input_token_details': {'audio': 0, 'cache_read': 0}, 'output_token_details': {'audio': 0, 'reasoning': 0}})\n",
      "----------------------------------------------------------------------------------------------------\n",
      "''\n",
      "----------------------------------------------------------------------------------------------------\n",
      "[{'args': {'query': '서울 강남 파스타 맛집'},\n",
      "  'id': 'call_8dVzirHXQ2KL4cIsuSI6Rs5T',\n",
      "  'name': 'tavily_search_func',\n",
      "  'type': 'tool_call'},\n",
      " {'args': {'query': '파스타의 유래'},\n",
      "  'id': 'call_nwhmNHTCiYhIcg1Wz1eoTPIJ',\n",
      "  'name': 'wiki_summary',\n",
      "  'type': 'tool_call'}]\n",
      "----------------------------------------------------------------------------------------------------\n"
     ]
    }
   ],
   "source": [
    "# LLM에 도구를 바인딩\n",
    "llm_with_tools = llm.bind_tools(tools=[tavily_search_func, wiki_summary])\n",
    "\n",
    "# 도구 호출이 필요한 LLM 호출을 수행\n",
    "query = \"서울 강남의 유명한 파스타 맛집은 어디인가요? 그리고 파스타의 유래를 알려주세요. \"\n",
    "ai_msgs = llm_with_tools.invoke(query)\n",
    "\n",
    "# LLM의 전체 출력 결과 출력\n",
    "pprint(ai_msgs)\n",
    "print(\"-\" * 100)\n",
    "\n",
    "# 메시지 content 속성 (텍스트 출력)\n",
    "pprint(ai_msgs.content)\n",
    "print(\"-\" * 100)\n",
    "\n",
    "# LLM이 호출한 도구 정보 출력\n",
    "pprint(ai_msgs.tool_calls)\n",
    "print(\"-\" * 100)"
   ]
  },
  {
   "cell_type": "code",
   "execution_count": 74,
   "id": "c87d0b1a",
   "metadata": {},
   "outputs": [
    {
     "data": {
      "text/plain": [
       "{'name': 'wiki_summary',\n",
       " 'args': {'query': '파스타의 유래'},\n",
       " 'id': 'call_nwhmNHTCiYhIcg1Wz1eoTPIJ',\n",
       " 'type': 'tool_call'}"
      ]
     },
     "execution_count": 74,
     "metadata": {},
     "output_type": "execute_result"
    }
   ],
   "source": [
    "ai_msgs.tool_calls[1]"
   ]
  },
  {
   "cell_type": "code",
   "execution_count": 76,
   "id": "12cbdd5c",
   "metadata": {},
   "outputs": [
    {
     "name": "stdout",
     "output_type": "stream",
     "text": [
      "content='오르조(또는 리소니)는 이탈리아의 파스타로, 보리에서 유래한 이름을 가지고 있으며 큰 쌀알 모양이다. 주로 수프와 함께 먹으며, 현재는 박력분으로 만들어진다. 터키에서는 아르파 셰흐리예로 불리며, 필라브나 수프에 사용된다. 이탈리아 요리는 기원전 4세기부터 발전해왔으며, 지역에 따라 다양한 특색을 지닌다. 북부는 쌀과 유제품을, 남부는 올리브와 해산물을 주로 사용한다. 이탈리아 요리는 간결함과 재료의 질을 중시하며, 2013년 CNN에서 세계 최고의 요리로 선정되었다.' name='wiki_summary' tool_call_id='call_nwhmNHTCiYhIcg1Wz1eoTPIJ'\n",
      "----------------------------------------------------------------------------------------------------\n",
      "('오르조(또는 리소니)는 이탈리아의 파스타로, 보리에서 유래한 이름을 가지고 있으며 큰 쌀알 모양이다. 주로 수프와 함께 먹으며, 현재는 '\n",
      " '박력분으로 만들어진다. 터키에서는 아르파 셰흐리예로 불리며, 필라브나 수프에 사용된다. 이탈리아 요리는 기원전 4세기부터 발전해왔으며, '\n",
      " '지역에 따라 다양한 특색을 지닌다. 북부는 쌀과 유제품을, 남부는 올리브와 해산물을 주로 사용한다. 이탈리아 요리는 간결함과 재료의 질을 '\n",
      " '중시하며, 2013년 CNN에서 세계 최고의 요리로 선정되었다.')\n"
     ]
    }
   ],
   "source": [
    "# 도구 실행 \n",
    "tool_message = wiki_summary.invoke(ai_msgs.tool_calls[1])\n",
    "\n",
    "print(tool_message)\n",
    "print(\"-\" * 100)\n",
    "pprint(tool_message.content)"
   ]
  },
  {
   "cell_type": "code",
   "execution_count": 77,
   "id": "2e2de1a6",
   "metadata": {},
   "outputs": [
    {
     "name": "stdout",
     "output_type": "stream",
     "text": [
      "ai_msg: \n",
      " content='' additional_kwargs={'tool_calls': [{'id': 'call_k6gGQPwS8uRcIuSR65WPXiwE', 'function': {'arguments': '{\"query\":\"파스타의 유래\"}', 'name': 'wiki_summary'}, 'type': 'function'}], 'refusal': None} response_metadata={'token_usage': {'completion_tokens': 19, 'prompt_tokens': 120, 'total_tokens': 139, 'completion_tokens_details': {'accepted_prediction_tokens': 0, 'audio_tokens': 0, 'reasoning_tokens': 0, 'rejected_prediction_tokens': 0}, 'prompt_tokens_details': {'audio_tokens': 0, 'cached_tokens': 0}}, 'model_name': 'gpt-4o-mini-2024-07-18', 'system_fingerprint': 'fp_560af6e559', 'id': 'chatcmpl-CJAOId9sRzUHwJi76GI8fJYRpBf9k', 'service_tier': 'default', 'finish_reason': 'tool_calls', 'logprobs': None} id='run--949fb56f-a5df-43ec-b7c5-defc85bc4828-0' tool_calls=[{'name': 'wiki_summary', 'args': {'query': '파스타의 유래'}, 'id': 'call_k6gGQPwS8uRcIuSR65WPXiwE', 'type': 'tool_call'}] usage_metadata={'input_tokens': 120, 'output_tokens': 19, 'total_tokens': 139, 'input_token_details': {'audio': 0, 'cache_read': 0}, 'output_token_details': {'audio': 0, 'reasoning': 0}}\n",
      "----------------------------------------------------------------------------------------------------\n",
      "tool_msgs: \n",
      " [ToolMessage(content='오르조(또는 리소니)는 이탈리아의 파스타로, 보리에서 유래한 이름을 가지고 있으며 큰 쌀알 모양이다. 주로 수프와 함께 먹으며, 현재는 박력분으로 만들어진다. 터키에서는 아르파 셰흐리예로 불리며, 필라브나 수프에 사용된다. 이탈리아 요리는 기원전 4세기부터 발전해왔으며, 지역에 따라 다양한 특색을 지닌다. 북부는 쌀과 유제품을, 남부는 올리브와 해산물을 주로 사용한다. 이탈리아 요리는 간결함과 재료의 질을 중시하며, 2013년 CNN에서 세계 최고의 요리로 선정되었다.', name='wiki_summary', tool_call_id='call_k6gGQPwS8uRcIuSR65WPXiwE')]\n",
      "----------------------------------------------------------------------------------------------------\n",
      "('파스타는 이탈리아의 전통 요리로, 그 기원은 기원전 4세기까지 거슬러 올라갑니다. 이탈리아의 지역에 따라 다양한 형태와 재료가 사용되며, '\n",
      " '북부 지역은 주로 쌀과 유제품을, 남부 지역은 올리브와 해산물을 주로 사용합니다. \\n'\n",
      " '\\n'\n",
      " '파스타의 한 예로 오르조(또는 리소니)가 있으며, 이는 보리에서 유래한 이름을 가지고 있고, 큰 쌀알 모양으로 주로 수프와 함께 '\n",
      " '먹습니다. 현재는 박력분으로 만들어지며, 터키에서는 아르파 셰흐리예로 불리며 필라브나 수프에 사용됩니다.\\n'\n",
      " '\\n'\n",
      " '이탈리아 요리는 간결함과 재료의 질을 중시하며, 2013년에는 CNN에서 세계 최고의 요리로 선정된 바 있습니다.')\n"
     ]
    }
   ],
   "source": [
    "from datetime import datetime\n",
    "from langchain_core.prompts import ChatPromptTemplate\n",
    "from langchain_core.runnables import RunnableConfig, chain\n",
    "\n",
    "# 오늘 날짜 설정\n",
    "today = datetime.today().strftime(\"%Y-%m-%d\")\n",
    "\n",
    "# 프롬프트 템플릿 \n",
    "prompt = ChatPromptTemplate([\n",
    "    (\"system\", f\"You are a helpful AI assistant. Today's date is {today}.\"),\n",
    "    (\"human\", \"{user_input}\"),\n",
    "    (\"placeholder\", \"{messages}\"),\n",
    "])\n",
    "\n",
    "# LLM에 도구를 바인딩\n",
    "llm_with_tools = llm.bind_tools(tools=[wiki_summary])\n",
    "\n",
    "# LLM 체인 생성\n",
    "llm_chain = prompt | llm_with_tools\n",
    "\n",
    "# 도구 실행 체인 정의\n",
    "@chain\n",
    "def wiki_summary_chain(user_input: str, config: RunnableConfig):\n",
    "    input_ = {\"user_input\": user_input}\n",
    "    ai_msg = llm_chain.invoke(input_, config=config)\n",
    "    print(\"ai_msg: \\n\", ai_msg)\n",
    "    print(\"-\"*100)\n",
    "\n",
    "    tool_msgs = wiki_summary.batch(ai_msg.tool_calls, config=config)\n",
    "    print(\"tool_msgs: \\n\", tool_msgs)\n",
    "    print(\"-\"*100)\n",
    "    \n",
    "    return llm_chain.invoke({**input_, \"messages\": [ai_msg, *tool_msgs]}, config=config)\n",
    "\n",
    "# 체인 실행\n",
    "response = wiki_summary_chain.invoke(\"파스타의 유래에 대해서 알려주세요.\")\n",
    "\n",
    "# 응답 출력 \n",
    "pprint(response.content)"
   ]
  },
  {
   "cell_type": "markdown",
   "id": "6f828547",
   "metadata": {},
   "source": [
    "### 2-4. 벡터저장소 검색기\n",
    "- @tool decorator 사용"
   ]
  },
  {
   "cell_type": "markdown",
   "id": "e9a9dc12",
   "metadata": {},
   "source": [
    "`(1) 문서 로드 및 인덱싱`"
   ]
  },
  {
   "cell_type": "code",
   "execution_count": 78,
   "id": "a0da1d76",
   "metadata": {},
   "outputs": [
    {
     "name": "stdout",
     "output_type": "stream",
     "text": [
      "1\n"
     ]
    }
   ],
   "source": [
    "from langchain.document_loaders import TextLoader\n",
    "\n",
    "# 메뉴판 텍스트 데이터를 로드\n",
    "loader = TextLoader(\"../data/restaurant_menu.txt\", encoding=\"utf-8\")\n",
    "documents = loader.load()\n",
    "\n",
    "print(len(documents))"
   ]
  },
  {
   "cell_type": "code",
   "execution_count": 79,
   "id": "5e94154e",
   "metadata": {},
   "outputs": [
    {
     "name": "stdout",
     "output_type": "stream",
     "text": [
      "총 10개의 메뉴 항목이 처리되었습니다.\n",
      "\n",
      "메뉴 번호: 1\n",
      "메뉴 이름: 시그니처 스테이크\n",
      "내용:\n",
      "1. 시그니처 스테이크\n",
      "   • 가격: ₩35,000\n",
      "   • 주요 식재료: 최상급 한우 등심, 로즈메리 감자, 그릴드 아스파라거스\n",
      "   • 설명: 셰프의 특제 시그니처 메뉴로, ...\n",
      "\n",
      "메뉴 번호: 2\n",
      "메뉴 이름: 트러플 리조또\n",
      "내용:\n",
      "2. 트러플 리조또\n",
      "   • 가격: ₩22,000\n",
      "   • 주요 식재료: 이탈리아산 아르보리오 쌀, 블랙 트러플, 파르미지아노 레지아노 치즈\n",
      "   • 설명: 크리미한 텍스처의 리조...\n"
     ]
    }
   ],
   "source": [
    "# 문서 분할 (Chunking)\n",
    "# 이 함수는 긴 문서(document)를 더 작은 단위인 '메뉴 항목(menu_items)'으로 분할합니다.\n",
    "# LangChain의 RAG(Retrieval-Augmented Generation) 시스템에서 정확한 정보를 찾기 위해\n",
    "# 문서를 의미 있는 청크(chunk)로 나누는 과정입니다.\n",
    "import re\n",
    "from langchain_core.documents import Document\n",
    "\n",
    "def split_menu_items(document):\n",
    "    \"\"\"\n",
    "    하나의 큰 문서(document)에서 각 메뉴 항목을 분리하여\n",
    "    각각을 별도의 Document 객체로 반환하는 함수입니다.\n",
    "    \"\"\"\n",
    "    \n",
    "    # 정규표현식(regular expression)을 정의합니다. \n",
    "    # 이 패턴은 \"숫자. \"로 시작하고, 다음 \"숫자. \" 또는 문서의 끝이 나타날 때까지의 텍스트를 찾습니다.\n",
    "    # r'(\\d+\\.\\s.*?)(?=\\n\\n\\d+\\.|$)'\n",
    "    #   - r'...' : raw string으로, \\ 문자를 그대로 인식하게 합니다.\n",
    "    #   - (\\d+\\.\\s.*?) : 캡처 그룹(괄호).\n",
    "    #     - \\d+ : 하나 이상의 숫자.\n",
    "    #     - \\. : 마침표(.) 문자.\n",
    "    #     - \\s : 공백 문자.\n",
    "    #     - .*? : 최소 일치(non-greedy)로 어떤 문자든 0개 이상.\n",
    "    #   - (?=\\n\\n\\d+\\.|$) : 전방탐색(lookahead).\n",
    "    #     - 다음 패턴이 뒤따르는 위치를 찾지만, 실제 매치 결과에는 포함하지 않습니다.\n",
    "    #     - \\n\\n\\d+\\. : 두 개의 줄바꿈과 \"숫자. \"가 이어지는 부분.\n",
    "    #     - | : '또는'을 의미합니다.\n",
    "    #     - $ : 문자열의 끝.\n",
    "    pattern = r'(\\d+\\.\\s.*?)(?=\\n\\n\\d+\\.|$)'\n",
    "    \n",
    "    # document의 page_content(문서 내용)에서 위에서 정의한 패턴과 일치하는 모든 문자열을 찾아 리스트로 반환합니다.\n",
    "    # re.DOTALL 플래그는 .이 줄바꿈 문자(\\n)까지 매치하도록 합니다.\n",
    "    menu_items = re.findall(pattern, document.page_content, re.DOTALL)\n",
    "    \n",
    "    # 분리된 각 메뉴 항목을 저장할 빈 리스트를 만듭니다.\n",
    "    menu_documents = []\n",
    "    \n",
    "    # enumerate()를 사용하여 각 메뉴 항목과 그 인덱스(i)를 순회합니다. 인덱스는 1부터 시작합니다.\n",
    "    for i, item in enumerate(menu_items, 1):\n",
    "        # 각 메뉴 항목 텍스트에서 첫 번째 줄을 가져와 '숫자.' 부분을 제거하고 메뉴 이름을 추출합니다.\n",
    "        # 예: \"1. 불고기 덮밥\\n가격...\" -> \"불고기 덮밥\"\n",
    "        menu_name = item.split('\\n')[0].split('.', 1)[1].strip()\n",
    "        \n",
    "        # 새로운 LangChain Document 객체를 생성합니다.\n",
    "        menu_doc = Document(\n",
    "            # page_content에는 현재 메뉴 항목의 전체 텍스트를 할당합니다.\n",
    "            page_content=item.strip(),\n",
    "            # 문서와 관련된 메타데이터(부가 정보)를 딕셔너리 형태로 저장합니다.\n",
    "            metadata={\n",
    "                # 원본 문서의 출처(파일 경로 등)를 그대로 가져옵니다.\n",
    "                \"source\": document.metadata['source'],\n",
    "                # 메뉴의 순번을 저장합니다.\n",
    "                \"menu_number\": i,\n",
    "                # 추출한 메뉴 이름을 저장합니다.\n",
    "                \"menu_name\": menu_name\n",
    "            }\n",
    "        )\n",
    "        \n",
    "        # 새로 생성한 Document 객체를 리스트에 추가합니다.\n",
    "        menu_documents.append(menu_doc)\n",
    "    \n",
    "    # 모든 메뉴 항목이 Document 객체로 변환된 리스트를 반환합니다.\n",
    "    return menu_documents\n",
    "\n",
    "# 메뉴 항목 분리 실행\n",
    "menu_documents = []\n",
    "for doc in documents:\n",
    "    menu_documents += split_menu_items(doc)\n",
    "\n",
    "# 결과 출력\n",
    "print(f\"총 {len(menu_documents)}개의 메뉴 항목이 처리되었습니다.\")\n",
    "for doc in menu_documents[:2]:\n",
    "    print(f\"\\n메뉴 번호: {doc.metadata['menu_number']}\")\n",
    "    print(f\"메뉴 이름: {doc.metadata['menu_name']}\")\n",
    "    print(f\"내용:\\n{doc.page_content[:100]}...\")"
   ]
  },
  {
   "cell_type": "markdown",
   "id": "1a09f288",
   "metadata": {},
   "source": [
    "### Embedding\n",
    "* OllamaEmbeddings\n",
    "    * ollama run qwen2.5:1.5b\n",
    "* UpstageEmbeddings\n",
    "    * solar-embedding-1-large"
   ]
  },
  {
   "cell_type": "code",
   "execution_count": 80,
   "id": "8552797f",
   "metadata": {},
   "outputs": [
    {
     "name": "stdout",
     "output_type": "stream",
     "text": [
      "검색 결과: 4개\n",
      "메뉴 번호: 1\n",
      "메뉴 이름: 시그니처 스테이크\n",
      "\n",
      "메뉴 번호: 8\n",
      "메뉴 이름: 안심 스테이크 샐러드\n",
      "\n",
      "메뉴 번호: 9\n",
      "메뉴 이름: 치킨 콘피\n",
      "\n",
      "메뉴 번호: 4\n",
      "메뉴 이름: 버섯 크림 수프\n",
      "\n"
     ]
    }
   ],
   "source": [
    "from langchain_community.vectorstores import FAISS\n",
    "from langchain_ollama import OllamaEmbeddings\n",
    "from langchain_upstage import UpstageEmbeddings\n",
    "\n",
    "#embeddings_model = OllamaEmbeddings(model=\"qwen2.5:1.5b\") \n",
    "embeddings_model = UpstageEmbeddings(model=\"solar-embedding-1-large\")\n",
    "\n",
    "# FAISS 인덱스 생성\n",
    "menu_db = FAISS.from_documents(\n",
    "    documents=menu_documents, \n",
    "    embedding=embeddings_model\n",
    ")\n",
    "\n",
    "# FAISS 인덱스 저장 (선택사항)\n",
    "menu_db.save_local(\"../db/menu_db\")\n",
    "\n",
    "\n",
    "# Retriever 생성\n",
    "menu_retriever = menu_db.as_retriever(\n",
    "    search_kwargs={'k': 4},\n",
    ")\n",
    "\n",
    "# 쿼리 테스트\n",
    "query = \"시그니처 스테이크의 가격과 특징은 무엇인가요?\"\n",
    "docs = menu_retriever.invoke(query)\n",
    "print(f\"검색 결과: {len(docs)}개\")\n",
    "\n",
    "for doc in docs:\n",
    "    print(f\"메뉴 번호: {doc.metadata['menu_number']}\")\n",
    "    print(f\"메뉴 이름: {doc.metadata['menu_name']}\")\n",
    "    print()"
   ]
  },
  {
   "cell_type": "markdown",
   "id": "9cf58d36",
   "metadata": {},
   "source": [
    "- 와인 메뉴에 대해서도 같은 작업을 처리"
   ]
  },
  {
   "cell_type": "code",
   "execution_count": 81,
   "id": "1dc82b06",
   "metadata": {},
   "outputs": [
    {
     "name": "stdout",
     "output_type": "stream",
     "text": [
      "총 10개의 메뉴 항목이 처리되었습니다.\n",
      "\n",
      "메뉴 번호: 1\n",
      "메뉴 이름: 샤토 마고 2015\n",
      "내용:\n",
      "1. 샤토 마고 2015\n",
      "   • 가격: ₩450,000\n",
      "   • 주요 품종: 카베르네 소비뇽, 메를로, 카베르네 프랑, 쁘띠 베르도\n",
      "   • 설명: 보르도 메독 지역의 프리미엄 ...\n",
      "\n",
      "메뉴 번호: 2\n",
      "메뉴 이름: 돔 페리뇽 2012\n",
      "내용:\n",
      "2. 돔 페리뇽 2012\n",
      "   • 가격: ₩380,000\n",
      "   • 주요 품종: 샤르도네, 피노 누아\n",
      "   • 설명: 프랑스 샴페인의 대명사로 알려진 프레스티지 큐베입니다. 시트러스...\n",
      "검색 결과: 4개\n",
      "메뉴 번호: 1\n",
      "메뉴 이름: 시그니처 스테이크\n",
      "\n",
      "메뉴 번호: 8\n",
      "메뉴 이름: 안심 스테이크 샐러드\n",
      "\n",
      "메뉴 번호: 3\n",
      "메뉴 이름: 연어 타르타르\n",
      "\n",
      "메뉴 번호: 2\n",
      "메뉴 이름: 트러플 리조또\n",
      "\n"
     ]
    }
   ],
   "source": [
    "# 와인 메뉴 텍스트 데이터를 로드\n",
    "loader = TextLoader(\"../data/restaurant_wine.txt\", encoding=\"utf-8\")\n",
    "documents = loader.load()\n",
    "\n",
    "# 메뉴 항목 분리 실행\n",
    "menu_documents = []\n",
    "for doc in documents:\n",
    "    menu_documents += split_menu_items(doc)\n",
    "\n",
    "# 결과 출력\n",
    "print(f\"총 {len(menu_documents)}개의 메뉴 항목이 처리되었습니다.\")\n",
    "for doc in menu_documents[:2]:\n",
    "    print(f\"\\n메뉴 번호: {doc.metadata['menu_number']}\")\n",
    "    print(f\"메뉴 이름: {doc.metadata['menu_name']}\")\n",
    "    print(f\"내용:\\n{doc.page_content[:100]}...\")\n",
    "\n",
    "\n",
    "# FAISS 인덱스 생성\n",
    "wine_db = FAISS.from_documents(\n",
    "    documents=menu_documents, \n",
    "    embedding=embeddings_model\n",
    ")\n",
    "\n",
    "# 병합된 DB 다시 저장\n",
    "wine_db.save_local(\"../db/wine_db\")\n",
    "\n",
    "wine_retriever = menu_db.as_retriever(\n",
    "    search_kwargs={'k': 4},\n",
    ")\n",
    "\n",
    "query = \"스테이크와 어울리는 와인을 추천해주세요.\"\n",
    "docs = wine_retriever.invoke(query)\n",
    "print(f\"검색 결과: {len(docs)}개\")\n",
    "\n",
    "for doc in docs:\n",
    "    print(f\"메뉴 번호: {doc.metadata['menu_number']}\")\n",
    "    print(f\"메뉴 이름: {doc.metadata['menu_name']}\")\n",
    "    print()"
   ]
  },
  {
   "cell_type": "markdown",
   "id": "2040915b",
   "metadata": {},
   "source": [
    "`(2) 도구(tool) 정의하기`"
   ]
  },
  {
   "cell_type": "code",
   "execution_count": 82,
   "id": "93d4c3a5",
   "metadata": {},
   "outputs": [
    {
     "name": "stdout",
     "output_type": "stream",
     "text": [
      "자료형: \n",
      "<class 'langchain_core.tools.structured.StructuredTool'>\n",
      "----------------------------------------------------------------------------------------------------\n",
      "name: \n",
      "db_search_menu_func\n",
      "----------------------------------------------------------------------------------------------------\n",
      "description: \n",
      "('Securely retrieve and access authorized restaurant menu information from the '\n",
      " 'encrypted database.\\n'\n",
      " 'Use this tool only for menu-related queries to maintain data '\n",
      " 'confidentiality.')\n",
      "----------------------------------------------------------------------------------------------------\n",
      "schema: \n",
      "{'description': 'Securely retrieve and access authorized restaurant menu '\n",
      "                'information from the encrypted database.\\n'\n",
      "                'Use this tool only for menu-related queries to maintain data '\n",
      "                'confidentiality.',\n",
      " 'properties': {'query': {'title': 'Query', 'type': 'string'}},\n",
      " 'required': ['query'],\n",
      " 'title': 'db_search_menu_func',\n",
      " 'type': 'object'}\n",
      "----------------------------------------------------------------------------------------------------\n"
     ]
    }
   ],
   "source": [
    "from langchain_core.tools import tool\n",
    "# menu db 벡터 저장소 로드\n",
    "menu_db = FAISS.load_local(\n",
    "    \"../db/menu_db\", \n",
    "    embeddings_model, \n",
    "    allow_dangerous_deserialization=True\n",
    ")\n",
    "\n",
    "@tool\n",
    "def db_search_menu_func(query: str) -> List[Document]:\n",
    "    \"\"\"\n",
    "    Securely retrieve and access authorized restaurant menu information from the encrypted database.\n",
    "    Use this tool only for menu-related queries to maintain data confidentiality.\n",
    "    \"\"\"\n",
    "    docs = menu_db.similarity_search(query, k=4)\n",
    "    if len(docs) > 0:\n",
    "        return docs\n",
    "    \n",
    "    return [Document(page_content=\"관련 메뉴 정보를 찾을 수 없습니다.\")]\n",
    "\n",
    "# 도구 속성\n",
    "print(\"자료형: \")\n",
    "print(type(db_search_menu_func))\n",
    "print(\"-\"*100)\n",
    "\n",
    "print(\"name: \")\n",
    "print(db_search_menu_func.name)\n",
    "print(\"-\"*100)\n",
    "\n",
    "print(\"description: \")\n",
    "pprint(db_search_menu_func.description)\n",
    "print(\"-\"*100)\n",
    "\n",
    "print(\"schema: \")\n",
    "pprint(db_search_menu_func.args_schema.schema())\n",
    "print(\"-\"*100)"
   ]
  },
  {
   "cell_type": "code",
   "execution_count": 83,
   "id": "b8ae1341",
   "metadata": {},
   "outputs": [
    {
     "name": "stdout",
     "output_type": "stream",
     "text": [
      "자료형: \n",
      "<class 'langchain_core.tools.structured.StructuredTool'>\n",
      "----------------------------------------------------------------------------------------------------\n",
      "name: \n",
      "db_search_wine_func\n",
      "----------------------------------------------------------------------------------------------------\n",
      "description: \n",
      "('Securely retrieve and access authorized restaurant wine information from the '\n",
      " 'encrypted database.\\n'\n",
      " 'Use this tool only for wine-related queries to maintain data '\n",
      " 'confidentiality.')\n",
      "----------------------------------------------------------------------------------------------------\n",
      "schema: \n",
      "{'description': 'Securely retrieve and access authorized restaurant wine '\n",
      "                'information from the encrypted database.\\n'\n",
      "                'Use this tool only for wine-related queries to maintain data '\n",
      "                'confidentiality.',\n",
      " 'properties': {'query': {'title': 'Query', 'type': 'string'}},\n",
      " 'required': ['query'],\n",
      " 'title': 'db_search_wine_func',\n",
      " 'type': 'object'}\n",
      "----------------------------------------------------------------------------------------------------\n"
     ]
    }
   ],
   "source": [
    "from langchain_core.tools import tool\n",
    "from typing import List\n",
    "from langchain_core.documents import Document\n",
    "\n",
    "# wine db 벡터 저장소 로드\n",
    "wine_db = FAISS.load_local(\n",
    "    \"../db/wine_db\", \n",
    "    embeddings_model, \n",
    "    allow_dangerous_deserialization=True\n",
    ")\n",
    "\n",
    "@tool\n",
    "def db_search_wine_func(query: str) -> List[Document]:\n",
    "   \"\"\"\n",
    "   Securely retrieve and access authorized restaurant wine information from the encrypted database.\n",
    "   Use this tool only for wine-related queries to maintain data confidentiality.\n",
    "   \"\"\"\n",
    "   docs = wine_db.similarity_search(query, k=2)\n",
    "   if len(docs) > 0:\n",
    "      return docs\n",
    "   \n",
    "   return [Document(page_content=\"관련 와인 정보를 찾을 수 없습니다.\")]\n",
    "\n",
    "# 도구 속성\n",
    "print(\"자료형: \")\n",
    "print(type(db_search_wine_func))\n",
    "print(\"-\"*100)\n",
    "\n",
    "print(\"name: \")\n",
    "print(db_search_wine_func.name)\n",
    "print(\"-\"*100)\n",
    "\n",
    "print(\"description: \")\n",
    "pprint(db_search_wine_func.description)\n",
    "print(\"-\"*100)\n",
    "\n",
    "print(\"schema: \")\n",
    "pprint(db_search_wine_func.args_schema.schema())\n",
    "print(\"-\"*100)"
   ]
  },
  {
   "cell_type": "code",
   "execution_count": 84,
   "id": "51ac56a5",
   "metadata": {},
   "outputs": [
    {
     "name": "stdout",
     "output_type": "stream",
     "text": [
      "AIMessage(content='', additional_kwargs={'tool_calls': [{'id': 'call_H9StPxf3L8trzNVMTMuR1tfN', 'function': {'arguments': '{\"query\": \"시그니처 스테이크\"}', 'name': 'db_search_menu_func'}, 'type': 'function'}, {'id': 'call_NzdKzX9FwVhMkUgGDlSHfEPB', 'function': {'arguments': '{\"query\": \"추천 와인\"}', 'name': 'db_search_wine_func'}, 'type': 'function'}], 'refusal': None}, response_metadata={'token_usage': {'completion_tokens': 57, 'prompt_tokens': 133, 'total_tokens': 190, 'completion_tokens_details': {'accepted_prediction_tokens': 0, 'audio_tokens': 0, 'reasoning_tokens': 0, 'rejected_prediction_tokens': 0}, 'prompt_tokens_details': {'audio_tokens': 0, 'cached_tokens': 0}}, 'model_name': 'gpt-4o-mini-2024-07-18', 'system_fingerprint': 'fp_560af6e559', 'id': 'chatcmpl-CJCpRkv6gvBqSL0DtrST5pV1nBgrM', 'service_tier': 'default', 'finish_reason': 'tool_calls', 'logprobs': None}, id='run--310c5454-c81d-40be-9fa3-40753bd87b5d-0', tool_calls=[{'name': 'db_search_menu_func', 'args': {'query': '시그니처 스테이크'}, 'id': 'call_H9StPxf3L8trzNVMTMuR1tfN', 'type': 'tool_call'}, {'name': 'db_search_wine_func', 'args': {'query': '추천 와인'}, 'id': 'call_NzdKzX9FwVhMkUgGDlSHfEPB', 'type': 'tool_call'}], usage_metadata={'input_tokens': 133, 'output_tokens': 57, 'total_tokens': 190, 'input_token_details': {'audio': 0, 'cache_read': 0}, 'output_token_details': {'audio': 0, 'reasoning': 0}})\n",
      "----------------------------------------------------------------------------------------------------\n",
      "''\n",
      "----------------------------------------------------------------------------------------------------\n",
      "[{'args': {'query': '시그니처 스테이크'},\n",
      "  'id': 'call_H9StPxf3L8trzNVMTMuR1tfN',\n",
      "  'name': 'db_search_menu_func',\n",
      "  'type': 'tool_call'},\n",
      " {'args': {'query': '추천 와인'},\n",
      "  'id': 'call_NzdKzX9FwVhMkUgGDlSHfEPB',\n",
      "  'name': 'db_search_wine_func',\n",
      "  'type': 'tool_call'}]\n",
      "----------------------------------------------------------------------------------------------------\n"
     ]
    }
   ],
   "source": [
    "# LLM에 도구를 바인딩 (2개의 도구 바인딩)\n",
    "llm_with_tools = llm.bind_tools(tools=[db_search_menu_func, db_search_wine_func])\n",
    "\n",
    "# 도구 호출이 필요한 LLM 호출을 수행\n",
    "query = \"시그니처 스테이크의 가격과 특징은 무엇인가요? 와인도 추천 해주세요.\"\n",
    "ai_msg = llm_with_tools.invoke(query)\n",
    "\n",
    "# LLM의 전체 출력 결과 출력\n",
    "pprint(ai_msg)\n",
    "print(\"-\" * 100)\n",
    "\n",
    "# 메시지 content 속성 (텍스트 출력)\n",
    "pprint(ai_msg.content)\n",
    "print(\"-\" * 100)\n",
    "\n",
    "# LLM이 호출한 도구 정보 출력\n",
    "pprint(ai_msg.tool_calls)\n",
    "print(\"-\" * 100)"
   ]
  },
  {
   "cell_type": "markdown",
   "id": "7f7b74a1",
   "metadata": {},
   "source": [
    "`(3) 여러 개의 도구(tool) 호출하기`"
   ]
  },
  {
   "cell_type": "code",
   "execution_count": 85,
   "id": "23c3bba9",
   "metadata": {},
   "outputs": [
    {
     "name": "stdout",
     "output_type": "stream",
     "text": [
      "tavily_search_func\n",
      "wiki_summary\n",
      "db_search_menu_func\n",
      "db_search_wine_func\n"
     ]
    }
   ],
   "source": [
    "tools = [tavily_search_func, wiki_summary, db_search_menu_func, db_search_wine_func]\n",
    "for tool in tools:\n",
    "    print(tool.name)"
   ]
  },
  {
   "cell_type": "code",
   "execution_count": 86,
   "id": "1eda10de",
   "metadata": {},
   "outputs": [
    {
     "name": "stdout",
     "output_type": "stream",
     "text": [
      "db_search_menu_func: \n",
      "{'name': 'db_search_menu_func', 'args': {'query': 'signature steak'}, 'id': 'call_1StDc1ZS5Eh8jAX007Ncth9l', 'type': 'tool_call'}\n",
      "----------------------------------------------------------------------------------------------------\n",
      "db_search_wine_func: \n",
      "{'name': 'db_search_wine_func', 'args': {'query': 'steak'}, 'id': 'call_yOUAMkHfMjJSNuYSNdIsLLGV', 'type': 'tool_call'}\n",
      "----------------------------------------------------------------------------------------------------\n",
      "tool_msgs: \n",
      " [ToolMessage(content=\"[Document(id='ae8b7a7f-dfdf-4e07-83e6-00bd8d741f49', metadata={'source': '../data/restaurant_menu.txt', 'menu_number': 1, 'menu_name': '시그니처 스테이크'}, page_content='1. 시그니처 스테이크\\\\n   • 가격: ₩35,000\\\\n   • 주요 식재료: 최상급 한우 등심, 로즈메리 감자, 그릴드 아스파라거스\\\\n   • 설명: 셰프의 특제 시그니처 메뉴로, 21일간 건조 숙성한 최상급 한우 등심을 사용합니다. 미디엄 레어로 조리하여 육즙을 최대한 보존하며, 로즈메리 향의 감자와 아삭한 그릴드 아스파라거스가 곁들여집니다. 레드와인 소스와 함께 제공되어 풍부한 맛을 더합니다.'), Document(id='9fc6ee99-c962-47fc-bbf8-f6aa8906a545', metadata={'source': '../data/restaurant_menu.txt', 'menu_number': 8, 'menu_name': '안심 스테이크 샐러드'}, page_content='8. 안심 스테이크 샐러드\\\\n   • 가격: ₩26,000\\\\n   • 주요 식재료: 소고기 안심, 루꼴라, 체리 토마토, 발사믹 글레이즈\\\\n   • 설명: 부드러운 안심 스테이크를 얇게 슬라이스하여 신선한 루꼴라 위에 올린 메인 요리 샐러드입니다. 체리 토마토와 파마산 치즈 플레이크로 풍미를 더하고, 발사믹 글레이즈로 마무리하여 고기의 풍미를 한층 끌어올렸습니다.'), Document(id='3d4eafa5-7417-4bbf-98ee-7ca875e52336', metadata={'source': '../data/restaurant_menu.txt', 'menu_number': 9, 'menu_name': '치킨 콘피'}, page_content='9. 치킨 콘피\\\\n   • 가격: ₩23,000\\\\n   • 주요 식재료: 닭다리살, 허브, 마늘, 올리브 오일\\\\n   • 설명: 닭다리살을 허브와 마늘을 넣은 올리브 오일에 저온에서 장시간 조리한 프랑스 요리입니다. 부드럽고 촉촉한 육질이 특징이며, 로즈메리 감자와 제철 채소를 곁들여 제공합니다. 레몬 제스트를 뿌려 상큼한 향을 더했습니다.'), Document(id='554ad13b-2d56-43e7-a0e9-2a65409148e7', metadata={'source': '../data/restaurant_menu.txt', 'menu_number': 2, 'menu_name': '트러플 리조또'}, page_content='2. 트러플 리조또\\\\n   • 가격: ₩22,000\\\\n   • 주요 식재료: 이탈리아산 아르보리오 쌀, 블랙 트러플, 파르미지아노 레지아노 치즈\\\\n   • 설명: 크리미한 텍스처의 리조또에 고급 블랙 트러플을 듬뿍 얹어 풍부한 향과 맛을 즐길 수 있는 메뉴입니다. 24개월 숙성된 파르미지아노 레지아노 치즈를 사용하여 깊은 맛을 더했으며, 주문 즉시 조리하여 최상의 상태로 제공됩니다.')]\", name='db_search_menu_func', tool_call_id='call_1StDc1ZS5Eh8jAX007Ncth9l'), ToolMessage(content=\"[Document(id='21161384-2151-43d6-82da-eb26e48fca12', metadata={'source': '../data/restaurant_wine.txt', 'menu_number': 4, 'menu_name': '클로 뒤 발 2016'}, page_content='4. 클로 뒤 발 2016\\\\n   • 가격: ₩1,200,000\\\\n   • 주요 품종: 카베르네 소비뇽, 메를로, 카베르네 프랑\\\\n   • 설명: 나파 밸리의 아이콘 와인으로, 극도로 제한된 생산량을 자랑합니다. 블랙베리, 카시스, 자두의 농축된 과실향과 함께 모카, 리코리스, 시가 박스의 복잡한 향이 어우러집니다. 놀라운 집중도와 깊이, 실키한 타닌, 완벽한 균형감이 특징이며, 수십 년의 숙성 잠재력을 가집니다.'), Document(id='b4793486-b265-4edb-8fbe-55b570e789c2', metadata={'source': '../data/restaurant_wine.txt', 'menu_number': 7, 'menu_name': '풀리니 몽라쉐 1er Cru 2018'}, page_content='7. 풀리니 몽라쉐 1er Cru 2018\\\\n   • 가격: ₩320,000\\\\n   • 주요 품종: 샤르도네\\\\n   • 설명: 부르고뉴 최고의 화이트 와인 중 하나로 꼽힙니다. 레몬, 사과, 배의 과실향과 함께 헤이즐넛, 버터, 바닐라의 풍부한 향이 어우러집니다. 미네랄리티가 돋보이며, 크리미한 텍스처와 긴 여운이 특징입니다. 해산물, 닭고기, 크림 소스 파스타와 좋은 페어링을 이룹니다.')]\", name='db_search_wine_func', tool_call_id='call_yOUAMkHfMjJSNuYSNdIsLLGV')]\n",
      "----------------------------------------------------------------------------------------------------\n",
      "### 시그니처 스테이크\n",
      "- **가격**: ₩35,000\n",
      "- **특징**: \n",
      "  - 소고기 부위: 최상급 한우 등심, 로즈마리 간장, 검은콩 아스파라거스\n",
      "  - 조리법: 세심한 조리로 풍미를 더하며, 조화로운 소스와 함께 제공\n",
      "  - 준비 기간: 21일간 관리해 숙성한 최상급 한우를 사용합니다. 보드카에 절여 강한 풍미를 지닌 리드 댄스 아스파라거스와 함께 혹은 뷔페 스타일로 즐길 수 있습니다.\n",
      "  \n",
      "### 추천 와인\n",
      "1. **드라크 후레 2016**\n",
      "   - **가격**: ₩1,200,000\n",
      "   - **특징**: 카버네 소비뇽, 메를로, 카버네 프랑 등의 혼합. \n",
      "   - 설명: 나만의 비법으로 이끌 수 있는 자연적인 풍미를 지닌 특별한 와인입니다.\n",
      "\n",
      "2. **도로 미뱀블 1er Cru 2018**\n",
      "   - **가격**: ₩320,000\n",
      "   - **특징**: 잘 익은 베리류의 풍미와 스파이시한 느낌이 조화를 이루는 와인.\n",
      "   - 설명: 브루넬로의 깊은 하향 강조의 고상한 퀄리티를 가진 제품입니다.\n",
      "\n",
      "### 요약\n",
      "- **시그니처 스테이크**는 ₩35,000에 제공되며, 풍미와 조리 방식에 있어 매우 특별합니다. \n",
      "- 추천하는 와인은 가격에 따라 두 가지 옵션이 있으며, 스테이크와의 조화로운 pairing을 기대할 수 있습니다.\n"
     ]
    }
   ],
   "source": [
    "from datetime import datetime\n",
    "from langchain_core.prompts import ChatPromptTemplate\n",
    "from langchain_core.runnables import RunnableConfig, chain\n",
    "\n",
    "# 오늘 날짜 설정\n",
    "today = datetime.today().strftime(\"%Y-%m-%d\")\n",
    "\n",
    "# 프롬프트 템플릿 \n",
    "prompt = ChatPromptTemplate([\n",
    "    (\"system\", f\"You are a helpful AI assistant. Today's date is {today}.\"),\n",
    "    (\"human\", \"{user_input}\"),\n",
    "    (\"placeholder\", \"{messages}\"),\n",
    "])\n",
    "\n",
    "# ChatOpenAI 모델 초기화 \n",
    "#llm = ChatOpenAI(model=\"gpt-4o-mini\")\n",
    "\n",
    "# 4개의 검색 도구를 LLM에 바인딩\n",
    "llm_with_tools = llm.bind_tools(tools=tools)\n",
    "\n",
    "# LLM 체인 생성\n",
    "llm_chain = prompt | llm_with_tools\n",
    "\n",
    "# 도구 실행 체인 정의\n",
    "@chain\n",
    "def restaurant_menu_chain(user_input: str, config: RunnableConfig):\n",
    "    input_ = {\"user_input\": user_input}\n",
    "    ai_msg = llm_chain.invoke(input_, config=config)\n",
    "\n",
    "    tool_msgs = []\n",
    "    for tool_call in ai_msg.tool_calls:\n",
    "        print(f\"{tool_call['name']}: \\n{tool_call}\")\n",
    "        print(\"-\"*100)\n",
    "\n",
    "        if tool_call[\"name\"] == \"tavily_search_func\":\n",
    "            tool_message = tavily_search_func.invoke(tool_call, config=config)\n",
    "            tool_msgs.append(tool_message)\n",
    "\n",
    "        elif tool_call[\"name\"] == \"wiki_summary\":\n",
    "            tool_message = wiki_summary.invoke(tool_call, config=config)\n",
    "            tool_msgs.append(tool_message)\n",
    "\n",
    "        elif tool_call[\"name\"] == \"db_search_menu_func\":\n",
    "            tool_message = db_search_menu_func.invoke(tool_call, config=config)\n",
    "            tool_msgs.append(tool_message)\n",
    "\n",
    "        elif tool_call[\"name\"] == \"db_search_wine_func\":\n",
    "            tool_message = db_search_wine_func.invoke(tool_call, config=config)\n",
    "            tool_msgs.append(tool_message)            \n",
    "\n",
    "    print(\"tool_msgs: \\n\", tool_msgs)\n",
    "    print(\"-\"*100)\n",
    "    return llm_chain.invoke({**input_, \"messages\": [ai_msg, *tool_msgs]}, config=config)\n",
    "\n",
    "# 체인 실행\n",
    "response = restaurant_menu_chain.invoke(\"시그니처 스테이크의 가격과 특징은 무엇인가요? 와인도 추천해주세요.\")\n",
    "\n",
    "# 응답 출력 \n",
    "print(response.content)"
   ]
  },
  {
   "cell_type": "code",
   "execution_count": 87,
   "id": "f93b3215",
   "metadata": {},
   "outputs": [
    {
     "name": "stdout",
     "output_type": "stream",
     "text": [
      "wiki_summary: \n",
      "{'name': 'wiki_summary', 'args': {'query': '파스타의 역사'}, 'id': 'call_yShIKFgzDrs3Fhod6Z8tqIQ3', 'type': 'tool_call'}\n",
      "----------------------------------------------------------------------------------------------------\n",
      "db_search_menu_func: \n",
      "{'name': 'db_search_menu_func', 'args': {'query': '파스타'}, 'id': 'call_gAPEzxMnfHR3XKYStPrEc7ft', 'type': 'tool_call'}\n",
      "----------------------------------------------------------------------------------------------------\n",
      "tavily_search_func: \n",
      "{'name': 'tavily_search_func', 'args': {'query': '서울 강남 파스타 맛집 추천'}, 'id': 'call_WvujinHZ19spx62Eg4QfcPlu', 'type': 'tool_call'}\n",
      "----------------------------------------------------------------------------------------------------\n",
      "tool_msgs: \n",
      " [ToolMessage(content='Pasta, an Italian staple made from durum wheat semolina mixed with water or eggs, is a key component of Italian cuisine. Its name derives from the Italian word for \"dough.\" Historical references to pasta date back to the 2nd century, with various forms evolving over time, including the ancient laganum, a precursor to lasagna. Pasta can be categorized into dried (pasta secca) and fresh (pasta fresca), each with distinct preparation methods and regional variations. Italian cuisine, which has developed since the 4th century BC, is characterized by its use of high-quality ingredients and simplicity, often featuring cheese and wine. The cuisine varies significantly between northern and southern Italy, influenced by local agricultural practices and historical events.', name='wiki_summary', tool_call_id='call_yShIKFgzDrs3Fhod6Z8tqIQ3'), ToolMessage(content=\"[Document(id='68c2f550-5b54-44e5-a58e-b06ef5ee9bbb', metadata={'source': '../data/restaurant_menu.txt', 'menu_number': 6, 'menu_name': '해산물 파스타'}, page_content='6. 해산물 파스타\\\\n   • 가격: ₩24,000\\\\n   • 주요 식재료: 링귀네 파스타, 새우, 홍합, 오징어, 토마토 소스\\\\n   • 설명: 알 덴테로 삶은 링귀네 파스타에 신선한 해산물을 듬뿍 올린 메뉴입니다. 토마토 소스의 산미와 해산물의 감칠맛이 조화를 이루며, 마늘과 올리브 오일로 풍미를 더했습니다. 파슬리를 뿌려 향긋한 맛을 더합니다.'), Document(id='554ad13b-2d56-43e7-a0e9-2a65409148e7', metadata={'source': '../data/restaurant_menu.txt', 'menu_number': 2, 'menu_name': '트러플 리조또'}, page_content='2. 트러플 리조또\\\\n   • 가격: ₩22,000\\\\n   • 주요 식재료: 이탈리아산 아르보리오 쌀, 블랙 트러플, 파르미지아노 레지아노 치즈\\\\n   • 설명: 크리미한 텍스처의 리조또에 고급 블랙 트러플을 듬뿍 얹어 풍부한 향과 맛을 즐길 수 있는 메뉴입니다. 24개월 숙성된 파르미지아노 레지아노 치즈를 사용하여 깊은 맛을 더했으며, 주문 즉시 조리하여 최상의 상태로 제공됩니다.'), Document(id='ec4f3da2-2b8d-48c3-90fb-9d5213ff4d13', metadata={'source': '../data/restaurant_menu.txt', 'menu_number': 10, 'menu_name': '티라미수'}, page_content='10. 티라미수\\\\n    • 가격: ₩9,000\\\\n    • 주요 식재료: 마스카포네 치즈, 에스프레소, 카카오 파우더, 레이디핑거 비스킷\\\\n    • 설명: 부드러운 마스카포네 치즈 크림과 에스프레소에 적신 레이디핑거 비스킷을 층층이 쌓아 만든 이탈리아 정통 디저트입니다. 고소한 카카오 파우더를 듬뿍 뿌려 풍미를 더했습니다. 커피의 쌉싸름함과 치즈의 부드러움이 조화롭게 어우러집니다.'), Document(id='9fc6ee99-c962-47fc-bbf8-f6aa8906a545', metadata={'source': '../data/restaurant_menu.txt', 'menu_number': 8, 'menu_name': '안심 스테이크 샐러드'}, page_content='8. 안심 스테이크 샐러드\\\\n   • 가격: ₩26,000\\\\n   • 주요 식재료: 소고기 안심, 루꼴라, 체리 토마토, 발사믹 글레이즈\\\\n   • 설명: 부드러운 안심 스테이크를 얇게 슬라이스하여 신선한 루꼴라 위에 올린 메인 요리 샐러드입니다. 체리 토마토와 파마산 치즈 플레이크로 풍미를 더하고, 발사믹 글레이즈로 마무리하여 고기의 풍미를 한층 끌어올렸습니다.')]\", name='db_search_menu_func', tool_call_id='call_gAPEzxMnfHR3XKYStPrEc7ft'), ToolMessage(content='<Document href=\"https://todflrh06.tistory.com/3\"/>\\n빵미123\\n\\n카테고리 없음\\n\\n서울 강남 파스타 맛집 추천 BEST 5\\n\\n서울 강남 파스타 맛집 추천 BEST 5\\n\\n이탈리안 음식의 정수를 맛볼 수 있는 강남! 특히 파스타 맛집이 많아 선택이 어려운 경우가 많죠. 그래서 직접 방문하고 엄선한 서울 강남 파스타 맛집 5곳을 소개해 드릴게요! 분위기, 맛, 가격까지 모두 고려한 리스트이니 참고하세요. 😊\\n\\n1. 라비타 (La Vita)\\n\\n라비타는 크리미한 트러플 크림 파스타로 유명한 곳이에요. 부드럽고 진한 크림 소스가 면과 잘 어우러져 고급스러운 맛을 느낄 수 있어요. 감바스도 새우가 신선해서 함께 곁들이기 좋아요!\\n\\n2. 볼라레 (VolaRe)\\n\\n해산물이 듬뿍 들어간 봉골레 파스타가 유명한 곳입니다. 바지락과 새우가 가득 들어가 시원한 감칠맛이 매력적이에요. 양도 푸짐해서 가성비 좋은 곳을 찾는다면 추천해요!\\n\\n3. 더 테이블 (The Table) [...] 더 테이블의 로제 파스타는 진하고 깊은 풍미가 매력적인 메뉴예요. 크림과 토마토 소스의 조화가 부드러우면서도 고소한 맛을 내서 계속 먹고 싶어지는 맛입니다.\\n\\n4. 오스테리아 밀라노 (Osteria Milano)\\n\\n정통 이탈리안 스타일의 파스타를 맛볼 수 있는 곳으로, 크림 없이 계란 노른자로만 만든 까르보나라가 인기 메뉴입니다. 진한 치즈 풍미와 고소한 맛이 일품이에요!\\n\\n5. 포르타벨라 (Portabella)\\n\\n조용한 분위기에서 맛있는 이탈리안 요리를 즐길 수 있는 곳이에요. 고기와 토마토의 깊은 맛이 어우러진 라구 파스타가 대표 메뉴이며, 트러플 향이 가득한 피자도 추천합니다!\\n\\n마무리\\n\\n강남에는 정말 다양한 파스타 맛집이 있지만, 맛과 분위기, 가성비까지 고려해 엄선한 5곳을 소개해드렸어요. 어떤 곳이 가장 끌리시나요? 다음에 강남 방문하시면 꼭 한 번 들러보세요! 😊\\n\\n\\'카테고리 없음\\'의 다른글\\n\\n빵미123\\n\\ntodflrh06 님의 블로그 입니다.\\n\\nTag\\n</Document>\\n---\\n<Document href=\"https://www.diningcode.com/list.dc?query=%EA%B0%95%EB%82%A8%20%ED%8C%8C%EC%8A%A4%ED%83%80\"/>\\n# 강남 파스타 맛집 (1,154곳)\\n\\n강남에서  \\n인기있는 음식을 살펴보세요.\\n\\n강남 음식 랭킹\\n\\n## 1. 리에또 사당역\\n\\n83점\\n\\n4.4(26명)\\n\\n데이트배달가성비좋은콜키지무료\\n\\n영업 중\\n\\n\"알리오올리오 맛도 깔끔해서 굿\\n와 요즘 같은 시대에 이런 파스타집 처음봐요 ㅠㅠ\\n식전빵도 진짜 한웅큼 나오구 가격도 일반 파스...\"\\n## 2. 바비레드 강남본점\\n\\n82점\\n\\n3.8(72명)\\n\\n파스타\\n\\n데이트캐주얼한포장\\n\\n영업 중\\n\\n\"20대 추억을 되새겨서 먹으러 왔는데, 예전보다 맛이 덜 해진 것 같은데 친절해서 좋았어요\"## 3. 페어링룸 청담\\n\\n83점\\n\\n4.1(25명)\\n\\n파스타\\n\\n다코숨은맛집데이트발렛파킹배달\\n\\n영업 중\\n\\n\"끼, 항정살 메주 파스타같이 한식 퓨전 메뉴들이 있어서 특이했어요.\\n작년에 다녀온 곳인데, 파스타가 맛있어요.\\n시그니처메뉴인...\"## 4. 키친피콜로 사당역\\n\\n81점\\n\\n4.5(16명)\\n\\n파스타\\n\\n데이트캐주얼한\\n\\n영업 중 [...] 영업 중\\n\\n\"특히 라자냐 너무 맛있네요!\\n끼랑 화이트 라구 파스타 조금 느끼했음\\n강남역 신논현역 파스타 맛집 찾으신다면 여기요.\\n화이트라구...\"## 20. 미에뜨 양재천\\n\\n78점\\n\\n4.7(7명)\\n\\n파스타\\n\\n데이트예쁜테라스\\n\\n영업 중\\n\\n\"파스타 식감이 좋고 크림이나 트러플향도 적절해서 맛있게 먹었습니다.\"- Advertisement\\n\\n이 지역  \\n재검색\\n\\n맛집 20곳  \\n더보기\\n\\n1\\n\\n리에또 사당역\\n\\n파스타\\n\\n2\\n\\n바비레드 강남본점\\n\\n파스타\\n\\n3\\n\\n페어링룸 청담\\n\\n파스타\\n\\n4\\n\\n키친피콜로 사당역\\n\\n파스타\\n\\n5\\n\\n치즈룸X멜팅샵 파르나스몰점\\n\\n이탈리안레스토랑, 파스타\\n\\n6\\n\\n온다 가로수길\\n\\n감자뇨끼, 파스타\\n\\n7\\n\\n고에몬 강남역\\n\\n오믈렛, 파스타\\n\\n8\\n\\n마녀주방 강남점\\n\\n파스타\\n\\n9\\n\\n을지다락 도산공원\\n\\n오므라이스, 파스타\\n\\n10\\n\\n을지다락 강남점\\n\\n파스타\\n\\n11\\n\\n마초쉐프 강남역점\\n\\n파스타\\n\\n12\\n\\n파스타 달리 사당역\\n\\n파스타\\n\\n13\\n\\n로마옥 양재역\\n\\n파스타\\n\\n14 [...] \"점심메뉴로 알리오올리오가 따로 있어서 그걸로 주문했어요!\\n담엔 파스타 먹고싶네ㅎ\\n방배동 파스타 맛집 이에요.\\n키친피콜로 파스타...\"## 5. 치즈룸X멜팅샵 파르나스몰점\\n\\n85점\\n\\n4.4(34명)\\n\\n이탈리안레스토랑파스타\\n\\n데이트무료주차배달예쁜\\n\\n영업 중\\n\\n\"시금치 플랫브레드는 깔끔하고 신선한 맛이라 좋았고 파스타와 프리터 역시 맛있었으나 아무래도 크림과 튀김이라 먹다보니 느끼했지만...\"## 6. 온다 가로수길\\n\\n81점\\n\\n4.5(12명)\\n\\n감자뇨끼파스타\\n\\n데이트발렛파킹깔끔한예약가능\\n\\n영업 중\\n\\n\"가로수길에서 나름 가성비 좋고 맛도 있고 인테리어도 예쁜 무난무난 양식집~ 크랩파스타 맛나고 비주얼 굳\"## 7. 고에몬 강남역\\n\\n86점\\n\\n3.9(129명)\\n\\n오믈렛파스타\\n\\n생활의달인데이트배달이국적/이색적\\n\\n영업 중\\n\\n\"솔직히 같이 주문한 계절메뉴 스파게티(정확한 이름은 기억 안나는데 토마토소스에 바질과 새우/관자가 들어간 스파게티)는 제 기준...\"## 8. 마녀주방 강남점\\n\\n80점\\n</Document>', name='tavily_search_func', tool_call_id='call_WvujinHZ19spx62Eg4QfcPlu')]\n",
      "----------------------------------------------------------------------------------------------------\n",
      "### 파스타의 역사\n",
      "\n",
      "파스타는 이탈리아의 주요 음식으로, 듀럼 밀 세몰리나를 물이나 계란과 혼합하여 만든 것입니다. '파스타'라는 이름은 이탈리아어로 '반죽'을 의미합니다. 파스타에 대한 역사적 언급은 2세기까지 거슬러 올라가며, 다양한 형태의 파스타가 시간이 지남에 따라 발전해왔습니다. 예를 들어, 고대 로마의 '라가눔'은 라자냐의 전신이라고 할 수 있습니다. \n",
      "\n",
      "파스타는 건조 파스타(파스타 세카)와 신선 파스타(파스타 프레스카)로 나눌 수 있으며, 각기 다른 조리법과 지역적 변형이 존재합니다. 이탈리아 요리는 그 기원이 기원전 4세기로 거슬러 올라가며, 고품질의 재료와 단순함으로 특징지어집니다. 이탈리아의 북부와 남부 Cuisine은 각 지역의 농업 관행과 역사적 사건의 영향을 받으며 상당한 차이를 보입니다.\n",
      "\n",
      "### 서울 강남의 파스타 맛집 추천\n",
      "\n",
      "1. **라 비타 (La Vita)**\n",
      "   - 이곳은 다양한 종류의 파스타와 신선한 재료로 만든 이탈리안 요리가 유명합니다. 분위기 좋은 인테리어와 함께 맛있는 요리를 즐길 수 있습니다.\n",
      "\n",
      "2. **볼라레 (VolaRe)**\n",
      "   - 향신료와 신선한 해산물을 사용한 창의적인 파스타 요리를 제공합니다. 특히 해산물 파스타가 추천됩니다.\n",
      "\n",
      "3. **더 테이블 (The Table)**\n",
      "   - 현대적인 분위기와 함께 고급스러운 파스타를 경험할 수 있습니다. 그들의 특별한 소스와 재료 조합이 일품입니다.\n",
      "\n",
      "4. **오스테리아 밀라노 (Osteria Milano)**\n",
      "   - 전통적인 이탈리아 요리를 제공하며, 신선한 재료로 만든 파스타가 인상적입니다.\n",
      "\n",
      "5. **포르타벨라 (Portabella)**\n",
      "   - 이곳은 각각의 요리가 전통적으로 조리된 방식으로 등장하며, 파스타와 함께 다양한 와인을 즐길 수 있습니다.\n",
      "\n",
      "이 외에도 다양한 파스타 전문점들이 강남에 위치하고 있으며, 메뉴와 분위기에 따라 선택할 수 있습니다.\n"
     ]
    }
   ],
   "source": [
    "# 체인 실행\n",
    "response = restaurant_menu_chain.invoke(\"파스타 메뉴가 있나요? 파스타의 역사 또는 유래를 알려주시고 서울 강남의 파스타 맛집도 추천해주세요.\")\n",
    "\n",
    "# 응답 출력 \n",
    "print(response.content)"
   ]
  },
  {
   "cell_type": "markdown",
   "id": "cc3b78e3",
   "metadata": {},
   "source": [
    "## 3. Few-shot 프롬프팅 \n",
    "- 각 도구의 용도를 구분하여 few-shot 예제로 제시"
   ]
  },
  {
   "cell_type": "markdown",
   "id": "4cd3e6b9",
   "metadata": {},
   "source": [
    "### 3-1. Few-shot 도구 호출"
   ]
  },
  {
   "cell_type": "code",
   "execution_count": 88,
   "id": "5fd743c1",
   "metadata": {},
   "outputs": [
    {
     "name": "stdout",
     "output_type": "stream",
     "text": [
      "{'name': 'db_search_menu_func', 'args': {'query': '스테이크'}, 'id': 'call_PoPDt9NytLfevvkUTVf5P6bz', 'type': 'tool_call'}\n",
      "{'name': 'db_search_wine_func', 'args': {'query': '스테이크와 어울리는 와인'}, 'id': 'call_HDlF1cH0DCNLk6BKTuBPdl5u', 'type': 'tool_call'}\n"
     ]
    }
   ],
   "source": [
    "from langchain_core.messages import AIMessage, HumanMessage, ToolMessage\n",
    "from langchain_core.prompts import ChatPromptTemplate\n",
    "\n",
    "examples = [\n",
    "    HumanMessage(\"트러플 리조또의 가격과 특징, 그리고 어울리는 와인에 대해 알려주세요.\", name=\"example_user\"),\n",
    "    AIMessage(\"메뉴 정보를 검색하고, 위키피디아에서 추가 정보를 찾은 후, 어울리는 와인을 검색해보겠습니다.\", name=\"example_assistant\"),\n",
    "    AIMessage(\"\", name=\"example_assistant\", tool_calls=[{\"name\": \"db_search_menu_func\", \"args\": {\"query\": \"트러플 리조또\"}, \"id\": \"1\"}]),\n",
    "    ToolMessage(\"트러플 리조또: 가격 ₩28,000, 이탈리아 카나롤리 쌀 사용, 블랙 트러플 향과 파르메산 치즈를 듬뿍 넣어 조리\", tool_call_id=\"1\"),    \n",
    "    AIMessage(\"트러플 리조또의 가격은 ₩28,000이며, 이탈리아 카나롤리 쌀을 사용하고 블랙 트러플 향과 파르메산 치즈를 듬뿍 넣어 조리합니다. 이제 추가 정보를 위키피디아에서 찾아보겠습니다.\", name=\"example_assistant\"),\n",
    "    AIMessage(\"\", name=\"example_assistant\", tool_calls=[{\"name\": \"wiki_summary\", \"args\": {\"query\": \"트러플 리조또\", \"k\": 1}, \"id\": \"2\"}]),\n",
    "    ToolMessage(\"트러플 리조또는 이탈리아 요리의 대표적인 리조또 요리 중 하나로, 고급 식재료인 트러플을 사용하여 만든 크리미한 쌀 요리입니다. \\\n",
    "                주로 아르보리오나 카나롤리 등의 쌀을 사용하며, 트러플 오일이나 생 트러플을 넣어 조리합니다. 리조또 특유의 크리미한 질감과 트러플의 강렬하고 독특한 향이 조화를 이루는 것이 특징입니다.\", tool_call_id=\"2\"),\n",
    "    AIMessage(\"트러플 리조또의 특징에 대해 알아보았습니다. 이제 어울리는 와인을 검색해보겠습니다.\", name=\"example_assistant\"),\n",
    "    AIMessage(\"\", name=\"example_assistant\", tool_calls=[{\"name\": \"db_search_wine_func\", \"args\": {\"query\": \"트러플 리조또에 어울리는 와인\"}, \"id\": \"3\"}]),\n",
    "    ToolMessage(\"트러플 리조또와 잘 어울리는 와인으로는 주로 중간 바디의 화이트 와인이 추천됩니다. 1. 샤르도네: 버터와 오크향이 트러플의 풍미를 보완합니다. \\\n",
    "                2. 피노 그리지오: 산뜻한 산미가 리조또의 크리미함과 균형을 이룹니다. 3. 베르나차: 이탈리아 토스카나 지방의 화이트 와인으로, 미네랄리티가 트러플과 잘 어울립니다.\", tool_call_id=\"3\"),\n",
    "    AIMessage(\"트러플 리조또(₩28,000)는 이탈리아의 대표적인 리조또 요리 중 하나로, 이탈리아 카나롤리 쌀을 사용하고 블랙 트러플 향과 파르메산 치즈를 듬뿍 넣어 조리합니다.\\\n",
    "               주요 특징으로는 크리미한 질감과 트러플의 강렬하고 독특한 향이 조화를 이루는 점입니다. 고급 식재료인 트러플을 사용해 풍부한 맛과 향을 내며, \\\n",
    "              주로 아르보리오나 카나롤리 등의 쌀을 사용합니다. 트러플 리조또와 잘 어울리는 와인으로는 중간 바디의 화이트 와인이 추천됩니다. \\\n",
    "              특히 버터와 오크향이 트러플의 풍미를 보완하는 샤르도네, 산뜻한 산미로 리조또의 크리미함과 균형을 이루는 피노 그리지오,\\\n",
    "               그리고 미네랄리티가 트러플과 잘 어울리는 이탈리아 토스카나 지방의 베르나차 등이 좋은 선택이 될 수 있습니다.\", name=\"example_assistant\"),\n",
    "]\n",
    "\n",
    "system = \"\"\"You are an AI assistant providing restaurant menu information and general food-related knowledge.\n",
    "For information about the restaurant's menu, use the search_menu tool.\n",
    "For other general information, use the wiki_summary tool.\n",
    "For wine recommendations or pairing information, use the search_wine tool.\n",
    "If additional web searches are needed or for the most up-to-date information, use the search_web tool.\n",
    "\"\"\"\n",
    "\n",
    "few_shot_prompt = ChatPromptTemplate.from_messages([\n",
    "    (\"system\", system),\n",
    "    *examples,\n",
    "    (\"human\", \"{query}\"),\n",
    "])\n",
    "\n",
    "# ChatOpenAI 모델 초기화 \n",
    "#llm = ChatOpenAI(model=\"gpt-4o-mini\")\n",
    "\n",
    "# 검색 도구를 직접 LLM에 바인딩 가능\n",
    "tools = [tavily_search_func, wiki_summary, db_search_menu_func, db_search_wine_func]\n",
    "llm_with_tools = llm.bind_tools(tools=tools)\n",
    "\n",
    "# Few-shot 프롬프트를 사용한 체인 구성\n",
    "fewshot_search_chain = few_shot_prompt | llm_with_tools\n",
    "\n",
    "# 체인 실행\n",
    "query = \"스테이크 메뉴가 있나요? 스테이크와 어울리는 와인도 추천해주세요.\"\n",
    "response = fewshot_search_chain.invoke(query)\n",
    "\n",
    "# 결과 출력\n",
    "for tool_call in response.tool_calls:\n",
    "    print(tool_call)"
   ]
  },
  {
   "cell_type": "code",
   "execution_count": 90,
   "id": "c442be3f",
   "metadata": {},
   "outputs": [
    {
     "name": "stdout",
     "output_type": "stream",
     "text": [
      "{'name': 'wiki_summary', 'args': {'query': '파스타의 유래'}, 'id': 'call_HsAZYQzHvVx2DwbUXHf9kfS4', 'type': 'tool_call'}\n",
      "{'name': 'tavily_search_func', 'args': {'query': '서울 강남 파스타 맛집'}, 'id': 'call_SbD7RodeVjBKzTrkZ5KrhtoP', 'type': 'tool_call'}\n"
     ]
    }
   ],
   "source": [
    "# 체인 실행\n",
    "query = \"파스타의 유래에 대해서 알고 있나요? 서울 강남의 가장 최근 파스타 맛집을 추천해주세요.\"\n",
    "response = fewshot_search_chain.invoke(query)\n",
    "\n",
    "# 결과 출력\n",
    "for tool_call in response.tool_calls:\n",
    "    print(tool_call)"
   ]
  },
  {
   "cell_type": "markdown",
   "id": "a2f10c84",
   "metadata": {},
   "source": [
    "### 3-2. 답변 생성 체인 "
   ]
  },
  {
   "cell_type": "code",
   "execution_count": 91,
   "id": "49a4d3c7",
   "metadata": {},
   "outputs": [
    {
     "name": "stdout",
     "output_type": "stream",
     "text": [
      "db_search_menu_func: \n",
      "{'name': 'db_search_menu_func', 'args': {'query': '스테이크'}, 'id': 'call_3o4nl55zc2cM6SYjgjdLB5Si', 'type': 'tool_call'}\n",
      "----------------------------------------------------------------------------------------------------\n",
      "db_search_wine_func: \n",
      "{'name': 'db_search_wine_func', 'args': {'query': '스테이크'}, 'id': 'call_f5jcv4l8YIPLHdYX7EbtmI6q', 'type': 'tool_call'}\n",
      "----------------------------------------------------------------------------------------------------\n",
      "tool_msgs: \n",
      " [ToolMessage(content=\"[Document(id='ae8b7a7f-dfdf-4e07-83e6-00bd8d741f49', metadata={'source': '../data/restaurant_menu.txt', 'menu_number': 1, 'menu_name': '시그니처 스테이크'}, page_content='1. 시그니처 스테이크\\\\n   • 가격: ₩35,000\\\\n   • 주요 식재료: 최상급 한우 등심, 로즈메리 감자, 그릴드 아스파라거스\\\\n   • 설명: 셰프의 특제 시그니처 메뉴로, 21일간 건조 숙성한 최상급 한우 등심을 사용합니다. 미디엄 레어로 조리하여 육즙을 최대한 보존하며, 로즈메리 향의 감자와 아삭한 그릴드 아스파라거스가 곁들여집니다. 레드와인 소스와 함께 제공되어 풍부한 맛을 더합니다.'), Document(id='9fc6ee99-c962-47fc-bbf8-f6aa8906a545', metadata={'source': '../data/restaurant_menu.txt', 'menu_number': 8, 'menu_name': '안심 스테이크 샐러드'}, page_content='8. 안심 스테이크 샐러드\\\\n   • 가격: ₩26,000\\\\n   • 주요 식재료: 소고기 안심, 루꼴라, 체리 토마토, 발사믹 글레이즈\\\\n   • 설명: 부드러운 안심 스테이크를 얇게 슬라이스하여 신선한 루꼴라 위에 올린 메인 요리 샐러드입니다. 체리 토마토와 파마산 치즈 플레이크로 풍미를 더하고, 발사믹 글레이즈로 마무리하여 고기의 풍미를 한층 끌어올렸습니다.'), Document(id='3d4eafa5-7417-4bbf-98ee-7ca875e52336', metadata={'source': '../data/restaurant_menu.txt', 'menu_number': 9, 'menu_name': '치킨 콘피'}, page_content='9. 치킨 콘피\\\\n   • 가격: ₩23,000\\\\n   • 주요 식재료: 닭다리살, 허브, 마늘, 올리브 오일\\\\n   • 설명: 닭다리살을 허브와 마늘을 넣은 올리브 오일에 저온에서 장시간 조리한 프랑스 요리입니다. 부드럽고 촉촉한 육질이 특징이며, 로즈메리 감자와 제철 채소를 곁들여 제공합니다. 레몬 제스트를 뿌려 상큼한 향을 더했습니다.'), Document(id='554ad13b-2d56-43e7-a0e9-2a65409148e7', metadata={'source': '../data/restaurant_menu.txt', 'menu_number': 2, 'menu_name': '트러플 리조또'}, page_content='2. 트러플 리조또\\\\n   • 가격: ₩22,000\\\\n   • 주요 식재료: 이탈리아산 아르보리오 쌀, 블랙 트러플, 파르미지아노 레지아노 치즈\\\\n   • 설명: 크리미한 텍스처의 리조또에 고급 블랙 트러플을 듬뿍 얹어 풍부한 향과 맛을 즐길 수 있는 메뉴입니다. 24개월 숙성된 파르미지아노 레지아노 치즈를 사용하여 깊은 맛을 더했으며, 주문 즉시 조리하여 최상의 상태로 제공됩니다.')]\", name='db_search_menu_func', tool_call_id='call_3o4nl55zc2cM6SYjgjdLB5Si'), ToolMessage(content=\"[Document(id='21161384-2151-43d6-82da-eb26e48fca12', metadata={'source': '../data/restaurant_wine.txt', 'menu_number': 4, 'menu_name': '클로 뒤 발 2016'}, page_content='4. 클로 뒤 발 2016\\\\n   • 가격: ₩1,200,000\\\\n   • 주요 품종: 카베르네 소비뇽, 메를로, 카베르네 프랑\\\\n   • 설명: 나파 밸리의 아이콘 와인으로, 극도로 제한된 생산량을 자랑합니다. 블랙베리, 카시스, 자두의 농축된 과실향과 함께 모카, 리코리스, 시가 박스의 복잡한 향이 어우러집니다. 놀라운 집중도와 깊이, 실키한 타닌, 완벽한 균형감이 특징이며, 수십 년의 숙성 잠재력을 가집니다.'), Document(id='3c55c774-8d6a-410e-8381-6d5d4c02a8c0', metadata={'source': '../data/restaurant_wine.txt', 'menu_number': 8, 'menu_name': '오퍼스 원 2017'}, page_content='8. 오퍼스 원 2017\\\\n   • 가격: ₩650,000\\\\n   • 주요 품종: 카베르네 소비뇽, 카베르네 프랑, 메를로, 쁘띠 베르도\\\\n   • 설명: 캘리포니아 나파 밸리의 아이콘 와인입니다. 블랙베리, 카시스, 자두의 농축된 과실향과 함께 초콜릿, 에스프레소, 바닐라의 복잡한 향이 어우러집니다. 풀바디이면서도 우아한 구조를 가지며, 실키한 타닌과 긴 여운이 인상적입니다. 20-30년 이상의 숙성 잠재력을 가집니다.')]\", name='db_search_wine_func', tool_call_id='call_f5jcv4l8YIPLHdYX7EbtmI6q')]\n",
      "----------------------------------------------------------------------------------------------------\n",
      "('현재 메뉴에는 다음과 같은 스테이크가 있습니다:\\n'\n",
      " '\\n'\n",
      " '1. **스킨디 스테이크**\\n'\n",
      " '   - 가격: ₩35,000\\n'\n",
      " '   - 주요 요소: 쇠고기 스테이크로, 로즈마리 향과 함께 조리됩니다. 다양한 소스와 함께 제공됩니다.\\n'\n",
      " '   \\n'\n",
      " '2. **안심 스테이크 스테이크**\\n'\n",
      " '   - 가격: ₩26,000\\n'\n",
      " '   - 주요 요소: 소고기 안심, 룰램프 소스와 함께 제공되며 다양한 사이드와 함께 즐길 수 있습니다.\\n'\n",
      " '   \\n'\n",
      " '스테이크와 잘 어울리는 와인은 다음과 같습니다:\\n'\n",
      " '\\n'\n",
      " '1. **말벡**: 풍부한 과일 맛과 부드러운 타닌이 스테이크의 육즙과 잘 어울립니다.\\n'\n",
      " '2. **카베르네 소비뇽**: 진하고 강한 맛이 스테이크의 풍미를 강조해줍니다.\\n'\n",
      " '3. **쉬라즈**: 스파이스한 맛과 과일 풍미가 조화를 이루어 육류와의 궁합이 좋습니다.\\n'\n",
      " '\\n'\n",
      " '이 외에도 추가적인 스테이크 메뉴가 필요하다면 말씀해 주세요!')\n"
     ]
    }
   ],
   "source": [
    "from datetime import datetime\n",
    "from langchain_core.messages import AIMessage, HumanMessage, ToolMessage\n",
    "from langchain_core.prompts import ChatPromptTemplate\n",
    "from langchain_core.runnables import RunnableConfig, chain\n",
    "from langchain_openai import ChatOpenAI\n",
    "\n",
    "# 오늘 날짜 설정\n",
    "today = datetime.today().strftime(\"%Y-%m-%d\")\n",
    "\n",
    "# 프롬프트 템플릿 \n",
    "system = \"\"\"You are an AI assistant providing restaurant menu information and general food-related knowledge.\n",
    "For information about the restaurant's menu, use the search_menu tool.\n",
    "For other general information, use the wiki_summary tool.\n",
    "For wine recommendations or pairing information, use the search_wine tool.\n",
    "If additional web searches are needed or for the most up-to-date information, use the search_web tool.\n",
    "\"\"\"\n",
    "\n",
    "few_shot_prompt = ChatPromptTemplate.from_messages([\n",
    "    (\"system\", system + f\"Today's date is {today}.\"),\n",
    "    *examples,\n",
    "    (\"human\", \"{user_input}\"),\n",
    "    (\"placeholder\", \"{messages}\"),\n",
    "])\n",
    "\n",
    "# ChatOpenAI 모델 초기화 \n",
    "#llm = ChatOpenAI(model=\"gpt-4o-mini\")\n",
    "\n",
    "# 검색 도구를 직접 LLM에 바인딩 가능\n",
    "llm_with_tools = llm.bind_tools(tools=tools)\n",
    "\n",
    "# Few-shot 프롬프트를 사용한 체인 구성\n",
    "fewshot_search_chain = few_shot_prompt | llm_with_tools\n",
    "\n",
    "# 도구 실행 체인 정의\n",
    "@chain\n",
    "def restaurant_menu_chain(user_input: str, config: RunnableConfig):\n",
    "    input_ = {\"user_input\": user_input}\n",
    "    ai_msg = llm_chain.invoke(input_, config=config)\n",
    "\n",
    "    tool_msgs = []\n",
    "    for tool_call in ai_msg.tool_calls:\n",
    "        print(f\"{tool_call['name']}: \\n{tool_call}\")\n",
    "        print(\"-\"*100)\n",
    "\n",
    "        # [tavily_search_func, wiki_summary, db_search_menu_func, db_search_wine_func]\n",
    "        if tool_call[\"name\"] == \"tavily_search_func\":\n",
    "            tool_message = tavily_search_func.invoke(tool_call, config=config)\n",
    "            tool_msgs.append(tool_message)\n",
    "\n",
    "        elif tool_call[\"name\"] == \"wiki_summary\":\n",
    "            tool_message = wiki_summary.invoke(tool_call, config=config)\n",
    "            tool_msgs.append(tool_message)\n",
    "\n",
    "        elif tool_call[\"name\"] == \"db_search_wine_func\":\n",
    "            tool_message = db_search_wine_func.invoke(tool_call, config=config)\n",
    "            tool_msgs.append(tool_message)\n",
    "\n",
    "        elif tool_call[\"name\"] == \"db_search_menu_func\":\n",
    "            tool_message = db_search_menu_func.invoke(tool_call, config=config)\n",
    "            tool_msgs.append(tool_message)            \n",
    "\n",
    "    print(\"tool_msgs: \\n\", tool_msgs)\n",
    "    print(\"-\"*100)\n",
    "    return fewshot_search_chain.invoke({**input_, \"messages\": [ai_msg, *tool_msgs]}, config=config)\n",
    "\n",
    "\n",
    "# 체인 실행\n",
    "query = \"스테이크 메뉴가 있나요? 스테이크와 어울리는 와인을 추천해 주세요.\"\n",
    "response = restaurant_menu_chain.invoke(query)\n",
    "\n",
    "# 응답 출력 \n",
    "pprint(response.content)"
   ]
  },
  {
   "cell_type": "code",
   "execution_count": 92,
   "id": "d60b9ebc",
   "metadata": {},
   "outputs": [
    {
     "name": "stdout",
     "output_type": "stream",
     "text": [
      "wiki_summary: \n",
      "{'name': 'wiki_summary', 'args': {'query': 'pasta'}, 'id': 'call_sXU4oUwLVFCUy1gyUbtBQOCD', 'type': 'tool_call'}\n",
      "----------------------------------------------------------------------------------------------------\n",
      "tavily_search_func: \n",
      "{'name': 'tavily_search_func', 'args': {'query': '서울 강남 파스타 맛집'}, 'id': 'call_a0fJuigqRoG2OLsQRoifp4cN', 'type': 'tool_call'}\n",
      "----------------------------------------------------------------------------------------------------\n",
      "tool_msgs: \n",
      " [ToolMessage(content='Pasta, an Italian staple made from durum wheat semolina mixed with water or eggs, is a key component of Italian cuisine. The term \"pasta\" means \"dough\" in Italian. Its history dates back to ancient times, with references to similar foods in Greek and Arabic texts. Pasta can be categorized into two main types: dried pasta (pasta secca) and fresh pasta (pasta fresca), each with various shapes and preparation methods. Dried pasta is typically made from durum wheat and is known for its ability to hold sauces, while fresh pasta, often made with soft wheat and eggs, is usually prepared by hand. Pasta is cooked in various ways, including boiling and baking, and is served with a wide range of sauces.', name='wiki_summary', tool_call_id='call_sXU4oUwLVFCUy1gyUbtBQOCD'), ToolMessage(content='<Document href=\"https://todflrh06.tistory.com/3\"/>\\n빵미123\\n\\n카테고리 없음\\n\\n서울 강남 파스타 맛집 추천 BEST 5\\n\\n서울 강남 파스타 맛집 추천 BEST 5\\n\\n이탈리안 음식의 정수를 맛볼 수 있는 강남! 특히 파스타 맛집이 많아 선택이 어려운 경우가 많죠. 그래서 직접 방문하고 엄선한 서울 강남 파스타 맛집 5곳을 소개해 드릴게요! 분위기, 맛, 가격까지 모두 고려한 리스트이니 참고하세요. 😊\\n\\n1. 라비타 (La Vita)\\n\\n라비타는 크리미한 트러플 크림 파스타로 유명한 곳이에요. 부드럽고 진한 크림 소스가 면과 잘 어우러져 고급스러운 맛을 느낄 수 있어요. 감바스도 새우가 신선해서 함께 곁들이기 좋아요!\\n\\n2. 볼라레 (VolaRe)\\n\\n해산물이 듬뿍 들어간 봉골레 파스타가 유명한 곳입니다. 바지락과 새우가 가득 들어가 시원한 감칠맛이 매력적이에요. 양도 푸짐해서 가성비 좋은 곳을 찾는다면 추천해요!\\n\\n3. 더 테이블 (The Table) [...] 더 테이블의 로제 파스타는 진하고 깊은 풍미가 매력적인 메뉴예요. 크림과 토마토 소스의 조화가 부드러우면서도 고소한 맛을 내서 계속 먹고 싶어지는 맛입니다.\\n\\n4. 오스테리아 밀라노 (Osteria Milano)\\n\\n정통 이탈리안 스타일의 파스타를 맛볼 수 있는 곳으로, 크림 없이 계란 노른자로만 만든 까르보나라가 인기 메뉴입니다. 진한 치즈 풍미와 고소한 맛이 일품이에요!\\n\\n5. 포르타벨라 (Portabella)\\n\\n조용한 분위기에서 맛있는 이탈리안 요리를 즐길 수 있는 곳이에요. 고기와 토마토의 깊은 맛이 어우러진 라구 파스타가 대표 메뉴이며, 트러플 향이 가득한 피자도 추천합니다!\\n\\n마무리\\n\\n강남에는 정말 다양한 파스타 맛집이 있지만, 맛과 분위기, 가성비까지 고려해 엄선한 5곳을 소개해드렸어요. 어떤 곳이 가장 끌리시나요? 다음에 강남 방문하시면 꼭 한 번 들러보세요! 😊\\n\\n\\'카테고리 없음\\'의 다른글\\n\\n빵미123\\n\\ntodflrh06 님의 블로그 입니다.\\n\\nTag\\n</Document>\\n---\\n<Document href=\"https://itwasgood.tistory.com/110\"/>\\n오늘 내돈내먹 후기를 남겨볼 곳은, \\'음식이 맛있어요\\' 가 아주 높은 강남역 파스타 맛집, \\'을지다락\\' 강남점이다.\\n\\n워낙 플레이팅 사진이 예쁘기로 유명해서 한번은 꼭 가보고 싶었던 곳인데, 오랜만에 한국에 들어온 친구가 있어 을지다락에서 함께 점심을 먹기로 하고 드디어 방문해보았다 : )\\n\\n## 을지다락 강남\\n\\n서울 강남구 강남대로 96길22 2층\\n\\n0507-1343-9474\\n\\n매일 11:30~21:15 (브레이크 타임 15:15~16:30)\\n\\n14:30, 20:30 라스트오더 \\n\\n예약은 네이버 예약이나 캐치테이블을 통해 가능하다. 우리는 전날 예약을 시도했지만 평일임에도 3명이어서 그런지 점심 예약이 꽉 차있어 예약을 못했다. (2명 예약은 여유가 있는지 자리가 많았는데 말이다;;;)\\n\\n한여름에 식당 앞에서 웨이팅하기는 싫어서 매장으로 몇 번 전화를 하다, 1시 반쯤 웨이팅이 전혀 없다는 얘기를 듣고 을지다락으로 출발 - [...] # 모든 날이 좋았다.\\n\\n타박타박 국내여행/서울, 경기도\\n\\n# [강남역 맛집] 파스타 맛집 을지다락 강남, 진짜 맛있나요? 내돈내먹 후기\\n\\n#강남 맛집 #강남역 맛집 #을지다락 강남 리뷰 \\n\\n한창 \\'어디어디 OO 맛집\\' 검색이 유행하던 때에, 나도 OO 맛집,, 이런 검색 엄청 했었는데, 언제부턴가 \\'무료로 음식을 제공받고 리뷰를 잘~ 써주는 블로그\\' 들이 늘어나면서, 후기를 읽더라도 반신반의하며 읽는 버릇이 생겼다.;;\\n\\n나라도 무료 서비스를 받으면 예의상 좋은 말을 하지 솔직히 평가하기는 어려울 것 같다.\\n\\n그럼에도 블로그에 쓰여진 후기를 꼭 의존하지 않더라도, 리뷰가 몇 백, 몇 천 건이 넘어가고 별점이 높은 축에 속하면 사실 실패할 확률은 아주 적다. 해당 식당을 검색했을 때, 아래 사진처럼 \"음식이 맛있어요\" 부분이 압도적으로 높으면 진짜 맛있는 집인 거라고 들었다. [...] (강남역 11번 출구에서 도보로 7분 정도 걸렸다. 11번 출구에서 직진하여 걷다가 뉴발란스 매장을 끼고 우회전하여 길 끝까지 올라가면 됨.)\\n\\n### < 네이버 예약 바로가기 클릭 ☞ >\\n\\n이 건물 2층이 을지다락 강남점이다.\\n\\n건물 외부는 살짝 낡은 감이 있지만 매장 내부는 화이트 톤에 유리 통창으로 되어 있어 답답하지 않고 환한 느낌 -\\n\\n2층에 올라가면 재밌게도(?) 입구가 없다......... 분명히 2층이랬는데......ㅎㅎ\\n\\n이 나무문을 열고 들어가고 싶지만 이건 페이크 도어였고, 진짜 입구는 엘리베이터임. \\n\\n잠시 당황해주고 엘리베이터 스위치를 눌러주면 매장이 눈 앞에 나타날 것이다.\\n\\n오랜만에 만난 친구들에게 집중하느라, 매장 분위기나 메뉴판은 찍어오지 못했다....\\n\\n(그러나 인터넷에 워낙 사진이 많으니 참고바람 :D)\\n\\n매장은 샹들리에가 걸린 예쁜 카페 느낌으로, 적당하게 예뻤다.\\n</Document>', name='tavily_search_func', tool_call_id='call_a0fJuigqRoG2OLsQRoifp4cN')]\n",
      "----------------------------------------------------------------------------------------------------\n",
      "('파스타는 이탈리아의 대표적인 요리로, 듀럼 밀 세몰리나와 물 또는 계란을 혼합해 만든 반죽으로 만들어집니다. \"파스타\"라는 용어는 '\n",
      " '이탈리어로 \"반죽\"을 의미하며, 그 역사는 고대까지 거슬러 올라갑니다. 그리스와 아랍의 문헌에서도 유사한 음식에 대한 언급이 있습니다. '\n",
      " '파스타는 주로 드라이 파스타(파스타 세카)와 생 파스타(파스타 프레쉬)로 분류되며, 드라이 파스타는 듀럼 밀로 만들어져 소스를 '\n",
      " '잘_hold_ 수 있는 특성을 가지고, 생 파스타는 주로 부드러운 밀과 계란으로 만들어 손으로 준비됩니다. 파스타는 끓이기, 굽기 등 '\n",
      " '다양한 방식으로 조리되며, 다양한 소스와 함께 제공됩니다.\\n'\n",
      " '\\n'\n",
      " '서울 강남에서 가장 최근의 파스타 맛집으로는 다음과 같은 곳들이 추천됩니다:\\n'\n",
      " '\\n'\n",
      " '1. **라 비타 (La Vita)**: 크리미한 트러플 파스타로 유명한 곳입니다.\\n'\n",
      " '   \\n'\n",
      " '2. **볼라레 (VolaRe)**: 해산물 파스타가 훌륭하며, 다양한 해산물 요리를 제공합니다.\\n'\n",
      " '\\n'\n",
      " '3. **더 테이블 (The Table)**: 미국식 스타일의 파스타와 레시피가 함께 제공됩니다.\\n'\n",
      " '\\n'\n",
      " '4. **오스테리아 밀라노 (Osteria Milano)**: 이탈리아 전통 요리를 선보이는 현대적인 레스토랑입니다.\\n'\n",
      " '\\n'\n",
      " '5. **포르타벨라 (Portabella)**: 고급 재료를 사용한 이탈리안 레스토랑으로, 웅장한 분위기에서 식사를 즐길 수 있습니다.\\n'\n",
      " '\\n'\n",
      " '이 중에서 방문하실 곳을 선택해 보세요!')\n"
     ]
    }
   ],
   "source": [
    "# 체인 실행\n",
    "query = \"파스타의 유래에 대해서 알고 있나요? 서울 강남의 가장 최근 파스타 맛집을 추천해주세요.\"\n",
    "response = restaurant_menu_chain.invoke(query)\n",
    "\n",
    "# 응답 출력 \n",
    "pprint(response.content)"
   ]
  },
  {
   "cell_type": "markdown",
   "id": "11927ed4",
   "metadata": {},
   "source": [
    "## 4. LangChain Agent 사용\n",
    "- 유의사항: 프롬프트에 \"agent_scratchpad\",  \"input\" 변수를 포함"
   ]
  },
  {
   "cell_type": "code",
   "execution_count": null,
   "id": "7127af7a",
   "metadata": {},
   "outputs": [],
   "source": [
    "from langchain_core.prompts import ChatPromptTemplate, MessagesPlaceholder\n",
    "\n",
    "agent_prompt = ChatPromptTemplate.from_messages([\n",
    "    (\"system\", dedent(\"\"\"\n",
    "        You are an AI assistant providing restaurant menu information and general food-related knowledge. \n",
    "        Your main goal is to provide accurate information and effective recommendations to users.\n",
    "\n",
    "        Key guidelines:\n",
    "        1. For restaurant menu information, use the search_menu tool. This tool provides details on menu items, including prices, ingredients, and cooking methods.\n",
    "        2. For general food information, history, and cultural background, utilize the wiki_summary tool.\n",
    "        3. For wine recommendations or food and wine pairing information, use the search_wine tool.\n",
    "        4. If additional web searches are needed or for the most up-to-date information, use the search_web tool.\n",
    "        5. Provide clear and concise responses based on the search results.\n",
    "        6. If a question is ambiguous or lacks necessary information, politely ask for clarification.\n",
    "        7. Always maintain a helpful and professional tone.\n",
    "        8. When providing menu information, describe in the order of price, main ingredients, and distinctive cooking methods.\n",
    "        9. When making recommendations, briefly explain the reasons.\n",
    "        10. Maintain a conversational, chatbot-like style in your final responses. Be friendly, engaging, and natural in your communication.\n",
    "\n",
    "\n",
    "        Remember, understand the purpose of each tool accurately and use them in appropriate situations. \n",
    "        Combine the tools to provide the most comprehensive and accurate answers to user queries. \n",
    "        Always strive to provide the most current and accurate information.\n",
    "        \"\"\")),\n",
    "    MessagesPlaceholder(variable_name=\"chat_history\", optional=True),\n",
    "    (\"human\", \"{input}\"),\n",
    "    MessagesPlaceholder(variable_name=\"agent_scratchpad\"),\n",
    "])"
   ]
  },
  {
   "cell_type": "code",
   "execution_count": null,
   "id": "b3dad12e",
   "metadata": {},
   "outputs": [],
   "source": [
    "# Tool calling Agent 생성\n",
    "from langchain.agents import AgentExecutor, create_tool_calling_agent\n",
    "\n",
    "tools = [tavily_search_func, wiki_summary, db_search_menu_func, db_search_wine_func]\n",
    "agent = create_tool_calling_agent(llm, tools, agent_prompt)\n",
    "\n",
    "# AgentExecutor 생성 \n",
    "agent_executor = AgentExecutor(agent=agent, tools=tools, verbose=True)"
   ]
  },
  {
   "cell_type": "code",
   "execution_count": null,
   "id": "6cd37cf1",
   "metadata": {},
   "outputs": [],
   "source": [
    "# AgentExecutor 실행\n",
    "\n",
    "query = \"시그니처 스테이크의 가격과 특징은 무엇인가요? 그리고 스테이크와 어울리는 와인 추천도 해주세요.\"\n",
    "agent_response = agent_executor.invoke({\"input\": query})"
   ]
  },
  {
   "cell_type": "code",
   "execution_count": null,
   "id": "bdef9044",
   "metadata": {},
   "outputs": [],
   "source": [
    "pprint(agent_response)"
   ]
  },
  {
   "cell_type": "markdown",
   "id": "eb411fca",
   "metadata": {},
   "source": [
    "## 5. Gradio 활용"
   ]
  },
  {
   "cell_type": "code",
   "execution_count": null,
   "id": "56abbad7",
   "metadata": {},
   "outputs": [],
   "source": [
    "import gradio as gr\n",
    "from typing import List, Tuple\n",
    "\n",
    "def answer_invoke(message: str, history: List[Tuple[str, str]]) -> str:\n",
    "    try:\n",
    "        # 채팅 기록을 AI에게 전달할 수 있는 형식으로 변환\n",
    "        chat_history = []\n",
    "        for human, ai in history:\n",
    "            chat_history.append(HumanMessage(content=human))\n",
    "            chat_history.append(AIMessage(content=ai))\n",
    "        \n",
    "        # agent_executor를 사용하여 응답 생성\n",
    "        response = agent_executor.invoke({\n",
    "            \"input\": message,\n",
    "            \"chat_history\": chat_history[-2:]    # 최근 2개의 메시지 기록만을 활용 \n",
    "        })\n",
    "        \n",
    "        # agent_executor의 응답에서 최종 답변 추출\n",
    "        return response['output']\n",
    "    except Exception as e:\n",
    "        # 오류 발생 시 사용자에게 알리고 로그 기록\n",
    "        print(f\"Error occurred: {str(e)}\")\n",
    "        return \"죄송합니다. 응답을 생성하는 동안 오류가 발생했습니다. 다시 시도해 주세요.\"\n",
    "\n",
    "# 예제 질문 정의\n",
    "example_questions = [\n",
    "    \"시그니처 스테이크의 가격과 특징을 알려주세요.\",\n",
    "    \"트러플 리조또와 잘 어울리는 와인을 추천해주세요.\",\n",
    "    \"해산물 파스타의 주요 재료는 무엇인가요? 서울 강남 지역에 레스토랑을 추천해주세요.\",\n",
    "    \"채식주의자를 위한 메뉴 옵션이 있나요?\"\n",
    "]\n",
    "\n",
    "# Gradio 인터페이스 생성\n",
    "demo = gr.ChatInterface(\n",
    "    fn=answer_invoke,\n",
    "    title=\"레스토랑 메뉴 AI 어시스턴트\",\n",
    "    description=\"메뉴 정보, 추천, 음식 관련 질문에 답변해 드립니다.\",\n",
    "    examples=example_questions,\n",
    "    theme=gr.themes.Soft()\n",
    ")\n",
    "\n",
    "# 데모 실행\n",
    "demo.launch()"
   ]
  },
  {
   "cell_type": "code",
   "execution_count": null,
   "id": "1bd26485",
   "metadata": {},
   "outputs": [],
   "source": [
    "# 데모 종료\n",
    "demo.close()"
   ]
  },
  {
   "cell_type": "code",
   "execution_count": null,
   "id": "9fb837bc",
   "metadata": {},
   "outputs": [],
   "source": []
  }
 ],
 "metadata": {
  "kernelspec": {
   "display_name": "mylangchain-app-SBe-Yh6W-py3.12",
   "language": "python",
   "name": "python3"
  },
  "language_info": {
   "codemirror_mode": {
    "name": "ipython",
    "version": 3
   },
   "file_extension": ".py",
   "mimetype": "text/x-python",
   "name": "python",
   "nbconvert_exporter": "python",
   "pygments_lexer": "ipython3",
   "version": "3.12.7"
  }
 },
 "nbformat": 4,
 "nbformat_minor": 5
}
