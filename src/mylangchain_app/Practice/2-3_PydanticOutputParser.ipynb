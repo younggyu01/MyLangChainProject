{
 "cells": [
  {
   "cell_type": "markdown",
   "id": "9ee4a13d",
   "metadata": {},
   "source": [
    "## 문제 2-3 : 학생 정보 구조화 시스템\n",
    "### 출력 파서: PydanticOutputParser\n",
    "\n",
    "### 문제\n",
    "#### 학생의 자유 형식 자기소개를 입력받아 이름, 나이, 전공, 취미 리스트, 목표를 구조화된 형태로 추출하는 시스템을 만드세요.\n",
    "\n",
    "### 요구사항:\n",
    "#### PydanticOutputParser와 BaseModel 사용\n",
    "#### 각 필드에 적절한 타입과 설명 추가\n",
    "#### 자유 형식의 텍스트에서 정보 추출\n",
    "\n",
    "### 예시 입력:\n",
    "#### \"안녕하세요! 저는 김민수이고 22살입니다. 컴퓨터공학을 전공하고 있어요. 취미로는 게임하기, 영화보기, 코딩을 좋아합니다. 앞으로 훌륭한 개발자가 되는 것이 목표입니다.\"\n",
    "\n",
    "### 예시 출력 구조:\n",
    "#### {\n",
    "####    \"name\": \"김민수\",\n",
    "####    \"age\": 22,\n",
    "####    \"major\": \"컴퓨터공학\",\n",
    "####    \"hobbies\": [\"게임하기\", \"영화보기\", \"코딩\"],\n",
    "####    \"goal\": \"훌륭한 개발자가 되는 것\"\n",
    "#### }"
   ]
  },
  {
   "cell_type": "code",
   "execution_count": 1,
   "id": "2cae6ebf",
   "metadata": {},
   "outputs": [
    {
     "name": "stdout",
     "output_type": "stream",
     "text": [
      "gsk_t3Z\n"
     ]
    }
   ],
   "source": [
    "from dotenv import load_dotenv\n",
    "import os\n",
    "# .env 파일을 불러와서 환경 변수로 설정\n",
    "load_dotenv(dotenv_path='../.env')\n",
    "\n",
    "OPENAI_API_KEY = os.getenv(\"OPENAI_API_KEY\")\n",
    "print(OPENAI_API_KEY[:7])"
   ]
  },
  {
   "cell_type": "code",
   "execution_count": 2,
   "id": "0ff34815",
   "metadata": {},
   "outputs": [],
   "source": [
    "from langchain_openai import ChatOpenAI\n",
    "from langchain_core.prompts import ChatPromptTemplate\n",
    "from langchain.output_parsers import PydanticOutputParser\n",
    "\n",
    "from pydantic import BaseModel, Field\n",
    "from typing import List\n",
    "from pprint import pprint"
   ]
  },
  {
   "cell_type": "code",
   "execution_count": 10,
   "id": "808755d9",
   "metadata": {},
   "outputs": [],
   "source": [
    "# 출력 구조를 정의하는 Pydantic 모델\n",
    "class StudentProfile(BaseModel):\n",
    "    name: str = Field(..., description=\"학생의 이름(풀네임)\")\n",
    "    age: int = Field(..., description=\"나이(정수)\")\n",
    "    major: str = Field(..., description=\"전공(예: 컴퓨터공학)\")\n",
    "    hobbies: List[str] = Field(..., description=\"취미 리스트(예: ['게임하기','영화보기'])\")\n",
    "    goal: str = Field(..., description=\"학생의 핵심 목표 한 문장\")"
   ]
  },
  {
   "cell_type": "code",
   "execution_count": 21,
   "id": "f511a579",
   "metadata": {},
   "outputs": [
    {
     "name": "stdout",
     "output_type": "stream",
     "text": [
      "The output should be formatted as a JSON instance that conforms to the JSON schema below.\n",
      "\n",
      "As an example, for the schema {\"properties\": {\"foo\": {\"title\": \"Foo\", \"description\": \"a list of strings\", \"type\": \"array\", \"items\": {\"type\": \"string\"}}}, \"required\": [\"foo\"]}\n",
      "the object {\"foo\": [\"bar\", \"baz\"]} is a well-formatted instance of the schema. The object {\"properties\": {\"foo\": [\"bar\", \"baz\"]}} is not well-formatted.\n",
      "\n",
      "Here is the output schema:\n",
      "```\n",
      "{\"properties\": {\"name\": {\"description\": \"학생의 이름(풀네임)\", \"title\": \"Name\", \"type\": \"string\"}, \"age\": {\"description\": \"나이(정수)\", \"title\": \"Age\", \"type\": \"integer\"}, \"major\": {\"description\": \"전공(예: 컴퓨터공학)\", \"title\": \"Major\", \"type\": \"string\"}, \"hobbies\": {\"description\": \"취미 리스트(예: ['게임하기','영화보기'])\", \"items\": {\"type\": \"string\"}, \"title\": \"Hobbies\", \"type\": \"array\"}, \"goal\": {\"description\": \"학생의 핵심 목표 한 문장\", \"title\": \"Goal\", \"type\": \"string\"}}, \"required\": [\"name\", \"age\", \"major\", \"hobbies\", \"goal\"]}\n",
      "```\n"
     ]
    }
   ],
   "source": [
    "# Pydantic 출력 파서 초기화\n",
    "parser = PydanticOutputParser(pydantic_object=StudentProfile)\n",
    "print(parser.get_format_instructions())"
   ]
  },
  {
   "cell_type": "code",
   "execution_count": 23,
   "id": "82b97085",
   "metadata": {},
   "outputs": [],
   "source": [
    "template = \"\"\"\n",
    "    (\"system\",\n",
    "     \"너는 정보 추출기야. 사용자가 입력한 자기소개 텍스트에서 \"\n",
    "     \"이름(name), 나이(age), 전공(major), 취미 목록(hobbies), 목표(goal)를 추출할것.\\n\"\n",
    "     \"반드시 아래 출력 형식을 따라야돼.\\n\"\n",
    "     f\"{format_instructions}\\n\"\n",
    "     \"- 취미는 리스트(List[str])로, 불필요한 설명 없이 항목만 포함하고\\n\"\n",
    "     \"- 값이 확실하지 않더라도 문맥상 가장 그럴듯한 값 한 개로 정제해.\"),\n",
    "    (\"user\", \"{query}\")\n",
    "\"\"\"\n",
    "\n",
    "prompt = ChatPromptTemplate.from_template(template)\n",
    "\n",
    "# 파서의 지시사항을 프롬프트에 주입\n",
    "prompt = prompt.partial(\n",
    "    format_instructions=parser.get_format_instructions()\n",
    ")"
   ]
  },
  {
   "cell_type": "code",
   "execution_count": 24,
   "id": "bcbe772a",
   "metadata": {},
   "outputs": [],
   "source": [
    "llm = ChatOpenAI(\n",
    "    api_key=OPENAI_API_KEY,\n",
    "    base_url=\"https://api.groq.com/openai/v1\",\n",
    "    model=\"openai/gpt-oss-120b\",\n",
    "    temperature=0.1,\n",
    ")"
   ]
  },
  {
   "cell_type": "code",
   "execution_count": 26,
   "id": "36d5b6b7",
   "metadata": {},
   "outputs": [
    {
     "name": "stdout",
     "output_type": "stream",
     "text": [
      "<class '__main__.StudentProfile'>\n",
      "StudentProfile(name='김민수', age=22, major='컴퓨터공학', hobbies=['게임하기', '영화보기', '코딩'], goal='훌륭한 개발자가 되는 것')\n"
     ]
    }
   ],
   "source": [
    "# 체인 구성 및 실행\n",
    "chain = prompt | llm | parser\n",
    "\n",
    "query = (\n",
    "    \"안녕하세요! 저는 김민수이고 22살입니다. 컴퓨터공학을 전공하고 있어요. \"\n",
    "    \"취미로는 게임하기, 영화보기, 코딩을 좋아합니다. 앞으로 훌륭한 개발자가 되는 것이 목표입니다.\"\n",
    ")\n",
    "\n",
    "output = chain.invoke({\"query\": query})\n",
    "\n",
    "print(type(output))\n",
    "pprint(output)"
   ]
  },
  {
   "cell_type": "code",
   "execution_count": 32,
   "id": "ea6f573b",
   "metadata": {},
   "outputs": [
    {
     "name": "stdout",
     "output_type": "stream",
     "text": [
      "이름: 김민수\n",
      "나이: 22\n",
      "전공: 컴퓨터공학\n",
      "취미: ['게임하기', '영화보기', '코딩']\n",
      "목표: 훌륭한 개발자가 되는 것\n"
     ]
    }
   ],
   "source": [
    "# 결과 출력\n",
    "print(f\"이름: {output.name}\")\n",
    "print(f\"나이: {output.age}\")\n",
    "print(f\"전공: {output.major}\")\n",
    "print(f\"취미: {output.hobbies}\")\n",
    "print(f\"목표: {output.goal}\")"
   ]
  }
 ],
 "metadata": {
  "kernelspec": {
   "display_name": "mylangchain-app-SBe-Yh6W-py3.12",
   "language": "python",
   "name": "python3"
  },
  "language_info": {
   "codemirror_mode": {
    "name": "ipython",
    "version": 3
   },
   "file_extension": ".py",
   "mimetype": "text/x-python",
   "name": "python",
   "nbconvert_exporter": "python",
   "pygments_lexer": "ipython3",
   "version": "3.12.7"
  }
 },
 "nbformat": 4,
 "nbformat_minor": 5
}
