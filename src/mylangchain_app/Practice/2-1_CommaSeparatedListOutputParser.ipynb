{
 "cells": [
  {
   "cell_type": "markdown",
   "id": "6e981abd",
   "metadata": {},
   "source": [
    "# 문제 2-1 : 콤마 구분 리스트 파서 활용\n",
    "## 출력 파서: CommaSeparatedListOutputParser\n",
    "## 문제\n",
    "### 사용자가 관심있는 분야(예: \"음식\", \"스포츠\", \"영화\" 등)를 입력하면, 해당 분야와 관련된 한국의 유명한 장소나 활동 5가지를 콤마로 구분된 리스트로 출력하는 프로그램을 작성하세요.\n",
    "\n",
    "## 요구사항:\n",
    "### CommaSeparatedListOutputParser 사용\n",
    "### 사용자 입력을 받아 동적으로 처리\n",
    "### 한국 관련 내용으로 추천\n",
    "### 예시 입력: \"음식\"\n",
    "### 예시 출력: \n",
    "### ['명동 칼국수', '부산 돼지국밥', '전주 비빔밥', '춘천 닭갈비', '제주 흑돼지']\n"
   ]
  },
  {
   "cell_type": "code",
   "execution_count": 1,
   "id": "450592a8",
   "metadata": {},
   "outputs": [
    {
     "name": "stdout",
     "output_type": "stream",
     "text": [
      "gsk\n"
     ]
    }
   ],
   "source": [
    "from dotenv import load_dotenv\n",
    "import os\n",
    "# .env 파일을 불러와서 환경 변수로 설정\n",
    "load_dotenv()\n",
    "\n",
    "OPENAI_API_KEY = os.getenv(\"OPENAI_API_KEY\")\n",
    "print(OPENAI_API_KEY[:3])"
   ]
  },
  {
   "cell_type": "code",
   "execution_count": 6,
   "id": "3763cdfb",
   "metadata": {},
   "outputs": [
    {
     "name": "stdout",
     "output_type": "stream",
     "text": [
      "Your response should be a list of comma separated values, eg: `foo, bar, baz` or `foo,bar,baz`\n",
      "[입력] 음식\n",
      "['광장시장', '전주비빔밥 체험', '자갈치시장', '제주흑돼지구이', '김치 만들기 체험']\n"
     ]
    }
   ],
   "source": [
    "from langchain_core.output_parsers import CommaSeparatedListOutputParser\n",
    "from langchain_core.prompts import ChatPromptTemplate\n",
    "from langchain_openai import ChatOpenAI\n",
    "import csv\n",
    "\n",
    "# 콤마로 구분된 리스트 출력 파서 초기화\n",
    "output_parser = CommaSeparatedListOutputParser()\n",
    "\n",
    "# 출력 형식 지침 가져오기\n",
    "format_instructions = output_parser.get_format_instructions()\n",
    "print(format_instructions)\n",
    "\n",
    "# OpenAI 모델 설정\n",
    "llm = ChatOpenAI(\n",
    "    api_key=OPENAI_API_KEY,\n",
    "    base_url=\"https://api.groq.com/openai/v1\",\n",
    "    model=\"openai/gpt-oss-120b\",\n",
    "    temperature=0.3,  # 리스트 일관성 위해 낮게\n",
    ")\n",
    "\n",
    "# 프롬프트 템플릿 설정\n",
    "prompt = ChatPromptTemplate.from_messages([\n",
    "    (\"system\",\n",
    "     \"너는 추천 리스트 생성기야. 한국과 관련된 유명한 장소나 활동 5가지를 추천해줘.\\n\"\n",
    "     \"규칙:\\n\"\n",
    "     \"- 사용자 관심 분야와 직접적으로 연관된 항목만\\n\"\n",
    "     \"- 한국 맥락 유지(지명/음식/활동 등)\\n\"\n",
    "     f\"- 출력 형식: {format_instructions}\\n\"\n",
    "     \"- 번호/설명/따옴표/대괄호 없이, 콤마로만 구분\"),\n",
    "    (\"user\", \"관심 분야: {topic}\")\n",
    "])\n",
    "\n",
    "# 프롬프트, 모델, 출력 파서를 연결하여 체인 생성\n",
    "chain = prompt | llm | output_parser\n",
    "\n",
    "# \"음식\"에 대한 체인 호출 실행\n",
    "topic = \"음식\"\n",
    "result = chain.invoke({\"topic\": topic})\n",
    "\n",
    "print(f\"[입력] {topic}\")\n",
    "print(result)"
   ]
  }
 ],
 "metadata": {
  "kernelspec": {
   "display_name": "mylangchain-app-SBe-Yh6W-py3.12",
   "language": "python",
   "name": "python3"
  },
  "language_info": {
   "codemirror_mode": {
    "name": "ipython",
    "version": 3
   },
   "file_extension": ".py",
   "mimetype": "text/x-python",
   "name": "python",
   "nbconvert_exporter": "python",
   "pygments_lexer": "ipython3",
   "version": "3.12.7"
  }
 },
 "nbformat": 4,
 "nbformat_minor": 5
}
