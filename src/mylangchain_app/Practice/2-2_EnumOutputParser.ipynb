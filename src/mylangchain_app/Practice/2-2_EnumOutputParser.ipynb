{
 "cells": [
  {
   "cell_type": "markdown",
   "id": "6013700d",
   "metadata": {},
   "source": [
    "# 문제 2-2 : 영화 리뷰 감정 분석기\n",
    "### 출력 파서: EnumOutputParser\n",
    "\n",
    "### 문제\n",
    "#### 영화 리뷰 텍스트를 입력받아 감정을 \"긍정\", \"부정\", \"보통\" 중 하나로 분류하는 시스템을 만드세요.\n",
    "\n",
    "### 요구사항:\n",
    "#### EnumOutputParser와 Enum 클래스 사용\n",
    "#### 여러 개의 테스트 리뷰로 검증\n",
    "#### 감정 분류 결과를 깔끔하게 출력\n",
    "#### 테스트 리뷰 예시:\n",
    "#### \"이 영화 정말 재미없어요. 시간 낭비였습니다.\"\n",
    "#### \"배우들의 연기가 훌륭하고 스토리도 감동적이었어요!\"\n",
    "#### \"그냥 무난한 영화였습니다. 나쁘지도 좋지도 않아요.\"\n",
    "\n",
    "#### 분석실패했을 경우에 사용하는 \n",
    "#### OutputFixingParser 와 EnumOutputParser 를 같이 사용하는 것은 선택입니다."
   ]
  },
  {
   "cell_type": "code",
   "execution_count": 1,
   "id": "6af1fdf6",
   "metadata": {},
   "outputs": [
    {
     "name": "stdout",
     "output_type": "stream",
     "text": [
      "gsk_t\n"
     ]
    }
   ],
   "source": [
    "from dotenv import load_dotenv\n",
    "import os\n",
    "# .env 파일을 불러와서 환경 변수로 설정\n",
    "load_dotenv()\n",
    "\n",
    "OPENAI_API_KEY = os.getenv(\"OPENAI_API_KEY\")\n",
    "print(OPENAI_API_KEY[:5])"
   ]
  },
  {
   "cell_type": "code",
   "execution_count": 3,
   "id": "1df6a4af",
   "metadata": {},
   "outputs": [
    {
     "name": "stdout",
     "output_type": "stream",
     "text": [
      "감정 분류 출력 형식:\n",
      "Select one of the following options: 긍정, 부정, 보통\n"
     ]
    }
   ],
   "source": [
    "from enum import Enum\n",
    "from langchain_openai import ChatOpenAI\n",
    "from langchain_core.prompts import ChatPromptTemplate\n",
    "from langchain.output_parsers import EnumOutputParser, OutputFixingParser\n",
    "from langchain.schema import OutputParserException\n",
    "\n",
    "# 감정 클래스 정의 (Enum)\n",
    "class Sentiment(str, Enum):\n",
    "    POSITIVE = \"긍정\"\n",
    "    NEGATIVE = \"부정\"\n",
    "    NEUTRAL = \"보통\"\n",
    "\n",
    "# EnumOutputParser 초기화\n",
    "parser = EnumOutputParser(enum=Sentiment)\n",
    "format_instructions = parser.get_format_instructions()\n",
    "\n",
    "print(\"감정 분류 출력 형식:\")\n",
    "print(format_instructions)"
   ]
  },
  {
   "cell_type": "code",
   "execution_count": 4,
   "id": "876e68cc",
   "metadata": {},
   "outputs": [
    {
     "name": "stdout",
     "output_type": "stream",
     "text": [
      "input_variables=['text'] input_types={} partial_variables={'format_instructions': 'Select one of the following options: 긍정, 부정, 보통'} messages=[HumanMessagePromptTemplate(prompt=PromptTemplate(input_variables=['format_instructions', 'text'], input_types={}, partial_variables={}, template='\\n당신은 텍스트 감정 분석 전문가입니다.\\n다음 텍스트의 감정을 분석하고, 반드시 아래 세 가지 중 하나의 단어로만 답변하세요.\\n\\n텍스트: \"{text}\"\\n\\n{format_instructions}\\n\\n중요 규칙:\\n1. 반드시 \"긍정\", \"부정\", \"보통\" 중 하나의 단어만 출력하세요.\\n2. 왜 그 단어로 답변했는지 간단한 설명도 같이 출력하세요.\\n\\n답변:'), additional_kwargs={})]\n"
     ]
    }
   ],
   "source": [
    "# 프롬프트 템플릿\n",
    "template = \"\"\"\n",
    "당신은 텍스트 감정 분석 전문가입니다.\n",
    "다음 텍스트의 감정을 분석하고, 반드시 아래 세 가지 중 하나의 단어로만 답변하세요.\n",
    "\n",
    "텍스트: \"{text}\"\n",
    "\n",
    "{format_instructions}\n",
    "\n",
    "중요 규칙:\n",
    "1. 반드시 \"긍정\", \"부정\", \"보통\" 중 하나의 단어만 출력하세요.\n",
    "2. 왜 그 단어로 답변했는지 간단한 설명도 같이 출력하세요.\n",
    "\n",
    "답변:\"\"\"\n",
    "\n",
    "prompt = ChatPromptTemplate.from_template(template)\n",
    "prompt = prompt.partial(format_instructions=format_instructions)\n",
    "print(prompt)"
   ]
  },
  {
   "cell_type": "code",
   "execution_count": 5,
   "id": "33fe7948",
   "metadata": {},
   "outputs": [
    {
     "name": "stdout",
     "output_type": "stream",
     "text": [
      "parser=EnumOutputParser(enum=<enum 'Sentiment'>) retry_chain=PromptTemplate(input_variables=['completion', 'error', 'instructions'], input_types={}, partial_variables={}, template='Instructions:\\n--------------\\n{instructions}\\n--------------\\nCompletion:\\n--------------\\n{completion}\\n--------------\\n\\nAbove, the Completion did not satisfy the constraints given in the Instructions.\\nError:\\n--------------\\n{error}\\n--------------\\n\\nPlease try again. Please only respond with an answer that satisfies the constraints laid out in the Instructions:')\n",
      "| ChatOpenAI(client=<openai.resources.chat.completions.completions.Completions object at 0x0000019D0CDDE9F0>, async_client=<openai.resources.chat.completions.completions.AsyncCompletions object at 0x0000019D0D1326C0>, root_client=<openai.OpenAI object at 0x0000019D0CE133E0>, root_async_client=<openai.AsyncOpenAI object at 0x0000019D0CEAC6B0>, model_name='moonshotai/kimi-k2-instruct-0905', temperature=0.0, model_kwargs={}, openai_api_key=SecretStr('**********'), openai_api_base='https://api.groq.com/openai/v1')\n",
      "| StrOutputParser()\n",
      "모델 및 파서 설정 완료\n"
     ]
    }
   ],
   "source": [
    "# ChatOpenAI 모델 초기화\n",
    "# 환경변수에서 OpenAI API 키 설정 (실제 사용시 주석 해제)\n",
    "# os.environ[\"OPENAI_API_KEY\"] = \"your-api-key\"\n",
    "\n",
    "# model = ChatOpenAI(\n",
    "#     model=\"gpt-3.5-turbo\",\n",
    "#     temperature=0  # 일관성을 위해 0으로 설정\n",
    "# )\n",
    "model = ChatOpenAI(\n",
    "    #api_key=OPENAI_API_KEY,\n",
    "    base_url=\"https://api.groq.com/openai/v1\",  # Groq API 엔드포인트\n",
    "    #model=\"meta-llama/llama-4-scout-17b-16e-instruct\",\n",
    "    model=\"moonshotai/kimi-k2-instruct-0905\",\n",
    "    temperature=0  # 일관성을 위해 0으로 설정\n",
    ")\n",
    "\n",
    "# OutputFixingParser로 안정성 향상\n",
    "fixing_parser = OutputFixingParser.from_llm(parser=parser, llm=model)\n",
    "print(fixing_parser)\n",
    "\n",
    "print(\"모델 및 파서 설정 완료\")"
   ]
  },
  {
   "cell_type": "code",
   "execution_count": null,
   "id": "8d09dad8",
   "metadata": {},
   "outputs": [
    {
     "name": "stdout",
     "output_type": "stream",
     "text": [
      "테스트할 텍스트 5개 준비 완료\n"
     ]
    }
   ],
   "source": [
    "# 테스트 텍스트\n",
    "texts = [\n",
    "    \"이 영화 정말 재미없어요. 시간 낭비였습니다.\",          # 부정\n",
    "    \"배우들의 연기가 훌륭하고 스토리도 감동적이었어요!\",        # 긍정\n",
    "    \"그냥 무난한 영화였습니다. 나쁘지도 좋지도 않아요.\",        # 보통\n",
    "    \"OST는 좋았지만 전개가 늘어졌고 결말이 약했어요.\",           # 혼합(보통 또는 부정)\n",
    "    \"연출이 신선했고 영상미가 뛰어났습니다. 다시 보고 싶어요.\"    # 긍정\n",
    "]\n",
    "\n",
    "print(f\"테스트할 텍스트 {len(texts)}개 준비 완료\")"
   ]
  },
  {
   "cell_type": "code",
   "execution_count": 7,
   "id": "c8f3eaab",
   "metadata": {},
   "outputs": [
    {
     "name": "stdout",
     "output_type": "stream",
     "text": [
      "=== 실제 감정 분석 결과 ===\n",
      "\n",
      "1. 텍스트: 이 영화 정말 재미없어요. 시간 낭비였습니다.\n",
      "   감정: 부정 \n",
      "\n",
      "2. 텍스트: 배우들의 연기가 훌륭하고 스토리도 감동적이었어요!\n",
      "   감정: 긍정 \n",
      "\n",
      "3. 텍스트: 그냥 무난한 영화였습니다. 나쁘지도 좋지도 않아요.\n",
      "   감정: 보통 \n",
      "\n",
      "4. 텍스트: OST는 좋았지만 전개가 늘어졌고 결말이 약했어요.\n",
      "   감정: 부정 \n",
      "\n",
      "5. 텍스트: 연출이 신선했고 영상미가 뛰어났습니다. 다시 보고 싶어요.\n",
      "   감정: 긍정 \n",
      "\n",
      "=== 결과 요약 ===\n",
      "성공: 5/5 (100.0%)\n",
      "실패: 0/5\n"
     ]
    }
   ],
   "source": [
    "# 안전한 감정 분석 함수 (에러 처리 포함)\n",
    "def safe_sentiment_analysis(text, use_fixing_parser=True):\n",
    "    \"\"\"안전한 감정 분석 함수 - 에러 처리 포함\"\"\"\n",
    "    try:\n",
    "        # 기본 체인 생성\n",
    "        # use_fixing_parser가 True이면 OutputFixingParser가 적용되고, False이면 EnumOutputParser가 적용됨\n",
    "        chain = prompt | model | (fixing_parser if use_fixing_parser else parser)\n",
    "        \n",
    "        # 분석 실행\n",
    "        result = chain.invoke({\"text\": text})\n",
    "        return result, None\n",
    "        \n",
    "    except OutputParserException as e:\n",
    "        return None, f\"파싱 오류: {str(e)[:100]}...\"\n",
    "    except Exception as e:\n",
    "        return None, f\"일반 오류: {str(e)[:100]}...\"\n",
    "\n",
    "# 실제 감정 분석 실행 (API 키 필요)\n",
    "def run_sentiment_analysis():\n",
    "    \"\"\"실제 감정 분석 실행\"\"\"\n",
    "    print(\"=== 실제 감정 분석 결과 ===\")\n",
    "    \n",
    "    success_count = 0\n",
    "    total_count = len(texts)\n",
    "    \n",
    "    for i, text in enumerate(texts, 1):\n",
    "        print(f\"\\n{i}. 텍스트: {text}\")\n",
    "        \n",
    "        # OutputFixingParser 사용\n",
    "        result, error = safe_sentiment_analysis(text, use_fixing_parser=True)\n",
    "        \n",
    "        if result:\n",
    "            print(f\"   감정: {result.value} \")\n",
    "            success_count += 1\n",
    "        else:\n",
    "            print(f\"   오류: {error} \")\n",
    "            \n",
    "            # 기본 파서로 재시도\n",
    "            print(\"   기본 파서로 재시도...\")\n",
    "            result2, error2 = safe_sentiment_analysis(text, use_fixing_parser=False)\n",
    "            \n",
    "            if result2:\n",
    "                print(f\"   감정: {result2.value} (기본 파서 성공)\")\n",
    "                success_count += 1\n",
    "            else:\n",
    "                print(f\"   재시도 실패: {error2} \")\n",
    "    \n",
    "    print(f\"\\n=== 결과 요약 ===\")\n",
    "    print(f\"성공: {success_count}/{total_count} ({success_count/total_count*100:.1f}%)\")\n",
    "    print(f\"실패: {total_count-success_count}/{total_count}\")\n",
    "\n",
    "# 실제 분석 실행 (API 키가 있는 경우)\n",
    "try:\n",
    "    run_sentiment_analysis()\n",
    "except Exception as e:\n",
    "    print(\"API 키가 설정되지 않았거나 네트워크 오류:\")\n",
    "    print(\"실제 실행을 위해서는 OpenAI API 키를 설정하세요.\")\n",
    "    print(f\"오류 상세: {e}\")"
   ]
  },
  {
   "cell_type": "code",
   "execution_count": 10,
   "id": "a5b72ea2",
   "metadata": {},
   "outputs": [
    {
     "name": "stdout",
     "output_type": "stream",
     "text": [
      "\n",
      "=== 배치 처리 시뮬레이션 ===\n",
      "\n",
      "=== 감정 분석 통계 ===\n",
      "긍정: 2개 (40.0%)\n",
      "부정: 2개 (40.0%)\n",
      "중립: 1개 (20.0%)\n",
      "\n",
      "=== 상세 결과 ===\n",
      "1. 이 영화 정말 재미없어요. 시간 낭비였습니다.... → 부정\n",
      "2. 배우들의 연기가 훌륭하고 스토리도 감동적이었어요!... → 긍정\n",
      "3. 그냥 무난한 영화였습니다. 나쁘지도 좋지도 않아요.... → 보통\n",
      "4. OST는 좋았지만 전개가 늘어졌고 결말이 약했어요.... → 부정\n",
      "5. 연출이 신선했고 영상미가 뛰어났습니다. 다시 보고 싶어... → 긍정\n"
     ]
    }
   ],
   "source": [
    "# 추가 기능: 배치 처리 및 통계\n",
    "def batch_sentiment_analysis(text_list):\n",
    "    \"\"\"여러 텍스트를 한 번에 처리하고 통계 제공\"\"\"\n",
    "    results = {\n",
    "        '긍정': 0,\n",
    "        '부정': 0,\n",
    "        '중립': 0,\n",
    "        '오류': 0\n",
    "    }\n",
    "    \n",
    "    detailed_results = []\n",
    "    \n",
    "    for text in text_list:\n",
    "        result, error = safe_sentiment_analysis(text)\n",
    "        \n",
    "        if result:\n",
    "            sentiment = result.value\n",
    "            results[sentiment] += 1\n",
    "            detailed_results.append((text, sentiment, None))\n",
    "        else:\n",
    "            results['오류'] += 1\n",
    "            detailed_results.append((text, None, error))\n",
    "    \n",
    "    return results, detailed_results\n",
    "\n",
    "# 통계 출력 함수\n",
    "def print_statistics(results, detailed_results):\n",
    "    \"\"\"결과 통계 출력\"\"\"\n",
    "    print(\"\\n=== 감정 분석 통계 ===\")\n",
    "    total = sum(results.values())\n",
    "    \n",
    "    for sentiment, count in results.items():\n",
    "        percentage = (count / total * 100) if total > 0 else 0\n",
    "        print(f\"{sentiment}: {count}개 ({percentage:.1f}%)\")\n",
    "    \n",
    "    print(\"\\n=== 상세 결과 ===\")\n",
    "    for i, (text, sentiment, error) in enumerate(detailed_results, 1):\n",
    "        status = sentiment if sentiment else \" 오류\"\n",
    "        print(f\"{i}. {text[:30]}... → {status}\")\n",
    "\n",
    "# 배치 처리 시뮬레이션\n",
    "print(\"\\n=== 배치 처리 시뮬레이션 ===\")\n",
    "simulated_results = {\n",
    "    '긍정': 2,\n",
    "    '부정': 2, \n",
    "    '중립': 1\n",
    "}\n",
    "\n",
    "simulated_detailed = [\n",
    "    (texts[0], '부정', None),\n",
    "    (texts[1], '긍정', None),\n",
    "    (texts[2], '보통', None),\n",
    "    (texts[3], '부정', None),\n",
    "    (texts[4], '긍정', None)\n",
    "]\n",
    "\n",
    "print_statistics(simulated_results, simulated_detailed)"
   ]
  }
 ],
 "metadata": {
  "kernelspec": {
   "display_name": "mylangchain-app-SBe-Yh6W-py3.12",
   "language": "python",
   "name": "python3"
  },
  "language_info": {
   "codemirror_mode": {
    "name": "ipython",
    "version": 3
   },
   "file_extension": ".py",
   "mimetype": "text/x-python",
   "name": "python",
   "nbconvert_exporter": "python",
   "pygments_lexer": "ipython3",
   "version": "3.12.7"
  }
 },
 "nbformat": 4,
 "nbformat_minor": 5
}
