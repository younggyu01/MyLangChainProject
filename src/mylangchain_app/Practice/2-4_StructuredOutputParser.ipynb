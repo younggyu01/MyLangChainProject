{
 "cells": [
  {
   "cell_type": "markdown",
   "id": "1257d1f2",
   "metadata": {},
   "source": [
    "## 문제 2-4 : 여행 계획 분석기\n",
    "### 출력 파서: StructuredOutputParser\n",
    "\n",
    "### 문제\n",
    "#### 여행 후기나 계획 텍스트를 입력받아 여행지, 기간, 예산, 추천도(1-5점), 주요 활동 리스트를 구조화된 형태로 추출하는 시스템을 만드세요.\n",
    "\n",
    "### 요구사항:\n",
    "#### StructuredOutputParser와 ResponseSchema 사용\n",
    "#### 5개의 필드를 정의하여 정보 추출\n",
    "#### 자연어 텍스트에서 핵심 정보 파싱\n",
    "\n",
    "### 예시 입력:\n",
    "#### \"지난 주에 부산으로 2박 3일 여행을 다녀왔어요. 총 30만원 정도 썼는데 해운대에서 바다구경하고, 자갈치시장에서 회 먹고, 감천문화마을도 구경했어요. 정말 만족스러운 여행이었습니다. 5점 만점에 4점 정도 줄 수 있을 것 같아요.\"\n",
    "\n",
    "### 예시 출력 구조:\n",
    "#### {\n",
    "####    \"destination\": \"부산\",\n",
    "####    \"duration\": \"2박 3일\",\n",
    "####    \"budget\": \"30만원\",\n",
    "####    \"rating\": \"4\",\n",
    "####    \"activities\": [\"해운대 바다구경\", \"자갈치시장 회 먹기\", \"감천문화마을 구경\"]\n",
    "#### }\n"
   ]
  },
  {
   "cell_type": "code",
   "execution_count": 3,
   "id": "cec0f274",
   "metadata": {},
   "outputs": [
    {
     "name": "stdout",
     "output_type": "stream",
     "text": [
      "gsk\n"
     ]
    }
   ],
   "source": [
    "from dotenv import load_dotenv\n",
    "import os\n",
    "# .env 파일을 불러와서 환경 변수로 설정\n",
    "load_dotenv(dotenv_path='../.env')\n",
    "\n",
    "OPENAI_API_KEY = os.getenv(\"OPENAI_API_KEY\")\n",
    "print(OPENAI_API_KEY[:3])"
   ]
  },
  {
   "cell_type": "code",
   "execution_count": 4,
   "id": "d429a1d8",
   "metadata": {},
   "outputs": [],
   "source": [
    "from langchain_openai import ChatOpenAI\n",
    "from langchain_core.prompts import ChatPromptTemplate\n",
    "from langchain.output_parsers import StructuredOutputParser, ResponseSchema\n",
    "\n",
    "from pprint import pprint"
   ]
  },
  {
   "cell_type": "code",
   "execution_count": 27,
   "id": "88369e9a",
   "metadata": {},
   "outputs": [],
   "source": [
    "# 출력 구조 정의 (지역, 기간, 예산, 추천도, 주요 활동)\n",
    "response_schemas = [\n",
    "    ResponseSchema(name=\"destination\", description=\"여행지(도시 또는 지역명, 예: 부산)\"),\n",
    "    ResponseSchema(name=\"duration\",    description=\"여행 기간(자연어, 예: 2박 3일)\"),\n",
    "    ResponseSchema(name=\"budget\",      description=\"예산(자연어, 예: 30만원/50만 원 등 통화 포함 가능)\"),\n",
    "    ResponseSchema(name=\"rating\",      description=\"추천도(1~5 사이 숫자, 정수 한 개)\"),\n",
    "    ResponseSchema(name=\"activities\",  description=\"주요 활동 리스트(간결한 한국어 명사/구, 예: ['해운대 바다구경','회 먹기'])\"),\n",
    "]"
   ]
  },
  {
   "cell_type": "code",
   "execution_count": 6,
   "id": "4c8efa31",
   "metadata": {},
   "outputs": [
    {
     "name": "stdout",
     "output_type": "stream",
     "text": [
      "출력 형식 지시사항:\n",
      "The output should be a markdown code snippet formatted in the following schema, including the leading and trailing \"```json\" and \"```\":\n",
      "\n",
      "```json\n",
      "{\n",
      "\t\"destination\": string  // 여행지(도시 또는 지역명, 예: 부산)\n",
      "\t\"duration\": string  // 여행 기간(자연어, 예: 2박 3일)\n",
      "\t\"budget\": string  // 예산(자연어, 예: 30만원/50만 원 등 통화 포함 가능)\n",
      "\t\"rating\": string  // 추천도(1~5 사이 숫자, 정수 한 개)\n",
      "\t\"activities\": string  // 주요 활동 리스트(간결한 한국어 명사/구, 예: ['해운대 바다구경','회 먹기'])\n",
      "}\n",
      "```\n"
     ]
    }
   ],
   "source": [
    "# 파서 초기화\n",
    "parser = StructuredOutputParser.from_response_schemas(response_schemas)\n",
    "format_instructions = parser.get_format_instructions()\n",
    "\n",
    "print(\"출력 형식 지시사항:\")\n",
    "print(format_instructions)"
   ]
  },
  {
   "cell_type": "code",
   "execution_count": 14,
   "id": "33d21391",
   "metadata": {},
   "outputs": [],
   "source": [
    "# 프롬프트 템플릿\n",
    "template = \"\"\"\n",
    "    너는 정보 추출기야. 사용자가 제공한 여행 후기,계획 텍스트에서 핵심 정보를 구조화하여 추출해.\\n\n",
    "    반드시 아래 출력 형식을 그대로 따르고, 값이 애매하면 문맥상 가장 그럴듯한 값을 한 개로 정제해.\\n\n",
    "\t\n",
    "    리뷰 내용: {review}\n",
    "    \n",
    "    {format_instructions}\n",
    "\"\"\"\n",
    "\n",
    "prompt = ChatPromptTemplate.from_template(template)\n",
    "prompt = prompt.partial(format_instructions=format_instructions)"
   ]
  },
  {
   "cell_type": "code",
   "execution_count": 15,
   "id": "c2ac8081",
   "metadata": {},
   "outputs": [],
   "source": [
    "llm = ChatOpenAI(\n",
    "    api_key=OPENAI_API_KEY,\n",
    "    base_url=\"https://api.groq.com/openai/v1\",\n",
    "    model=\"openai/gpt-oss-120b\",\n",
    "    temperature=0.1,\n",
    ")"
   ]
  },
  {
   "cell_type": "code",
   "execution_count": 16,
   "id": "a458090a",
   "metadata": {},
   "outputs": [],
   "source": [
    "review = \"\"\"\n",
    "\t지난 주에 부산으로 2박 3일 여행을 다녀왔어요. 총 30만원 정도 썼는데\n",
    "    해운대에서 바다구경하고, 자갈치시장에서 회 먹고, 감천문화마을도 구경했어요.\n",
    "    정말 만족스러운 여행이었습니다. 5점 만점에 4점 정도 줄 수 있을 것 같아요.\n",
    "\"\"\""
   ]
  },
  {
   "cell_type": "code",
   "execution_count": 17,
   "id": "dbbc22bb",
   "metadata": {},
   "outputs": [],
   "source": [
    "# 체인 실행\n",
    "chain = prompt | llm | parser\n",
    "\n",
    "output = chain.invoke({\"review\": review})"
   ]
  },
  {
   "cell_type": "code",
   "execution_count": 28,
   "id": "3e80a44d",
   "metadata": {},
   "outputs": [
    {
     "name": "stdout",
     "output_type": "stream",
     "text": [
      "===== 분석 결과 =====\n",
      "지역: 부산\n",
      "기간: 2박 3일\n",
      "예산: 30만원\n",
      "추천도: 4\n",
      "주요 활동: ['해운대 바다구경','자갈치시장 회 먹기','감천문화마을 구경']\n"
     ]
    }
   ],
   "source": [
    "print(\"===== 분석 결과 =====\")\n",
    "print(f\"지역: {output['destination']}\")\n",
    "print(f\"기간: {output['duration']}\")\n",
    "print(f\"예산: {output['budget']}\")\n",
    "print(f\"추천도: {output['rating']}\")\n",
    "print(f\"주요 활동: {output['activities']}\")"
   ]
  }
 ],
 "metadata": {
  "kernelspec": {
   "display_name": "mylangchain-app-SBe-Yh6W-py3.12",
   "language": "python",
   "name": "python3"
  },
  "language_info": {
   "codemirror_mode": {
    "name": "ipython",
    "version": 3
   },
   "file_extension": ".py",
   "mimetype": "text/x-python",
   "name": "python",
   "nbconvert_exporter": "python",
   "pygments_lexer": "ipython3",
   "version": "3.12.7"
  }
 },
 "nbformat": 4,
 "nbformat_minor": 5
}
